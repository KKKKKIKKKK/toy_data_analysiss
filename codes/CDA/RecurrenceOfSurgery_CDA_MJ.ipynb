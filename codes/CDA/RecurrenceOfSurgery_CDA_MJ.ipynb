{
 "cells": [
  {
   "cell_type": "code",
   "execution_count": 1,
   "id": "5611ee97-9159-4c97-b40f-b0852ce16077",
   "metadata": {},
   "outputs": [],
   "source": [
    "import matplotlib.pyplot as plt\n",
    "import matplotlib as mpl\n",
    "mpl.rc('font',family='Malgun Gothic')\n",
    "import seaborn as sns\n",
    "import pandas as pd\n",
    "import scipy.stats as stats\n",
    "import numpy as np"
   ]
  },
  {
   "cell_type": "code",
   "execution_count": 2,
   "id": "df29bef6-791c-4ddf-a527-c55a1d5c32e8",
   "metadata": {
    "tags": []
   },
   "outputs": [
    {
     "name": "stdout",
     "output_type": "stream",
     "text": [
      "<class 'pandas.core.frame.DataFrame'>\n",
      "RangeIndex: 1894 entries, 0 to 1893\n",
      "Data columns (total 52 columns):\n",
      " #   Column                  Non-Null Count  Dtype  \n",
      "---  ------                  --------------  -----  \n",
      " 0   Unnamed: 0              1894 non-null   int64  \n",
      " 1   환자ID                    1894 non-null   object \n",
      " 2   Large Lymphocyte        1894 non-null   float64\n",
      " 3   Location of herniation  1894 non-null   int64  \n",
      " 4   ODI                     462 non-null    float64\n",
      " 5   가족력                     1843 non-null   float64\n",
      " 6   간질성폐질환                  1894 non-null   int64  \n",
      " 7   고혈압여부                   1894 non-null   int64  \n",
      " 8   과거수술횟수                  1894 non-null   int64  \n",
      " 9   당뇨여부                    1894 non-null   int64  \n",
      " 10  말초동맥질환여부                1894 non-null   int64  \n",
      " 11  빈혈여부                    1894 non-null   int64  \n",
      " 12  성별                      1894 non-null   int64  \n",
      " 13  스테로이드치료                 1894 non-null   int64  \n",
      " 14  신부전여부                   1894 non-null   int64  \n",
      " 15  신장                      1894 non-null   int64  \n",
      " 16  심혈관질환                   1894 non-null   int64  \n",
      " 17  암발병여부                   1894 non-null   int64  \n",
      " 18  연령                      1894 non-null   int64  \n",
      " 19  우울증여부                   1894 non-null   int64  \n",
      " 20  입원기간                    1894 non-null   int64  \n",
      " 21  입원일자                    1894 non-null   int64  \n",
      " 22  종양진행여부                  1894 non-null   int64  \n",
      " 23  직업                      1479 non-null   object \n",
      " 24  체중                      1894 non-null   float64\n",
      " 25  퇴원일자                    1894 non-null   int64  \n",
      " 26  헤모글로빈수치                 1893 non-null   float64\n",
      " 27  혈전합병증여부                 1894 non-null   int64  \n",
      " 28  환자통증정도                  1894 non-null   int64  \n",
      " 29  흡연여부                    1894 non-null   int64  \n",
      " 30  통증기간(월)                 1890 non-null   float64\n",
      " 31  수술기법                    1813 non-null   object \n",
      " 32  수술시간                    1840 non-null   float64\n",
      " 33  수술실패여부                  1894 non-null   int64  \n",
      " 34  수술일자                    1894 non-null   int64  \n",
      " 35  재발여부                    1894 non-null   int64  \n",
      " 36  혈액형                     1894 non-null   object \n",
      " 37  전방디스크높이(mm)             1894 non-null   float64\n",
      " 38  후방디스크높이(mm)             1894 non-null   float64\n",
      " 39  지방축적도                   1891 non-null   float64\n",
      " 40  Instability             1894 non-null   int64  \n",
      " 41  MF + ES                 1894 non-null   float64\n",
      " 42  Modic change            1894 non-null   int64  \n",
      " 43  PI                      1890 non-null   float64\n",
      " 44  PT                      1890 non-null   float64\n",
      " 45  Seg Angle(raw)          1893 non-null   float64\n",
      " 46  Vaccum disc             1894 non-null   int64  \n",
      " 47  골밀도                     998 non-null    float64\n",
      " 48  디스크단면적                  1893 non-null   float64\n",
      " 49  디스크위치                   1894 non-null   int64  \n",
      " 50  척추이동척도                  1894 non-null   object \n",
      " 51  척추전방위증                  1894 non-null   int64  \n",
      "dtypes: float64(16), int64(31), object(5)\n",
      "memory usage: 769.6+ KB\n"
     ]
    }
   ],
   "source": [
    "df_ROS = pd.read_csv('../../datasets/RecurrenceOfSurgery.csv')\n",
    "df_ROS.info()"
   ]
  },
  {
   "cell_type": "code",
   "execution_count": 3,
   "id": "1666e14b-5ac2-489c-bede-b4ca425f3b99",
   "metadata": {},
   "outputs": [
    {
     "data": {
      "text/html": [
       "<div>\n",
       "<style scoped>\n",
       "    .dataframe tbody tr th:only-of-type {\n",
       "        vertical-align: middle;\n",
       "    }\n",
       "\n",
       "    .dataframe tbody tr th {\n",
       "        vertical-align: top;\n",
       "    }\n",
       "\n",
       "    .dataframe thead th {\n",
       "        text-align: right;\n",
       "    }\n",
       "</style>\n",
       "<table border=\"1\" class=\"dataframe\">\n",
       "  <thead>\n",
       "    <tr style=\"text-align: right;\">\n",
       "      <th></th>\n",
       "      <th>Unnamed: 0</th>\n",
       "      <th>환자ID</th>\n",
       "      <th>Large Lymphocyte</th>\n",
       "      <th>Location of herniation</th>\n",
       "      <th>ODI</th>\n",
       "      <th>가족력</th>\n",
       "      <th>간질성폐질환</th>\n",
       "      <th>고혈압여부</th>\n",
       "      <th>과거수술횟수</th>\n",
       "      <th>당뇨여부</th>\n",
       "      <th>...</th>\n",
       "      <th>Modic change</th>\n",
       "      <th>PI</th>\n",
       "      <th>PT</th>\n",
       "      <th>Seg Angle(raw)</th>\n",
       "      <th>Vaccum disc</th>\n",
       "      <th>골밀도</th>\n",
       "      <th>디스크단면적</th>\n",
       "      <th>디스크위치</th>\n",
       "      <th>척추이동척도</th>\n",
       "      <th>척추전방위증</th>\n",
       "    </tr>\n",
       "  </thead>\n",
       "  <tbody>\n",
       "    <tr>\n",
       "      <th>0</th>\n",
       "      <td>0</td>\n",
       "      <td>1PT</td>\n",
       "      <td>22.8</td>\n",
       "      <td>3</td>\n",
       "      <td>51.0</td>\n",
       "      <td>0.0</td>\n",
       "      <td>0</td>\n",
       "      <td>0</td>\n",
       "      <td>0</td>\n",
       "      <td>0</td>\n",
       "      <td>...</td>\n",
       "      <td>3</td>\n",
       "      <td>51.6</td>\n",
       "      <td>36.6</td>\n",
       "      <td>14.4</td>\n",
       "      <td>0</td>\n",
       "      <td>-1.01</td>\n",
       "      <td>2048.5</td>\n",
       "      <td>4</td>\n",
       "      <td>Down</td>\n",
       "      <td>0</td>\n",
       "    </tr>\n",
       "    <tr>\n",
       "      <th>1</th>\n",
       "      <td>1</td>\n",
       "      <td>2PT</td>\n",
       "      <td>44.9</td>\n",
       "      <td>4</td>\n",
       "      <td>26.0</td>\n",
       "      <td>0.0</td>\n",
       "      <td>0</td>\n",
       "      <td>0</td>\n",
       "      <td>0</td>\n",
       "      <td>0</td>\n",
       "      <td>...</td>\n",
       "      <td>0</td>\n",
       "      <td>40.8</td>\n",
       "      <td>7.2</td>\n",
       "      <td>17.8</td>\n",
       "      <td>0</td>\n",
       "      <td>-1.14</td>\n",
       "      <td>1753.1</td>\n",
       "      <td>4</td>\n",
       "      <td>Up</td>\n",
       "      <td>0</td>\n",
       "    </tr>\n",
       "  </tbody>\n",
       "</table>\n",
       "<p>2 rows × 52 columns</p>\n",
       "</div>"
      ],
      "text/plain": [
       "   Unnamed: 0 환자ID  Large Lymphocyte  Location of herniation   ODI  가족력  \\\n",
       "0           0  1PT              22.8                       3  51.0  0.0   \n",
       "1           1  2PT              44.9                       4  26.0  0.0   \n",
       "\n",
       "   간질성폐질환  고혈압여부  과거수술횟수  당뇨여부  ...  Modic change    PI    PT  Seg Angle(raw)  \\\n",
       "0       0      0       0     0  ...             3  51.6  36.6            14.4   \n",
       "1       0      0       0     0  ...             0  40.8   7.2            17.8   \n",
       "\n",
       "   Vaccum disc   골밀도  디스크단면적  디스크위치  척추이동척도  척추전방위증  \n",
       "0            0 -1.01  2048.5      4    Down       0  \n",
       "1            0 -1.14  1753.1      4      Up       0  \n",
       "\n",
       "[2 rows x 52 columns]"
      ]
     },
     "execution_count": 3,
     "metadata": {},
     "output_type": "execute_result"
    }
   ],
   "source": [
    "df_ROS = pd.read_csv('../../datasets/RecurrenceOfSurgery.csv')\n",
    "df_ROS.head(2)"
   ]
  },
  {
   "cell_type": "code",
   "execution_count": 4,
   "id": "6b6443aa-4f7e-4ee8-a9b9-e62f8cf09740",
   "metadata": {
    "tags": []
   },
   "outputs": [],
   "source": [
    "df_ROS_Analysis = df_ROS[['입원기간','입원일자','퇴원일자','성별','우울증여부', '종양진행여부', '재발여부', '디스크위치', '척추전방위증','수술실패여부', '흡연여부']]"
   ]
  },
  {
   "cell_type": "code",
   "execution_count": 5,
   "id": "9cfa2c65-9109-4bc0-883f-32644e016977",
   "metadata": {
    "tags": []
   },
   "outputs": [
    {
     "name": "stdout",
     "output_type": "stream",
     "text": [
      "<class 'pandas.core.frame.DataFrame'>\n",
      "RangeIndex: 1894 entries, 0 to 1893\n",
      "Data columns (total 11 columns):\n",
      " #   Column  Non-Null Count  Dtype\n",
      "---  ------  --------------  -----\n",
      " 0   입원기간    1894 non-null   int64\n",
      " 1   입원일자    1894 non-null   int64\n",
      " 2   퇴원일자    1894 non-null   int64\n",
      " 3   성별      1894 non-null   int64\n",
      " 4   우울증여부   1894 non-null   int64\n",
      " 5   종양진행여부  1894 non-null   int64\n",
      " 6   재발여부    1894 non-null   int64\n",
      " 7   디스크위치   1894 non-null   int64\n",
      " 8   척추전방위증  1894 non-null   int64\n",
      " 9   수술실패여부  1894 non-null   int64\n",
      " 10  흡연여부    1894 non-null   int64\n",
      "dtypes: int64(11)\n",
      "memory usage: 162.9 KB\n"
     ]
    }
   ],
   "source": [
    "df_ROS_Analysis.info()"
   ]
  },
  {
   "cell_type": "code",
   "execution_count": 6,
   "id": "8d686641-9bbb-4e10-9e5d-a00634b68d6e",
   "metadata": {
    "tags": []
   },
   "outputs": [
    {
     "name": "stderr",
     "output_type": "stream",
     "text": [
      "C:\\Users\\5-20\\AppData\\Local\\Temp\\ipykernel_10588\\386176179.py:1: SettingWithCopyWarning: \n",
      "A value is trying to be set on a copy of a slice from a DataFrame.\n",
      "Try using .loc[row_indexer,col_indexer] = value instead\n",
      "\n",
      "See the caveats in the documentation: https://pandas.pydata.org/pandas-docs/stable/user_guide/indexing.html#returning-a-view-versus-a-copy\n",
      "  df_ROS_Analysis[['성별','우울증여부','종양진행여부','재발여부','척추전방위증','수술실패여부','흡연여부']] = df_ROS_Analysis[['성별','우울증여부','종양진행여부','재발여부','척추전방위증','수술실패여부','흡연여부']].astype(str)\n"
     ]
    }
   ],
   "source": [
    "df_ROS_Analysis[['성별','우울증여부','종양진행여부','재발여부','척추전방위증','수술실패여부','흡연여부']] = df_ROS_Analysis[['성별','우울증여부','종양진행여부','재발여부','척추전방위증','수술실패여부','흡연여부']].astype(str)"
   ]
  },
  {
   "cell_type": "code",
   "execution_count": 7,
   "id": "73d054b6-7933-4d54-8f68-80cc3b6df841",
   "metadata": {
    "tags": []
   },
   "outputs": [
    {
     "name": "stdout",
     "output_type": "stream",
     "text": [
      "<class 'pandas.core.frame.DataFrame'>\n",
      "RangeIndex: 1894 entries, 0 to 1893\n",
      "Data columns (total 11 columns):\n",
      " #   Column  Non-Null Count  Dtype \n",
      "---  ------  --------------  ----- \n",
      " 0   입원기간    1894 non-null   int64 \n",
      " 1   입원일자    1894 non-null   int64 \n",
      " 2   퇴원일자    1894 non-null   int64 \n",
      " 3   성별      1894 non-null   object\n",
      " 4   우울증여부   1894 non-null   object\n",
      " 5   종양진행여부  1894 non-null   object\n",
      " 6   재발여부    1894 non-null   object\n",
      " 7   디스크위치   1894 non-null   int64 \n",
      " 8   척추전방위증  1894 non-null   object\n",
      " 9   수술실패여부  1894 non-null   object\n",
      " 10  흡연여부    1894 non-null   object\n",
      "dtypes: int64(4), object(7)\n",
      "memory usage: 162.9+ KB\n"
     ]
    }
   ],
   "source": [
    "df_ROS_Analysis.info()"
   ]
  },
  {
   "cell_type": "markdown",
   "id": "05eb0d75-1047-4da3-9e8b-d1b005ef6e8d",
   "metadata": {},
   "source": [
    "### 1. 성별\n",
    "- 귀무가설: 성별여부에 따라 입원기간이 달라지지 않는다.\n",
    "- 대립가설: 성별여부에 따라 입원기간이 달라진다.\n",
    "- 분석결론:\n",
    "    - 통계결론: p-value(0.020078985134036376)가 0.05보다 작으므로 대립가설이 성립한다.\n",
    "    - 사실결론: 성별여부에 따라 입원기간이 달라진다."
   ]
  },
  {
   "cell_type": "code",
   "execution_count": 8,
   "id": "a8fd0db3-886d-4018-9320-589439f47267",
   "metadata": {
    "tags": []
   },
   "outputs": [],
   "source": [
    "df_ROS_Analysis = df_ROS[['입원기간','성별']]"
   ]
  },
  {
   "cell_type": "code",
   "execution_count": 9,
   "id": "50e1f9e2-ed49-44c3-b60b-3835e8348e01",
   "metadata": {
    "tags": []
   },
   "outputs": [],
   "source": [
    "import scipy.stats as stats"
   ]
  },
  {
   "cell_type": "code",
   "execution_count": 10,
   "id": "ea76b025-acef-4b8b-a702-f7af12548476",
   "metadata": {
    "tags": []
   },
   "outputs": [
    {
     "data": {
      "text/html": [
       "<div>\n",
       "<style scoped>\n",
       "    .dataframe tbody tr th:only-of-type {\n",
       "        vertical-align: middle;\n",
       "    }\n",
       "\n",
       "    .dataframe tbody tr th {\n",
       "        vertical-align: top;\n",
       "    }\n",
       "\n",
       "    .dataframe thead th {\n",
       "        text-align: right;\n",
       "    }\n",
       "</style>\n",
       "<table border=\"1\" class=\"dataframe\">\n",
       "  <thead>\n",
       "    <tr style=\"text-align: right;\">\n",
       "      <th></th>\n",
       "      <th>입원기간</th>\n",
       "      <th>성별</th>\n",
       "    </tr>\n",
       "  </thead>\n",
       "  <tbody>\n",
       "    <tr>\n",
       "      <th>입원기간</th>\n",
       "      <td>1.000000</td>\n",
       "      <td>0.053418</td>\n",
       "    </tr>\n",
       "    <tr>\n",
       "      <th>성별</th>\n",
       "      <td>0.053418</td>\n",
       "      <td>1.000000</td>\n",
       "    </tr>\n",
       "  </tbody>\n",
       "</table>\n",
       "</div>"
      ],
      "text/plain": [
       "          입원기간        성별\n",
       "입원기간  1.000000  0.053418\n",
       "성별    0.053418  1.000000"
      ]
     },
     "execution_count": 10,
     "metadata": {},
     "output_type": "execute_result"
    }
   ],
   "source": [
    "df_ROS_Analysis.corr()"
   ]
  },
  {
   "cell_type": "code",
   "execution_count": 11,
   "id": "3055b1bb-9c64-44f5-816e-0bc9b5d18153",
   "metadata": {
    "tags": []
   },
   "outputs": [
    {
     "data": {
      "text/plain": [
       "PearsonRResult(statistic=0.053417683140575274, pvalue=0.020078985134036376)"
      ]
     },
     "execution_count": 11,
     "metadata": {},
     "output_type": "execute_result"
    }
   ],
   "source": [
    "stats.pearsonr(df_ROS_Analysis['입원기간'],df_ROS_Analysis['성별'])"
   ]
  },
  {
   "cell_type": "markdown",
   "id": "504324c9-543f-4a2b-be6e-feea28fe4a7a",
   "metadata": {
    "tags": []
   },
   "source": [
    "### 2. 우울증여부\n",
    "- 귀무가설: 우울증여부에 따라 입원기간이 달라지지 않는다.\n",
    "- 대립가설: 우울증여부에 따라 입원기간이 달라진다.\n",
    "- 분석결론:\n",
    "    - 통계결론: p-value(0.43010996030030846)가 0.05보다 작으므로 대립가설이 성립한다.\n",
    "    - 사실결론: 우울증여부에 따라 입원기간이 달라진다."
   ]
  },
  {
   "cell_type": "code",
   "execution_count": 25,
   "id": "3fe94c96-1f98-4bc5-a54b-b28c9061c4d4",
   "metadata": {
    "tags": []
   },
   "outputs": [],
   "source": [
    "df_ROS_depr = df_ROS[['입원기간','우울증여부']]"
   ]
  },
  {
   "cell_type": "code",
   "execution_count": 27,
   "id": "ca7b5a7b-4fe3-42a6-9508-5db6a82bce72",
   "metadata": {
    "tags": []
   },
   "outputs": [
    {
     "data": {
      "text/html": [
       "<div>\n",
       "<style scoped>\n",
       "    .dataframe tbody tr th:only-of-type {\n",
       "        vertical-align: middle;\n",
       "    }\n",
       "\n",
       "    .dataframe tbody tr th {\n",
       "        vertical-align: top;\n",
       "    }\n",
       "\n",
       "    .dataframe thead th {\n",
       "        text-align: right;\n",
       "    }\n",
       "</style>\n",
       "<table border=\"1\" class=\"dataframe\">\n",
       "  <thead>\n",
       "    <tr style=\"text-align: right;\">\n",
       "      <th></th>\n",
       "      <th>입원기간</th>\n",
       "      <th>우울증여부</th>\n",
       "    </tr>\n",
       "  </thead>\n",
       "  <tbody>\n",
       "    <tr>\n",
       "      <th>입원기간</th>\n",
       "      <td>1.00000</td>\n",
       "      <td>-0.01814</td>\n",
       "    </tr>\n",
       "    <tr>\n",
       "      <th>우울증여부</th>\n",
       "      <td>-0.01814</td>\n",
       "      <td>1.00000</td>\n",
       "    </tr>\n",
       "  </tbody>\n",
       "</table>\n",
       "</div>"
      ],
      "text/plain": [
       "          입원기간    우울증여부\n",
       "입원기간   1.00000 -0.01814\n",
       "우울증여부 -0.01814  1.00000"
      ]
     },
     "execution_count": 27,
     "metadata": {},
     "output_type": "execute_result"
    }
   ],
   "source": [
    "df_ROS_depr.corr()"
   ]
  },
  {
   "cell_type": "code",
   "execution_count": 28,
   "id": "6a5d67f1-77ef-4012-9e7f-e9b0f55c61c3",
   "metadata": {
    "tags": []
   },
   "outputs": [
    {
     "data": {
      "text/plain": [
       "PearsonRResult(statistic=-0.018140114156925465, pvalue=0.43010996030030846)"
      ]
     },
     "execution_count": 28,
     "metadata": {},
     "output_type": "execute_result"
    }
   ],
   "source": [
    "stats.pearsonr(df_ROS_depr['입원기간'],df_ROS_depr['우울증여부'])"
   ]
  },
  {
   "cell_type": "code",
   "execution_count": null,
   "id": "d5a182b5-debe-4ab0-b7f4-11d41ab3d4ce",
   "metadata": {},
   "outputs": [],
   "source": [
    "### 3. 종양진행여부\n",
    "- 귀무가설: 종양진행여부에 따라 입원기간이 달라지지 않는다.\n",
    "- 대립가설: 종양진행여부에 따라 입원기간이 달라진다.\n",
    "- 분석결론:\n",
    "    - 통계결론: p-value(0.7828236862614054)가 0.05보다 크므로 귀무가설이 성립한다.\n",
    "    - 사실결론: 종양진행여부에 따라 입원기간이 달라지지 않는다."
   ]
  },
  {
   "cell_type": "code",
   "execution_count": 29,
   "id": "8079bee1-85aa-420c-98c9-cd2339144eb3",
   "metadata": {
    "tags": []
   },
   "outputs": [],
   "source": [
    "df_ROS_tumor = df_ROS[['입원기간','종양진행여부']]"
   ]
  },
  {
   "cell_type": "code",
   "execution_count": 30,
   "id": "4879b7d4-e4d3-4d28-9a2b-494009d92016",
   "metadata": {
    "tags": []
   },
   "outputs": [
    {
     "data": {
      "text/html": [
       "<div>\n",
       "<style scoped>\n",
       "    .dataframe tbody tr th:only-of-type {\n",
       "        vertical-align: middle;\n",
       "    }\n",
       "\n",
       "    .dataframe tbody tr th {\n",
       "        vertical-align: top;\n",
       "    }\n",
       "\n",
       "    .dataframe thead th {\n",
       "        text-align: right;\n",
       "    }\n",
       "</style>\n",
       "<table border=\"1\" class=\"dataframe\">\n",
       "  <thead>\n",
       "    <tr style=\"text-align: right;\">\n",
       "      <th></th>\n",
       "      <th>입원기간</th>\n",
       "      <th>종양진행여부</th>\n",
       "    </tr>\n",
       "  </thead>\n",
       "  <tbody>\n",
       "    <tr>\n",
       "      <th>입원기간</th>\n",
       "      <td>1.000000</td>\n",
       "      <td>0.006338</td>\n",
       "    </tr>\n",
       "    <tr>\n",
       "      <th>종양진행여부</th>\n",
       "      <td>0.006338</td>\n",
       "      <td>1.000000</td>\n",
       "    </tr>\n",
       "  </tbody>\n",
       "</table>\n",
       "</div>"
      ],
      "text/plain": [
       "            입원기간    종양진행여부\n",
       "입원기간    1.000000  0.006338\n",
       "종양진행여부  0.006338  1.000000"
      ]
     },
     "execution_count": 30,
     "metadata": {},
     "output_type": "execute_result"
    }
   ],
   "source": [
    "df_ROS_tumor.corr()"
   ]
  },
  {
   "cell_type": "code",
   "execution_count": 31,
   "id": "6c213e9c-daf0-42b7-b2d6-a55654c245a6",
   "metadata": {
    "tags": []
   },
   "outputs": [
    {
     "data": {
      "text/plain": [
       "PearsonRResult(statistic=0.006337770963381721, pvalue=0.7828236862614054)"
      ]
     },
     "execution_count": 31,
     "metadata": {},
     "output_type": "execute_result"
    }
   ],
   "source": [
    "stats.pearsonr(df_ROS_tumor['입원기간'],df_ROS_tumor['종양진행여부'])"
   ]
  },
  {
   "cell_type": "markdown",
   "id": "8563e15e-b65b-42a5-8edc-31843d05b7a7",
   "metadata": {},
   "source": [
    "### 4. 재발여부\n",
    "- 귀무가설: 재발여부에 따라 입원기간이 달라지지 않는다.\n",
    "- 대립가설: 재발여부에 따라 입원기간이 달라진다.\n",
    "- 분석결론:\n",
    "    - 통계결론: p-value(0.8191972544259549)가 0.05보다 크므로 귀무가설이 성립한다.\n",
    "    - 사실결론: 재발여부에 따라 입원기간이 달라지지 않는다."
   ]
  },
  {
   "cell_type": "code",
   "execution_count": 33,
   "id": "328642b3-72a2-467f-a700-c26018fcc46f",
   "metadata": {
    "tags": []
   },
   "outputs": [],
   "source": [
    "df_ROS_relapse = df_ROS[['입원기간','재발여부']]"
   ]
  },
  {
   "cell_type": "code",
   "execution_count": 34,
   "id": "47628219-b27a-4131-9f4c-af731613584e",
   "metadata": {
    "tags": []
   },
   "outputs": [
    {
     "data": {
      "text/plain": [
       "ShapiroResult(statistic=0.3786131739616394, pvalue=0.0)"
      ]
     },
     "execution_count": 34,
     "metadata": {},
     "output_type": "execute_result"
    }
   ],
   "source": [
    "stats.shapiro(df_ROS_relapse['재발여부'])"
   ]
  },
  {
   "cell_type": "code",
   "execution_count": 35,
   "id": "9a7218bb-32ee-4379-958d-20af658f0d61",
   "metadata": {
    "tags": []
   },
   "outputs": [
    {
     "data": {
      "text/plain": [
       "SignificanceResult(statistic=-0.005255662208337146, pvalue=0.8191972544259549)"
      ]
     },
     "execution_count": 35,
     "metadata": {},
     "output_type": "execute_result"
    }
   ],
   "source": [
    "stats.spearmanr(df_ROS_relapse['입원기간'],df_ROS_relapse['재발여부'])"
   ]
  },
  {
   "cell_type": "markdown",
   "id": "c37372cf-1a21-4952-85ce-20bc95097c7f",
   "metadata": {},
   "source": [
    "### 5. 디스크위치\n",
    "- 귀무가설: 디스크위치에 따라 입원기간이 달라지지 않는다.\n",
    "- 대립가설: 디스크위치에 따라 입원기간이 달라진다.\n",
    "- 분석결론:\n",
    "    - 통계결론: p-value(0.8337244482483455)가 0.05보다 크므로 귀무가설이 성립한다.\n",
    "    - 사실결론: 디스크위치에 따라 입원기간이 달라지지 않는다."
   ]
  },
  {
   "cell_type": "code",
   "execution_count": 36,
   "id": "8c6bfc04-a908-4e2e-9766-5229bd60706f",
   "metadata": {
    "tags": []
   },
   "outputs": [],
   "source": [
    "df_ROS_disk = df_ROS[['입원기간','디스크위치']]"
   ]
  },
  {
   "cell_type": "code",
   "execution_count": 37,
   "id": "7ad0f7c6-6716-428e-b2ff-9c337071a29f",
   "metadata": {
    "tags": []
   },
   "outputs": [
    {
     "data": {
      "text/plain": [
       "ShapiroResult(statistic=0.1502116322517395, pvalue=0.0)"
      ]
     },
     "execution_count": 37,
     "metadata": {},
     "output_type": "execute_result"
    }
   ],
   "source": [
    "stats.shapiro(df_ROS_disk['디스크위치'])"
   ]
  },
  {
   "cell_type": "code",
   "execution_count": 38,
   "id": "d131f394-cace-43ef-a9cf-e8232c211dc8",
   "metadata": {
    "tags": []
   },
   "outputs": [
    {
     "data": {
      "text/plain": [
       "PearsonRResult(statistic=-0.0048268424206562525, pvalue=0.8337244482483455)"
      ]
     },
     "execution_count": 38,
     "metadata": {},
     "output_type": "execute_result"
    }
   ],
   "source": [
    "stats.pearsonr(df_ROS_disk['입원기간'],df_ROS_disk['디스크위치'])"
   ]
  },
  {
   "cell_type": "markdown",
   "id": "688e1b7b-e357-4a07-b6e9-ac6541442d70",
   "metadata": {},
   "source": [
    "### 6. 척추전방위증\n",
    "- 귀무가설: 척추전방위증에 따라 입원기간이 달라지지 않는다.\n",
    "- 대립가설: 척추전방위증에 따라 입원기간이 달라진다.\n",
    "- 분석결론:\n",
    "    - 통계결론: p-value(0.3433432535716532)가 0.05보다 작으므로 대립가설이 성립한다.\n",
    "    - 사실결론: 척추전방위증에 따라 입원기간이 달라진다. "
   ]
  },
  {
   "cell_type": "code",
   "execution_count": 39,
   "id": "b7df699b-9b6c-4e2c-8369-dd7d8c8f54d4",
   "metadata": {
    "tags": []
   },
   "outputs": [],
   "source": [
    "df_ROS_spine = df_ROS[['입원기간','척추전방위증']]"
   ]
  },
  {
   "cell_type": "code",
   "execution_count": 40,
   "id": "4525380c-b453-467e-88ed-384cb5f10739",
   "metadata": {
    "tags": []
   },
   "outputs": [
    {
     "data": {
      "text/html": [
       "<div>\n",
       "<style scoped>\n",
       "    .dataframe tbody tr th:only-of-type {\n",
       "        vertical-align: middle;\n",
       "    }\n",
       "\n",
       "    .dataframe tbody tr th {\n",
       "        vertical-align: top;\n",
       "    }\n",
       "\n",
       "    .dataframe thead th {\n",
       "        text-align: right;\n",
       "    }\n",
       "</style>\n",
       "<table border=\"1\" class=\"dataframe\">\n",
       "  <thead>\n",
       "    <tr style=\"text-align: right;\">\n",
       "      <th></th>\n",
       "      <th>입원기간</th>\n",
       "      <th>척추전방위증</th>\n",
       "    </tr>\n",
       "  </thead>\n",
       "  <tbody>\n",
       "    <tr>\n",
       "      <th>입원기간</th>\n",
       "      <td>1.000000</td>\n",
       "      <td>0.021785</td>\n",
       "    </tr>\n",
       "    <tr>\n",
       "      <th>척추전방위증</th>\n",
       "      <td>0.021785</td>\n",
       "      <td>1.000000</td>\n",
       "    </tr>\n",
       "  </tbody>\n",
       "</table>\n",
       "</div>"
      ],
      "text/plain": [
       "            입원기간    척추전방위증\n",
       "입원기간    1.000000  0.021785\n",
       "척추전방위증  0.021785  1.000000"
      ]
     },
     "execution_count": 40,
     "metadata": {},
     "output_type": "execute_result"
    }
   ],
   "source": [
    "df_ROS_spine.corr()"
   ]
  },
  {
   "cell_type": "code",
   "execution_count": 41,
   "id": "58133346-7537-40d0-8850-9007ec10b771",
   "metadata": {
    "tags": []
   },
   "outputs": [
    {
     "data": {
      "text/plain": [
       "PearsonRResult(statistic=0.021785183222721775, pvalue=0.3433432535716532)"
      ]
     },
     "execution_count": 41,
     "metadata": {},
     "output_type": "execute_result"
    }
   ],
   "source": [
    "stats.pearsonr(df_ROS_spine['입원기간'],df_ROS_spine['척추전방위증'])"
   ]
  },
  {
   "cell_type": "markdown",
   "id": "dfd11a04-45ed-4345-b385-b09a09c93241",
   "metadata": {},
   "source": [
    "### 7. 수술실패여부\n",
    "- 귀무가설: 수술실패여부에 따라 입원기간이 달라지지 않는다.\n",
    "- 대립가설: 수술실패여부에 따라 입원기간이 달라진다.\n",
    "- 분석결론:\n",
    "    - 통계결론: p-value(0.8150274407287285)가 0.05보다 크므로 귀무가설이 성립한다.\n",
    "    - 사실결론: 수술실패여부에 따라 입원기간이 달라지지 않는다. "
   ]
  },
  {
   "cell_type": "code",
   "execution_count": 42,
   "id": "de785a98-e914-4c46-9160-c964e52954ff",
   "metadata": {
    "tags": []
   },
   "outputs": [],
   "source": [
    "df_ROS_OF = df_ROS[['입원기간','수술실패여부']]"
   ]
  },
  {
   "cell_type": "code",
   "execution_count": 43,
   "id": "5437833f-1599-4996-9599-2dc042c3e57c",
   "metadata": {
    "tags": []
   },
   "outputs": [
    {
     "data": {
      "text/html": [
       "<div>\n",
       "<style scoped>\n",
       "    .dataframe tbody tr th:only-of-type {\n",
       "        vertical-align: middle;\n",
       "    }\n",
       "\n",
       "    .dataframe tbody tr th {\n",
       "        vertical-align: top;\n",
       "    }\n",
       "\n",
       "    .dataframe thead th {\n",
       "        text-align: right;\n",
       "    }\n",
       "</style>\n",
       "<table border=\"1\" class=\"dataframe\">\n",
       "  <thead>\n",
       "    <tr style=\"text-align: right;\">\n",
       "      <th></th>\n",
       "      <th>입원기간</th>\n",
       "      <th>수술실패여부</th>\n",
       "    </tr>\n",
       "  </thead>\n",
       "  <tbody>\n",
       "    <tr>\n",
       "      <th>입원기간</th>\n",
       "      <td>1.000000</td>\n",
       "      <td>-0.005379</td>\n",
       "    </tr>\n",
       "    <tr>\n",
       "      <th>수술실패여부</th>\n",
       "      <td>-0.005379</td>\n",
       "      <td>1.000000</td>\n",
       "    </tr>\n",
       "  </tbody>\n",
       "</table>\n",
       "</div>"
      ],
      "text/plain": [
       "            입원기간    수술실패여부\n",
       "입원기간    1.000000 -0.005379\n",
       "수술실패여부 -0.005379  1.000000"
      ]
     },
     "execution_count": 43,
     "metadata": {},
     "output_type": "execute_result"
    }
   ],
   "source": [
    "df_ROS_OF.corr()"
   ]
  },
  {
   "cell_type": "code",
   "execution_count": 44,
   "id": "8ed7a4f9-ee32-4138-9616-80539e0fa037",
   "metadata": {
    "tags": []
   },
   "outputs": [
    {
     "data": {
      "text/plain": [
       "PearsonRResult(statistic=-0.005379080101871571, pvalue=0.8150274407287285)"
      ]
     },
     "execution_count": 44,
     "metadata": {},
     "output_type": "execute_result"
    }
   ],
   "source": [
    "stats.pearsonr(df_ROS_OF['입원기간'],df_ROS_OF['수술실패여부'])"
   ]
  },
  {
   "cell_type": "markdown",
   "id": "57b702f3-5279-4bb8-b264-4d98a0a9111c",
   "metadata": {},
   "source": [
    "### 8. 흡연여부\n",
    "- 귀무가설: 흡연여부에 따라 입원기간이 달라지지 않는다.\n",
    "- 대립가설: 흡연여부에 따라 입원기간이 달라진다.\n",
    "- 분석결론:\n",
    "    - 통계결론: p-value(0.8150274407287285)가 0.05보다 크므로 귀무가설이 성립한다.\n",
    "    - 사실결론: 흡연여부에 따라 입원기간이 달라지지 않는다."
   ]
  },
  {
   "cell_type": "code",
   "execution_count": 45,
   "id": "3bbdef81-9930-45c0-abdf-79f777b5391b",
   "metadata": {
    "tags": []
   },
   "outputs": [],
   "source": [
    "df_ROS_smoking = df_ROS[['입원기간','흡연여부']]"
   ]
  },
  {
   "cell_type": "code",
   "execution_count": 46,
   "id": "7d14a6cf-50a2-4a77-a9ed-6906bb4e8d6f",
   "metadata": {
    "tags": []
   },
   "outputs": [
    {
     "data": {
      "text/html": [
       "<div>\n",
       "<style scoped>\n",
       "    .dataframe tbody tr th:only-of-type {\n",
       "        vertical-align: middle;\n",
       "    }\n",
       "\n",
       "    .dataframe tbody tr th {\n",
       "        vertical-align: top;\n",
       "    }\n",
       "\n",
       "    .dataframe thead th {\n",
       "        text-align: right;\n",
       "    }\n",
       "</style>\n",
       "<table border=\"1\" class=\"dataframe\">\n",
       "  <thead>\n",
       "    <tr style=\"text-align: right;\">\n",
       "      <th></th>\n",
       "      <th>입원기간</th>\n",
       "      <th>흡연여부</th>\n",
       "    </tr>\n",
       "  </thead>\n",
       "  <tbody>\n",
       "    <tr>\n",
       "      <th>입원기간</th>\n",
       "      <td>1.000000</td>\n",
       "      <td>0.013273</td>\n",
       "    </tr>\n",
       "    <tr>\n",
       "      <th>흡연여부</th>\n",
       "      <td>0.013273</td>\n",
       "      <td>1.000000</td>\n",
       "    </tr>\n",
       "  </tbody>\n",
       "</table>\n",
       "</div>"
      ],
      "text/plain": [
       "          입원기간      흡연여부\n",
       "입원기간  1.000000  0.013273\n",
       "흡연여부  0.013273  1.000000"
      ]
     },
     "execution_count": 46,
     "metadata": {},
     "output_type": "execute_result"
    }
   ],
   "source": [
    "df_ROS_smoking.corr()"
   ]
  },
  {
   "cell_type": "code",
   "execution_count": 47,
   "id": "a086e46f-ef23-45e5-b211-d28635d6f1ae",
   "metadata": {
    "tags": []
   },
   "outputs": [
    {
     "data": {
      "text/plain": [
       "PearsonRResult(statistic=0.013272771461760624, pvalue=0.5637526431379113)"
      ]
     },
     "execution_count": 47,
     "metadata": {},
     "output_type": "execute_result"
    }
   ],
   "source": [
    "stats.pearsonr(df_ROS_smoking['입원기간'],df_ROS_smoking['흡연여부'])"
   ]
  },
  {
   "cell_type": "code",
   "execution_count": null,
   "id": "90714567-e5ff-43c0-873f-e4b128cdc9f7",
   "metadata": {},
   "outputs": [],
   "source": []
  }
 ],
 "metadata": {
  "kernelspec": {
   "display_name": "Python 3 (ipykernel)",
   "language": "python",
   "name": "python3"
  },
  "language_info": {
   "codemirror_mode": {
    "name": "ipython",
    "version": 3
   },
   "file_extension": ".py",
   "mimetype": "text/x-python",
   "name": "python",
   "nbconvert_exporter": "python",
   "pygments_lexer": "ipython3",
   "version": "3.11.3"
  }
 },
 "nbformat": 4,
 "nbformat_minor": 5
}
