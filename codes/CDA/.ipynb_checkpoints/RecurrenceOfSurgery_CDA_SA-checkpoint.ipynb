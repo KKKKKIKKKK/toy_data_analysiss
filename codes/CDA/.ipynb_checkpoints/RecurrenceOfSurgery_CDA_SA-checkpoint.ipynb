{
 "cells": [
  {
   "cell_type": "code",
   "execution_count": 1,
   "id": "e330e038-dd0a-45c3-80e4-9c363c6db413",
   "metadata": {
    "tags": []
   },
   "outputs": [],
   "source": [
    "import matplotlib.pyplot as plt\n",
    "import matplotlib as mpl\n",
    "mpl.rc('font',family='Malgun Gothic')\n",
    "import seaborn as sns\n",
    "import pandas as pd\n",
    "import scipy.stats as stats\n",
    "import numpy as np"
   ]
  },
  {
   "cell_type": "code",
   "execution_count": 2,
   "id": "c4404184-579e-4a36-bd37-2e33adb3b585",
   "metadata": {
    "tags": []
   },
   "outputs": [
    {
     "data": {
      "text/html": [
       "<div>\n",
       "<style scoped>\n",
       "    .dataframe tbody tr th:only-of-type {\n",
       "        vertical-align: middle;\n",
       "    }\n",
       "\n",
       "    .dataframe tbody tr th {\n",
       "        vertical-align: top;\n",
       "    }\n",
       "\n",
       "    .dataframe thead th {\n",
       "        text-align: right;\n",
       "    }\n",
       "</style>\n",
       "<table border=\"1\" class=\"dataframe\">\n",
       "  <thead>\n",
       "    <tr style=\"text-align: right;\">\n",
       "      <th></th>\n",
       "      <th>Unnamed: 0.1</th>\n",
       "      <th>Unnamed: 0</th>\n",
       "      <th>환자ID</th>\n",
       "      <th>신장</th>\n",
       "      <th>체중</th>\n",
       "      <th>연령</th>\n",
       "      <th>성별</th>\n",
       "      <th>Large Lymphocyte</th>\n",
       "      <th>우울증여부</th>\n",
       "      <th>종양진행여부</th>\n",
       "      <th>...</th>\n",
       "      <th>디스크위치</th>\n",
       "      <th>척추이동척도</th>\n",
       "      <th>척추전방위증</th>\n",
       "      <th>수술시간</th>\n",
       "      <th>수술실패여부</th>\n",
       "      <th>수술기법</th>\n",
       "      <th>흡연여부</th>\n",
       "      <th>Instability</th>\n",
       "      <th>혈액형</th>\n",
       "      <th>입원기간</th>\n",
       "    </tr>\n",
       "  </thead>\n",
       "  <tbody>\n",
       "    <tr>\n",
       "      <th>0</th>\n",
       "      <td>0</td>\n",
       "      <td>0</td>\n",
       "      <td>1PT</td>\n",
       "      <td>163</td>\n",
       "      <td>60.3</td>\n",
       "      <td>66</td>\n",
       "      <td>2</td>\n",
       "      <td>22.8</td>\n",
       "      <td>0</td>\n",
       "      <td>0</td>\n",
       "      <td>...</td>\n",
       "      <td>4</td>\n",
       "      <td>Down</td>\n",
       "      <td>0</td>\n",
       "      <td>68.0</td>\n",
       "      <td>0</td>\n",
       "      <td>TELD</td>\n",
       "      <td>0</td>\n",
       "      <td>0</td>\n",
       "      <td>RH+A</td>\n",
       "      <td>2</td>\n",
       "    </tr>\n",
       "    <tr>\n",
       "      <th>1</th>\n",
       "      <td>1</td>\n",
       "      <td>1</td>\n",
       "      <td>2PT</td>\n",
       "      <td>171</td>\n",
       "      <td>71.7</td>\n",
       "      <td>47</td>\n",
       "      <td>1</td>\n",
       "      <td>44.9</td>\n",
       "      <td>0</td>\n",
       "      <td>0</td>\n",
       "      <td>...</td>\n",
       "      <td>4</td>\n",
       "      <td>Up</td>\n",
       "      <td>0</td>\n",
       "      <td>31.0</td>\n",
       "      <td>0</td>\n",
       "      <td>TELD</td>\n",
       "      <td>0</td>\n",
       "      <td>0</td>\n",
       "      <td>RH+A</td>\n",
       "      <td>1</td>\n",
       "    </tr>\n",
       "  </tbody>\n",
       "</table>\n",
       "<p>2 rows × 22 columns</p>\n",
       "</div>"
      ],
      "text/plain": [
       "   Unnamed: 0.1  Unnamed: 0 환자ID   신장    체중  연령  성별  Large Lymphocyte  우울증여부  \\\n",
       "0             0           0  1PT  163  60.3  66   2              22.8      0   \n",
       "1             1           1  2PT  171  71.7  47   1              44.9      0   \n",
       "\n",
       "   종양진행여부  ...  디스크위치  척추이동척도  척추전방위증  수술시간  수술실패여부  수술기법  흡연여부 Instability  \\\n",
       "0       0  ...      4    Down       0  68.0       0  TELD     0           0   \n",
       "1       0  ...      4      Up       0  31.0       0  TELD     0           0   \n",
       "\n",
       "    혈액형  입원기간  \n",
       "0  RH+A     2  \n",
       "1  RH+A     1  \n",
       "\n",
       "[2 rows x 22 columns]"
      ]
     },
     "execution_count": 2,
     "metadata": {},
     "output_type": "execute_result"
    }
   ],
   "source": [
    "df_ROSF = pd.read_csv('../../datasets/RecurrenceOfSurgery_Final.csv')\n",
    "df_ROSF[:2]"
   ]
  },
  {
   "cell_type": "code",
   "execution_count": 3,
   "id": "3dc1ded9-4522-4af0-ae50-ed717f00fc47",
   "metadata": {
    "tags": []
   },
   "outputs": [
    {
     "data": {
      "text/plain": [
       "(1894, 22)"
      ]
     },
     "execution_count": 3,
     "metadata": {},
     "output_type": "execute_result"
    }
   ],
   "source": [
    "df_ROSF.shape"
   ]
  },
  {
   "cell_type": "markdown",
   "id": "808e93b8-af3f-40a5-8e7f-003c6948a200",
   "metadata": {},
   "source": [
    "### 입원기간은? 정규?비정규?\n",
    "5000개 이하이므로 샤피로로 검증\n",
    "- stats.shapiro(df_ROSF['입원기간'])\n",
    "    - **ShapiroResult(statistic=0.2543339729309082, pvalue=0.0)**\n",
    "        ⇒ 입원기간은 비정규분포임"
   ]
  },
  {
   "cell_type": "code",
   "execution_count": 4,
   "id": "dae1e1c1-55db-4de5-9840-e8d513f7ba1d",
   "metadata": {
    "tags": []
   },
   "outputs": [
    {
     "data": {
      "text/plain": [
       "ShapiroResult(statistic=0.2543339729309082, pvalue=0.0)"
      ]
     },
     "execution_count": 4,
     "metadata": {},
     "output_type": "execute_result"
    }
   ],
   "source": [
    "stats.shapiro(df_ROSF['입원기간'])"
   ]
  },
  {
   "cell_type": "markdown",
   "id": "273ed2f8-f48a-4fe1-9c41-5a0362c824e1",
   "metadata": {},
   "source": [
    "## 입원기간은 크게 4주를 기준으로 나눈다\n",
    "Why? \n",
    "-입원기간의 valuecount를 보았을 때, 4주 이상의 입원기간의 환자가 적었으며 통상적으로 4주까지가 입원기간이라 판단함. "
   ]
  },
  {
   "cell_type": "markdown",
   "id": "893b774a-c5f8-467a-88ff-7c40c370776c",
   "metadata": {
    "tags": []
   },
   "source": [
    "#### 연령-입원기간\n",
    "- 입원기간 4주 이하 (연속-비정규)\n",
    "\n",
    "        - 분석내용: 연령이 입원기간(4주이하)에 영향을 비치는가?\n",
    "            - 귀무: 연령에 따른 입원기간 영향 없음\n",
    "            - 대립: 연령에 따른 입원기간 영향 있음\n",
    "            \n",
    "        → 분석 결론 \n",
    "        \n",
    "            - ⇒ stats.spearmanr(df_ROSF_in['연령'], df_ROSF_in['입원기간'])\n",
    "                - SignificanceResult(statistic=0.0703582597408785, pvalue=0.0034028301768509323)\n",
    "            - 대립이 참. p-value < 0.05\n",
    "            - 입원기간 4주 이하만 보면 연령이 입원기간에 영향이 있음.\n",
    "            \n",
    "- 입원기간 4주 초과 (연속-비정규)\n",
    "\n",
    "        - 분석내용: 연령이 입원기간(4주초과)에 영향을 비치는가?\n",
    "            - 귀무: 연령에 따른 입원기간 영향 없음\n",
    "            - 대립: 연령에 따른 입원기간 영향 있음\n",
    "            \n",
    "        → 분석 결론 \n",
    "        \n",
    "            - ⇒ stats.spearmanr(df_ROSF_inover['연령'], df_ROSF_inover['입원기간'])\n",
    "                - SignificanceResult(statistic=-0.20574785830816023, pvalue=0.3032086035810698)\n",
    "            - 귀무이 참. p-value > 0.05\n",
    "            - 입원기간 4주 초과만 보면 연령이 입원기간에 영향이 없음."
   ]
  },
  {
   "cell_type": "code",
   "execution_count": 5,
   "id": "91dc1229-5f23-4e07-87a1-8c8ea8e4fd34",
   "metadata": {
    "tags": []
   },
   "outputs": [],
   "source": [
    "Q1_in = df_ROSF['입원기간'].describe()['25%']\n",
    "Q3_in = df_ROSF['입원기간'].describe()['75%']\n",
    "IQR_in = Q3_in-Q1_in"
   ]
  },
  {
   "cell_type": "code",
   "execution_count": 6,
   "id": "b74f0757-b17b-4cb6-a8ff-82bfd9828603",
   "metadata": {
    "tags": []
   },
   "outputs": [
    {
     "data": {
      "text/plain": [
       "(-0.5, 3.5)"
      ]
     },
     "execution_count": 6,
     "metadata": {},
     "output_type": "execute_result"
    }
   ],
   "source": [
    "up = Q3_in + 1.5 *IQR_in\n",
    "down = Q1_in - 1.5 *IQR_in\n",
    "down, up"
   ]
  },
  {
   "cell_type": "code",
   "execution_count": 7,
   "id": "afcbb1b6-e9fe-4348-9a4d-f79ee61e4561",
   "metadata": {
    "tags": []
   },
   "outputs": [],
   "source": [
    "## 입원기간 4주 이하\n",
    "condition = (df_ROSF['입원기간'] <= 4)\n",
    "df_ROSF_in = df_ROSF[condition]"
   ]
  },
  {
   "cell_type": "code",
   "execution_count": 8,
   "id": "79e16578-fb75-40b2-9ed1-030743ed02fc",
   "metadata": {
    "tags": []
   },
   "outputs": [
    {
     "data": {
      "text/plain": [
       "Unnamed: 0.1         0\n",
       "Unnamed: 0           0\n",
       "환자ID                 0\n",
       "신장                   0\n",
       "체중                   0\n",
       "연령                   0\n",
       "성별                   0\n",
       "Large Lymphocyte     0\n",
       "우울증여부                0\n",
       "종양진행여부               0\n",
       "재발여부                 0\n",
       "디스크단면적               1\n",
       "디스크위치                0\n",
       "척추이동척도               0\n",
       "척추전방위증               0\n",
       "수술시간                52\n",
       "수술실패여부               0\n",
       "수술기법                73\n",
       "흡연여부                 0\n",
       "Instability          0\n",
       "혈액형                  0\n",
       "입원기간                 0\n",
       "dtype: int64"
      ]
     },
     "execution_count": 8,
     "metadata": {},
     "output_type": "execute_result"
    }
   ],
   "source": [
    "df_ROSF_in.isnull().sum()"
   ]
  },
  {
   "cell_type": "code",
   "execution_count": 9,
   "id": "06a39f28-ac98-493b-94ab-63ac7db2f65c",
   "metadata": {
    "tags": []
   },
   "outputs": [],
   "source": [
    "df_ROSF_in = df_ROSF_in.dropna()"
   ]
  },
  {
   "cell_type": "code",
   "execution_count": 10,
   "id": "74f55241-2dd6-46a5-8995-6dfcf0919860",
   "metadata": {
    "tags": []
   },
   "outputs": [
    {
     "data": {
      "text/plain": [
       "ShapiroResult(statistic=0.6962171196937561, pvalue=0.0)"
      ]
     },
     "execution_count": 10,
     "metadata": {},
     "output_type": "execute_result"
    }
   ],
   "source": [
    "stats.shapiro(df_ROSF_in['입원기간'])"
   ]
  },
  {
   "cell_type": "code",
   "execution_count": 11,
   "id": "f4abae98-e9f2-48a9-9cc5-029687ac65dd",
   "metadata": {
    "tags": []
   },
   "outputs": [
    {
     "data": {
      "text/html": [
       "<div>\n",
       "<style scoped>\n",
       "    .dataframe tbody tr th:only-of-type {\n",
       "        vertical-align: middle;\n",
       "    }\n",
       "\n",
       "    .dataframe tbody tr th {\n",
       "        vertical-align: top;\n",
       "    }\n",
       "\n",
       "    .dataframe thead th {\n",
       "        text-align: right;\n",
       "    }\n",
       "</style>\n",
       "<table border=\"1\" class=\"dataframe\">\n",
       "  <thead>\n",
       "    <tr style=\"text-align: right;\">\n",
       "      <th></th>\n",
       "      <th>입원기간</th>\n",
       "      <th>연령</th>\n",
       "    </tr>\n",
       "  </thead>\n",
       "  <tbody>\n",
       "    <tr>\n",
       "      <th>입원기간</th>\n",
       "      <td>1.000000</td>\n",
       "      <td>0.075214</td>\n",
       "    </tr>\n",
       "    <tr>\n",
       "      <th>연령</th>\n",
       "      <td>0.075214</td>\n",
       "      <td>1.000000</td>\n",
       "    </tr>\n",
       "  </tbody>\n",
       "</table>\n",
       "</div>"
      ],
      "text/plain": [
       "          입원기간        연령\n",
       "입원기간  1.000000  0.075214\n",
       "연령    0.075214  1.000000"
      ]
     },
     "execution_count": 11,
     "metadata": {},
     "output_type": "execute_result"
    }
   ],
   "source": [
    "df_ROSF_in[['입원기간', '연령']].corr()"
   ]
  },
  {
   "cell_type": "code",
   "execution_count": 12,
   "id": "1dee339b-7ba9-468a-8b70-0995dc677eb6",
   "metadata": {
    "tags": []
   },
   "outputs": [
    {
     "data": {
      "text/plain": [
       "SignificanceResult(statistic=0.0703582597408785, pvalue=0.0034028301768509323)"
      ]
     },
     "execution_count": 12,
     "metadata": {},
     "output_type": "execute_result"
    }
   ],
   "source": [
    "stats.spearmanr(df_ROSF_in['연령'], df_ROSF_in['입원기간'])"
   ]
  },
  {
   "cell_type": "code",
   "execution_count": 13,
   "id": "c63992f8-cdaf-408d-9981-61dc02972eef",
   "metadata": {
    "tags": []
   },
   "outputs": [],
   "source": [
    "conditions = (df_ROSF['입원기간'] > 4)\n",
    "df_ROSF_inover = df_ROSF[conditions]"
   ]
  },
  {
   "cell_type": "code",
   "execution_count": 14,
   "id": "f49958f6-491c-4709-baef-0f89b5eff846",
   "metadata": {
    "tags": []
   },
   "outputs": [
    {
     "data": {
      "text/plain": [
       "Unnamed: 0.1        0\n",
       "Unnamed: 0          0\n",
       "환자ID                0\n",
       "신장                  0\n",
       "체중                  0\n",
       "연령                  0\n",
       "성별                  0\n",
       "Large Lymphocyte    0\n",
       "우울증여부               0\n",
       "종양진행여부              0\n",
       "재발여부                0\n",
       "디스크단면적              0\n",
       "디스크위치               0\n",
       "척추이동척도              0\n",
       "척추전방위증              0\n",
       "수술시간                2\n",
       "수술실패여부              0\n",
       "수술기법                8\n",
       "흡연여부                0\n",
       "Instability         0\n",
       "혈액형                 0\n",
       "입원기간                0\n",
       "dtype: int64"
      ]
     },
     "execution_count": 14,
     "metadata": {},
     "output_type": "execute_result"
    }
   ],
   "source": [
    "df_ROSF_inover.isnull().sum()"
   ]
  },
  {
   "cell_type": "code",
   "execution_count": 15,
   "id": "7d06edc5-59af-4b9f-84da-db82d4834469",
   "metadata": {
    "tags": []
   },
   "outputs": [],
   "source": [
    "df_ROSF_inover=df_ROSF_inover.dropna()"
   ]
  },
  {
   "cell_type": "code",
   "execution_count": 16,
   "id": "eedec403-a695-46d5-9590-335ffc7ad605",
   "metadata": {
    "tags": []
   },
   "outputs": [
    {
     "data": {
      "text/plain": [
       "Unnamed: 0.1        0\n",
       "Unnamed: 0          0\n",
       "환자ID                0\n",
       "신장                  0\n",
       "체중                  0\n",
       "연령                  0\n",
       "성별                  0\n",
       "Large Lymphocyte    0\n",
       "우울증여부               0\n",
       "종양진행여부              0\n",
       "재발여부                0\n",
       "디스크단면적              0\n",
       "디스크위치               0\n",
       "척추이동척도              0\n",
       "척추전방위증              0\n",
       "수술시간                0\n",
       "수술실패여부              0\n",
       "수술기법                0\n",
       "흡연여부                0\n",
       "Instability         0\n",
       "혈액형                 0\n",
       "입원기간                0\n",
       "dtype: int64"
      ]
     },
     "execution_count": 16,
     "metadata": {},
     "output_type": "execute_result"
    }
   ],
   "source": [
    "df_ROSF_inover.isnull().sum()"
   ]
  },
  {
   "cell_type": "code",
   "execution_count": 17,
   "id": "c5f2bcb3-81ed-4054-b643-752ac94e153d",
   "metadata": {
    "tags": []
   },
   "outputs": [
    {
     "data": {
      "text/plain": [
       "ShapiroResult(statistic=0.5867187976837158, pvalue=1.4494698064027034e-07)"
      ]
     },
     "execution_count": 17,
     "metadata": {},
     "output_type": "execute_result"
    }
   ],
   "source": [
    "stats.shapiro(df_ROSF_inover['입원기간'])"
   ]
  },
  {
   "cell_type": "code",
   "execution_count": 18,
   "id": "cd104dfa-e824-40c1-9b8d-29c89cede850",
   "metadata": {
    "tags": []
   },
   "outputs": [
    {
     "data": {
      "text/html": [
       "<div>\n",
       "<style scoped>\n",
       "    .dataframe tbody tr th:only-of-type {\n",
       "        vertical-align: middle;\n",
       "    }\n",
       "\n",
       "    .dataframe tbody tr th {\n",
       "        vertical-align: top;\n",
       "    }\n",
       "\n",
       "    .dataframe thead th {\n",
       "        text-align: right;\n",
       "    }\n",
       "</style>\n",
       "<table border=\"1\" class=\"dataframe\">\n",
       "  <thead>\n",
       "    <tr style=\"text-align: right;\">\n",
       "      <th></th>\n",
       "      <th>입원기간</th>\n",
       "      <th>연령</th>\n",
       "    </tr>\n",
       "  </thead>\n",
       "  <tbody>\n",
       "    <tr>\n",
       "      <th>입원기간</th>\n",
       "      <td>1.000000</td>\n",
       "      <td>-0.060015</td>\n",
       "    </tr>\n",
       "    <tr>\n",
       "      <th>연령</th>\n",
       "      <td>-0.060015</td>\n",
       "      <td>1.000000</td>\n",
       "    </tr>\n",
       "  </tbody>\n",
       "</table>\n",
       "</div>"
      ],
      "text/plain": [
       "          입원기간        연령\n",
       "입원기간  1.000000 -0.060015\n",
       "연령   -0.060015  1.000000"
      ]
     },
     "execution_count": 18,
     "metadata": {},
     "output_type": "execute_result"
    }
   ],
   "source": [
    "df_ROSF_inover[['입원기간', '연령']].corr()"
   ]
  },
  {
   "cell_type": "code",
   "execution_count": 19,
   "id": "7793f141-37dd-478a-b641-d149c5a5b2d3",
   "metadata": {
    "tags": []
   },
   "outputs": [
    {
     "data": {
      "text/plain": [
       "SignificanceResult(statistic=-0.20574785830816023, pvalue=0.3032086035810698)"
      ]
     },
     "execution_count": 19,
     "metadata": {},
     "output_type": "execute_result"
    }
   ],
   "source": [
    "stats.spearmanr(df_ROSF_inover['연령'], df_ROSF_inover['입원기간'])"
   ]
  },
  {
   "cell_type": "markdown",
   "id": "9861e72a-33ac-4825-b269-336b8a6fc810",
   "metadata": {
    "tags": []
   },
   "source": [
    "#### Large Lymphocyte-입원기간\n",
    "- 연속-연속?\n",
    "- 정상 범위 : 15.00 ~45.00 * 10^2\n",
    "- 1. 아무 조건 걸지 않았을때. \n",
    "    - Large Lymphocyte이 입원기간에 영향을 미치는가?\n",
    "        - 귀무: Large Lymphocyte이 입원기간에 영향 없음\n",
    "        - 대립: Large Lymphocyte이 입원기간에 영향 있음\n",
    "             → 분석 결론 \n",
    "            - ⇒ stats.spearmanr(df_ROSF['Large Lymphocyte'], df_ROSF['입원기간'])\n",
    "               - SignificanceResult(statistic=0.017373737058603216, pvalue=0.44985018280917977)\n",
    "            - 귀무 참. p-value > 0.05\n",
    "- 2. 입원기간 4주 이하 (연속-비정규)\n",
    "    - 분석내용: Large Lymphocyte이 입원기간에 영향을 미치는가?\n",
    "        - 귀무: Large Lymphocyte이 입원기간에 영향 없음\n",
    "        - 대립: Large Lymphocyte이 입원기간에 영향 있음\n",
    "            → 분석 결론 \n",
    "            - ⇒ stats.spearmanr(df_ROSF_in['Large Lymphocyte'], df_ROSF_in['입원기간'])\n",
    "               - SignificanceResult(statistic=0.03858566905743811, pvalue=0.10853654162399108)\n",
    "            - 귀무 참. p-value > 0.05\n",
    "- 3. 입원기간 4주 초과 (연속-비정규)\n",
    "     - 분석내용: Large Lymphocyte이 입원기간에 영향을 미치는가?\n",
    "        - 귀무: Large Lymphocyte이 입원기간에 영향 없음\n",
    "        - 대립: Large Lymphocyte이 입원기간에 영향 있음\n",
    "            → 분석 결론 \n",
    "            - ⇒ stats.spearmanr(df_ROSF_inover['Large Lymphocyte'], df_ROSF_inover['입원기간'])\n",
    "                - SignificanceResult(statistic=-0.2140438063081117, pvalue=0.2836919583915103)\n",
    "- Large Lymphocyte와 입원기간은 영향이 없는 것으로 보여짐. \n",
    "- Large Lymphocyte의 중앙값을 기준으로 검증했을때도 영향이 보이지 않음"
   ]
  },
  {
   "cell_type": "code",
   "execution_count": 20,
   "id": "35c804dc-697f-4c91-93f6-e9c764b4df6d",
   "metadata": {
    "tags": []
   },
   "outputs": [
    {
     "data": {
      "text/plain": [
       "(30.6, 48.6, 18.0, 40.2)"
      ]
     },
     "execution_count": 20,
     "metadata": {},
     "output_type": "execute_result"
    }
   ],
   "source": [
    "Q1_L = df_ROSF_in['Large Lymphocyte'].describe()['25%']\n",
    "Q3_L = df_ROSF_in['Large Lymphocyte'].describe()['75%']\n",
    "QM_L = df_ROSF_in['Large Lymphocyte'].describe()['50%']\n",
    "IQR_L = Q3_L-Q1_L\n",
    "Q1_L, Q3_L , IQR_L, QM_L"
   ]
  },
  {
   "cell_type": "code",
   "execution_count": 21,
   "id": "e7586f86-5bdf-4758-b28f-d14935cb4d65",
   "metadata": {
    "tags": []
   },
   "outputs": [
    {
     "data": {
      "text/plain": [
       "(3.6000000000000014, 75.6)"
      ]
     },
     "execution_count": 21,
     "metadata": {},
     "output_type": "execute_result"
    }
   ],
   "source": [
    "up_L = Q3_L + 1.5 *IQR_L\n",
    "down_L = Q1_L - 1.5 *IQR_L\n",
    "down_L, up_L"
   ]
  },
  {
   "cell_type": "code",
   "execution_count": 22,
   "id": "a2cccc17-cdda-4236-ba7c-7c772a4a83a3",
   "metadata": {
    "tags": []
   },
   "outputs": [
    {
     "data": {
      "text/html": [
       "<div>\n",
       "<style scoped>\n",
       "    .dataframe tbody tr th:only-of-type {\n",
       "        vertical-align: middle;\n",
       "    }\n",
       "\n",
       "    .dataframe tbody tr th {\n",
       "        vertical-align: top;\n",
       "    }\n",
       "\n",
       "    .dataframe thead th {\n",
       "        text-align: right;\n",
       "    }\n",
       "</style>\n",
       "<table border=\"1\" class=\"dataframe\">\n",
       "  <thead>\n",
       "    <tr style=\"text-align: right;\">\n",
       "      <th></th>\n",
       "      <th>Unnamed: 0.1</th>\n",
       "      <th>Unnamed: 0</th>\n",
       "      <th>환자ID</th>\n",
       "      <th>신장</th>\n",
       "      <th>체중</th>\n",
       "      <th>연령</th>\n",
       "      <th>성별</th>\n",
       "      <th>Large Lymphocyte</th>\n",
       "      <th>우울증여부</th>\n",
       "      <th>종양진행여부</th>\n",
       "      <th>...</th>\n",
       "      <th>디스크위치</th>\n",
       "      <th>척추이동척도</th>\n",
       "      <th>척추전방위증</th>\n",
       "      <th>수술시간</th>\n",
       "      <th>수술실패여부</th>\n",
       "      <th>수술기법</th>\n",
       "      <th>흡연여부</th>\n",
       "      <th>Instability</th>\n",
       "      <th>혈액형</th>\n",
       "      <th>입원기간</th>\n",
       "    </tr>\n",
       "  </thead>\n",
       "  <tbody>\n",
       "    <tr>\n",
       "      <th>1</th>\n",
       "      <td>1</td>\n",
       "      <td>1</td>\n",
       "      <td>2PT</td>\n",
       "      <td>171</td>\n",
       "      <td>71.7</td>\n",
       "      <td>47</td>\n",
       "      <td>1</td>\n",
       "      <td>44.9</td>\n",
       "      <td>0</td>\n",
       "      <td>0</td>\n",
       "      <td>...</td>\n",
       "      <td>4</td>\n",
       "      <td>Up</td>\n",
       "      <td>0</td>\n",
       "      <td>31.0</td>\n",
       "      <td>0</td>\n",
       "      <td>TELD</td>\n",
       "      <td>0</td>\n",
       "      <td>0</td>\n",
       "      <td>RH+A</td>\n",
       "      <td>1</td>\n",
       "    </tr>\n",
       "    <tr>\n",
       "      <th>2</th>\n",
       "      <td>2</td>\n",
       "      <td>2</td>\n",
       "      <td>3PT</td>\n",
       "      <td>178</td>\n",
       "      <td>77.1</td>\n",
       "      <td>39</td>\n",
       "      <td>1</td>\n",
       "      <td>53.0</td>\n",
       "      <td>0</td>\n",
       "      <td>0</td>\n",
       "      <td>...</td>\n",
       "      <td>4</td>\n",
       "      <td>Down</td>\n",
       "      <td>0</td>\n",
       "      <td>78.0</td>\n",
       "      <td>0</td>\n",
       "      <td>TELD</td>\n",
       "      <td>0</td>\n",
       "      <td>0</td>\n",
       "      <td>RH+B</td>\n",
       "      <td>1</td>\n",
       "    </tr>\n",
       "    <tr>\n",
       "      <th>3</th>\n",
       "      <td>3</td>\n",
       "      <td>3</td>\n",
       "      <td>4PT</td>\n",
       "      <td>174</td>\n",
       "      <td>74.2</td>\n",
       "      <td>40</td>\n",
       "      <td>1</td>\n",
       "      <td>54.7</td>\n",
       "      <td>0</td>\n",
       "      <td>0</td>\n",
       "      <td>...</td>\n",
       "      <td>4</td>\n",
       "      <td>Down</td>\n",
       "      <td>0</td>\n",
       "      <td>73.0</td>\n",
       "      <td>0</td>\n",
       "      <td>TELD</td>\n",
       "      <td>0</td>\n",
       "      <td>0</td>\n",
       "      <td>RH+O</td>\n",
       "      <td>1</td>\n",
       "    </tr>\n",
       "    <tr>\n",
       "      <th>4</th>\n",
       "      <td>4</td>\n",
       "      <td>4</td>\n",
       "      <td>5PT</td>\n",
       "      <td>183</td>\n",
       "      <td>80.7</td>\n",
       "      <td>42</td>\n",
       "      <td>1</td>\n",
       "      <td>53.8</td>\n",
       "      <td>0</td>\n",
       "      <td>0</td>\n",
       "      <td>...</td>\n",
       "      <td>4</td>\n",
       "      <td>Up</td>\n",
       "      <td>0</td>\n",
       "      <td>29.0</td>\n",
       "      <td>0</td>\n",
       "      <td>TELD</td>\n",
       "      <td>0</td>\n",
       "      <td>0</td>\n",
       "      <td>RH+A</td>\n",
       "      <td>2</td>\n",
       "    </tr>\n",
       "    <tr>\n",
       "      <th>7</th>\n",
       "      <td>7</td>\n",
       "      <td>7</td>\n",
       "      <td>8PT</td>\n",
       "      <td>183</td>\n",
       "      <td>81.2</td>\n",
       "      <td>55</td>\n",
       "      <td>1</td>\n",
       "      <td>43.8</td>\n",
       "      <td>1</td>\n",
       "      <td>0</td>\n",
       "      <td>...</td>\n",
       "      <td>4</td>\n",
       "      <td>Middle</td>\n",
       "      <td>0</td>\n",
       "      <td>85.0</td>\n",
       "      <td>0</td>\n",
       "      <td>TELD</td>\n",
       "      <td>1</td>\n",
       "      <td>0</td>\n",
       "      <td>RH+B</td>\n",
       "      <td>1</td>\n",
       "    </tr>\n",
       "    <tr>\n",
       "      <th>...</th>\n",
       "      <td>...</td>\n",
       "      <td>...</td>\n",
       "      <td>...</td>\n",
       "      <td>...</td>\n",
       "      <td>...</td>\n",
       "      <td>...</td>\n",
       "      <td>...</td>\n",
       "      <td>...</td>\n",
       "      <td>...</td>\n",
       "      <td>...</td>\n",
       "      <td>...</td>\n",
       "      <td>...</td>\n",
       "      <td>...</td>\n",
       "      <td>...</td>\n",
       "      <td>...</td>\n",
       "      <td>...</td>\n",
       "      <td>...</td>\n",
       "      <td>...</td>\n",
       "      <td>...</td>\n",
       "      <td>...</td>\n",
       "      <td>...</td>\n",
       "    </tr>\n",
       "    <tr>\n",
       "      <th>1845</th>\n",
       "      <td>1845</td>\n",
       "      <td>1845</td>\n",
       "      <td>1846PT</td>\n",
       "      <td>171</td>\n",
       "      <td>68.0</td>\n",
       "      <td>59</td>\n",
       "      <td>1</td>\n",
       "      <td>43.8</td>\n",
       "      <td>0</td>\n",
       "      <td>0</td>\n",
       "      <td>...</td>\n",
       "      <td>2</td>\n",
       "      <td>Middle</td>\n",
       "      <td>0</td>\n",
       "      <td>60.0</td>\n",
       "      <td>0</td>\n",
       "      <td>TELD</td>\n",
       "      <td>0</td>\n",
       "      <td>0</td>\n",
       "      <td>RH+AB</td>\n",
       "      <td>4</td>\n",
       "    </tr>\n",
       "    <tr>\n",
       "      <th>1849</th>\n",
       "      <td>1849</td>\n",
       "      <td>1849</td>\n",
       "      <td>1850PT</td>\n",
       "      <td>167</td>\n",
       "      <td>57.0</td>\n",
       "      <td>43</td>\n",
       "      <td>2</td>\n",
       "      <td>47.4</td>\n",
       "      <td>0</td>\n",
       "      <td>0</td>\n",
       "      <td>...</td>\n",
       "      <td>5</td>\n",
       "      <td>Middle</td>\n",
       "      <td>0</td>\n",
       "      <td>30.0</td>\n",
       "      <td>0</td>\n",
       "      <td>IELD</td>\n",
       "      <td>1</td>\n",
       "      <td>0</td>\n",
       "      <td>RH+A</td>\n",
       "      <td>2</td>\n",
       "    </tr>\n",
       "    <tr>\n",
       "      <th>1865</th>\n",
       "      <td>1865</td>\n",
       "      <td>1865</td>\n",
       "      <td>1866PT</td>\n",
       "      <td>151</td>\n",
       "      <td>56.0</td>\n",
       "      <td>64</td>\n",
       "      <td>2</td>\n",
       "      <td>43.0</td>\n",
       "      <td>0</td>\n",
       "      <td>0</td>\n",
       "      <td>...</td>\n",
       "      <td>4</td>\n",
       "      <td>Extremely down</td>\n",
       "      <td>0</td>\n",
       "      <td>20.0</td>\n",
       "      <td>0</td>\n",
       "      <td>IELD</td>\n",
       "      <td>0</td>\n",
       "      <td>1</td>\n",
       "      <td>RH+A</td>\n",
       "      <td>2</td>\n",
       "    </tr>\n",
       "    <tr>\n",
       "      <th>1866</th>\n",
       "      <td>1866</td>\n",
       "      <td>1866</td>\n",
       "      <td>1867PT</td>\n",
       "      <td>183</td>\n",
       "      <td>104.0</td>\n",
       "      <td>42</td>\n",
       "      <td>1</td>\n",
       "      <td>48.7</td>\n",
       "      <td>0</td>\n",
       "      <td>0</td>\n",
       "      <td>...</td>\n",
       "      <td>5</td>\n",
       "      <td>Middle</td>\n",
       "      <td>0</td>\n",
       "      <td>145.0</td>\n",
       "      <td>0</td>\n",
       "      <td>IELD</td>\n",
       "      <td>1</td>\n",
       "      <td>0</td>\n",
       "      <td>RH+B</td>\n",
       "      <td>2</td>\n",
       "    </tr>\n",
       "    <tr>\n",
       "      <th>1872</th>\n",
       "      <td>1872</td>\n",
       "      <td>1872</td>\n",
       "      <td>1873PT</td>\n",
       "      <td>185</td>\n",
       "      <td>64.0</td>\n",
       "      <td>21</td>\n",
       "      <td>1</td>\n",
       "      <td>42.4</td>\n",
       "      <td>0</td>\n",
       "      <td>0</td>\n",
       "      <td>...</td>\n",
       "      <td>4</td>\n",
       "      <td>Down</td>\n",
       "      <td>0</td>\n",
       "      <td>60.0</td>\n",
       "      <td>0</td>\n",
       "      <td>TELD</td>\n",
       "      <td>1</td>\n",
       "      <td>0</td>\n",
       "      <td>RH+A</td>\n",
       "      <td>2</td>\n",
       "    </tr>\n",
       "  </tbody>\n",
       "</table>\n",
       "<p>868 rows × 22 columns</p>\n",
       "</div>"
      ],
      "text/plain": [
       "      Unnamed: 0.1  Unnamed: 0    환자ID   신장     체중  연령  성별  Large Lymphocyte  \\\n",
       "1                1           1     2PT  171   71.7  47   1              44.9   \n",
       "2                2           2     3PT  178   77.1  39   1              53.0   \n",
       "3                3           3     4PT  174   74.2  40   1              54.7   \n",
       "4                4           4     5PT  183   80.7  42   1              53.8   \n",
       "7                7           7     8PT  183   81.2  55   1              43.8   \n",
       "...            ...         ...     ...  ...    ...  ..  ..               ...   \n",
       "1845          1845        1845  1846PT  171   68.0  59   1              43.8   \n",
       "1849          1849        1849  1850PT  167   57.0  43   2              47.4   \n",
       "1865          1865        1865  1866PT  151   56.0  64   2              43.0   \n",
       "1866          1866        1866  1867PT  183  104.0  42   1              48.7   \n",
       "1872          1872        1872  1873PT  185   64.0  21   1              42.4   \n",
       "\n",
       "      우울증여부  종양진행여부  ...  디스크위치          척추이동척도  척추전방위증   수술시간  수술실패여부  수술기법  \\\n",
       "1         0       0  ...      4              Up       0   31.0       0  TELD   \n",
       "2         0       0  ...      4            Down       0   78.0       0  TELD   \n",
       "3         0       0  ...      4            Down       0   73.0       0  TELD   \n",
       "4         0       0  ...      4              Up       0   29.0       0  TELD   \n",
       "7         1       0  ...      4          Middle       0   85.0       0  TELD   \n",
       "...     ...     ...  ...    ...             ...     ...    ...     ...   ...   \n",
       "1845      0       0  ...      2          Middle       0   60.0       0  TELD   \n",
       "1849      0       0  ...      5          Middle       0   30.0       0  IELD   \n",
       "1865      0       0  ...      4  Extremely down       0   20.0       0  IELD   \n",
       "1866      0       0  ...      5          Middle       0  145.0       0  IELD   \n",
       "1872      0       0  ...      4            Down       0   60.0       0  TELD   \n",
       "\n",
       "      흡연여부 Instability    혈액형  입원기간  \n",
       "1        0           0   RH+A     1  \n",
       "2        0           0   RH+B     1  \n",
       "3        0           0   RH+O     1  \n",
       "4        0           0   RH+A     2  \n",
       "7        1           0   RH+B     1  \n",
       "...    ...         ...    ...   ...  \n",
       "1845     0           0  RH+AB     4  \n",
       "1849     1           0   RH+A     2  \n",
       "1865     0           1   RH+A     2  \n",
       "1866     1           0   RH+B     2  \n",
       "1872     1           0   RH+A     2  \n",
       "\n",
       "[868 rows x 22 columns]"
      ]
     },
     "execution_count": 22,
     "metadata": {},
     "output_type": "execute_result"
    }
   ],
   "source": [
    "## 조건을 걸어버림_bound보다 위 filter\n",
    "condition_L=(df_ROSF_in['Large Lymphocyte'] >= QM_L)\n",
    "df_ROSF_L = df_ROSF_in[condition_L]\n",
    "df_ROSF_L"
   ]
  },
  {
   "cell_type": "code",
   "execution_count": 23,
   "id": "2d483cce-d7df-4aeb-9274-88d038b87c70",
   "metadata": {
    "tags": []
   },
   "outputs": [
    {
     "data": {
      "text/plain": [
       "SignificanceResult(statistic=-0.002713837026276078, pvalue=0.9363648603068873)"
      ]
     },
     "execution_count": 23,
     "metadata": {},
     "output_type": "execute_result"
    }
   ],
   "source": [
    "stats.spearmanr(df_ROSF_L['Large Lymphocyte'], df_ROSF_L['입원기간'])"
   ]
  },
  {
   "cell_type": "code",
   "execution_count": 24,
   "id": "06cf8386-0c1f-41b8-be2c-1952967d48cd",
   "metadata": {
    "tags": []
   },
   "outputs": [
    {
     "data": {
      "text/plain": [
       "SignificanceResult(statistic=0.03858566905743811, pvalue=0.10853654162399108)"
      ]
     },
     "execution_count": 24,
     "metadata": {},
     "output_type": "execute_result"
    }
   ],
   "source": [
    "stats.spearmanr(df_ROSF_in['Large Lymphocyte'], df_ROSF_in['입원기간'])"
   ]
  },
  {
   "cell_type": "code",
   "execution_count": 25,
   "id": "1d0460b9-c320-468b-9f45-8aa659fb31a0",
   "metadata": {
    "tags": []
   },
   "outputs": [
    {
     "data": {
      "text/plain": [
       "(29.9, 45.2, 15.300000000000004, 39.6)"
      ]
     },
     "execution_count": 25,
     "metadata": {},
     "output_type": "execute_result"
    }
   ],
   "source": [
    "Q1_over_L = df_ROSF_inover['Large Lymphocyte'].describe()['25%']\n",
    "Q3_over_L = df_ROSF_inover['Large Lymphocyte'].describe()['75%']\n",
    "QM_over_L = df_ROSF_inover['Large Lymphocyte'].describe()['50%']\n",
    "IQR_over_L = Q3_over_L-Q1_over_L\n",
    "Q1_over_L, Q3_over_L , IQR_over_L, QM_over_L"
   ]
  },
  {
   "cell_type": "code",
   "execution_count": 26,
   "id": "9f411cbc-58d1-460d-85cb-0f2f6de5cd71",
   "metadata": {
    "tags": []
   },
   "outputs": [
    {
     "data": {
      "text/plain": [
       "(6.949999999999992, 68.15)"
      ]
     },
     "execution_count": 26,
     "metadata": {},
     "output_type": "execute_result"
    }
   ],
   "source": [
    "up_over_L = Q3_over_L + 1.5 *IQR_over_L\n",
    "down_over_L = Q1_over_L - 1.5 *IQR_over_L\n",
    "down_over_L, up_over_L"
   ]
  },
  {
   "cell_type": "code",
   "execution_count": 27,
   "id": "42d966ab-3ce7-4aac-a29d-33974592a164",
   "metadata": {
    "tags": []
   },
   "outputs": [
    {
     "data": {
      "text/html": [
       "<div>\n",
       "<style scoped>\n",
       "    .dataframe tbody tr th:only-of-type {\n",
       "        vertical-align: middle;\n",
       "    }\n",
       "\n",
       "    .dataframe tbody tr th {\n",
       "        vertical-align: top;\n",
       "    }\n",
       "\n",
       "    .dataframe thead th {\n",
       "        text-align: right;\n",
       "    }\n",
       "</style>\n",
       "<table border=\"1\" class=\"dataframe\">\n",
       "  <thead>\n",
       "    <tr style=\"text-align: right;\">\n",
       "      <th></th>\n",
       "      <th>Unnamed: 0.1</th>\n",
       "      <th>Unnamed: 0</th>\n",
       "      <th>환자ID</th>\n",
       "      <th>신장</th>\n",
       "      <th>체중</th>\n",
       "      <th>연령</th>\n",
       "      <th>성별</th>\n",
       "      <th>Large Lymphocyte</th>\n",
       "      <th>우울증여부</th>\n",
       "      <th>종양진행여부</th>\n",
       "      <th>...</th>\n",
       "      <th>디스크위치</th>\n",
       "      <th>척추이동척도</th>\n",
       "      <th>척추전방위증</th>\n",
       "      <th>수술시간</th>\n",
       "      <th>수술실패여부</th>\n",
       "      <th>수술기법</th>\n",
       "      <th>흡연여부</th>\n",
       "      <th>Instability</th>\n",
       "      <th>혈액형</th>\n",
       "      <th>입원기간</th>\n",
       "    </tr>\n",
       "  </thead>\n",
       "  <tbody>\n",
       "    <tr>\n",
       "      <th>1044</th>\n",
       "      <td>1044</td>\n",
       "      <td>1044</td>\n",
       "      <td>1045PT</td>\n",
       "      <td>162</td>\n",
       "      <td>77.0</td>\n",
       "      <td>70</td>\n",
       "      <td>1</td>\n",
       "      <td>50.1</td>\n",
       "      <td>0</td>\n",
       "      <td>0</td>\n",
       "      <td>...</td>\n",
       "      <td>12</td>\n",
       "      <td>Middle</td>\n",
       "      <td>0</td>\n",
       "      <td>50.0</td>\n",
       "      <td>0</td>\n",
       "      <td>TELD</td>\n",
       "      <td>0</td>\n",
       "      <td>0</td>\n",
       "      <td>RH+A</td>\n",
       "      <td>8</td>\n",
       "    </tr>\n",
       "    <tr>\n",
       "      <th>1204</th>\n",
       "      <td>1204</td>\n",
       "      <td>1204</td>\n",
       "      <td>1205PT</td>\n",
       "      <td>167</td>\n",
       "      <td>74.0</td>\n",
       "      <td>54</td>\n",
       "      <td>1</td>\n",
       "      <td>42.6</td>\n",
       "      <td>0</td>\n",
       "      <td>0</td>\n",
       "      <td>...</td>\n",
       "      <td>4</td>\n",
       "      <td>Middle</td>\n",
       "      <td>0</td>\n",
       "      <td>30.0</td>\n",
       "      <td>0</td>\n",
       "      <td>TELD</td>\n",
       "      <td>0</td>\n",
       "      <td>0</td>\n",
       "      <td>RH+O</td>\n",
       "      <td>5</td>\n",
       "    </tr>\n",
       "    <tr>\n",
       "      <th>1356</th>\n",
       "      <td>1356</td>\n",
       "      <td>1356</td>\n",
       "      <td>1357PT</td>\n",
       "      <td>176</td>\n",
       "      <td>84.0</td>\n",
       "      <td>31</td>\n",
       "      <td>1</td>\n",
       "      <td>45.7</td>\n",
       "      <td>0</td>\n",
       "      <td>0</td>\n",
       "      <td>...</td>\n",
       "      <td>4</td>\n",
       "      <td>Middle</td>\n",
       "      <td>0</td>\n",
       "      <td>40.0</td>\n",
       "      <td>0</td>\n",
       "      <td>TELD</td>\n",
       "      <td>1</td>\n",
       "      <td>0</td>\n",
       "      <td>RH+A</td>\n",
       "      <td>5</td>\n",
       "    </tr>\n",
       "    <tr>\n",
       "      <th>1360</th>\n",
       "      <td>1360</td>\n",
       "      <td>1360</td>\n",
       "      <td>1361PT</td>\n",
       "      <td>154</td>\n",
       "      <td>68.0</td>\n",
       "      <td>62</td>\n",
       "      <td>2</td>\n",
       "      <td>43.0</td>\n",
       "      <td>0</td>\n",
       "      <td>0</td>\n",
       "      <td>...</td>\n",
       "      <td>4</td>\n",
       "      <td>Middle</td>\n",
       "      <td>1</td>\n",
       "      <td>40.0</td>\n",
       "      <td>0</td>\n",
       "      <td>TELD</td>\n",
       "      <td>0</td>\n",
       "      <td>1</td>\n",
       "      <td>RH+A</td>\n",
       "      <td>5</td>\n",
       "    </tr>\n",
       "    <tr>\n",
       "      <th>1369</th>\n",
       "      <td>1369</td>\n",
       "      <td>1369</td>\n",
       "      <td>1370PT</td>\n",
       "      <td>163</td>\n",
       "      <td>65.0</td>\n",
       "      <td>72</td>\n",
       "      <td>1</td>\n",
       "      <td>53.3</td>\n",
       "      <td>0</td>\n",
       "      <td>0</td>\n",
       "      <td>...</td>\n",
       "      <td>3</td>\n",
       "      <td>Middle</td>\n",
       "      <td>1</td>\n",
       "      <td>75.0</td>\n",
       "      <td>0</td>\n",
       "      <td>TELD</td>\n",
       "      <td>0</td>\n",
       "      <td>1</td>\n",
       "      <td>RH+A</td>\n",
       "      <td>8</td>\n",
       "    </tr>\n",
       "    <tr>\n",
       "      <th>1371</th>\n",
       "      <td>1371</td>\n",
       "      <td>1371</td>\n",
       "      <td>1372PT</td>\n",
       "      <td>168</td>\n",
       "      <td>58.0</td>\n",
       "      <td>30</td>\n",
       "      <td>2</td>\n",
       "      <td>44.7</td>\n",
       "      <td>0</td>\n",
       "      <td>0</td>\n",
       "      <td>...</td>\n",
       "      <td>2</td>\n",
       "      <td>Middle</td>\n",
       "      <td>0</td>\n",
       "      <td>30.0</td>\n",
       "      <td>0</td>\n",
       "      <td>TELD</td>\n",
       "      <td>0</td>\n",
       "      <td>0</td>\n",
       "      <td>RH+O</td>\n",
       "      <td>44</td>\n",
       "    </tr>\n",
       "    <tr>\n",
       "      <th>1390</th>\n",
       "      <td>1390</td>\n",
       "      <td>1390</td>\n",
       "      <td>1391PT</td>\n",
       "      <td>181</td>\n",
       "      <td>74.0</td>\n",
       "      <td>21</td>\n",
       "      <td>1</td>\n",
       "      <td>49.1</td>\n",
       "      <td>0</td>\n",
       "      <td>0</td>\n",
       "      <td>...</td>\n",
       "      <td>5</td>\n",
       "      <td>Middle</td>\n",
       "      <td>0</td>\n",
       "      <td>75.0</td>\n",
       "      <td>0</td>\n",
       "      <td>IELD</td>\n",
       "      <td>0</td>\n",
       "      <td>0</td>\n",
       "      <td>RH+O</td>\n",
       "      <td>6</td>\n",
       "    </tr>\n",
       "    <tr>\n",
       "      <th>1411</th>\n",
       "      <td>1411</td>\n",
       "      <td>1411</td>\n",
       "      <td>1412PT</td>\n",
       "      <td>172</td>\n",
       "      <td>78.0</td>\n",
       "      <td>23</td>\n",
       "      <td>1</td>\n",
       "      <td>39.6</td>\n",
       "      <td>0</td>\n",
       "      <td>0</td>\n",
       "      <td>...</td>\n",
       "      <td>3</td>\n",
       "      <td>Middle</td>\n",
       "      <td>0</td>\n",
       "      <td>35.0</td>\n",
       "      <td>0</td>\n",
       "      <td>TELD</td>\n",
       "      <td>1</td>\n",
       "      <td>0</td>\n",
       "      <td>RH+O</td>\n",
       "      <td>7</td>\n",
       "    </tr>\n",
       "    <tr>\n",
       "      <th>1419</th>\n",
       "      <td>1419</td>\n",
       "      <td>1419</td>\n",
       "      <td>1420PT</td>\n",
       "      <td>157</td>\n",
       "      <td>65.0</td>\n",
       "      <td>75</td>\n",
       "      <td>2</td>\n",
       "      <td>44.4</td>\n",
       "      <td>0</td>\n",
       "      <td>0</td>\n",
       "      <td>...</td>\n",
       "      <td>4</td>\n",
       "      <td>Middle</td>\n",
       "      <td>0</td>\n",
       "      <td>35.0</td>\n",
       "      <td>0</td>\n",
       "      <td>TELD</td>\n",
       "      <td>0</td>\n",
       "      <td>0</td>\n",
       "      <td>RH+O</td>\n",
       "      <td>8</td>\n",
       "    </tr>\n",
       "    <tr>\n",
       "      <th>1439</th>\n",
       "      <td>1439</td>\n",
       "      <td>1439</td>\n",
       "      <td>1440PT</td>\n",
       "      <td>180</td>\n",
       "      <td>87.0</td>\n",
       "      <td>55</td>\n",
       "      <td>1</td>\n",
       "      <td>40.1</td>\n",
       "      <td>0</td>\n",
       "      <td>0</td>\n",
       "      <td>...</td>\n",
       "      <td>4</td>\n",
       "      <td>Up</td>\n",
       "      <td>0</td>\n",
       "      <td>50.0</td>\n",
       "      <td>0</td>\n",
       "      <td>TELD</td>\n",
       "      <td>0</td>\n",
       "      <td>0</td>\n",
       "      <td>RH+B</td>\n",
       "      <td>8</td>\n",
       "    </tr>\n",
       "    <tr>\n",
       "      <th>1548</th>\n",
       "      <td>1548</td>\n",
       "      <td>1548</td>\n",
       "      <td>1549PT</td>\n",
       "      <td>186</td>\n",
       "      <td>84.0</td>\n",
       "      <td>19</td>\n",
       "      <td>1</td>\n",
       "      <td>46.4</td>\n",
       "      <td>0</td>\n",
       "      <td>0</td>\n",
       "      <td>...</td>\n",
       "      <td>4</td>\n",
       "      <td>Middle</td>\n",
       "      <td>0</td>\n",
       "      <td>75.0</td>\n",
       "      <td>1</td>\n",
       "      <td>TELD</td>\n",
       "      <td>0</td>\n",
       "      <td>0</td>\n",
       "      <td>RH+A</td>\n",
       "      <td>17</td>\n",
       "    </tr>\n",
       "    <tr>\n",
       "      <th>1563</th>\n",
       "      <td>1563</td>\n",
       "      <td>1563</td>\n",
       "      <td>1564PT</td>\n",
       "      <td>165</td>\n",
       "      <td>65.0</td>\n",
       "      <td>64</td>\n",
       "      <td>1</td>\n",
       "      <td>44.3</td>\n",
       "      <td>0</td>\n",
       "      <td>0</td>\n",
       "      <td>...</td>\n",
       "      <td>2</td>\n",
       "      <td>Middle</td>\n",
       "      <td>0</td>\n",
       "      <td>60.0</td>\n",
       "      <td>0</td>\n",
       "      <td>TELD</td>\n",
       "      <td>0</td>\n",
       "      <td>0</td>\n",
       "      <td>RH+O</td>\n",
       "      <td>5</td>\n",
       "    </tr>\n",
       "    <tr>\n",
       "      <th>1565</th>\n",
       "      <td>1565</td>\n",
       "      <td>1565</td>\n",
       "      <td>1566PT</td>\n",
       "      <td>170</td>\n",
       "      <td>55.0</td>\n",
       "      <td>35</td>\n",
       "      <td>2</td>\n",
       "      <td>48.8</td>\n",
       "      <td>0</td>\n",
       "      <td>0</td>\n",
       "      <td>...</td>\n",
       "      <td>5</td>\n",
       "      <td>Down</td>\n",
       "      <td>0</td>\n",
       "      <td>60.0</td>\n",
       "      <td>0</td>\n",
       "      <td>TELD</td>\n",
       "      <td>0</td>\n",
       "      <td>0</td>\n",
       "      <td>RH+AB</td>\n",
       "      <td>6</td>\n",
       "    </tr>\n",
       "    <tr>\n",
       "      <th>1584</th>\n",
       "      <td>1584</td>\n",
       "      <td>1584</td>\n",
       "      <td>1585PT</td>\n",
       "      <td>188</td>\n",
       "      <td>57.0</td>\n",
       "      <td>26</td>\n",
       "      <td>1</td>\n",
       "      <td>50.5</td>\n",
       "      <td>0</td>\n",
       "      <td>0</td>\n",
       "      <td>...</td>\n",
       "      <td>5</td>\n",
       "      <td>Middle</td>\n",
       "      <td>0</td>\n",
       "      <td>75.0</td>\n",
       "      <td>0</td>\n",
       "      <td>IELD</td>\n",
       "      <td>0</td>\n",
       "      <td>0</td>\n",
       "      <td>RH+A</td>\n",
       "      <td>11</td>\n",
       "    </tr>\n",
       "  </tbody>\n",
       "</table>\n",
       "<p>14 rows × 22 columns</p>\n",
       "</div>"
      ],
      "text/plain": [
       "      Unnamed: 0.1  Unnamed: 0    환자ID   신장    체중  연령  성별  Large Lymphocyte  \\\n",
       "1044          1044        1044  1045PT  162  77.0  70   1              50.1   \n",
       "1204          1204        1204  1205PT  167  74.0  54   1              42.6   \n",
       "1356          1356        1356  1357PT  176  84.0  31   1              45.7   \n",
       "1360          1360        1360  1361PT  154  68.0  62   2              43.0   \n",
       "1369          1369        1369  1370PT  163  65.0  72   1              53.3   \n",
       "1371          1371        1371  1372PT  168  58.0  30   2              44.7   \n",
       "1390          1390        1390  1391PT  181  74.0  21   1              49.1   \n",
       "1411          1411        1411  1412PT  172  78.0  23   1              39.6   \n",
       "1419          1419        1419  1420PT  157  65.0  75   2              44.4   \n",
       "1439          1439        1439  1440PT  180  87.0  55   1              40.1   \n",
       "1548          1548        1548  1549PT  186  84.0  19   1              46.4   \n",
       "1563          1563        1563  1564PT  165  65.0  64   1              44.3   \n",
       "1565          1565        1565  1566PT  170  55.0  35   2              48.8   \n",
       "1584          1584        1584  1585PT  188  57.0  26   1              50.5   \n",
       "\n",
       "      우울증여부  종양진행여부  ...  디스크위치  척추이동척도  척추전방위증  수술시간  수술실패여부  수술기법  흡연여부  \\\n",
       "1044      0       0  ...     12  Middle       0  50.0       0  TELD     0   \n",
       "1204      0       0  ...      4  Middle       0  30.0       0  TELD     0   \n",
       "1356      0       0  ...      4  Middle       0  40.0       0  TELD     1   \n",
       "1360      0       0  ...      4  Middle       1  40.0       0  TELD     0   \n",
       "1369      0       0  ...      3  Middle       1  75.0       0  TELD     0   \n",
       "1371      0       0  ...      2  Middle       0  30.0       0  TELD     0   \n",
       "1390      0       0  ...      5  Middle       0  75.0       0  IELD     0   \n",
       "1411      0       0  ...      3  Middle       0  35.0       0  TELD     1   \n",
       "1419      0       0  ...      4  Middle       0  35.0       0  TELD     0   \n",
       "1439      0       0  ...      4      Up       0  50.0       0  TELD     0   \n",
       "1548      0       0  ...      4  Middle       0  75.0       1  TELD     0   \n",
       "1563      0       0  ...      2  Middle       0  60.0       0  TELD     0   \n",
       "1565      0       0  ...      5    Down       0  60.0       0  TELD     0   \n",
       "1584      0       0  ...      5  Middle       0  75.0       0  IELD     0   \n",
       "\n",
       "     Instability    혈액형  입원기간  \n",
       "1044           0   RH+A     8  \n",
       "1204           0   RH+O     5  \n",
       "1356           0   RH+A     5  \n",
       "1360           1   RH+A     5  \n",
       "1369           1   RH+A     8  \n",
       "1371           0   RH+O    44  \n",
       "1390           0   RH+O     6  \n",
       "1411           0   RH+O     7  \n",
       "1419           0   RH+O     8  \n",
       "1439           0   RH+B     8  \n",
       "1548           0   RH+A    17  \n",
       "1563           0   RH+O     5  \n",
       "1565           0  RH+AB     6  \n",
       "1584           0   RH+A    11  \n",
       "\n",
       "[14 rows x 22 columns]"
      ]
     },
     "execution_count": 27,
     "metadata": {},
     "output_type": "execute_result"
    }
   ],
   "source": [
    "condition_over_L=(df_ROSF_inover['Large Lymphocyte'] >= QM_over_L)\n",
    "df_ROSF_over_L = df_ROSF_inover[condition_over_L]\n",
    "df_ROSF_over_L"
   ]
  },
  {
   "cell_type": "code",
   "execution_count": 28,
   "id": "8348b6e2-23c1-4c11-86bd-a5923812eda7",
   "metadata": {
    "tags": []
   },
   "outputs": [
    {
     "data": {
      "text/plain": [
       "SignificanceResult(statistic=0.3555547818788249, pvalue=0.21217850087151904)"
      ]
     },
     "execution_count": 28,
     "metadata": {},
     "output_type": "execute_result"
    }
   ],
   "source": [
    "stats.spearmanr(df_ROSF_over_L['Large Lymphocyte'], df_ROSF_over_L['입원기간'])"
   ]
  },
  {
   "cell_type": "code",
   "execution_count": 29,
   "id": "5be5ec97-6b3b-4018-bc15-c47fa41a9da0",
   "metadata": {
    "tags": []
   },
   "outputs": [
    {
     "data": {
      "text/plain": [
       "SignificanceResult(statistic=-0.2140438063081117, pvalue=0.2836919583915103)"
      ]
     },
     "execution_count": 29,
     "metadata": {},
     "output_type": "execute_result"
    }
   ],
   "source": [
    "stats.spearmanr(df_ROSF_inover['Large Lymphocyte'], df_ROSF_inover['입원기간'])"
   ]
  },
  {
   "cell_type": "code",
   "execution_count": 30,
   "id": "cabed4c5-d049-4624-9899-ae08f997c9e4",
   "metadata": {
    "tags": []
   },
   "outputs": [
    {
     "data": {
      "text/plain": [
       "SignificanceResult(statistic=0.017373737058603216, pvalue=0.44985018280917977)"
      ]
     },
     "execution_count": 30,
     "metadata": {},
     "output_type": "execute_result"
    }
   ],
   "source": [
    "stats.spearmanr(df_ROSF['Large Lymphocyte'], df_ROSF['입원기간']) # 입원기간의 조건을 걸지 않았을때 "
   ]
  },
  {
   "cell_type": "markdown",
   "id": "9c894557-907c-49b0-9236-7e42e449c727",
   "metadata": {},
   "source": [
    "#### 종양진행여부-입원기간\n",
    "- 범주-연속\n",
    "- 입원기간 조건 X\n",
    "    - 분석 내용: 종양진행여부가 입원기간에 영향을 미치는가?\n",
    "        - 귀무: 종양진행여부가 입원기간에 영향 없음\n",
    "        - 대립: 종양진행여부가 입원기간에 영향 있음\n",
    "        - → 분석 결론 \n",
    "            - ⇒ stats.ranksums(df_ROSF_cN['입원기간'],df_ROSF_cY['입원기간'] )\n",
    "                - RanksumsResult(statistic=-1.2897290887973527, pvalue=0.19714473612340966)\n",
    "                - 귀무 참. p-value > 0.05\n",
    "                - 종양진행여부는 입원기간과 연관이 없음. \n",
    "- 입원기간 4주 이하 (연속-비정규) df_ROSF_in\n",
    "    - 분석내용: 종양진행여부가 입원기간(4주이하)에 영향을 비치는가?\n",
    "        - 귀무: 종양진행여부가 입원기간(4주이하)에 영향 없음\n",
    "        - 대립: 종양진행여부가 입원기간(4주이하)에 영향 있음\n",
    "        - → 분석 결론 \n",
    "            - ⇒ stats.ranksums(df_ROSF_cancerN['입원기간'],df_ROSF_cancerY['입원기간'] )\n",
    "                - RanksumsResult(statistic=-1.173768842300049, pvalue=0.24048762723266925)\n",
    "                - 귀무 참. p-value > 0.05\n",
    "                - 입원기간 4주 이하만 보면 종양진행여부는 입원기간에 영향 없음\n",
    "- 입원기간 4주 초과 (연속-비정규) 진행 불가 \n",
    "    - 종양 진행 여부에 없음만 존재함.\n"
   ]
  },
  {
   "cell_type": "code",
   "execution_count": 31,
   "id": "738ea1ab-af3f-4329-8d60-e6ba8cbc5b5f",
   "metadata": {
    "tags": []
   },
   "outputs": [
    {
     "data": {
      "text/plain": [
       "종양진행여부\n",
       "0    1888\n",
       "1       6\n",
       "Name: count, dtype: int64"
      ]
     },
     "execution_count": 31,
     "metadata": {},
     "output_type": "execute_result"
    }
   ],
   "source": [
    "# 입원기간 조건 걸지 않았을 때\n",
    "df_ROSF['종양진행여부'].value_counts()"
   ]
  },
  {
   "cell_type": "code",
   "execution_count": 32,
   "id": "d1a2c3e4-24fe-4d0e-8930-3e15bf8d627a",
   "metadata": {
    "tags": []
   },
   "outputs": [
    {
     "data": {
      "text/html": [
       "<div>\n",
       "<style scoped>\n",
       "    .dataframe tbody tr th:only-of-type {\n",
       "        vertical-align: middle;\n",
       "    }\n",
       "\n",
       "    .dataframe tbody tr th {\n",
       "        vertical-align: top;\n",
       "    }\n",
       "\n",
       "    .dataframe thead th {\n",
       "        text-align: right;\n",
       "    }\n",
       "</style>\n",
       "<table border=\"1\" class=\"dataframe\">\n",
       "  <thead>\n",
       "    <tr style=\"text-align: right;\">\n",
       "      <th></th>\n",
       "      <th>Unnamed: 0.1</th>\n",
       "      <th>Unnamed: 0</th>\n",
       "      <th>환자ID</th>\n",
       "      <th>신장</th>\n",
       "      <th>체중</th>\n",
       "      <th>연령</th>\n",
       "      <th>성별</th>\n",
       "      <th>Large Lymphocyte</th>\n",
       "      <th>우울증여부</th>\n",
       "      <th>종양진행여부</th>\n",
       "      <th>...</th>\n",
       "      <th>디스크위치</th>\n",
       "      <th>척추이동척도</th>\n",
       "      <th>척추전방위증</th>\n",
       "      <th>수술시간</th>\n",
       "      <th>수술실패여부</th>\n",
       "      <th>수술기법</th>\n",
       "      <th>흡연여부</th>\n",
       "      <th>Instability</th>\n",
       "      <th>혈액형</th>\n",
       "      <th>입원기간</th>\n",
       "    </tr>\n",
       "  </thead>\n",
       "  <tbody>\n",
       "    <tr>\n",
       "      <th>0</th>\n",
       "      <td>0</td>\n",
       "      <td>0</td>\n",
       "      <td>1PT</td>\n",
       "      <td>163</td>\n",
       "      <td>60.3</td>\n",
       "      <td>66</td>\n",
       "      <td>2</td>\n",
       "      <td>22.8</td>\n",
       "      <td>0</td>\n",
       "      <td>0</td>\n",
       "      <td>...</td>\n",
       "      <td>4</td>\n",
       "      <td>Down</td>\n",
       "      <td>0</td>\n",
       "      <td>68.0</td>\n",
       "      <td>0</td>\n",
       "      <td>TELD</td>\n",
       "      <td>0</td>\n",
       "      <td>0</td>\n",
       "      <td>RH+A</td>\n",
       "      <td>2</td>\n",
       "    </tr>\n",
       "    <tr>\n",
       "      <th>1</th>\n",
       "      <td>1</td>\n",
       "      <td>1</td>\n",
       "      <td>2PT</td>\n",
       "      <td>171</td>\n",
       "      <td>71.7</td>\n",
       "      <td>47</td>\n",
       "      <td>1</td>\n",
       "      <td>44.9</td>\n",
       "      <td>0</td>\n",
       "      <td>0</td>\n",
       "      <td>...</td>\n",
       "      <td>4</td>\n",
       "      <td>Up</td>\n",
       "      <td>0</td>\n",
       "      <td>31.0</td>\n",
       "      <td>0</td>\n",
       "      <td>TELD</td>\n",
       "      <td>0</td>\n",
       "      <td>0</td>\n",
       "      <td>RH+A</td>\n",
       "      <td>1</td>\n",
       "    </tr>\n",
       "  </tbody>\n",
       "</table>\n",
       "<p>2 rows × 22 columns</p>\n",
       "</div>"
      ],
      "text/plain": [
       "   Unnamed: 0.1  Unnamed: 0 환자ID   신장    체중  연령  성별  Large Lymphocyte  우울증여부  \\\n",
       "0             0           0  1PT  163  60.3  66   2              22.8      0   \n",
       "1             1           1  2PT  171  71.7  47   1              44.9      0   \n",
       "\n",
       "   종양진행여부  ...  디스크위치  척추이동척도  척추전방위증  수술시간  수술실패여부  수술기법  흡연여부 Instability  \\\n",
       "0       0  ...      4    Down       0  68.0       0  TELD     0           0   \n",
       "1       0  ...      4      Up       0  31.0       0  TELD     0           0   \n",
       "\n",
       "    혈액형  입원기간  \n",
       "0  RH+A     2  \n",
       "1  RH+A     1  \n",
       "\n",
       "[2 rows x 22 columns]"
      ]
     },
     "execution_count": 32,
     "metadata": {},
     "output_type": "execute_result"
    }
   ],
   "source": [
    "df_ROSF_cN = df_ROSF[df_ROSF['종양진행여부'] == 0]\n",
    "df_ROSF_cN[:2]"
   ]
  },
  {
   "cell_type": "code",
   "execution_count": 33,
   "id": "d603337e-27b1-4cba-9785-f5d6d89e4116",
   "metadata": {
    "tags": []
   },
   "outputs": [
    {
     "data": {
      "text/html": [
       "<div>\n",
       "<style scoped>\n",
       "    .dataframe tbody tr th:only-of-type {\n",
       "        vertical-align: middle;\n",
       "    }\n",
       "\n",
       "    .dataframe tbody tr th {\n",
       "        vertical-align: top;\n",
       "    }\n",
       "\n",
       "    .dataframe thead th {\n",
       "        text-align: right;\n",
       "    }\n",
       "</style>\n",
       "<table border=\"1\" class=\"dataframe\">\n",
       "  <thead>\n",
       "    <tr style=\"text-align: right;\">\n",
       "      <th></th>\n",
       "      <th>Unnamed: 0.1</th>\n",
       "      <th>Unnamed: 0</th>\n",
       "      <th>환자ID</th>\n",
       "      <th>신장</th>\n",
       "      <th>체중</th>\n",
       "      <th>연령</th>\n",
       "      <th>성별</th>\n",
       "      <th>Large Lymphocyte</th>\n",
       "      <th>우울증여부</th>\n",
       "      <th>종양진행여부</th>\n",
       "      <th>...</th>\n",
       "      <th>디스크위치</th>\n",
       "      <th>척추이동척도</th>\n",
       "      <th>척추전방위증</th>\n",
       "      <th>수술시간</th>\n",
       "      <th>수술실패여부</th>\n",
       "      <th>수술기법</th>\n",
       "      <th>흡연여부</th>\n",
       "      <th>Instability</th>\n",
       "      <th>혈액형</th>\n",
       "      <th>입원기간</th>\n",
       "    </tr>\n",
       "  </thead>\n",
       "  <tbody>\n",
       "    <tr>\n",
       "      <th>582</th>\n",
       "      <td>582</td>\n",
       "      <td>582</td>\n",
       "      <td>583PT</td>\n",
       "      <td>174</td>\n",
       "      <td>64.3</td>\n",
       "      <td>48</td>\n",
       "      <td>2</td>\n",
       "      <td>31.1</td>\n",
       "      <td>0</td>\n",
       "      <td>1</td>\n",
       "      <td>...</td>\n",
       "      <td>4</td>\n",
       "      <td>Extremely down</td>\n",
       "      <td>0</td>\n",
       "      <td>88.0</td>\n",
       "      <td>0</td>\n",
       "      <td>IELD</td>\n",
       "      <td>0</td>\n",
       "      <td>0</td>\n",
       "      <td>RH+B</td>\n",
       "      <td>1</td>\n",
       "    </tr>\n",
       "    <tr>\n",
       "      <th>667</th>\n",
       "      <td>667</td>\n",
       "      <td>667</td>\n",
       "      <td>668PT</td>\n",
       "      <td>175</td>\n",
       "      <td>80.0</td>\n",
       "      <td>47</td>\n",
       "      <td>1</td>\n",
       "      <td>44.9</td>\n",
       "      <td>0</td>\n",
       "      <td>1</td>\n",
       "      <td>...</td>\n",
       "      <td>4</td>\n",
       "      <td>Middle</td>\n",
       "      <td>0</td>\n",
       "      <td>87.0</td>\n",
       "      <td>0</td>\n",
       "      <td>TELD</td>\n",
       "      <td>0</td>\n",
       "      <td>0</td>\n",
       "      <td>RH+B</td>\n",
       "      <td>1</td>\n",
       "    </tr>\n",
       "  </tbody>\n",
       "</table>\n",
       "<p>2 rows × 22 columns</p>\n",
       "</div>"
      ],
      "text/plain": [
       "     Unnamed: 0.1  Unnamed: 0   환자ID   신장    체중  연령  성별  Large Lymphocyte  \\\n",
       "582           582         582  583PT  174  64.3  48   2              31.1   \n",
       "667           667         667  668PT  175  80.0  47   1              44.9   \n",
       "\n",
       "     우울증여부  종양진행여부  ...  디스크위치          척추이동척도  척추전방위증  수술시간  수술실패여부  수술기법  \\\n",
       "582      0       1  ...      4  Extremely down       0  88.0       0  IELD   \n",
       "667      0       1  ...      4          Middle       0  87.0       0  TELD   \n",
       "\n",
       "     흡연여부 Instability   혈액형  입원기간  \n",
       "582     0           0  RH+B     1  \n",
       "667     0           0  RH+B     1  \n",
       "\n",
       "[2 rows x 22 columns]"
      ]
     },
     "execution_count": 33,
     "metadata": {},
     "output_type": "execute_result"
    }
   ],
   "source": [
    "df_ROSF_cY = df_ROSF[df_ROSF['종양진행여부'] == 1]\n",
    "df_ROSF_cY[:2]"
   ]
  },
  {
   "cell_type": "code",
   "execution_count": 34,
   "id": "e6ac09a7-7a41-44bf-90b8-0a7392296b36",
   "metadata": {
    "tags": []
   },
   "outputs": [
    {
     "data": {
      "text/plain": [
       "RanksumsResult(statistic=-1.2897290887973527, pvalue=0.19714473612340966)"
      ]
     },
     "execution_count": 34,
     "metadata": {},
     "output_type": "execute_result"
    }
   ],
   "source": [
    "## 검증_입원기간 조건 X \n",
    "stats.ranksums(df_ROSF_cN['입원기간'],df_ROSF_cY['입원기간'] )"
   ]
  },
  {
   "cell_type": "code",
   "execution_count": 35,
   "id": "9aa6e18b-4c6e-4154-bb02-826e9e41aab7",
   "metadata": {
    "tags": []
   },
   "outputs": [
    {
     "data": {
      "text/plain": [
       "종양진행여부\n",
       "0    1726\n",
       "1       5\n",
       "Name: count, dtype: int64"
      ]
     },
     "execution_count": 35,
     "metadata": {},
     "output_type": "execute_result"
    }
   ],
   "source": [
    "# 입원기간 4주 이하 \n",
    "df_ROSF_in['종양진행여부'].value_counts()"
   ]
  },
  {
   "cell_type": "code",
   "execution_count": 36,
   "id": "20d03ccc-f2b8-454d-99fa-a11036c3eb64",
   "metadata": {
    "tags": []
   },
   "outputs": [
    {
     "data": {
      "text/html": [
       "<div>\n",
       "<style scoped>\n",
       "    .dataframe tbody tr th:only-of-type {\n",
       "        vertical-align: middle;\n",
       "    }\n",
       "\n",
       "    .dataframe tbody tr th {\n",
       "        vertical-align: top;\n",
       "    }\n",
       "\n",
       "    .dataframe thead th {\n",
       "        text-align: right;\n",
       "    }\n",
       "</style>\n",
       "<table border=\"1\" class=\"dataframe\">\n",
       "  <thead>\n",
       "    <tr style=\"text-align: right;\">\n",
       "      <th></th>\n",
       "      <th>Unnamed: 0.1</th>\n",
       "      <th>Unnamed: 0</th>\n",
       "      <th>환자ID</th>\n",
       "      <th>신장</th>\n",
       "      <th>체중</th>\n",
       "      <th>연령</th>\n",
       "      <th>성별</th>\n",
       "      <th>Large Lymphocyte</th>\n",
       "      <th>우울증여부</th>\n",
       "      <th>종양진행여부</th>\n",
       "      <th>...</th>\n",
       "      <th>디스크위치</th>\n",
       "      <th>척추이동척도</th>\n",
       "      <th>척추전방위증</th>\n",
       "      <th>수술시간</th>\n",
       "      <th>수술실패여부</th>\n",
       "      <th>수술기법</th>\n",
       "      <th>흡연여부</th>\n",
       "      <th>Instability</th>\n",
       "      <th>혈액형</th>\n",
       "      <th>입원기간</th>\n",
       "    </tr>\n",
       "  </thead>\n",
       "  <tbody>\n",
       "    <tr>\n",
       "      <th>0</th>\n",
       "      <td>0</td>\n",
       "      <td>0</td>\n",
       "      <td>1PT</td>\n",
       "      <td>163</td>\n",
       "      <td>60.3</td>\n",
       "      <td>66</td>\n",
       "      <td>2</td>\n",
       "      <td>22.8</td>\n",
       "      <td>0</td>\n",
       "      <td>0</td>\n",
       "      <td>...</td>\n",
       "      <td>4</td>\n",
       "      <td>Down</td>\n",
       "      <td>0</td>\n",
       "      <td>68.0</td>\n",
       "      <td>0</td>\n",
       "      <td>TELD</td>\n",
       "      <td>0</td>\n",
       "      <td>0</td>\n",
       "      <td>RH+A</td>\n",
       "      <td>2</td>\n",
       "    </tr>\n",
       "    <tr>\n",
       "      <th>1</th>\n",
       "      <td>1</td>\n",
       "      <td>1</td>\n",
       "      <td>2PT</td>\n",
       "      <td>171</td>\n",
       "      <td>71.7</td>\n",
       "      <td>47</td>\n",
       "      <td>1</td>\n",
       "      <td>44.9</td>\n",
       "      <td>0</td>\n",
       "      <td>0</td>\n",
       "      <td>...</td>\n",
       "      <td>4</td>\n",
       "      <td>Up</td>\n",
       "      <td>0</td>\n",
       "      <td>31.0</td>\n",
       "      <td>0</td>\n",
       "      <td>TELD</td>\n",
       "      <td>0</td>\n",
       "      <td>0</td>\n",
       "      <td>RH+A</td>\n",
       "      <td>1</td>\n",
       "    </tr>\n",
       "  </tbody>\n",
       "</table>\n",
       "<p>2 rows × 22 columns</p>\n",
       "</div>"
      ],
      "text/plain": [
       "   Unnamed: 0.1  Unnamed: 0 환자ID   신장    체중  연령  성별  Large Lymphocyte  우울증여부  \\\n",
       "0             0           0  1PT  163  60.3  66   2              22.8      0   \n",
       "1             1           1  2PT  171  71.7  47   1              44.9      0   \n",
       "\n",
       "   종양진행여부  ...  디스크위치  척추이동척도  척추전방위증  수술시간  수술실패여부  수술기법  흡연여부 Instability  \\\n",
       "0       0  ...      4    Down       0  68.0       0  TELD     0           0   \n",
       "1       0  ...      4      Up       0  31.0       0  TELD     0           0   \n",
       "\n",
       "    혈액형  입원기간  \n",
       "0  RH+A     2  \n",
       "1  RH+A     1  \n",
       "\n",
       "[2 rows x 22 columns]"
      ]
     },
     "execution_count": 36,
     "metadata": {},
     "output_type": "execute_result"
    }
   ],
   "source": [
    "df_ROSF_cancerN =df_ROSF_in[df_ROSF_in['종양진행여부'] == 0]\n",
    "df_ROSF_cancerN[:2]"
   ]
  },
  {
   "cell_type": "code",
   "execution_count": 37,
   "id": "76f73775-b119-4dae-a74c-1c9db147d548",
   "metadata": {
    "tags": []
   },
   "outputs": [
    {
     "data": {
      "text/html": [
       "<div>\n",
       "<style scoped>\n",
       "    .dataframe tbody tr th:only-of-type {\n",
       "        vertical-align: middle;\n",
       "    }\n",
       "\n",
       "    .dataframe tbody tr th {\n",
       "        vertical-align: top;\n",
       "    }\n",
       "\n",
       "    .dataframe thead th {\n",
       "        text-align: right;\n",
       "    }\n",
       "</style>\n",
       "<table border=\"1\" class=\"dataframe\">\n",
       "  <thead>\n",
       "    <tr style=\"text-align: right;\">\n",
       "      <th></th>\n",
       "      <th>Unnamed: 0.1</th>\n",
       "      <th>Unnamed: 0</th>\n",
       "      <th>환자ID</th>\n",
       "      <th>신장</th>\n",
       "      <th>체중</th>\n",
       "      <th>연령</th>\n",
       "      <th>성별</th>\n",
       "      <th>Large Lymphocyte</th>\n",
       "      <th>우울증여부</th>\n",
       "      <th>종양진행여부</th>\n",
       "      <th>...</th>\n",
       "      <th>디스크위치</th>\n",
       "      <th>척추이동척도</th>\n",
       "      <th>척추전방위증</th>\n",
       "      <th>수술시간</th>\n",
       "      <th>수술실패여부</th>\n",
       "      <th>수술기법</th>\n",
       "      <th>흡연여부</th>\n",
       "      <th>Instability</th>\n",
       "      <th>혈액형</th>\n",
       "      <th>입원기간</th>\n",
       "    </tr>\n",
       "  </thead>\n",
       "  <tbody>\n",
       "    <tr>\n",
       "      <th>582</th>\n",
       "      <td>582</td>\n",
       "      <td>582</td>\n",
       "      <td>583PT</td>\n",
       "      <td>174</td>\n",
       "      <td>64.3</td>\n",
       "      <td>48</td>\n",
       "      <td>2</td>\n",
       "      <td>31.1</td>\n",
       "      <td>0</td>\n",
       "      <td>1</td>\n",
       "      <td>...</td>\n",
       "      <td>4</td>\n",
       "      <td>Extremely down</td>\n",
       "      <td>0</td>\n",
       "      <td>88.0</td>\n",
       "      <td>0</td>\n",
       "      <td>IELD</td>\n",
       "      <td>0</td>\n",
       "      <td>0</td>\n",
       "      <td>RH+B</td>\n",
       "      <td>1</td>\n",
       "    </tr>\n",
       "    <tr>\n",
       "      <th>667</th>\n",
       "      <td>667</td>\n",
       "      <td>667</td>\n",
       "      <td>668PT</td>\n",
       "      <td>175</td>\n",
       "      <td>80.0</td>\n",
       "      <td>47</td>\n",
       "      <td>1</td>\n",
       "      <td>44.9</td>\n",
       "      <td>0</td>\n",
       "      <td>1</td>\n",
       "      <td>...</td>\n",
       "      <td>4</td>\n",
       "      <td>Middle</td>\n",
       "      <td>0</td>\n",
       "      <td>87.0</td>\n",
       "      <td>0</td>\n",
       "      <td>TELD</td>\n",
       "      <td>0</td>\n",
       "      <td>0</td>\n",
       "      <td>RH+B</td>\n",
       "      <td>1</td>\n",
       "    </tr>\n",
       "  </tbody>\n",
       "</table>\n",
       "<p>2 rows × 22 columns</p>\n",
       "</div>"
      ],
      "text/plain": [
       "     Unnamed: 0.1  Unnamed: 0   환자ID   신장    체중  연령  성별  Large Lymphocyte  \\\n",
       "582           582         582  583PT  174  64.3  48   2              31.1   \n",
       "667           667         667  668PT  175  80.0  47   1              44.9   \n",
       "\n",
       "     우울증여부  종양진행여부  ...  디스크위치          척추이동척도  척추전방위증  수술시간  수술실패여부  수술기법  \\\n",
       "582      0       1  ...      4  Extremely down       0  88.0       0  IELD   \n",
       "667      0       1  ...      4          Middle       0  87.0       0  TELD   \n",
       "\n",
       "     흡연여부 Instability   혈액형  입원기간  \n",
       "582     0           0  RH+B     1  \n",
       "667     0           0  RH+B     1  \n",
       "\n",
       "[2 rows x 22 columns]"
      ]
     },
     "execution_count": 37,
     "metadata": {},
     "output_type": "execute_result"
    }
   ],
   "source": [
    "df_ROSF_cancerY =df_ROSF_in[df_ROSF_in['종양진행여부'] == 1]\n",
    "df_ROSF_cancerY[:2]"
   ]
  },
  {
   "cell_type": "code",
   "execution_count": 38,
   "id": "431f7e4c-692e-4232-a5ea-907679024265",
   "metadata": {
    "tags": []
   },
   "outputs": [
    {
     "data": {
      "text/plain": [
       "RanksumsResult(statistic=-1.173768842300049, pvalue=0.24048762723266925)"
      ]
     },
     "execution_count": 38,
     "metadata": {},
     "output_type": "execute_result"
    }
   ],
   "source": [
    "## 검증\n",
    "stats.ranksums(df_ROSF_cancerN['입원기간'],df_ROSF_cancerY['입원기간'] )"
   ]
  },
  {
   "cell_type": "code",
   "execution_count": 39,
   "id": "58338359-0640-4de0-9645-356fb91ecdaa",
   "metadata": {
    "tags": []
   },
   "outputs": [
    {
     "data": {
      "text/plain": [
       "1044    0\n",
       "1204    0\n",
       "1356    0\n",
       "1360    0\n",
       "1369    0\n",
       "1371    0\n",
       "1378    0\n",
       "1384    0\n",
       "1390    0\n",
       "1411    0\n",
       "1419    0\n",
       "1431    0\n",
       "1437    0\n",
       "1439    0\n",
       "1440    0\n",
       "1443    0\n",
       "1448    0\n",
       "1548    0\n",
       "1561    0\n",
       "1563    0\n",
       "1565    0\n",
       "1577    0\n",
       "1578    0\n",
       "1584    0\n",
       "1620    0\n",
       "1625    0\n",
       "1870    0\n",
       "Name: 종양진행여부, dtype: int64"
      ]
     },
     "execution_count": 39,
     "metadata": {},
     "output_type": "execute_result"
    }
   ],
   "source": [
    "## 입원 기간 4주 초과\n",
    "df_ROSF_inover['종양진행여부'] # pass 종양여부가 0만 존재함...."
   ]
  },
  {
   "cell_type": "markdown",
   "id": "b3702af6-5395-48e7-b6ea-5fada3f9b371",
   "metadata": {},
   "source": [
    "#### 디스크 단면적 - 입원기간\n",
    "\n",
    "- 입원기간 4주 이하 (연속-비정규) df_ROSF_in\n",
    "    - 분석내용: 디스크 단면적이 입원기간(4주이하)에 영향을 미치는가?\n",
    "        - 귀무: 디스크 단면적은 입원기간(4주이하)에 영향 없음\n",
    "        - 대립: 디스크 단면적은 입원기간(4주이하)에 영향 있음\n",
    "        - → 분석 결론 \n",
    "            - ⇒ stats.spearmanr(df_ROSF_in['디스크단면적'], df_ROSF_in['입원기간'])\n",
    "                - SignificanceResult(statistic=0.036286814381522065, pvalue=0.13126561806499315)\n",
    "            - 귀무 참.  p-value > 0.05\n",
    "            - 디스크단면적과 입원기간은 영향이 없다.  \n",
    "- 입원기간 4주 초과 (연속-비정규) df_ROSF_inoveer\n",
    "    - 분석내용: 디스크 단면적이 입원기간(4주초과)에 영향을 미치는가?\n",
    "        - 귀무: 디스크 단면적은 입원기간(4주초과)에 영향 없음\n",
    "        - 대립: 디스크 단면적은 입원기간(4주초과)에 영향 있음\n",
    "        - → 분석 결론 \n",
    "            - ⇒ stats.spearmanr(df_ROSF_inover['디스크단면적'], df_ROSF_inover['입원기간'])\n",
    "                - SignificanceResult(statistic=0.04545456528072541, pvalue=0.8218790970489804)\n",
    "            - 귀무 참.  p-value > 0.05\n",
    "            - 디스크단면적과 입원기간은 영향이 없다.\n",
    "            \n",
    "- 검색을 해보았을때_[https://synapse.koreamed.org/func/download.php?path=L2hvbWUvdmlydHVhbC9rYW1qZS9zeW5hcHNlL3VwbG9hZC9TeW5hcHNlRGF0YS9QREZEYXRhLzAwNDNqa29hL2prb2EtNDMtNTg4LnBkZg==&filename=amtvYS00My01ODgucGRm] 2008 paper \n",
    "    - 디스크단면적은 추간판 탈출증이 있는 환자의 척추관 면적의 감소가 얼마나 되어있는지에 대해, 척추경 위치에서의 척추관 면적을 측정함으로써 추간판 위치에서의 정상 척추관 면적을 평가할 수 있는 자료로 사용 될 수 있을 것이라 사료된다는 내용이 존재함. \n",
    "        - 탈출 위치와 비교해보면 어떨까 라는 생각을 해봄. \n"
   ]
  },
  {
   "cell_type": "code",
   "execution_count": 40,
   "id": "6b9eb644-233d-4f30-9c44-faabc6943ad1",
   "metadata": {
    "tags": []
   },
   "outputs": [
    {
     "data": {
      "text/plain": [
       "Index(['Unnamed: 0.1', 'Unnamed: 0', '환자ID', '신장', '체중', '연령', '성별',\n",
       "       'Large Lymphocyte', '우울증여부', '종양진행여부', '재발여부', '디스크단면적', '디스크위치',\n",
       "       '척추이동척도', '척추전방위증', '수술시간', '수술실패여부', '수술기법', '흡연여부', 'Instability',\n",
       "       '혈액형', '입원기간'],\n",
       "      dtype='object')"
      ]
     },
     "execution_count": 40,
     "metadata": {},
     "output_type": "execute_result"
    }
   ],
   "source": [
    "df_ROSF_in.columns"
   ]
  },
  {
   "cell_type": "code",
   "execution_count": 41,
   "id": "e9e90919-5040-4ca3-bc0c-d2da608b86df",
   "metadata": {
    "tags": []
   },
   "outputs": [
    {
     "data": {
      "text/html": [
       "<div>\n",
       "<style scoped>\n",
       "    .dataframe tbody tr th:only-of-type {\n",
       "        vertical-align: middle;\n",
       "    }\n",
       "\n",
       "    .dataframe tbody tr th {\n",
       "        vertical-align: top;\n",
       "    }\n",
       "\n",
       "    .dataframe thead th {\n",
       "        text-align: right;\n",
       "    }\n",
       "</style>\n",
       "<table border=\"1\" class=\"dataframe\">\n",
       "  <thead>\n",
       "    <tr style=\"text-align: right;\">\n",
       "      <th></th>\n",
       "      <th>디스크단면적</th>\n",
       "      <th>입원기간</th>\n",
       "    </tr>\n",
       "  </thead>\n",
       "  <tbody>\n",
       "    <tr>\n",
       "      <th>디스크단면적</th>\n",
       "      <td>1.000000</td>\n",
       "      <td>0.026734</td>\n",
       "    </tr>\n",
       "    <tr>\n",
       "      <th>입원기간</th>\n",
       "      <td>0.026734</td>\n",
       "      <td>1.000000</td>\n",
       "    </tr>\n",
       "  </tbody>\n",
       "</table>\n",
       "</div>"
      ],
      "text/plain": [
       "          디스크단면적      입원기간\n",
       "디스크단면적  1.000000  0.026734\n",
       "입원기간    0.026734  1.000000"
      ]
     },
     "execution_count": 41,
     "metadata": {},
     "output_type": "execute_result"
    }
   ],
   "source": [
    "df_ROSF_in[['디스크단면적', '입원기간']].corr()"
   ]
  },
  {
   "cell_type": "code",
   "execution_count": 42,
   "id": "123f7563-bc47-4c1c-bc2b-6d96db221473",
   "metadata": {
    "tags": []
   },
   "outputs": [
    {
     "data": {
      "text/plain": [
       "SignificanceResult(statistic=0.036286814381522065, pvalue=0.13126561806499315)"
      ]
     },
     "execution_count": 42,
     "metadata": {},
     "output_type": "execute_result"
    }
   ],
   "source": [
    "stats.spearmanr(df_ROSF_in['디스크단면적'], df_ROSF_in['입원기간'])"
   ]
  },
  {
   "cell_type": "code",
   "execution_count": 43,
   "id": "4624904f-1758-4533-8fa7-06106e417797",
   "metadata": {
    "tags": []
   },
   "outputs": [
    {
     "data": {
      "text/html": [
       "<div>\n",
       "<style scoped>\n",
       "    .dataframe tbody tr th:only-of-type {\n",
       "        vertical-align: middle;\n",
       "    }\n",
       "\n",
       "    .dataframe tbody tr th {\n",
       "        vertical-align: top;\n",
       "    }\n",
       "\n",
       "    .dataframe thead th {\n",
       "        text-align: right;\n",
       "    }\n",
       "</style>\n",
       "<table border=\"1\" class=\"dataframe\">\n",
       "  <thead>\n",
       "    <tr style=\"text-align: right;\">\n",
       "      <th></th>\n",
       "      <th>디스크단면적</th>\n",
       "      <th>입원기간</th>\n",
       "    </tr>\n",
       "  </thead>\n",
       "  <tbody>\n",
       "    <tr>\n",
       "      <th>디스크단면적</th>\n",
       "      <td>1.000000</td>\n",
       "      <td>0.035474</td>\n",
       "    </tr>\n",
       "    <tr>\n",
       "      <th>입원기간</th>\n",
       "      <td>0.035474</td>\n",
       "      <td>1.000000</td>\n",
       "    </tr>\n",
       "  </tbody>\n",
       "</table>\n",
       "</div>"
      ],
      "text/plain": [
       "          디스크단면적      입원기간\n",
       "디스크단면적  1.000000  0.035474\n",
       "입원기간    0.035474  1.000000"
      ]
     },
     "execution_count": 43,
     "metadata": {},
     "output_type": "execute_result"
    }
   ],
   "source": [
    "df_ROSF_inover[['디스크단면적', '입원기간']].corr()"
   ]
  },
  {
   "cell_type": "code",
   "execution_count": 44,
   "id": "786fbd1c-5ea8-48f9-8aef-2940fa10c093",
   "metadata": {
    "tags": []
   },
   "outputs": [
    {
     "data": {
      "text/plain": [
       "SignificanceResult(statistic=0.11999387838361968, pvalue=0.5510659743784876)"
      ]
     },
     "execution_count": 44,
     "metadata": {},
     "output_type": "execute_result"
    }
   ],
   "source": [
    "stats.spearmanr(df_ROSF_inover['디스크단면적'], df_ROSF_inover['입원기간'])"
   ]
  },
  {
   "cell_type": "markdown",
   "id": "ef426559-9152-4842-92dc-044951a46dcf",
   "metadata": {
    "tags": []
   },
   "source": [
    "#### 수술기법-입원기간\n",
    "- 범주- 연속\n",
    "- 입원기간 조건 X\n",
    "    - 분석내용: 수술기법에 따라 입원기간에 영향을 미치는가?\n",
    "        - 귀무: 수술기법에 따라 입원기간의 영향 없음\n",
    "        - 대립: 수술기법에 따라 입원기간의 영향 있음\n",
    "        - 분석결론\n",
    "            - stats.ranksums(df_ROSF_TELD['입원기간'], df_ROSF_IELD['입원기간'])\n",
    "            - RanksumsResult(statistic=-0.8318886371666717, pvalue=0.40547180617826806)\n",
    "            - 귀무 참. p-value > 0.05\n",
    "- 입원기간 4주 이하 df_ROSF_in\n",
    "    - 분석내용: 수술기법에 따라 입원기간에 영향을 미치는가?\n",
    "        - 귀무: 수술기법에 따라 입원기간의 영향 없음\n",
    "        - 대립: 수술기법에 따라 입원기간의 영향 있음\n",
    "        - 분석결론\n",
    "            - stats.ranksums(df_ROSF_inT['입원기간'], df_ROSF_inI['입원기간'])\n",
    "            - RanksumsResult(statistic=-0.7965957315632162, pvalue=0.4256858572065577)\n",
    "            - 귀무 참. p-value > 0.05\n",
    "- 입원기간 4주 초과 df_ROSF_inover\n",
    "    - 분석내용: 수술기법에 따라 입원기간에 영향을 미치는가?\n",
    "        - 귀무: 수술기법에 따라 입원기간의 영향 없음\n",
    "        - 대립: 수술기법에 따라 입원기간의 영향 있음\n",
    "        - 분석결론\n",
    "            - stats.ranksums(df_ROSF_inoverT['입원기간'], df_ROSF_inoverI['입원기간'])\n",
    "            - RanksumsResult(statistic=0.8100925873009825, pvalue=0.4178869643175005)\n",
    "            - 귀무 참. p-value > 0.05"
   ]
  },
  {
   "cell_type": "code",
   "execution_count": 45,
   "id": "ff6c9b6c-5f35-4a2c-b766-142b442c8312",
   "metadata": {
    "tags": []
   },
   "outputs": [
    {
     "data": {
      "text/plain": [
       "수술기법\n",
       "TELD    1673\n",
       "IELD     140\n",
       "Name: count, dtype: int64"
      ]
     },
     "execution_count": 45,
     "metadata": {},
     "output_type": "execute_result"
    }
   ],
   "source": [
    "df_ROSF['수술기법'].value_counts()"
   ]
  },
  {
   "cell_type": "code",
   "execution_count": 46,
   "id": "5159990d-b565-4ffd-8fe9-96bc6f59eecc",
   "metadata": {
    "tags": []
   },
   "outputs": [],
   "source": [
    "## 입원기간 조건 X\n",
    "df_ROSF_TELD = df_ROSF[(df_ROSF['수술기법'] == 'TELD')]"
   ]
  },
  {
   "cell_type": "code",
   "execution_count": 47,
   "id": "ffabebf2-eef4-428c-bd3d-3b1feb84a6c1",
   "metadata": {
    "tags": []
   },
   "outputs": [],
   "source": [
    "df_ROSF_IELD = df_ROSF[(df_ROSF['수술기법'] == 'IELD')]"
   ]
  },
  {
   "cell_type": "code",
   "execution_count": 48,
   "id": "3393c086-d1e1-44e3-a459-c9baff656cb0",
   "metadata": {
    "tags": []
   },
   "outputs": [
    {
     "data": {
      "text/plain": [
       "RanksumsResult(statistic=-0.8318886371666717, pvalue=0.40547180617826806)"
      ]
     },
     "execution_count": 48,
     "metadata": {},
     "output_type": "execute_result"
    }
   ],
   "source": [
    "stats.ranksums(df_ROSF_TELD['입원기간'], df_ROSF_IELD['입원기간'])"
   ]
  },
  {
   "cell_type": "code",
   "execution_count": 49,
   "id": "7baf5b42-7f66-461f-bf8a-8114bc1d34f8",
   "metadata": {
    "tags": []
   },
   "outputs": [],
   "source": [
    "## 입원기간 4주 이하\n",
    "df_ROSF_inT = df_ROSF_in[(df_ROSF_in['수술기법'] == 'TELD')]"
   ]
  },
  {
   "cell_type": "code",
   "execution_count": 50,
   "id": "b3aaa1ef-6f72-4da0-b5df-804ab5a7a745",
   "metadata": {
    "tags": []
   },
   "outputs": [],
   "source": [
    "df_ROSF_inI = df_ROSF_in[(df_ROSF_in['수술기법'] == 'IELD')]"
   ]
  },
  {
   "cell_type": "code",
   "execution_count": 51,
   "id": "ca7bf0d2-ca0f-423e-a258-7a42ad720f81",
   "metadata": {
    "tags": []
   },
   "outputs": [
    {
     "data": {
      "text/plain": [
       "RanksumsResult(statistic=-0.7965957315632162, pvalue=0.4256858572065577)"
      ]
     },
     "execution_count": 51,
     "metadata": {},
     "output_type": "execute_result"
    }
   ],
   "source": [
    "stats.ranksums(df_ROSF_inT['입원기간'], df_ROSF_inI['입원기간'])"
   ]
  },
  {
   "cell_type": "code",
   "execution_count": 52,
   "id": "cac8aa3e-7ff5-4a00-a1af-d7bdb25ab5e7",
   "metadata": {
    "tags": []
   },
   "outputs": [],
   "source": [
    "## 입원기간 4주 초과\n",
    "df_ROSF_inoverT = df_ROSF_inover[(df_ROSF_inover['수술기법'] == 'TELD')]"
   ]
  },
  {
   "cell_type": "code",
   "execution_count": 53,
   "id": "a3e0de1a-c437-40a6-8d29-062a40eaa732",
   "metadata": {
    "tags": []
   },
   "outputs": [],
   "source": [
    "df_ROSF_inoverI = df_ROSF_inover[(df_ROSF_inover['수술기법'] == 'IELD')]"
   ]
  },
  {
   "cell_type": "code",
   "execution_count": 54,
   "id": "7632b1ac-9c05-4cbe-b6ed-af0d5de2857c",
   "metadata": {
    "tags": []
   },
   "outputs": [
    {
     "data": {
      "text/plain": [
       "RanksumsResult(statistic=0.8100925873009825, pvalue=0.4178869643175005)"
      ]
     },
     "execution_count": 54,
     "metadata": {},
     "output_type": "execute_result"
    }
   ],
   "source": [
    "stats.ranksums(df_ROSF_inoverT['입원기간'], df_ROSF_inoverI['입원기간'])"
   ]
  },
  {
   "cell_type": "markdown",
   "id": "be8e70c2-7e2a-4cc4-82ab-f8f6f5e2e876",
   "metadata": {},
   "source": [
    "#### 수술시간 - 입원기간\n",
    "- 연속-연속\n",
    "- 입원기간 조건 X\n",
    "    - 분석내용: 수술시간에 따라 입원기간에 영향을 미치는가?\n",
    "        - 귀무: 수술시간에 따라 입원기간의 영향 없음\n",
    "        - 대립: 수술시간에 따라 입원기간의 영향 있음\n",
    "        - 분석결론\n",
    "            - stats.spearmanr(df_ROSF_in['수술시간'], df_ROSF_in['입원기간'])\n",
    "            - SignificanceResult(statistic=0.03620122923596156, pvalue=0.1321780935962338)\n",
    "            - 귀무 참. p-value > 0.05\n",
    "- 입원기간 4주 이하 df_ROSF_in\n",
    "    - 분석내용: 수술시간에 따라 입원기간에 영향을 미치는가?\n",
    "        - 귀무: 수술시간에 따라 입원기간의 영향 없음\n",
    "        - 대립: 수술시간에 따라 입원기간의 영향 있음\n",
    "        - 분석결론\n",
    "            - stats.ranksums(df_ROSF_inT['입원기간'], df_ROSF_inI['입원기간'])\n",
    "            - RanksumsResult(statistic=-0.7965957315632162, pvalue=0.4256858572065577)\n",
    "            - 귀무 참. p-value > 0.05\n",
    "- 입원기간 4주 초과 df_ROSF_inover\n",
    "    - 분석내용: 수술시간에 따라 입원기간에 영향을 미치는가?\n",
    "        - 귀무: 수술시간에 따라 입원기간의 영향 없음\n",
    "        - 대립: 수술시간에 따라 입원기간의 영향 있음\n",
    "        - 분석결론\n",
    "            - stats.spearmanr(df_ROSF_inover['수술시간'], df_ROSF_inover['입원기간'])\n",
    "            - RanksumsResult(statistic=0.8100925873009825, pvalue=0.4178869643175005)\n",
    "            - 귀무 참. p-value > 0.05"
   ]
  },
  {
   "cell_type": "code",
   "execution_count": 55,
   "id": "9b5dd0a4-f133-415a-ad3a-eef3c6d0c00f",
   "metadata": {
    "tags": []
   },
   "outputs": [
    {
     "data": {
      "text/plain": [
       "Unnamed: 0.1         0\n",
       "Unnamed: 0           0\n",
       "환자ID                 0\n",
       "신장                   0\n",
       "체중                   0\n",
       "연령                   0\n",
       "성별                   0\n",
       "Large Lymphocyte     0\n",
       "우울증여부                0\n",
       "종양진행여부               0\n",
       "재발여부                 0\n",
       "디스크단면적               1\n",
       "디스크위치                0\n",
       "척추이동척도               0\n",
       "척추전방위증               0\n",
       "수술시간                54\n",
       "수술실패여부               0\n",
       "수술기법                81\n",
       "흡연여부                 0\n",
       "Instability          0\n",
       "혈액형                  0\n",
       "입원기간                 0\n",
       "dtype: int64"
      ]
     },
     "execution_count": 55,
     "metadata": {},
     "output_type": "execute_result"
    }
   ],
   "source": [
    "#입원기간 조건 X\n",
    "df_ROSF.isnull().sum()"
   ]
  },
  {
   "cell_type": "code",
   "execution_count": 108,
   "id": "c07033bb-1308-4029-b0dc-e6fbfb48bf6a",
   "metadata": {
    "tags": []
   },
   "outputs": [],
   "source": [
    "df_ROSF_drop = df_ROSF.dropna()"
   ]
  },
  {
   "cell_type": "code",
   "execution_count": 112,
   "id": "66d06568-14ff-4f63-995b-a742a7c4aab4",
   "metadata": {
    "tags": []
   },
   "outputs": [
    {
     "data": {
      "text/plain": [
       "SignificanceResult(statistic=0.023403166496777674, pvalue=0.3267425353637803)"
      ]
     },
     "execution_count": 112,
     "metadata": {},
     "output_type": "execute_result"
    }
   ],
   "source": [
    "stats.spearmanr(df_ROSF_drop['수술시간'], df_ROSF_drop['입원기간'])"
   ]
  },
  {
   "cell_type": "code",
   "execution_count": 113,
   "id": "8aae5612-a353-49fe-934c-d96cf64a3762",
   "metadata": {
    "tags": []
   },
   "outputs": [
    {
     "data": {
      "text/plain": [
       "SignificanceResult(statistic=0.03620122923596156, pvalue=0.1321780935962338)"
      ]
     },
     "execution_count": 113,
     "metadata": {},
     "output_type": "execute_result"
    }
   ],
   "source": [
    "## 입원기간 4주 이하\n",
    "stats.spearmanr(df_ROSF_in['수술시간'], df_ROSF_in['입원기간'])"
   ]
  },
  {
   "cell_type": "code",
   "execution_count": 114,
   "id": "af08f3ce-cf04-4e7b-97d7-dc1c8a1513f3",
   "metadata": {
    "tags": []
   },
   "outputs": [
    {
     "data": {
      "text/plain": [
       "SignificanceResult(statistic=0.04545456528072541, pvalue=0.8218790970489804)"
      ]
     },
     "execution_count": 114,
     "metadata": {},
     "output_type": "execute_result"
    }
   ],
   "source": [
    "## 입원기간 4주 초과\n",
    "stats.spearmanr(df_ROSF_inover['수술시간'], df_ROSF_inover['입원기간'])"
   ]
  },
  {
   "cell_type": "markdown",
   "id": "42f08b71-ab1c-48c8-94ce-f8e7f5e07505",
   "metadata": {},
   "source": [
    "#### 수술시간-수술기법에 따른 입원기간??\n",
    "- 수술기법에 따라 걸리는 수술시간이  입원기간에  영향이 있는가??\n",
    "    - pd.pivot_table(df_ROSF_drop, index='입원기간', columns='수술기법', values='수술시간',aggfunc='sum' or 'count')\n",
    "        - 귀무: 수술기법에 따라 걸리는 수술시간은 입원기간에 영향이 없음\n",
    "        - 대립: 수술기법에 따라 걸리는 수술시간은 입원기간에 영향이 있음\n",
    "        - 분석 결론\n",
    "        - ⇒ stats.spearmanr(df_ROSF_pivot_drop['IELD'], df_ROSF_pivot_drop['TELD'])\n",
    "            - **SignificanceResult(statistic=0.991031208965115, pvalue=1.4561252916128956e-05)**\n",
    "                - 대립 참. 수술기법에 따라 걸리는 수술시간은 입원기간에 영향이 있다. "
   ]
  },
  {
   "cell_type": "markdown",
   "id": "4c70f38b-e13e-4658-81bf-f59a9042650c",
   "metadata": {},
   "source": [
    "#### 수술기법과 수술시간의 상관관계\n",
    "- 귀무: 수술기법에 따른 수술시간은 영향이 없음\n",
    "- 대립: 수술기법에 따른 수술시간은 영향이 있음\n",
    "    - 분석 결론\n",
    "        - ⇒ stats.ranksums(df_ROSF_TELD['수술시간'], df_ROSF_IELD['수술시간'])\n",
    "            - RanksumsResult(statistic=-4.027946002004431, pvalue=5.626626176198559e-05)\n",
    "                - **대립 참. 수술기법에 따른 수술시간은 영향이 있다.**"
   ]
  },
  {
   "cell_type": "code",
   "execution_count": 60,
   "id": "78daa871-96a1-46db-afb8-7892491fa61d",
   "metadata": {
    "tags": []
   },
   "outputs": [],
   "source": [
    "df_ROSF_TELD = df_ROSF_drop[(df_ROSF_drop['수술기법'] == 'TELD')]\n",
    "df_ROSF_IELD = df_ROSF_drop[(df_ROSF_drop['수술기법'] == 'IELD')]"
   ]
  },
  {
   "cell_type": "code",
   "execution_count": 61,
   "id": "87e948f4-4979-4d35-a8f7-4832f0f90b00",
   "metadata": {
    "tags": []
   },
   "outputs": [
    {
     "data": {
      "text/html": [
       "<div>\n",
       "<style scoped>\n",
       "    .dataframe tbody tr th:only-of-type {\n",
       "        vertical-align: middle;\n",
       "    }\n",
       "\n",
       "    .dataframe tbody tr th {\n",
       "        vertical-align: top;\n",
       "    }\n",
       "\n",
       "    .dataframe thead th {\n",
       "        text-align: right;\n",
       "    }\n",
       "</style>\n",
       "<table border=\"1\" class=\"dataframe\">\n",
       "  <thead>\n",
       "    <tr style=\"text-align: right;\">\n",
       "      <th></th>\n",
       "      <th>Unnamed: 0.1</th>\n",
       "      <th>Unnamed: 0</th>\n",
       "      <th>환자ID</th>\n",
       "      <th>신장</th>\n",
       "      <th>체중</th>\n",
       "      <th>연령</th>\n",
       "      <th>성별</th>\n",
       "      <th>Large Lymphocyte</th>\n",
       "      <th>우울증여부</th>\n",
       "      <th>종양진행여부</th>\n",
       "      <th>...</th>\n",
       "      <th>디스크위치</th>\n",
       "      <th>척추이동척도</th>\n",
       "      <th>척추전방위증</th>\n",
       "      <th>수술시간</th>\n",
       "      <th>수술실패여부</th>\n",
       "      <th>수술기법</th>\n",
       "      <th>흡연여부</th>\n",
       "      <th>Instability</th>\n",
       "      <th>혈액형</th>\n",
       "      <th>입원기간</th>\n",
       "    </tr>\n",
       "  </thead>\n",
       "  <tbody>\n",
       "    <tr>\n",
       "      <th>0</th>\n",
       "      <td>0</td>\n",
       "      <td>0</td>\n",
       "      <td>1PT</td>\n",
       "      <td>163</td>\n",
       "      <td>60.3</td>\n",
       "      <td>66</td>\n",
       "      <td>2</td>\n",
       "      <td>22.8</td>\n",
       "      <td>0</td>\n",
       "      <td>0</td>\n",
       "      <td>...</td>\n",
       "      <td>4</td>\n",
       "      <td>Down</td>\n",
       "      <td>0</td>\n",
       "      <td>68.0</td>\n",
       "      <td>0</td>\n",
       "      <td>TELD</td>\n",
       "      <td>0</td>\n",
       "      <td>0</td>\n",
       "      <td>RH+A</td>\n",
       "      <td>2</td>\n",
       "    </tr>\n",
       "    <tr>\n",
       "      <th>1</th>\n",
       "      <td>1</td>\n",
       "      <td>1</td>\n",
       "      <td>2PT</td>\n",
       "      <td>171</td>\n",
       "      <td>71.7</td>\n",
       "      <td>47</td>\n",
       "      <td>1</td>\n",
       "      <td>44.9</td>\n",
       "      <td>0</td>\n",
       "      <td>0</td>\n",
       "      <td>...</td>\n",
       "      <td>4</td>\n",
       "      <td>Up</td>\n",
       "      <td>0</td>\n",
       "      <td>31.0</td>\n",
       "      <td>0</td>\n",
       "      <td>TELD</td>\n",
       "      <td>0</td>\n",
       "      <td>0</td>\n",
       "      <td>RH+A</td>\n",
       "      <td>1</td>\n",
       "    </tr>\n",
       "    <tr>\n",
       "      <th>2</th>\n",
       "      <td>2</td>\n",
       "      <td>2</td>\n",
       "      <td>3PT</td>\n",
       "      <td>178</td>\n",
       "      <td>77.1</td>\n",
       "      <td>39</td>\n",
       "      <td>1</td>\n",
       "      <td>53.0</td>\n",
       "      <td>0</td>\n",
       "      <td>0</td>\n",
       "      <td>...</td>\n",
       "      <td>4</td>\n",
       "      <td>Down</td>\n",
       "      <td>0</td>\n",
       "      <td>78.0</td>\n",
       "      <td>0</td>\n",
       "      <td>TELD</td>\n",
       "      <td>0</td>\n",
       "      <td>0</td>\n",
       "      <td>RH+B</td>\n",
       "      <td>1</td>\n",
       "    </tr>\n",
       "    <tr>\n",
       "      <th>3</th>\n",
       "      <td>3</td>\n",
       "      <td>3</td>\n",
       "      <td>4PT</td>\n",
       "      <td>174</td>\n",
       "      <td>74.2</td>\n",
       "      <td>40</td>\n",
       "      <td>1</td>\n",
       "      <td>54.7</td>\n",
       "      <td>0</td>\n",
       "      <td>0</td>\n",
       "      <td>...</td>\n",
       "      <td>4</td>\n",
       "      <td>Down</td>\n",
       "      <td>0</td>\n",
       "      <td>73.0</td>\n",
       "      <td>0</td>\n",
       "      <td>TELD</td>\n",
       "      <td>0</td>\n",
       "      <td>0</td>\n",
       "      <td>RH+O</td>\n",
       "      <td>1</td>\n",
       "    </tr>\n",
       "    <tr>\n",
       "      <th>4</th>\n",
       "      <td>4</td>\n",
       "      <td>4</td>\n",
       "      <td>5PT</td>\n",
       "      <td>183</td>\n",
       "      <td>80.7</td>\n",
       "      <td>42</td>\n",
       "      <td>1</td>\n",
       "      <td>53.8</td>\n",
       "      <td>0</td>\n",
       "      <td>0</td>\n",
       "      <td>...</td>\n",
       "      <td>4</td>\n",
       "      <td>Up</td>\n",
       "      <td>0</td>\n",
       "      <td>29.0</td>\n",
       "      <td>0</td>\n",
       "      <td>TELD</td>\n",
       "      <td>0</td>\n",
       "      <td>0</td>\n",
       "      <td>RH+A</td>\n",
       "      <td>2</td>\n",
       "    </tr>\n",
       "    <tr>\n",
       "      <th>...</th>\n",
       "      <td>...</td>\n",
       "      <td>...</td>\n",
       "      <td>...</td>\n",
       "      <td>...</td>\n",
       "      <td>...</td>\n",
       "      <td>...</td>\n",
       "      <td>...</td>\n",
       "      <td>...</td>\n",
       "      <td>...</td>\n",
       "      <td>...</td>\n",
       "      <td>...</td>\n",
       "      <td>...</td>\n",
       "      <td>...</td>\n",
       "      <td>...</td>\n",
       "      <td>...</td>\n",
       "      <td>...</td>\n",
       "      <td>...</td>\n",
       "      <td>...</td>\n",
       "      <td>...</td>\n",
       "      <td>...</td>\n",
       "      <td>...</td>\n",
       "    </tr>\n",
       "    <tr>\n",
       "      <th>1845</th>\n",
       "      <td>1845</td>\n",
       "      <td>1845</td>\n",
       "      <td>1846PT</td>\n",
       "      <td>171</td>\n",
       "      <td>68.0</td>\n",
       "      <td>59</td>\n",
       "      <td>1</td>\n",
       "      <td>43.8</td>\n",
       "      <td>0</td>\n",
       "      <td>0</td>\n",
       "      <td>...</td>\n",
       "      <td>2</td>\n",
       "      <td>Middle</td>\n",
       "      <td>0</td>\n",
       "      <td>60.0</td>\n",
       "      <td>0</td>\n",
       "      <td>TELD</td>\n",
       "      <td>0</td>\n",
       "      <td>0</td>\n",
       "      <td>RH+AB</td>\n",
       "      <td>4</td>\n",
       "    </tr>\n",
       "    <tr>\n",
       "      <th>1870</th>\n",
       "      <td>1870</td>\n",
       "      <td>1870</td>\n",
       "      <td>1871PT</td>\n",
       "      <td>163</td>\n",
       "      <td>52.0</td>\n",
       "      <td>29</td>\n",
       "      <td>2</td>\n",
       "      <td>32.4</td>\n",
       "      <td>0</td>\n",
       "      <td>0</td>\n",
       "      <td>...</td>\n",
       "      <td>4</td>\n",
       "      <td>Middle</td>\n",
       "      <td>0</td>\n",
       "      <td>35.0</td>\n",
       "      <td>0</td>\n",
       "      <td>TELD</td>\n",
       "      <td>0</td>\n",
       "      <td>0</td>\n",
       "      <td>RH+O</td>\n",
       "      <td>12</td>\n",
       "    </tr>\n",
       "    <tr>\n",
       "      <th>1872</th>\n",
       "      <td>1872</td>\n",
       "      <td>1872</td>\n",
       "      <td>1873PT</td>\n",
       "      <td>185</td>\n",
       "      <td>64.0</td>\n",
       "      <td>21</td>\n",
       "      <td>1</td>\n",
       "      <td>42.4</td>\n",
       "      <td>0</td>\n",
       "      <td>0</td>\n",
       "      <td>...</td>\n",
       "      <td>4</td>\n",
       "      <td>Down</td>\n",
       "      <td>0</td>\n",
       "      <td>60.0</td>\n",
       "      <td>0</td>\n",
       "      <td>TELD</td>\n",
       "      <td>1</td>\n",
       "      <td>0</td>\n",
       "      <td>RH+A</td>\n",
       "      <td>2</td>\n",
       "    </tr>\n",
       "    <tr>\n",
       "      <th>1874</th>\n",
       "      <td>1874</td>\n",
       "      <td>1874</td>\n",
       "      <td>1875PT</td>\n",
       "      <td>160</td>\n",
       "      <td>60.0</td>\n",
       "      <td>43</td>\n",
       "      <td>1</td>\n",
       "      <td>30.8</td>\n",
       "      <td>0</td>\n",
       "      <td>0</td>\n",
       "      <td>...</td>\n",
       "      <td>4</td>\n",
       "      <td>Middle</td>\n",
       "      <td>0</td>\n",
       "      <td>70.0</td>\n",
       "      <td>0</td>\n",
       "      <td>TELD</td>\n",
       "      <td>1</td>\n",
       "      <td>1</td>\n",
       "      <td>RH+B</td>\n",
       "      <td>3</td>\n",
       "    </tr>\n",
       "    <tr>\n",
       "      <th>1879</th>\n",
       "      <td>1879</td>\n",
       "      <td>1879</td>\n",
       "      <td>1880PT</td>\n",
       "      <td>173</td>\n",
       "      <td>70.0</td>\n",
       "      <td>20</td>\n",
       "      <td>1</td>\n",
       "      <td>5.4</td>\n",
       "      <td>0</td>\n",
       "      <td>0</td>\n",
       "      <td>...</td>\n",
       "      <td>4</td>\n",
       "      <td>Down</td>\n",
       "      <td>0</td>\n",
       "      <td>45.0</td>\n",
       "      <td>0</td>\n",
       "      <td>TELD</td>\n",
       "      <td>0</td>\n",
       "      <td>0</td>\n",
       "      <td>RH+B</td>\n",
       "      <td>3</td>\n",
       "    </tr>\n",
       "  </tbody>\n",
       "</table>\n",
       "<p>1622 rows × 22 columns</p>\n",
       "</div>"
      ],
      "text/plain": [
       "      Unnamed: 0.1  Unnamed: 0    환자ID   신장    체중  연령  성별  Large Lymphocyte  \\\n",
       "0                0           0     1PT  163  60.3  66   2              22.8   \n",
       "1                1           1     2PT  171  71.7  47   1              44.9   \n",
       "2                2           2     3PT  178  77.1  39   1              53.0   \n",
       "3                3           3     4PT  174  74.2  40   1              54.7   \n",
       "4                4           4     5PT  183  80.7  42   1              53.8   \n",
       "...            ...         ...     ...  ...   ...  ..  ..               ...   \n",
       "1845          1845        1845  1846PT  171  68.0  59   1              43.8   \n",
       "1870          1870        1870  1871PT  163  52.0  29   2              32.4   \n",
       "1872          1872        1872  1873PT  185  64.0  21   1              42.4   \n",
       "1874          1874        1874  1875PT  160  60.0  43   1              30.8   \n",
       "1879          1879        1879  1880PT  173  70.0  20   1               5.4   \n",
       "\n",
       "      우울증여부  종양진행여부  ...  디스크위치  척추이동척도  척추전방위증  수술시간  수술실패여부  수술기법  흡연여부  \\\n",
       "0         0       0  ...      4    Down       0  68.0       0  TELD     0   \n",
       "1         0       0  ...      4      Up       0  31.0       0  TELD     0   \n",
       "2         0       0  ...      4    Down       0  78.0       0  TELD     0   \n",
       "3         0       0  ...      4    Down       0  73.0       0  TELD     0   \n",
       "4         0       0  ...      4      Up       0  29.0       0  TELD     0   \n",
       "...     ...     ...  ...    ...     ...     ...   ...     ...   ...   ...   \n",
       "1845      0       0  ...      2  Middle       0  60.0       0  TELD     0   \n",
       "1870      0       0  ...      4  Middle       0  35.0       0  TELD     0   \n",
       "1872      0       0  ...      4    Down       0  60.0       0  TELD     1   \n",
       "1874      0       0  ...      4  Middle       0  70.0       0  TELD     1   \n",
       "1879      0       0  ...      4    Down       0  45.0       0  TELD     0   \n",
       "\n",
       "     Instability    혈액형  입원기간  \n",
       "0              0   RH+A     2  \n",
       "1              0   RH+A     1  \n",
       "2              0   RH+B     1  \n",
       "3              0   RH+O     1  \n",
       "4              0   RH+A     2  \n",
       "...          ...    ...   ...  \n",
       "1845           0  RH+AB     4  \n",
       "1870           0   RH+O    12  \n",
       "1872           0   RH+A     2  \n",
       "1874           1   RH+B     3  \n",
       "1879           0   RH+B     3  \n",
       "\n",
       "[1622 rows x 22 columns]"
      ]
     },
     "execution_count": 61,
     "metadata": {},
     "output_type": "execute_result"
    }
   ],
   "source": [
    "df_ROSF_TELD"
   ]
  },
  {
   "cell_type": "code",
   "execution_count": 62,
   "id": "6ea6278a-31da-474e-96e3-e127488d6957",
   "metadata": {},
   "outputs": [
    {
     "data": {
      "text/plain": [
       "RanksumsResult(statistic=-4.027946002004431, pvalue=5.626626176198559e-05)"
      ]
     },
     "execution_count": 62,
     "metadata": {},
     "output_type": "execute_result"
    }
   ],
   "source": [
    "stats.ranksums(df_ROSF_TELD['수술시간'], df_ROSF_IELD['수술시간'])\n",
    "# 0.0000563  유의미함. "
   ]
  },
  {
   "cell_type": "markdown",
   "id": "569a6807-7066-47fa-8554-7475bb5985a8",
   "metadata": {
    "jp-MarkdownHeadingCollapsed": true,
    "tags": []
   },
   "source": [
    "#### 수술시간-수술기법에 따른 입원기간 상관관계\n",
    "- 수술시간과 수술기법의 상관관계는 유의미함\n",
    "- 고로 수술기법에 따른 수술시간과 입원기간의 상관관계는 어떠한지 확인하고자 함. "
   ]
  },
  {
   "cell_type": "code",
   "execution_count": 63,
   "id": "ac85855b-dc8a-48d2-a16e-244e94283cf1",
   "metadata": {
    "tags": []
   },
   "outputs": [],
   "source": [
    "df_ROSF_pivot=pd.pivot_table(df_ROSF_drop, index='입원기간', columns='수술기법', values='수술시간',aggfunc='count')"
   ]
  },
  {
   "cell_type": "code",
   "execution_count": 64,
   "id": "94cb6f0b-5a82-4d0f-ab6c-124c9b70a199",
   "metadata": {
    "tags": []
   },
   "outputs": [],
   "source": [
    "df_ROSF_pivot['입원기간']=df_ROSF_pivot.index"
   ]
  },
  {
   "cell_type": "code",
   "execution_count": 65,
   "id": "942bf8e4-5cec-43fb-a44c-4477a3dd3379",
   "metadata": {
    "tags": []
   },
   "outputs": [
    {
     "data": {
      "text/html": [
       "<div>\n",
       "<style scoped>\n",
       "    .dataframe tbody tr th:only-of-type {\n",
       "        vertical-align: middle;\n",
       "    }\n",
       "\n",
       "    .dataframe tbody tr th {\n",
       "        vertical-align: top;\n",
       "    }\n",
       "\n",
       "    .dataframe thead th {\n",
       "        text-align: right;\n",
       "    }\n",
       "</style>\n",
       "<table border=\"1\" class=\"dataframe\">\n",
       "  <thead>\n",
       "    <tr style=\"text-align: right;\">\n",
       "      <th>수술기법</th>\n",
       "      <th>IELD</th>\n",
       "      <th>TELD</th>\n",
       "      <th>입원기간</th>\n",
       "    </tr>\n",
       "    <tr>\n",
       "      <th>입원기간</th>\n",
       "      <th></th>\n",
       "      <th></th>\n",
       "      <th></th>\n",
       "    </tr>\n",
       "  </thead>\n",
       "  <tbody>\n",
       "    <tr>\n",
       "      <th>0</th>\n",
       "      <td>NaN</td>\n",
       "      <td>3.0</td>\n",
       "      <td>0</td>\n",
       "    </tr>\n",
       "    <tr>\n",
       "      <th>1</th>\n",
       "      <td>81.0</td>\n",
       "      <td>1001.0</td>\n",
       "      <td>1</td>\n",
       "    </tr>\n",
       "    <tr>\n",
       "      <th>2</th>\n",
       "      <td>30.0</td>\n",
       "      <td>425.0</td>\n",
       "      <td>2</td>\n",
       "    </tr>\n",
       "    <tr>\n",
       "      <th>3</th>\n",
       "      <td>17.0</td>\n",
       "      <td>140.0</td>\n",
       "      <td>3</td>\n",
       "    </tr>\n",
       "    <tr>\n",
       "      <th>4</th>\n",
       "      <td>5.0</td>\n",
       "      <td>29.0</td>\n",
       "      <td>4</td>\n",
       "    </tr>\n",
       "    <tr>\n",
       "      <th>5</th>\n",
       "      <td>1.0</td>\n",
       "      <td>5.0</td>\n",
       "      <td>5</td>\n",
       "    </tr>\n",
       "    <tr>\n",
       "      <th>6</th>\n",
       "      <td>1.0</td>\n",
       "      <td>2.0</td>\n",
       "      <td>6</td>\n",
       "    </tr>\n",
       "    <tr>\n",
       "      <th>7</th>\n",
       "      <td>NaN</td>\n",
       "      <td>3.0</td>\n",
       "      <td>7</td>\n",
       "    </tr>\n",
       "    <tr>\n",
       "      <th>8</th>\n",
       "      <td>NaN</td>\n",
       "      <td>5.0</td>\n",
       "      <td>8</td>\n",
       "    </tr>\n",
       "    <tr>\n",
       "      <th>9</th>\n",
       "      <td>NaN</td>\n",
       "      <td>1.0</td>\n",
       "      <td>9</td>\n",
       "    </tr>\n",
       "    <tr>\n",
       "      <th>11</th>\n",
       "      <td>1.0</td>\n",
       "      <td>2.0</td>\n",
       "      <td>11</td>\n",
       "    </tr>\n",
       "    <tr>\n",
       "      <th>12</th>\n",
       "      <td>NaN</td>\n",
       "      <td>1.0</td>\n",
       "      <td>12</td>\n",
       "    </tr>\n",
       "    <tr>\n",
       "      <th>16</th>\n",
       "      <td>NaN</td>\n",
       "      <td>1.0</td>\n",
       "      <td>16</td>\n",
       "    </tr>\n",
       "    <tr>\n",
       "      <th>17</th>\n",
       "      <td>NaN</td>\n",
       "      <td>1.0</td>\n",
       "      <td>17</td>\n",
       "    </tr>\n",
       "    <tr>\n",
       "      <th>18</th>\n",
       "      <td>NaN</td>\n",
       "      <td>1.0</td>\n",
       "      <td>18</td>\n",
       "    </tr>\n",
       "    <tr>\n",
       "      <th>44</th>\n",
       "      <td>NaN</td>\n",
       "      <td>1.0</td>\n",
       "      <td>44</td>\n",
       "    </tr>\n",
       "    <tr>\n",
       "      <th>46</th>\n",
       "      <td>NaN</td>\n",
       "      <td>1.0</td>\n",
       "      <td>46</td>\n",
       "    </tr>\n",
       "  </tbody>\n",
       "</table>\n",
       "</div>"
      ],
      "text/plain": [
       "수술기법  IELD    TELD  입원기간\n",
       "입원기간                    \n",
       "0      NaN     3.0     0\n",
       "1     81.0  1001.0     1\n",
       "2     30.0   425.0     2\n",
       "3     17.0   140.0     3\n",
       "4      5.0    29.0     4\n",
       "5      1.0     5.0     5\n",
       "6      1.0     2.0     6\n",
       "7      NaN     3.0     7\n",
       "8      NaN     5.0     8\n",
       "9      NaN     1.0     9\n",
       "11     1.0     2.0    11\n",
       "12     NaN     1.0    12\n",
       "16     NaN     1.0    16\n",
       "17     NaN     1.0    17\n",
       "18     NaN     1.0    18\n",
       "44     NaN     1.0    44\n",
       "46     NaN     1.0    46"
      ]
     },
     "execution_count": 65,
     "metadata": {},
     "output_type": "execute_result"
    }
   ],
   "source": [
    "df_ROSF_pivot "
   ]
  },
  {
   "cell_type": "code",
   "execution_count": 66,
   "id": "abc22d29-3d1a-49ad-80e7-1c626245a3f9",
   "metadata": {
    "tags": []
   },
   "outputs": [],
   "source": [
    "df_ROSF_pivot_drop = df_ROSF_pivot.dropna()"
   ]
  },
  {
   "cell_type": "code",
   "execution_count": 67,
   "id": "ea0a59f7-40dc-4b2c-a51e-e617cd5f9776",
   "metadata": {
    "tags": []
   },
   "outputs": [
    {
     "data": {
      "text/html": [
       "<div>\n",
       "<style scoped>\n",
       "    .dataframe tbody tr th:only-of-type {\n",
       "        vertical-align: middle;\n",
       "    }\n",
       "\n",
       "    .dataframe tbody tr th {\n",
       "        vertical-align: top;\n",
       "    }\n",
       "\n",
       "    .dataframe thead th {\n",
       "        text-align: right;\n",
       "    }\n",
       "</style>\n",
       "<table border=\"1\" class=\"dataframe\">\n",
       "  <thead>\n",
       "    <tr style=\"text-align: right;\">\n",
       "      <th>수술기법</th>\n",
       "      <th>IELD</th>\n",
       "      <th>TELD</th>\n",
       "      <th>입원기간</th>\n",
       "    </tr>\n",
       "    <tr>\n",
       "      <th>입원기간</th>\n",
       "      <th></th>\n",
       "      <th></th>\n",
       "      <th></th>\n",
       "    </tr>\n",
       "  </thead>\n",
       "  <tbody>\n",
       "    <tr>\n",
       "      <th>1</th>\n",
       "      <td>81.0</td>\n",
       "      <td>1001.0</td>\n",
       "      <td>1</td>\n",
       "    </tr>\n",
       "    <tr>\n",
       "      <th>2</th>\n",
       "      <td>30.0</td>\n",
       "      <td>425.0</td>\n",
       "      <td>2</td>\n",
       "    </tr>\n",
       "    <tr>\n",
       "      <th>3</th>\n",
       "      <td>17.0</td>\n",
       "      <td>140.0</td>\n",
       "      <td>3</td>\n",
       "    </tr>\n",
       "    <tr>\n",
       "      <th>4</th>\n",
       "      <td>5.0</td>\n",
       "      <td>29.0</td>\n",
       "      <td>4</td>\n",
       "    </tr>\n",
       "    <tr>\n",
       "      <th>5</th>\n",
       "      <td>1.0</td>\n",
       "      <td>5.0</td>\n",
       "      <td>5</td>\n",
       "    </tr>\n",
       "    <tr>\n",
       "      <th>6</th>\n",
       "      <td>1.0</td>\n",
       "      <td>2.0</td>\n",
       "      <td>6</td>\n",
       "    </tr>\n",
       "    <tr>\n",
       "      <th>11</th>\n",
       "      <td>1.0</td>\n",
       "      <td>2.0</td>\n",
       "      <td>11</td>\n",
       "    </tr>\n",
       "  </tbody>\n",
       "</table>\n",
       "</div>"
      ],
      "text/plain": [
       "수술기법  IELD    TELD  입원기간\n",
       "입원기간                    \n",
       "1     81.0  1001.0     1\n",
       "2     30.0   425.0     2\n",
       "3     17.0   140.0     3\n",
       "4      5.0    29.0     4\n",
       "5      1.0     5.0     5\n",
       "6      1.0     2.0     6\n",
       "11     1.0     2.0    11"
      ]
     },
     "execution_count": 67,
     "metadata": {},
     "output_type": "execute_result"
    }
   ],
   "source": [
    "df_ROSF_pivot_drop"
   ]
  },
  {
   "cell_type": "code",
   "execution_count": 68,
   "id": "c76d6e8b-5d15-4ed6-8e3e-42a89390c5cf",
   "metadata": {
    "tags": []
   },
   "outputs": [
    {
     "data": {
      "text/plain": [
       "SignificanceResult(statistic=0.9723448696087955, pvalue=0.00024067356450236597)"
      ]
     },
     "execution_count": 68,
     "metadata": {},
     "output_type": "execute_result"
    }
   ],
   "source": [
    "stats.spearmanr(df_ROSF_pivot_drop['IELD'], df_ROSF_pivot_drop['TELD'])"
   ]
  },
  {
   "cell_type": "markdown",
   "id": "85ab4a6a-3deb-4649-a49e-3f59b9b82e68",
   "metadata": {},
   "source": [
    "- 수술기법에 따라 걸리는 수술시간이  입원기간에  영향이 있는가??\n",
    "    - pd.pivot_table(df_ROSF_drop, index='입원기간', columns='수술기법', values='수술시간',aggfunc='mean')\n",
    "        - 귀무: 수술기법에 따라 걸리는 수술시간은 입원기간에 영향이 없음\n",
    "        - 대립: 수술기법에 따라 걸리는 수술시간은 입원기간에 영향이 있음\n",
    "    - 분석 결론\n",
    "        - ⇒ pd.pivot_table(df_ROSF_drop, index='입원기간', columns='수술기법', values='수술시간',aggfunc='mean')\n",
    "                - SignificanceResult(statistic=-0.23424374030084538, pvalue=0.6131550369752419)\n",
    "        - 귀무 참. 수술기법에 따라 걸리는 수술시간은 입원기간에 영향 없다. "
   ]
  },
  {
   "cell_type": "code",
   "execution_count": 69,
   "id": "35bd8ece-92cc-4b09-a9dd-9f948e5bbe54",
   "metadata": {
    "tags": []
   },
   "outputs": [],
   "source": [
    "df_ROSF_pivot_mean=pd.pivot_table(df_ROSF_drop, index='입원기간', columns='수술기법', values='수술시간',aggfunc='mean')"
   ]
  },
  {
   "cell_type": "code",
   "execution_count": 70,
   "id": "9fa54534-5c8a-4827-baed-0a98b494c06e",
   "metadata": {
    "tags": []
   },
   "outputs": [],
   "source": [
    "df_ROSF_pivot_mean_d = df_ROSF_pivot_mean.dropna()"
   ]
  },
  {
   "cell_type": "code",
   "execution_count": 71,
   "id": "77269036-d3e9-4a49-827b-2e406e3217de",
   "metadata": {
    "tags": []
   },
   "outputs": [
    {
     "data": {
      "text/plain": [
       "SignificanceResult(statistic=-0.23424374030084538, pvalue=0.6131550369752419)"
      ]
     },
     "execution_count": 71,
     "metadata": {},
     "output_type": "execute_result"
    }
   ],
   "source": [
    "stats.spearmanr(df_ROSF_pivot_mean_d['IELD'], df_ROSF_pivot_mean_d['TELD'])"
   ]
  },
  {
   "cell_type": "markdown",
   "id": "cb762437-c7ca-4ef2-a561-126a528236c0",
   "metadata": {
    "tags": []
   },
   "source": [
    "#### 척추이동척도-입원기간\n",
    "- 범주- 연속\n",
    "- 입원기간 조건 X\n",
    "    - 분석내용: 척추이동척도에 따라 입원기간에 영향을 미치는가?\n",
    "        - 귀무: 척추이동척도에 따라 입원기간의 영향 없음\n",
    "        - 대립: 척추이동척도에 따라 입원기간의 영향 있음\n",
    "        - 분석결론\n",
    "            - stats.kruskal(df_ROSF_M['입원기간'], df_ROSF_D['입원기간'],df_ROSF_U['입원기간'],df_ROSF_ED['입원기간'],df_ROSF_EU['입원기간'])\n",
    "            - KruskalResult(statistic=13.444474884014046, pvalue=0.009296351237454748)\n",
    "            - 대립 참. p-value < 0.05, 척추이동척도에 따라 입원기간 영향 있음\n",
    "- 입원기간 4주 이하 df_ROSF_in\n",
    "    - 분석내용: 척추이동척도에 따라 입원기간(4주이하)에 영향을 미치는가?\n",
    "        - 귀무: 척추이동척도에 따라 입원기간(4주이하)의 영향 없음\n",
    "        - 대립: 척추이동척도에 따라 입원기간(4주이하)의 영향 있음\n",
    "        - 분석결론\n",
    "            - stats.kruskal(df_ROSF_in_M['입원기간'], df_ROSF_in_D['입원기간'],df_ROSF_in_U['입원기간'],df_ROSF_in_ED['입원기간'],df_ROSF_in_EU['입원기간'])\n",
    "            - KruskalResult(statistic=12.313030527501427, pvalue=0.015169141240932202)\n",
    "            - **대립 참. p-value < 0.05, 척추이동척도에 따라 입원기간(4주이하) 영향 있음**\n",
    "- 입원기간 4주 초과 df_ROSF_inover\n",
    "    - 분석내용: 척추이동척도에 따라 입원기간(4주초과)에 영향을 미치는가?(4주초과는 척추이동척도가 Middle, Down, Up 3가지만 있음)\n",
    "        - 귀무: 척추이동척도에 따라 입원기간(4주초과)의 영향 없음\n",
    "        - 대립: 척추이동척도에 따라 입원기간(4주초과)의 영향 있음\n",
    "        - 분석결론\n",
    "            - stats.kruskal(df_ROSF_inover_M['입원기간'], df_ROSF_inover_D['입원기간'],df_ROSF_inover_U['입원기간'])\n",
    "            - KruskalResult(statistic=0.4431524432770916, pvalue=0.8012548468630146)\n",
    "            - 귀무 참. p-value > 0.05, 척추이동척도에 따라 입원기간(4주초과) 영향 없음"
   ]
  },
  {
   "cell_type": "code",
   "execution_count": 72,
   "id": "b2d38f19-42cb-4736-8afe-e29ce0ede54a",
   "metadata": {},
   "outputs": [
    {
     "data": {
      "text/plain": [
       "척추이동척도\n",
       "Middle            1260\n",
       "Down               513\n",
       "Up                  65\n",
       "Extremely down      40\n",
       "Extremely up        16\n",
       "Name: count, dtype: int64"
      ]
     },
     "execution_count": 72,
     "metadata": {},
     "output_type": "execute_result"
    }
   ],
   "source": [
    "df_ROSF['척추이동척도'].value_counts()"
   ]
  },
  {
   "cell_type": "code",
   "execution_count": 73,
   "id": "d22be426-16d4-4454-9647-ccecc8428b86",
   "metadata": {
    "tags": []
   },
   "outputs": [],
   "source": [
    "df_ROSF_M = df_ROSF[(df_ROSF['척추이동척도'] == 'Middle')]\n",
    "df_ROSF_D = df_ROSF[(df_ROSF['척추이동척도'] == 'Down')]\n",
    "df_ROSF_U = df_ROSF[(df_ROSF['척추이동척도'] == 'Up')]\n",
    "df_ROSF_ED = df_ROSF[(df_ROSF['척추이동척도'] == 'Extremely down')]\n",
    "df_ROSF_EU = df_ROSF[(df_ROSF['척추이동척도'] == 'Extremely up')]"
   ]
  },
  {
   "cell_type": "code",
   "execution_count": 74,
   "id": "959c2fa2-d518-4e05-9588-981425605903",
   "metadata": {
    "tags": []
   },
   "outputs": [
    {
     "data": {
      "text/plain": [
       "KruskalResult(statistic=13.444474884014046, pvalue=0.009296351237454748)"
      ]
     },
     "execution_count": 74,
     "metadata": {},
     "output_type": "execute_result"
    }
   ],
   "source": [
    "stats.kruskal(df_ROSF_M['입원기간'], df_ROSF_D['입원기간'],df_ROSF_U['입원기간'],df_ROSF_ED['입원기간'],df_ROSF_EU['입원기간'])"
   ]
  },
  {
   "cell_type": "markdown",
   "id": "02a1d6f4-6084-4e32-8b7f-bc74f0433539",
   "metadata": {},
   "source": [
    "###### 4주 이하일때 df_ROSF_in"
   ]
  },
  {
   "cell_type": "code",
   "execution_count": 75,
   "id": "fef8c579-cc10-4ac9-be3f-c0743bd328b9",
   "metadata": {
    "tags": []
   },
   "outputs": [
    {
     "data": {
      "text/plain": [
       "척추이동척도\n",
       "Middle            1156\n",
       "Down               466\n",
       "Up                  59\n",
       "Extremely down      34\n",
       "Extremely up        16\n",
       "Name: count, dtype: int64"
      ]
     },
     "execution_count": 75,
     "metadata": {},
     "output_type": "execute_result"
    }
   ],
   "source": [
    "df_ROSF_in['척추이동척도'].value_counts()"
   ]
  },
  {
   "cell_type": "code",
   "execution_count": 76,
   "id": "50f5b570-0c5d-4d3e-8912-944f3acac1a0",
   "metadata": {
    "tags": []
   },
   "outputs": [],
   "source": [
    "df_ROSF_in_M = df_ROSF_in[(df_ROSF_in['척추이동척도'] == 'Middle')]\n",
    "df_ROSF_in_D = df_ROSF_in[(df_ROSF_in['척추이동척도'] == 'Down')]\n",
    "df_ROSF_in_U = df_ROSF_in[(df_ROSF_in['척추이동척도'] == 'Up')]\n",
    "df_ROSF_in_ED = df_ROSF_in[(df_ROSF_in['척추이동척도'] == 'Extremely down')]\n",
    "df_ROSF_in_EU = df_ROSF_in[(df_ROSF_in['척추이동척도'] == 'Extremely up')]"
   ]
  },
  {
   "cell_type": "code",
   "execution_count": 77,
   "id": "4ff6ce56-7b45-418c-a2f4-3e45413a0605",
   "metadata": {
    "tags": []
   },
   "outputs": [
    {
     "data": {
      "text/plain": [
       "KruskalResult(statistic=12.313030527501427, pvalue=0.015169141240932202)"
      ]
     },
     "execution_count": 77,
     "metadata": {},
     "output_type": "execute_result"
    }
   ],
   "source": [
    "stats.kruskal(df_ROSF_in_M['입원기간'], df_ROSF_in_D['입원기간'],df_ROSF_in_U['입원기간'],df_ROSF_in_ED['입원기간'],df_ROSF_in_EU['입원기간'])"
   ]
  },
  {
   "cell_type": "markdown",
   "id": "eecc5812-d4f5-474e-8ade-4a59fb74c6ed",
   "metadata": {},
   "source": [
    "###### 4주 초과일때 df_ROSF_inover"
   ]
  },
  {
   "cell_type": "code",
   "execution_count": 78,
   "id": "b3633b84-31bc-496b-bfb1-d4be5d4749cb",
   "metadata": {
    "tags": []
   },
   "outputs": [
    {
     "data": {
      "text/plain": [
       "척추이동척도\n",
       "Middle    21\n",
       "Down       5\n",
       "Up         1\n",
       "Name: count, dtype: int64"
      ]
     },
     "execution_count": 78,
     "metadata": {},
     "output_type": "execute_result"
    }
   ],
   "source": [
    "df_ROSF_inover['척추이동척도'].value_counts()"
   ]
  },
  {
   "cell_type": "code",
   "execution_count": 79,
   "id": "e2bd763c-3856-4108-9bcd-9c90009ba02f",
   "metadata": {
    "tags": []
   },
   "outputs": [],
   "source": [
    "# 4추 초과 척추이동척도는 middle, down, up 이렇게 존재함\n",
    "df_ROSF_inover_M = df_ROSF_inover[(df_ROSF_inover['척추이동척도'] == 'Middle')]\n",
    "df_ROSF_inover_D = df_ROSF_inover[(df_ROSF_inover['척추이동척도'] == 'Down')]\n",
    "df_ROSF_inover_U = df_ROSF_inover[(df_ROSF_inover['척추이동척도'] == 'Up')]"
   ]
  },
  {
   "cell_type": "code",
   "execution_count": 80,
   "id": "d4ec24fe-ff1e-49ff-8d85-312ad91c8930",
   "metadata": {
    "tags": []
   },
   "outputs": [
    {
     "data": {
      "text/plain": [
       "KruskalResult(statistic=0.4431524432770916, pvalue=0.8012548468630146)"
      ]
     },
     "execution_count": 80,
     "metadata": {},
     "output_type": "execute_result"
    }
   ],
   "source": [
    "stats.kruskal(df_ROSF_inover_M['입원기간'], df_ROSF_inover_D['입원기간'],df_ROSF_inover_U['입원기간'])"
   ]
  },
  {
   "cell_type": "markdown",
   "id": "509710e1-23c1-4320-be34-05b10f789140",
   "metadata": {},
   "source": [
    "#### Instability-입원기간\n",
    "- 범주- 연속\n",
    "- Instability 0: 안정함 1: 불안정함\n",
    "\n",
    "- 입원기간 조건 X\n",
    "    - 분석내용: 척추안정성여부에 따라 입원기간에 영향을 미치는가?\n",
    "        - 귀무: 척추안정성여부에 따라 입원기간의 영향 없음\n",
    "        - 대립: 척추안정성여부에 따라 입원기간의 영향 있음\n",
    "        - 분석결론\n",
    "            - stats.ranksums(df_ROSF_stability['입원기간'], df_ROSF_instability['입원기간'])\n",
    "            - RanksumsResult(statistic=-1.297755937799942, pvalue=0.19437121505011978)\n",
    "            - 귀무 참. p-value > 0.05, 척추안정성여부에따라 입원기간 영향 없음\n",
    "            \n",
    "- 입원기간 4주 이하 df_ROSF_in\n",
    "    - 분석내용: 척추안정성여부에 따라 입원기간(4주이하)에 영향을 미치는가?\n",
    "        - 귀무: 척추안정성여부에 따라 입원기간(4주이하)의 영향 없음\n",
    "        - 대립: 척추안정성여부에 따라 입원기간(4주이하)의 영향 있음\n",
    "        - 분석결론\n",
    "            - stats.ranksums(df_ROSF_in_stability['입원기간'], df_ROSFin_instability['입원기간'])\n",
    "            - RanksumsResult(statistic=-1.0826885764125356, pvalue=0.2789466762389897)\n",
    "            - 귀무 참. p-value > 0.05, 척추안정성여부에 따라 입원기간(4주이하) 영향 없음\n",
    "            \n",
    "- 입원기간 4주 초과 df_ROSF_inover\n",
    "    - 분석내용: 척추안정성여부에 따라 입원기간(4주초과)에 영향을 미치는가?\n",
    "        - 귀무: 척추안정성여부에 따라 입원기간(4주초과)의 영향 없음\n",
    "        - 대립: 척추안정성여부에 따라 입원기간(4주초과)의 영향 있음\n",
    "        - 분석결론\n",
    "            - stats.ranksums(df_ROSF_invoer_stability['입원기간'], df_ROSF_invoer_instability['입원기간'])\n",
    "            - RanksumsResult(statistic=0.8795290947839239, pvalue=0.37911446492243506)\n",
    "            - 귀무 참. p-value > 0.05, 척추안정성여부에 따라 입원기간(4주초과) 영향 없음"
   ]
  },
  {
   "cell_type": "code",
   "execution_count": 81,
   "id": "88bafa0c-08fd-4b33-93aa-97b5d9d1fddb",
   "metadata": {
    "tags": []
   },
   "outputs": [],
   "source": [
    "df_ROSF_stability = df_ROSF[(df_ROSF['Instability'] == 0)]\n",
    "df_ROSF_instability = df_ROSF[(df_ROSF['Instability'] == 1)]"
   ]
  },
  {
   "cell_type": "code",
   "execution_count": 82,
   "id": "285aa5cd-32b3-4998-a7a7-83562c57becd",
   "metadata": {
    "tags": []
   },
   "outputs": [
    {
     "data": {
      "text/plain": [
       "RanksumsResult(statistic=-1.297755937799942, pvalue=0.19437121505011978)"
      ]
     },
     "execution_count": 82,
     "metadata": {},
     "output_type": "execute_result"
    }
   ],
   "source": [
    "stats.ranksums(df_ROSF_stability['입원기간'], df_ROSF_instability['입원기간'])"
   ]
  },
  {
   "cell_type": "code",
   "execution_count": 83,
   "id": "c8b077c2-20ed-4bde-9c7e-c44e9c906ddb",
   "metadata": {
    "tags": []
   },
   "outputs": [],
   "source": [
    "# 4주이하 df_ROSF_in\n",
    "df_ROSF_in_stability = df_ROSF_in[(df_ROSF_in['Instability'] == 0)]\n",
    "df_ROSFin_instability = df_ROSF_in[(df_ROSF_in['Instability'] == 1)]"
   ]
  },
  {
   "cell_type": "code",
   "execution_count": 84,
   "id": "ddd0c899-0d61-4192-991f-a9d4daa9d88a",
   "metadata": {
    "tags": []
   },
   "outputs": [
    {
     "data": {
      "text/plain": [
       "RanksumsResult(statistic=-1.0826885764125356, pvalue=0.2789466762389897)"
      ]
     },
     "execution_count": 84,
     "metadata": {},
     "output_type": "execute_result"
    }
   ],
   "source": [
    "stats.ranksums(df_ROSF_in_stability['입원기간'], df_ROSFin_instability['입원기간'])"
   ]
  },
  {
   "cell_type": "code",
   "execution_count": 85,
   "id": "15afa5a9-fe89-4959-85e9-5150c97483aa",
   "metadata": {
    "tags": []
   },
   "outputs": [],
   "source": [
    "#4주초과 df_ROSF_inover\n",
    "df_ROSF_invoer_stability = df_ROSF_inover[(df_ROSF_inover['Instability'] == 0)]\n",
    "df_ROSF_invoer_instability = df_ROSF_inover[(df_ROSF_inover['Instability'] == 1)]"
   ]
  },
  {
   "cell_type": "code",
   "execution_count": 86,
   "id": "50fdb680-979a-4715-8863-b9c5bf890608",
   "metadata": {
    "tags": []
   },
   "outputs": [
    {
     "data": {
      "text/plain": [
       "RanksumsResult(statistic=0.8795290947839239, pvalue=0.37911446492243506)"
      ]
     },
     "execution_count": 86,
     "metadata": {},
     "output_type": "execute_result"
    }
   ],
   "source": [
    "stats.ranksums(df_ROSF_invoer_stability['입원기간'], df_ROSF_invoer_instability['입원기간'])"
   ]
  },
  {
   "cell_type": "markdown",
   "id": "8b2a6349-8d8b-4bcf-85ab-3d75a784faa6",
   "metadata": {},
   "source": [
    "#### 혈액형-입원기간\n",
    "- 범주- 연속\n",
    "\n",
    "- 입원기간 조건 X\n",
    "    - 분석내용: 혈액형에 따라 입원기간에 영향을 미치는가?\n",
    "        - 귀무: 혈액형에 따라 입원기간의 영향 없음\n",
    "        - 대립: 혈액형에 따라 입원기간의 영향 있음\n",
    "        - 분석결론\n",
    "            - stats.kruskal(df_ROSF_A['입원기간'], df_ROSF_O['입원기간'], df_ROSF_B['입원기간'],df_ROSF_AB['입원기간'])\n",
    "            - KruskalResult(statistic=6.856775249573723, pvalue=0.07660568135949437)\n",
    "            - 귀무 참. p-value > 0.05, 척추안정성여부에따라 입원기간 영향 없음\n",
    "            \n",
    "- 입원기간 4주 이하 df_ROSF_in\n",
    "    - 분석내용: 혈액형에 따라 입원기간(4주이하)에 영향을 미치는가?\n",
    "        - 귀무: 혈액형에 따라 입원기간(4주이하)의 영향 없음\n",
    "        - 대립: 혈액형에 따라 입원기간(4주이하)의 영향 있음\n",
    "        - 분석결론\n",
    "            - stats.kruskal(df_ROSF_in_A['입원기간'], df_ROSF_in_O['입원기간'], df_ROSF_in_B['입원기간'], df_ROSF_in_AB['입원기간'])\n",
    "            - KruskalResult(statistic=7.071142570982813, pvalue=0.06966445567294945)\n",
    "            - 귀무 참. p-value > 0.05, 혈액형에 따라 입원기간(4주이하) 영향 없음\n",
    "            \n",
    "- 입원기간 4주 초과 df_ROSF_inover\n",
    "    - 분석내용: 혈액형에 따라 입원기간(4주초과)에 영향을 미치는가?\n",
    "        - 귀무: 혈액형에 따라 입원기간(4주초과)의 영향 없음\n",
    "        - 대립: 혈액형에 따라 입원기간(4주초과)의 영향 있음\n",
    "        - 분석결론\n",
    "            - stats.kruskal(df_ROSF_inover_A['입원기간'], df_ROSF_inover_O['입원기간'], df_ROSF_inover_B['입원기간'], df_ROSF_inover_AB['입원기간'])\n",
    "            - KruskalResult(statistic=3.8448114677469536, pvalue=0.2787166553108071)\n",
    "            - 귀무 참. p-value > 0.05, 혈액형에 따라 입원기간(4주초과) 영향 없음"
   ]
  },
  {
   "cell_type": "code",
   "execution_count": 87,
   "id": "62f4588a-e85c-4860-ac47-4463775114e7",
   "metadata": {
    "tags": []
   },
   "outputs": [
    {
     "data": {
      "text/plain": [
       "혈액형\n",
       "RH+A     688\n",
       "RH+O     532\n",
       "RH+B     476\n",
       "RH+AB    198\n",
       "Name: count, dtype: int64"
      ]
     },
     "execution_count": 87,
     "metadata": {},
     "output_type": "execute_result"
    }
   ],
   "source": [
    "df_ROSF['혈액형'].value_counts()"
   ]
  },
  {
   "cell_type": "code",
   "execution_count": 88,
   "id": "d06608f4-3e18-472c-9712-c793674fefa4",
   "metadata": {
    "tags": []
   },
   "outputs": [],
   "source": [
    "df_ROSF_A = df_ROSF[(df_ROSF['혈액형'] == 'RH+A')]\n",
    "df_ROSF_O = df_ROSF[(df_ROSF['혈액형'] == 'RH+O')]\n",
    "df_ROSF_B = df_ROSF[(df_ROSF['혈액형'] == 'RH+B')]\n",
    "df_ROSF_AB = df_ROSF[(df_ROSF['혈액형'] == 'RH+AB')]"
   ]
  },
  {
   "cell_type": "code",
   "execution_count": 89,
   "id": "f0406f49-8963-4714-83eb-d6097251e212",
   "metadata": {
    "tags": []
   },
   "outputs": [
    {
     "data": {
      "text/plain": [
       "KruskalResult(statistic=6.856775249573723, pvalue=0.07660568135949437)"
      ]
     },
     "execution_count": 89,
     "metadata": {},
     "output_type": "execute_result"
    }
   ],
   "source": [
    "stats.kruskal(df_ROSF_A['입원기간'], df_ROSF_O['입원기간'], df_ROSF_B['입원기간'],df_ROSF_AB['입원기간'])"
   ]
  },
  {
   "cell_type": "code",
   "execution_count": 90,
   "id": "af981239-75b2-43a0-9dce-9299e5c5b0cf",
   "metadata": {
    "tags": []
   },
   "outputs": [],
   "source": [
    "# 4주 이하\n",
    "df_ROSF_in_A = df_ROSF_in[(df_ROSF_in['혈액형'] == 'RH+A')]\n",
    "df_ROSF_in_O = df_ROSF_in[(df_ROSF_in['혈액형'] == 'RH+O')]\n",
    "df_ROSF_in_B = df_ROSF_in[(df_ROSF_in['혈액형'] == 'RH+B')]\n",
    "df_ROSF_in_AB = df_ROSF_in[(df_ROSF_in['혈액형'] == 'RH+AB')]"
   ]
  },
  {
   "cell_type": "code",
   "execution_count": 91,
   "id": "c67cc63a-95ee-4344-9660-cd8e1f3453da",
   "metadata": {
    "tags": []
   },
   "outputs": [
    {
     "data": {
      "text/plain": [
       "KruskalResult(statistic=7.071142570982813, pvalue=0.06966445567294945)"
      ]
     },
     "execution_count": 91,
     "metadata": {},
     "output_type": "execute_result"
    }
   ],
   "source": [
    "stats.kruskal(df_ROSF_in_A['입원기간'], df_ROSF_in_O['입원기간'], df_ROSF_in_B['입원기간'], df_ROSF_in_AB['입원기간'])"
   ]
  },
  {
   "cell_type": "code",
   "execution_count": 92,
   "id": "445c7ea3-d2d3-4a33-a162-79b9d94a3dee",
   "metadata": {
    "tags": []
   },
   "outputs": [],
   "source": [
    "# 4주 초과\n",
    "df_ROSF_inover_A = df_ROSF_inover[(df_ROSF_inover['혈액형'] == 'RH+A')]\n",
    "df_ROSF_inover_O = df_ROSF_inover[(df_ROSF_inover['혈액형'] == 'RH+O')]\n",
    "df_ROSF_inover_B = df_ROSF_inover[(df_ROSF_inover['혈액형'] == 'RH+B')]\n",
    "df_ROSF_inover_AB = df_ROSF_inover[(df_ROSF_inover['혈액형'] == 'RH+AB')]"
   ]
  },
  {
   "cell_type": "code",
   "execution_count": 93,
   "id": "bd038b90-adfc-46a3-93c3-4ddb781febfb",
   "metadata": {
    "tags": []
   },
   "outputs": [
    {
     "data": {
      "text/plain": [
       "KruskalResult(statistic=3.8448114677469536, pvalue=0.2787166553108071)"
      ]
     },
     "execution_count": 93,
     "metadata": {},
     "output_type": "execute_result"
    }
   ],
   "source": [
    "stats.kruskal(df_ROSF_inover_A['입원기간'], df_ROSF_inover_O['입원기간'], df_ROSF_inover_B['입원기간'], df_ROSF_inover_AB['입원기간'])"
   ]
  },
  {
   "cell_type": "markdown",
   "id": "bcfdd387-76e7-462c-83d8-6e27e9e59fde",
   "metadata": {},
   "source": [
    "#### BMI-입원기간\n",
    "- 범주- 연속\n",
    "\n",
    "- 입원기간 조건 X\n",
    "    - 분석내용: BMI에 따라 입원기간에 영향을 미치는가?\n",
    "        - 귀무: BMI에 따라 입원기간의 영향 없음\n",
    "        - 대립: BMI에 따라 입원기간의 영향 있음\n",
    "        - 분석결론\n",
    "            - stats.kruskal(df_ROSF_normal['입원기간'], df_ROSF_over['입원기간'], df_ROSF_1stover['입원기간'], df_ROSF_2ndover['입원기간'], df_ROSF_higher['입원기간'])\n",
    "            - KruskalResult(statistic=5.319486992027895, pvalue=0.2560582211192575)\n",
    "            - 귀무 참. p-value > 0.05, BMI에 입원기간 영향 없음\n",
    "            \n",
    "- 입원기간 4주 이하 df_ROSF_in\n",
    "    - 분석내용: BMI에 따라 입원기간(4주이하)에 영향을 미치는가?\n",
    "        - 귀무: BMI에 따라 입원기간(4주이하)의 영향 없음\n",
    "        - 대립: BMI에 따라 입원기간(4주이하)의 영향 있음\n",
    "        - 분석결론\n",
    "            - stats.kruskal(df_ROSF_in_normal['입원기간'], df_ROSF_in_over['입원기간'], df_ROSF_in_1stover['입원기간'], df_ROSF_in_2ndover['입원기간'], df_ROSF_in_higher['입원기간'])\n",
    "            - KruskalResult(statistic=6.2315492250707285, pvalue=0.18251050336657482)\n",
    "            - 귀무 참. p-value > 0.05, BMI에 따라 입원기간(4주이하) 영향 없음\n",
    "            \n",
    "- 입원기간 4주 초과 df_ROSF_inover\n",
    "    - 분석내용: BMI에 따라 입원기간(4주초과)에 영향을 미치는가?\n",
    "        - 귀무: BMI에 따라 입원기간(4주초과)의 영향 없음\n",
    "        - 대립: BMI에 따라 입원기간(4주초과)의 영향 있음\n",
    "        - 분석결론\n",
    "            - stats.kruskal(df_ROSF_BMI_inover_normal['입원기간'], df_ROSF_BMI_inover_over['입원기간'], df_ROSF_BMI_inover_1stover['입원기간'], df_ROSF_BMI_inover_2ndover['입원기간'])\n",
    "            - KruskalResult(statistic=3.6636345185157997, pvalue=0.3001511234547607)\n",
    "            - 귀무 참. p-value > 0.05, BMI에 따라 입원기간(4주초과) 영향 없음"
   ]
  },
  {
   "cell_type": "code",
   "execution_count": 94,
   "id": "e4f47c92-a7e8-4e08-b8a1-43cef0ed3253",
   "metadata": {
    "tags": []
   },
   "outputs": [],
   "source": [
    "def convert (height) :\n",
    "    return float(height)\n",
    "\n",
    "df_ROSF['신장_소수']=df_ROSF['신장'].apply(convert)"
   ]
  },
  {
   "cell_type": "code",
   "execution_count": 95,
   "id": "57204d00-2604-44bc-ad5c-532dd54e2a3e",
   "metadata": {
    "tags": []
   },
   "outputs": [],
   "source": [
    "def cm_convert(height):\n",
    "    height = height / 100\n",
    "    return height\n",
    "df_ROSF['신장(m)']= df_ROSF['신장_소수'].apply(cm_convert)\n",
    "df_ROSF['신장(m)^2'] = df_ROSF['신장(m)'] * df_ROSF['신장(m)']"
   ]
  },
  {
   "cell_type": "code",
   "execution_count": 96,
   "id": "d398e871-c61f-4544-b186-d23868830b16",
   "metadata": {
    "tags": []
   },
   "outputs": [],
   "source": [
    "df_ROSF['BMI'] = df_ROSF['체중'] / df_ROSF['신장(m)^2']"
   ]
  },
  {
   "cell_type": "code",
   "execution_count": 97,
   "id": "2967069f-0eb9-405d-9cc4-d8c2c5e036e5",
   "metadata": {
    "tags": []
   },
   "outputs": [],
   "source": [
    "def BMI_calculation(BMI):\n",
    "    if (BMI) < 23 :\n",
    "        return '정상체중'\n",
    "    elif 23 <= (BMI) < 25 :\n",
    "        return '과체중'\n",
    "    elif 25 <= (BMI) < 30 :\n",
    "        return '1단계비만'\n",
    "    elif 30 <= (BMI) <35 : \n",
    "        return '2단계비만'\n",
    "    elif 35 <= (BMI) : \n",
    "        return '고도비만'\n",
    "    else :\n",
    "        return '측정이상'\n",
    "\n",
    "df_ROSF['BMI_범위'] = df_ROSF['BMI'].apply(BMI_calculation)"
   ]
  },
  {
   "cell_type": "code",
   "execution_count": 98,
   "id": "804ce988-2eb2-450d-9578-7874bb99f7a7",
   "metadata": {
    "tags": []
   },
   "outputs": [
    {
     "data": {
      "text/plain": [
       "BMI_범위\n",
       "과체중      821\n",
       "정상체중     607\n",
       "1단계비만    403\n",
       "2단계비만     58\n",
       "고도비만       5\n",
       "Name: count, dtype: int64"
      ]
     },
     "execution_count": 98,
     "metadata": {},
     "output_type": "execute_result"
    }
   ],
   "source": [
    "df_ROSF['BMI_범위'].value_counts()"
   ]
  },
  {
   "cell_type": "code",
   "execution_count": 99,
   "id": "72716728-1aee-40d2-ab07-4a4588ff12ac",
   "metadata": {
    "tags": []
   },
   "outputs": [],
   "source": [
    "df_ROSF_normal = df_ROSF[(df_ROSF['BMI_범위'] == '정상체중')]\n",
    "df_ROSF_over = df_ROSF[(df_ROSF['BMI_범위'] == '과체중')]\n",
    "df_ROSF_1stover = df_ROSF[(df_ROSF['BMI_범위'] == '1단계비만')]\n",
    "df_ROSF_2ndover = df_ROSF[(df_ROSF['BMI_범위'] == '2단계비만')]\n",
    "df_ROSF_higher = df_ROSF[(df_ROSF['BMI_범위'] == '고도비만')]"
   ]
  },
  {
   "cell_type": "code",
   "execution_count": 100,
   "id": "2c4a7440-bdef-4aa2-9e93-0a6b446af162",
   "metadata": {
    "tags": []
   },
   "outputs": [
    {
     "data": {
      "text/plain": [
       "KruskalResult(statistic=5.319486992027895, pvalue=0.2560582211192575)"
      ]
     },
     "execution_count": 100,
     "metadata": {},
     "output_type": "execute_result"
    }
   ],
   "source": [
    "stats.kruskal(df_ROSF_normal['입원기간'], df_ROSF_over['입원기간'], df_ROSF_1stover['입원기간'], df_ROSF_2ndover['입원기간'], df_ROSF_higher['입원기간'])"
   ]
  },
  {
   "cell_type": "code",
   "execution_count": 101,
   "id": "87d22c07-9810-47f2-bef3-98eef50cab16",
   "metadata": {
    "tags": []
   },
   "outputs": [],
   "source": [
    "df_ROSF_BMI_in = df_ROSF[(df_ROSF['입원기간'] <= 4 )]\n",
    "df_ROSF_BMI_inover = df_ROSF[(df_ROSF['입원기간'] > 4 )]"
   ]
  },
  {
   "cell_type": "code",
   "execution_count": 102,
   "id": "445cb489-45e8-4486-bd1c-f32c52cceb36",
   "metadata": {
    "tags": []
   },
   "outputs": [
    {
     "data": {
      "text/plain": [
       "BMI_범위\n",
       "과체중      815\n",
       "정상체중     591\n",
       "1단계비만    390\n",
       "2단계비만     56\n",
       "고도비만       5\n",
       "Name: count, dtype: int64"
      ]
     },
     "execution_count": 102,
     "metadata": {},
     "output_type": "execute_result"
    }
   ],
   "source": [
    "df_ROSF_BMI_in['BMI_범위'].value_counts()"
   ]
  },
  {
   "cell_type": "code",
   "execution_count": 103,
   "id": "b2cc6560-5b61-45e6-a671-4e7bc7495d2e",
   "metadata": {
    "tags": []
   },
   "outputs": [],
   "source": [
    "## 4주 이하\n",
    "df_ROSF_in_normal = df_ROSF_BMI_in[(df_ROSF_BMI_in['BMI_범위'] == '정상체중')]\n",
    "df_ROSF_in_over = df_ROSF_BMI_in[(df_ROSF_BMI_in['BMI_범위'] == '과체중')]\n",
    "df_ROSF_in_1stover = df_ROSF_BMI_in[(df_ROSF_BMI_in['BMI_범위'] == '1단계비만')]\n",
    "df_ROSF_in_2ndover = df_ROSF_BMI_in[(df_ROSF_BMI_in['BMI_범위'] == '2단계비만')]\n",
    "df_ROSF_in_higher = df_ROSF_BMI_in[(df_ROSF_BMI_in['BMI_범위'] == '고도비만')]"
   ]
  },
  {
   "cell_type": "code",
   "execution_count": 104,
   "id": "e35f4a79-895e-46b0-af49-0ff1897d79df",
   "metadata": {
    "tags": []
   },
   "outputs": [
    {
     "data": {
      "text/plain": [
       "KruskalResult(statistic=6.2315492250707285, pvalue=0.18251050336657482)"
      ]
     },
     "execution_count": 104,
     "metadata": {},
     "output_type": "execute_result"
    }
   ],
   "source": [
    "stats.kruskal(df_ROSF_in_normal['입원기간'], df_ROSF_in_over['입원기간'], df_ROSF_in_1stover['입원기간'], df_ROSF_in_2ndover['입원기간'], df_ROSF_in_higher['입원기간'])"
   ]
  },
  {
   "cell_type": "code",
   "execution_count": 105,
   "id": "6abb8de1-c396-476e-90e0-4bc01db19e7c",
   "metadata": {
    "tags": []
   },
   "outputs": [
    {
     "data": {
      "text/plain": [
       "BMI_범위\n",
       "정상체중     16\n",
       "1단계비만    13\n",
       "과체중       6\n",
       "2단계비만     2\n",
       "Name: count, dtype: int64"
      ]
     },
     "execution_count": 105,
     "metadata": {},
     "output_type": "execute_result"
    }
   ],
   "source": [
    "df_ROSF_BMI_inover['BMI_범위'].value_counts()"
   ]
  },
  {
   "cell_type": "code",
   "execution_count": 106,
   "id": "eb60e7c3-ed34-4e61-9a1b-7d1221085fbf",
   "metadata": {
    "tags": []
   },
   "outputs": [],
   "source": [
    "## 4주 초과\n",
    "df_ROSF_BMI_inover_normal = df_ROSF_BMI_inover[(df_ROSF_BMI_inover['BMI_범위'] == '정상체중')]\n",
    "df_ROSF_BMI_inover_over = df_ROSF_BMI_inover[(df_ROSF_BMI_inover['BMI_범위'] == '과체중')]\n",
    "df_ROSF_BMI_inover_1stover = df_ROSF_BMI_inover[(df_ROSF_BMI_inover['BMI_범위'] == '1단계비만')]\n",
    "df_ROSF_BMI_inover_2ndover = df_ROSF_BMI_inover[(df_ROSF_BMI_inover['BMI_범위'] == '2단계비만')]"
   ]
  },
  {
   "cell_type": "code",
   "execution_count": 107,
   "id": "4e17c53d-6405-4571-bdd6-fca46647a3b6",
   "metadata": {
    "tags": []
   },
   "outputs": [
    {
     "data": {
      "text/plain": [
       "KruskalResult(statistic=3.6636345185157997, pvalue=0.3001511234547607)"
      ]
     },
     "execution_count": 107,
     "metadata": {},
     "output_type": "execute_result"
    }
   ],
   "source": [
    "stats.kruskal(df_ROSF_BMI_inover_normal['입원기간'], df_ROSF_BMI_inover_over['입원기간'], df_ROSF_BMI_inover_1stover['입원기간'], df_ROSF_BMI_inover_2ndover['입원기간'])"
   ]
  },
  {
   "cell_type": "code",
   "execution_count": null,
   "id": "5fcd0e89-e55c-4401-9a57-a49781471478",
   "metadata": {},
   "outputs": [],
   "source": []
  }
 ],
 "metadata": {
  "kernelspec": {
   "display_name": "Python 3 (ipykernel)",
   "language": "python",
   "name": "python3"
  },
  "language_info": {
   "codemirror_mode": {
    "name": "ipython",
    "version": 3
   },
   "file_extension": ".py",
   "mimetype": "text/x-python",
   "name": "python",
   "nbconvert_exporter": "python",
   "pygments_lexer": "ipython3",
   "version": "3.11.4"
  }
 },
 "nbformat": 4,
 "nbformat_minor": 5
}
