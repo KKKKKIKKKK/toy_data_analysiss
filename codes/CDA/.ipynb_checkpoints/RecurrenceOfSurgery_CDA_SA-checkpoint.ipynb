{
 "cells": [
  {
   "cell_type": "code",
   "execution_count": 1,
   "id": "e330e038-dd0a-45c3-80e4-9c363c6db413",
   "metadata": {
    "tags": []
   },
   "outputs": [],
   "source": [
    "import matplotlib.pyplot as plt\n",
    "import matplotlib as mpl\n",
    "mpl.rc('font',family='Malgun Gothic')\n",
    "import seaborn as sns\n",
    "import pandas as pd\n",
    "import scipy.stats as stats\n",
    "import numpy as np"
   ]
  },
  {
   "cell_type": "code",
   "execution_count": 2,
   "id": "c4404184-579e-4a36-bd37-2e33adb3b585",
   "metadata": {
    "tags": []
   },
   "outputs": [
    {
     "data": {
      "text/html": [
       "<div>\n",
       "<style scoped>\n",
       "    .dataframe tbody tr th:only-of-type {\n",
       "        vertical-align: middle;\n",
       "    }\n",
       "\n",
       "    .dataframe tbody tr th {\n",
       "        vertical-align: top;\n",
       "    }\n",
       "\n",
       "    .dataframe thead th {\n",
       "        text-align: right;\n",
       "    }\n",
       "</style>\n",
       "<table border=\"1\" class=\"dataframe\">\n",
       "  <thead>\n",
       "    <tr style=\"text-align: right;\">\n",
       "      <th></th>\n",
       "      <th>Unnamed: 0.1</th>\n",
       "      <th>Unnamed: 0</th>\n",
       "      <th>환자ID</th>\n",
       "      <th>신장</th>\n",
       "      <th>체중</th>\n",
       "      <th>연령</th>\n",
       "      <th>성별</th>\n",
       "      <th>Large Lymphocyte</th>\n",
       "      <th>우울증여부</th>\n",
       "      <th>종양진행여부</th>\n",
       "      <th>...</th>\n",
       "      <th>디스크위치</th>\n",
       "      <th>척추이동척도</th>\n",
       "      <th>척추전방위증</th>\n",
       "      <th>수술시간</th>\n",
       "      <th>수술실패여부</th>\n",
       "      <th>수술기법</th>\n",
       "      <th>흡연여부</th>\n",
       "      <th>Instability</th>\n",
       "      <th>혈액형</th>\n",
       "      <th>입원기간</th>\n",
       "    </tr>\n",
       "  </thead>\n",
       "  <tbody>\n",
       "    <tr>\n",
       "      <th>0</th>\n",
       "      <td>0</td>\n",
       "      <td>0</td>\n",
       "      <td>1PT</td>\n",
       "      <td>163</td>\n",
       "      <td>60.3</td>\n",
       "      <td>66</td>\n",
       "      <td>2</td>\n",
       "      <td>22.8</td>\n",
       "      <td>0</td>\n",
       "      <td>0</td>\n",
       "      <td>...</td>\n",
       "      <td>4</td>\n",
       "      <td>Down</td>\n",
       "      <td>0</td>\n",
       "      <td>68.0</td>\n",
       "      <td>0</td>\n",
       "      <td>TELD</td>\n",
       "      <td>0</td>\n",
       "      <td>0</td>\n",
       "      <td>RH+A</td>\n",
       "      <td>2</td>\n",
       "    </tr>\n",
       "    <tr>\n",
       "      <th>1</th>\n",
       "      <td>1</td>\n",
       "      <td>1</td>\n",
       "      <td>2PT</td>\n",
       "      <td>171</td>\n",
       "      <td>71.7</td>\n",
       "      <td>47</td>\n",
       "      <td>1</td>\n",
       "      <td>44.9</td>\n",
       "      <td>0</td>\n",
       "      <td>0</td>\n",
       "      <td>...</td>\n",
       "      <td>4</td>\n",
       "      <td>Up</td>\n",
       "      <td>0</td>\n",
       "      <td>31.0</td>\n",
       "      <td>0</td>\n",
       "      <td>TELD</td>\n",
       "      <td>0</td>\n",
       "      <td>0</td>\n",
       "      <td>RH+A</td>\n",
       "      <td>1</td>\n",
       "    </tr>\n",
       "  </tbody>\n",
       "</table>\n",
       "<p>2 rows × 22 columns</p>\n",
       "</div>"
      ],
      "text/plain": [
       "   Unnamed: 0.1  Unnamed: 0 환자ID   신장    체중  연령  성별  Large Lymphocyte  우울증여부  \\\n",
       "0             0           0  1PT  163  60.3  66   2              22.8      0   \n",
       "1             1           1  2PT  171  71.7  47   1              44.9      0   \n",
       "\n",
       "   종양진행여부  ...  디스크위치  척추이동척도  척추전방위증  수술시간  수술실패여부  수술기법  흡연여부 Instability  \\\n",
       "0       0  ...      4    Down       0  68.0       0  TELD     0           0   \n",
       "1       0  ...      4      Up       0  31.0       0  TELD     0           0   \n",
       "\n",
       "    혈액형  입원기간  \n",
       "0  RH+A     2  \n",
       "1  RH+A     1  \n",
       "\n",
       "[2 rows x 22 columns]"
      ]
     },
     "execution_count": 2,
     "metadata": {},
     "output_type": "execute_result"
    }
   ],
   "source": [
    "df_ROSF = pd.read_csv('../../datasets/RecurrenceOfSurgery_Final.csv')\n",
    "df_ROSF[:2]"
   ]
  },
  {
   "cell_type": "markdown",
   "id": "893b774a-c5f8-467a-88ff-7c40c370776c",
   "metadata": {
    "tags": []
   },
   "source": [
    "#### 연령-입원기간\n",
    "- 입원기간 4주 이하 (연속-비정규)\n",
    "        - 분석내용: 연령이 입원기간(4주이하)에 영향을 비치는가?\n",
    "            - 귀무: 연령에 따른 입원기간 영향 없음\n",
    "            - 대립: 연령에 따른 입원기간 영향 있음\n",
    "        → 분석 결론 \n",
    "            - ⇒ stats.spearmanr(df_ROSF_in['연령'], df_ROSF_in['입원기간'])\n",
    "                - SignificanceResult(statistic=0.0703582597408785, pvalue=0.0034028301768509323)\n",
    "            - 대립이 참. p-value < 0.05\n",
    "            - 입원기간 4주 이하만 보면 연령이 입원기간에 영향이 있다고 나옴.. \n",
    "- 입원기간 4주 초과 (연속-비정규)\n",
    "        - 분석내용: 연령이 입원기간(4주초과)에 영향을 비치는가?\n",
    "            - 귀무: 연령에 따른 입원기간 영향 없음\n",
    "            - 대립: 연령에 따른 입원기간 영향 있음\n",
    "        → 분석 결론 \n",
    "            - ⇒ stats.spearmanr(df_ROSF_in['연령'], df_ROSF_in['입원기간'])\n",
    "                - SignificanceResult(statistic=-0.20574785830816023, pvalue=0.3032086035810698)\n",
    "            - 대립이 참. p-value > 0.05\n",
    "            - 입원기간 4주 초과만 보면 연령이 입원기간에 영향이 없음."
   ]
  },
  {
   "cell_type": "code",
   "execution_count": 3,
   "id": "91dc1229-5f23-4e07-87a1-8c8ea8e4fd34",
   "metadata": {
    "tags": []
   },
   "outputs": [],
   "source": [
    "Q1_in = df_ROSF['입원기간'].describe()['25%']\n",
    "Q3_in = df_ROSF['입원기간'].describe()['75%']\n",
    "IQR_in = Q3_in-Q1_in"
   ]
  },
  {
   "cell_type": "code",
   "execution_count": 4,
   "id": "b74f0757-b17b-4cb6-a8ff-82bfd9828603",
   "metadata": {
    "tags": []
   },
   "outputs": [
    {
     "data": {
      "text/plain": [
       "(-0.5, 3.5)"
      ]
     },
     "execution_count": 4,
     "metadata": {},
     "output_type": "execute_result"
    }
   ],
   "source": [
    "up = Q3_in + 1.5 *IQR_in\n",
    "down = Q1_in - 1.5 *IQR_in\n",
    "down, up"
   ]
  },
  {
   "cell_type": "code",
   "execution_count": 5,
   "id": "afcbb1b6-e9fe-4348-9a4d-f79ee61e4561",
   "metadata": {
    "tags": []
   },
   "outputs": [],
   "source": [
    "## 입원기간 4주 이하\n",
    "condition = (df_ROSF['입원기간'] <= 4)\n",
    "df_ROSF_in = df_ROSF[condition]"
   ]
  },
  {
   "cell_type": "code",
   "execution_count": 6,
   "id": "79e16578-fb75-40b2-9ed1-030743ed02fc",
   "metadata": {
    "tags": []
   },
   "outputs": [
    {
     "data": {
      "text/plain": [
       "Unnamed: 0.1         0\n",
       "Unnamed: 0           0\n",
       "환자ID                 0\n",
       "신장                   0\n",
       "체중                   0\n",
       "연령                   0\n",
       "성별                   0\n",
       "Large Lymphocyte     0\n",
       "우울증여부                0\n",
       "종양진행여부               0\n",
       "재발여부                 0\n",
       "디스크단면적               1\n",
       "디스크위치                0\n",
       "척추이동척도               0\n",
       "척추전방위증               0\n",
       "수술시간                52\n",
       "수술실패여부               0\n",
       "수술기법                73\n",
       "흡연여부                 0\n",
       "Instability          0\n",
       "혈액형                  0\n",
       "입원기간                 0\n",
       "dtype: int64"
      ]
     },
     "execution_count": 6,
     "metadata": {},
     "output_type": "execute_result"
    }
   ],
   "source": [
    "df_ROSF_in.isnull().sum()"
   ]
  },
  {
   "cell_type": "code",
   "execution_count": 7,
   "id": "06a39f28-ac98-493b-94ab-63ac7db2f65c",
   "metadata": {
    "tags": []
   },
   "outputs": [],
   "source": [
    "df_ROSF_in = df_ROSF_in.dropna()"
   ]
  },
  {
   "cell_type": "code",
   "execution_count": 8,
   "id": "74f55241-2dd6-46a5-8995-6dfcf0919860",
   "metadata": {
    "tags": []
   },
   "outputs": [
    {
     "data": {
      "text/plain": [
       "ShapiroResult(statistic=0.6962171196937561, pvalue=0.0)"
      ]
     },
     "execution_count": 8,
     "metadata": {},
     "output_type": "execute_result"
    }
   ],
   "source": [
    "stats.shapiro(df_ROSF_in['입원기간'])"
   ]
  },
  {
   "cell_type": "code",
   "execution_count": 9,
   "id": "f4abae98-e9f2-48a9-9cc5-029687ac65dd",
   "metadata": {
    "tags": []
   },
   "outputs": [
    {
     "data": {
      "text/html": [
       "<div>\n",
       "<style scoped>\n",
       "    .dataframe tbody tr th:only-of-type {\n",
       "        vertical-align: middle;\n",
       "    }\n",
       "\n",
       "    .dataframe tbody tr th {\n",
       "        vertical-align: top;\n",
       "    }\n",
       "\n",
       "    .dataframe thead th {\n",
       "        text-align: right;\n",
       "    }\n",
       "</style>\n",
       "<table border=\"1\" class=\"dataframe\">\n",
       "  <thead>\n",
       "    <tr style=\"text-align: right;\">\n",
       "      <th></th>\n",
       "      <th>입원기간</th>\n",
       "      <th>연령</th>\n",
       "    </tr>\n",
       "  </thead>\n",
       "  <tbody>\n",
       "    <tr>\n",
       "      <th>입원기간</th>\n",
       "      <td>1.000000</td>\n",
       "      <td>0.075214</td>\n",
       "    </tr>\n",
       "    <tr>\n",
       "      <th>연령</th>\n",
       "      <td>0.075214</td>\n",
       "      <td>1.000000</td>\n",
       "    </tr>\n",
       "  </tbody>\n",
       "</table>\n",
       "</div>"
      ],
      "text/plain": [
       "          입원기간        연령\n",
       "입원기간  1.000000  0.075214\n",
       "연령    0.075214  1.000000"
      ]
     },
     "execution_count": 9,
     "metadata": {},
     "output_type": "execute_result"
    }
   ],
   "source": [
    "df_ROSF_in[['입원기간', '연령']].corr()"
   ]
  },
  {
   "cell_type": "code",
   "execution_count": 10,
   "id": "1dee339b-7ba9-468a-8b70-0995dc677eb6",
   "metadata": {
    "tags": []
   },
   "outputs": [
    {
     "data": {
      "text/plain": [
       "SignificanceResult(statistic=0.0703582597408785, pvalue=0.0034028301768509323)"
      ]
     },
     "execution_count": 10,
     "metadata": {},
     "output_type": "execute_result"
    }
   ],
   "source": [
    "stats.spearmanr(df_ROSF_in['연령'], df_ROSF_in['입원기간'])"
   ]
  },
  {
   "cell_type": "code",
   "execution_count": 11,
   "id": "c63992f8-cdaf-408d-9981-61dc02972eef",
   "metadata": {
    "tags": []
   },
   "outputs": [],
   "source": [
    "conditions = (df_ROSF['입원기간'] > 4)\n",
    "df_ROSF_inover = df_ROSF[conditions]"
   ]
  },
  {
   "cell_type": "code",
   "execution_count": 12,
   "id": "f49958f6-491c-4709-baef-0f89b5eff846",
   "metadata": {
    "tags": []
   },
   "outputs": [
    {
     "data": {
      "text/plain": [
       "Unnamed: 0.1        0\n",
       "Unnamed: 0          0\n",
       "환자ID                0\n",
       "신장                  0\n",
       "체중                  0\n",
       "연령                  0\n",
       "성별                  0\n",
       "Large Lymphocyte    0\n",
       "우울증여부               0\n",
       "종양진행여부              0\n",
       "재발여부                0\n",
       "디스크단면적              0\n",
       "디스크위치               0\n",
       "척추이동척도              0\n",
       "척추전방위증              0\n",
       "수술시간                2\n",
       "수술실패여부              0\n",
       "수술기법                8\n",
       "흡연여부                0\n",
       "Instability         0\n",
       "혈액형                 0\n",
       "입원기간                0\n",
       "dtype: int64"
      ]
     },
     "execution_count": 12,
     "metadata": {},
     "output_type": "execute_result"
    }
   ],
   "source": [
    "df_ROSF_inover.isnull().sum()"
   ]
  },
  {
   "cell_type": "code",
   "execution_count": 13,
   "id": "7d06edc5-59af-4b9f-84da-db82d4834469",
   "metadata": {
    "tags": []
   },
   "outputs": [],
   "source": [
    "df_ROSF_inover=df_ROSF_inover.dropna()"
   ]
  },
  {
   "cell_type": "code",
   "execution_count": 14,
   "id": "eedec403-a695-46d5-9590-335ffc7ad605",
   "metadata": {
    "tags": []
   },
   "outputs": [
    {
     "data": {
      "text/plain": [
       "Unnamed: 0.1        0\n",
       "Unnamed: 0          0\n",
       "환자ID                0\n",
       "신장                  0\n",
       "체중                  0\n",
       "연령                  0\n",
       "성별                  0\n",
       "Large Lymphocyte    0\n",
       "우울증여부               0\n",
       "종양진행여부              0\n",
       "재발여부                0\n",
       "디스크단면적              0\n",
       "디스크위치               0\n",
       "척추이동척도              0\n",
       "척추전방위증              0\n",
       "수술시간                0\n",
       "수술실패여부              0\n",
       "수술기법                0\n",
       "흡연여부                0\n",
       "Instability         0\n",
       "혈액형                 0\n",
       "입원기간                0\n",
       "dtype: int64"
      ]
     },
     "execution_count": 14,
     "metadata": {},
     "output_type": "execute_result"
    }
   ],
   "source": [
    "df_ROSF_inover.isnull().sum()"
   ]
  },
  {
   "cell_type": "code",
   "execution_count": 15,
   "id": "c5f2bcb3-81ed-4054-b643-752ac94e153d",
   "metadata": {
    "tags": []
   },
   "outputs": [
    {
     "data": {
      "text/plain": [
       "ShapiroResult(statistic=0.5867187976837158, pvalue=1.4494698064027034e-07)"
      ]
     },
     "execution_count": 15,
     "metadata": {},
     "output_type": "execute_result"
    }
   ],
   "source": [
    "stats.shapiro(df_ROSF_inover['입원기간'])"
   ]
  },
  {
   "cell_type": "code",
   "execution_count": 16,
   "id": "cd104dfa-e824-40c1-9b8d-29c89cede850",
   "metadata": {
    "tags": []
   },
   "outputs": [
    {
     "data": {
      "text/html": [
       "<div>\n",
       "<style scoped>\n",
       "    .dataframe tbody tr th:only-of-type {\n",
       "        vertical-align: middle;\n",
       "    }\n",
       "\n",
       "    .dataframe tbody tr th {\n",
       "        vertical-align: top;\n",
       "    }\n",
       "\n",
       "    .dataframe thead th {\n",
       "        text-align: right;\n",
       "    }\n",
       "</style>\n",
       "<table border=\"1\" class=\"dataframe\">\n",
       "  <thead>\n",
       "    <tr style=\"text-align: right;\">\n",
       "      <th></th>\n",
       "      <th>입원기간</th>\n",
       "      <th>연령</th>\n",
       "    </tr>\n",
       "  </thead>\n",
       "  <tbody>\n",
       "    <tr>\n",
       "      <th>입원기간</th>\n",
       "      <td>1.000000</td>\n",
       "      <td>-0.060015</td>\n",
       "    </tr>\n",
       "    <tr>\n",
       "      <th>연령</th>\n",
       "      <td>-0.060015</td>\n",
       "      <td>1.000000</td>\n",
       "    </tr>\n",
       "  </tbody>\n",
       "</table>\n",
       "</div>"
      ],
      "text/plain": [
       "          입원기간        연령\n",
       "입원기간  1.000000 -0.060015\n",
       "연령   -0.060015  1.000000"
      ]
     },
     "execution_count": 16,
     "metadata": {},
     "output_type": "execute_result"
    }
   ],
   "source": [
    "df_ROSF_inover[['입원기간', '연령']].corr()"
   ]
  },
  {
   "cell_type": "code",
   "execution_count": 17,
   "id": "7793f141-37dd-478a-b641-d149c5a5b2d3",
   "metadata": {
    "tags": []
   },
   "outputs": [
    {
     "data": {
      "text/plain": [
       "SignificanceResult(statistic=-0.20574785830816023, pvalue=0.3032086035810698)"
      ]
     },
     "execution_count": 17,
     "metadata": {},
     "output_type": "execute_result"
    }
   ],
   "source": [
    "stats.spearmanr(df_ROSF_inover['연령'], df_ROSF_inover['입원기간'])"
   ]
  },
  {
   "cell_type": "markdown",
   "id": "9861e72a-33ac-4825-b269-336b8a6fc810",
   "metadata": {
    "tags": []
   },
   "source": [
    "#### Large Lymphocyte-입원기간\n",
    "- 연속-연속?\n",
    "- 정상 범위 : 15.00 ~45.00 * 10^2\n",
    "- 1. 아무 조건 걸지 않았을때. \n",
    "    - Large Lymphocyte이 입원기간에 영향을 미치는가?\n",
    "        - 귀무: Large Lymphocyte이 입원기간에 영향 없음\n",
    "        - 대립: Large Lymphocyte이 입원기간에 영향 있음\n",
    "             → 분석 결론 \n",
    "            ⇒ stats.spearmanr(df_ROSF['Large Lymphocyte'], df_ROSF['입원기간'])\n",
    "           SignificanceResult(statistic=0.017373737058603216, pvalue=0.44985018280917977)\n",
    "            - 귀무 참. p-value > 0.05\n",
    "- 2. 입원기간 4주 이하 (연속-비정규)\n",
    "    - 분석내용: Large Lymphocyte이 입원기간에 영향을 미치는가?\n",
    "        - 귀무: Large Lymphocyte이 입원기간에 영향 없음\n",
    "        - 대립: Large Lymphocyte이 입원기간에 영향 있음\n",
    "            → 분석 결론 \n",
    "            - ⇒ stats.spearmanr(df_ROSF_in['Large Lymphocyte'], df_ROSF_in['입원기간'])\n",
    "               - SignificanceResult(statistic=0.03858566905743811, pvalue=0.10853654162399108)\n",
    "            - 귀무 참. p-value > 0.05\n",
    "- 3. 입원기간 4주 초과 (연속-비정규)\n",
    "     - 분석내용: Large Lymphocyte이 입원기간에 영향을 미치는가?\n",
    "        - 귀무: Large Lymphocyte이 입원기간에 영향 없음\n",
    "        - 대립: Large Lymphocyte이 입원기간에 영향 있음\n",
    "            → 분석 결론 \n",
    "            - ⇒ stats.spearmanr(df_ROSF_inover['Large Lymphocyte'], df_ROSF_inover['입원기간'])\n",
    "                - SignificanceResult(statistic=-0.2140438063081117, pvalue=0.2836919583915103)\n",
    "- Large Lymphocyte와 입원기간은 영향이 없는것으로 보여짐. \n",
    "- Large Lymphocyte의 중앙값을 기준으로 검증했을때도 영향이 보이지 않음"
   ]
  },
  {
   "cell_type": "code",
   "execution_count": 18,
   "id": "35c804dc-697f-4c91-93f6-e9c764b4df6d",
   "metadata": {
    "tags": []
   },
   "outputs": [
    {
     "data": {
      "text/plain": [
       "(30.6, 48.6, 18.0, 40.2)"
      ]
     },
     "execution_count": 18,
     "metadata": {},
     "output_type": "execute_result"
    }
   ],
   "source": [
    "Q1_L = df_ROSF_in['Large Lymphocyte'].describe()['25%']\n",
    "Q3_L = df_ROSF_in['Large Lymphocyte'].describe()['75%']\n",
    "QM_L = df_ROSF_in['Large Lymphocyte'].describe()['50%']\n",
    "IQR_L = Q3_L-Q1_L\n",
    "Q1_L, Q3_L , IQR_L, QM_L"
   ]
  },
  {
   "cell_type": "code",
   "execution_count": 19,
   "id": "e7586f86-5bdf-4758-b28f-d14935cb4d65",
   "metadata": {
    "tags": []
   },
   "outputs": [
    {
     "data": {
      "text/plain": [
       "(3.6000000000000014, 75.6)"
      ]
     },
     "execution_count": 19,
     "metadata": {},
     "output_type": "execute_result"
    }
   ],
   "source": [
    "up_L = Q3_L + 1.5 *IQR_L\n",
    "down_L = Q1_L - 1.5 *IQR_L\n",
    "down_L, up_L"
   ]
  },
  {
   "cell_type": "code",
   "execution_count": 20,
   "id": "a2cccc17-cdda-4236-ba7c-7c772a4a83a3",
   "metadata": {
    "tags": []
   },
   "outputs": [
    {
     "data": {
      "text/html": [
       "<div>\n",
       "<style scoped>\n",
       "    .dataframe tbody tr th:only-of-type {\n",
       "        vertical-align: middle;\n",
       "    }\n",
       "\n",
       "    .dataframe tbody tr th {\n",
       "        vertical-align: top;\n",
       "    }\n",
       "\n",
       "    .dataframe thead th {\n",
       "        text-align: right;\n",
       "    }\n",
       "</style>\n",
       "<table border=\"1\" class=\"dataframe\">\n",
       "  <thead>\n",
       "    <tr style=\"text-align: right;\">\n",
       "      <th></th>\n",
       "      <th>Unnamed: 0.1</th>\n",
       "      <th>Unnamed: 0</th>\n",
       "      <th>환자ID</th>\n",
       "      <th>신장</th>\n",
       "      <th>체중</th>\n",
       "      <th>연령</th>\n",
       "      <th>성별</th>\n",
       "      <th>Large Lymphocyte</th>\n",
       "      <th>우울증여부</th>\n",
       "      <th>종양진행여부</th>\n",
       "      <th>...</th>\n",
       "      <th>디스크위치</th>\n",
       "      <th>척추이동척도</th>\n",
       "      <th>척추전방위증</th>\n",
       "      <th>수술시간</th>\n",
       "      <th>수술실패여부</th>\n",
       "      <th>수술기법</th>\n",
       "      <th>흡연여부</th>\n",
       "      <th>Instability</th>\n",
       "      <th>혈액형</th>\n",
       "      <th>입원기간</th>\n",
       "    </tr>\n",
       "  </thead>\n",
       "  <tbody>\n",
       "    <tr>\n",
       "      <th>1</th>\n",
       "      <td>1</td>\n",
       "      <td>1</td>\n",
       "      <td>2PT</td>\n",
       "      <td>171</td>\n",
       "      <td>71.7</td>\n",
       "      <td>47</td>\n",
       "      <td>1</td>\n",
       "      <td>44.9</td>\n",
       "      <td>0</td>\n",
       "      <td>0</td>\n",
       "      <td>...</td>\n",
       "      <td>4</td>\n",
       "      <td>Up</td>\n",
       "      <td>0</td>\n",
       "      <td>31.0</td>\n",
       "      <td>0</td>\n",
       "      <td>TELD</td>\n",
       "      <td>0</td>\n",
       "      <td>0</td>\n",
       "      <td>RH+A</td>\n",
       "      <td>1</td>\n",
       "    </tr>\n",
       "    <tr>\n",
       "      <th>2</th>\n",
       "      <td>2</td>\n",
       "      <td>2</td>\n",
       "      <td>3PT</td>\n",
       "      <td>178</td>\n",
       "      <td>77.1</td>\n",
       "      <td>39</td>\n",
       "      <td>1</td>\n",
       "      <td>53.0</td>\n",
       "      <td>0</td>\n",
       "      <td>0</td>\n",
       "      <td>...</td>\n",
       "      <td>4</td>\n",
       "      <td>Down</td>\n",
       "      <td>0</td>\n",
       "      <td>78.0</td>\n",
       "      <td>0</td>\n",
       "      <td>TELD</td>\n",
       "      <td>0</td>\n",
       "      <td>0</td>\n",
       "      <td>RH+B</td>\n",
       "      <td>1</td>\n",
       "    </tr>\n",
       "    <tr>\n",
       "      <th>3</th>\n",
       "      <td>3</td>\n",
       "      <td>3</td>\n",
       "      <td>4PT</td>\n",
       "      <td>174</td>\n",
       "      <td>74.2</td>\n",
       "      <td>40</td>\n",
       "      <td>1</td>\n",
       "      <td>54.7</td>\n",
       "      <td>0</td>\n",
       "      <td>0</td>\n",
       "      <td>...</td>\n",
       "      <td>4</td>\n",
       "      <td>Down</td>\n",
       "      <td>0</td>\n",
       "      <td>73.0</td>\n",
       "      <td>0</td>\n",
       "      <td>TELD</td>\n",
       "      <td>0</td>\n",
       "      <td>0</td>\n",
       "      <td>RH+O</td>\n",
       "      <td>1</td>\n",
       "    </tr>\n",
       "    <tr>\n",
       "      <th>4</th>\n",
       "      <td>4</td>\n",
       "      <td>4</td>\n",
       "      <td>5PT</td>\n",
       "      <td>183</td>\n",
       "      <td>80.7</td>\n",
       "      <td>42</td>\n",
       "      <td>1</td>\n",
       "      <td>53.8</td>\n",
       "      <td>0</td>\n",
       "      <td>0</td>\n",
       "      <td>...</td>\n",
       "      <td>4</td>\n",
       "      <td>Up</td>\n",
       "      <td>0</td>\n",
       "      <td>29.0</td>\n",
       "      <td>0</td>\n",
       "      <td>TELD</td>\n",
       "      <td>0</td>\n",
       "      <td>0</td>\n",
       "      <td>RH+A</td>\n",
       "      <td>2</td>\n",
       "    </tr>\n",
       "    <tr>\n",
       "      <th>7</th>\n",
       "      <td>7</td>\n",
       "      <td>7</td>\n",
       "      <td>8PT</td>\n",
       "      <td>183</td>\n",
       "      <td>81.2</td>\n",
       "      <td>55</td>\n",
       "      <td>1</td>\n",
       "      <td>43.8</td>\n",
       "      <td>1</td>\n",
       "      <td>0</td>\n",
       "      <td>...</td>\n",
       "      <td>4</td>\n",
       "      <td>Middle</td>\n",
       "      <td>0</td>\n",
       "      <td>85.0</td>\n",
       "      <td>0</td>\n",
       "      <td>TELD</td>\n",
       "      <td>1</td>\n",
       "      <td>0</td>\n",
       "      <td>RH+B</td>\n",
       "      <td>1</td>\n",
       "    </tr>\n",
       "    <tr>\n",
       "      <th>...</th>\n",
       "      <td>...</td>\n",
       "      <td>...</td>\n",
       "      <td>...</td>\n",
       "      <td>...</td>\n",
       "      <td>...</td>\n",
       "      <td>...</td>\n",
       "      <td>...</td>\n",
       "      <td>...</td>\n",
       "      <td>...</td>\n",
       "      <td>...</td>\n",
       "      <td>...</td>\n",
       "      <td>...</td>\n",
       "      <td>...</td>\n",
       "      <td>...</td>\n",
       "      <td>...</td>\n",
       "      <td>...</td>\n",
       "      <td>...</td>\n",
       "      <td>...</td>\n",
       "      <td>...</td>\n",
       "      <td>...</td>\n",
       "      <td>...</td>\n",
       "    </tr>\n",
       "    <tr>\n",
       "      <th>1845</th>\n",
       "      <td>1845</td>\n",
       "      <td>1845</td>\n",
       "      <td>1846PT</td>\n",
       "      <td>171</td>\n",
       "      <td>68.0</td>\n",
       "      <td>59</td>\n",
       "      <td>1</td>\n",
       "      <td>43.8</td>\n",
       "      <td>0</td>\n",
       "      <td>0</td>\n",
       "      <td>...</td>\n",
       "      <td>2</td>\n",
       "      <td>Middle</td>\n",
       "      <td>0</td>\n",
       "      <td>60.0</td>\n",
       "      <td>0</td>\n",
       "      <td>TELD</td>\n",
       "      <td>0</td>\n",
       "      <td>0</td>\n",
       "      <td>RH+AB</td>\n",
       "      <td>4</td>\n",
       "    </tr>\n",
       "    <tr>\n",
       "      <th>1849</th>\n",
       "      <td>1849</td>\n",
       "      <td>1849</td>\n",
       "      <td>1850PT</td>\n",
       "      <td>167</td>\n",
       "      <td>57.0</td>\n",
       "      <td>43</td>\n",
       "      <td>2</td>\n",
       "      <td>47.4</td>\n",
       "      <td>0</td>\n",
       "      <td>0</td>\n",
       "      <td>...</td>\n",
       "      <td>5</td>\n",
       "      <td>Middle</td>\n",
       "      <td>0</td>\n",
       "      <td>30.0</td>\n",
       "      <td>0</td>\n",
       "      <td>IELD</td>\n",
       "      <td>1</td>\n",
       "      <td>0</td>\n",
       "      <td>RH+A</td>\n",
       "      <td>2</td>\n",
       "    </tr>\n",
       "    <tr>\n",
       "      <th>1865</th>\n",
       "      <td>1865</td>\n",
       "      <td>1865</td>\n",
       "      <td>1866PT</td>\n",
       "      <td>151</td>\n",
       "      <td>56.0</td>\n",
       "      <td>64</td>\n",
       "      <td>2</td>\n",
       "      <td>43.0</td>\n",
       "      <td>0</td>\n",
       "      <td>0</td>\n",
       "      <td>...</td>\n",
       "      <td>4</td>\n",
       "      <td>Extremely down</td>\n",
       "      <td>0</td>\n",
       "      <td>20.0</td>\n",
       "      <td>0</td>\n",
       "      <td>IELD</td>\n",
       "      <td>0</td>\n",
       "      <td>1</td>\n",
       "      <td>RH+A</td>\n",
       "      <td>2</td>\n",
       "    </tr>\n",
       "    <tr>\n",
       "      <th>1866</th>\n",
       "      <td>1866</td>\n",
       "      <td>1866</td>\n",
       "      <td>1867PT</td>\n",
       "      <td>183</td>\n",
       "      <td>104.0</td>\n",
       "      <td>42</td>\n",
       "      <td>1</td>\n",
       "      <td>48.7</td>\n",
       "      <td>0</td>\n",
       "      <td>0</td>\n",
       "      <td>...</td>\n",
       "      <td>5</td>\n",
       "      <td>Middle</td>\n",
       "      <td>0</td>\n",
       "      <td>145.0</td>\n",
       "      <td>0</td>\n",
       "      <td>IELD</td>\n",
       "      <td>1</td>\n",
       "      <td>0</td>\n",
       "      <td>RH+B</td>\n",
       "      <td>2</td>\n",
       "    </tr>\n",
       "    <tr>\n",
       "      <th>1872</th>\n",
       "      <td>1872</td>\n",
       "      <td>1872</td>\n",
       "      <td>1873PT</td>\n",
       "      <td>185</td>\n",
       "      <td>64.0</td>\n",
       "      <td>21</td>\n",
       "      <td>1</td>\n",
       "      <td>42.4</td>\n",
       "      <td>0</td>\n",
       "      <td>0</td>\n",
       "      <td>...</td>\n",
       "      <td>4</td>\n",
       "      <td>Down</td>\n",
       "      <td>0</td>\n",
       "      <td>60.0</td>\n",
       "      <td>0</td>\n",
       "      <td>TELD</td>\n",
       "      <td>1</td>\n",
       "      <td>0</td>\n",
       "      <td>RH+A</td>\n",
       "      <td>2</td>\n",
       "    </tr>\n",
       "  </tbody>\n",
       "</table>\n",
       "<p>868 rows × 22 columns</p>\n",
       "</div>"
      ],
      "text/plain": [
       "      Unnamed: 0.1  Unnamed: 0    환자ID   신장     체중  연령  성별  Large Lymphocyte  \\\n",
       "1                1           1     2PT  171   71.7  47   1              44.9   \n",
       "2                2           2     3PT  178   77.1  39   1              53.0   \n",
       "3                3           3     4PT  174   74.2  40   1              54.7   \n",
       "4                4           4     5PT  183   80.7  42   1              53.8   \n",
       "7                7           7     8PT  183   81.2  55   1              43.8   \n",
       "...            ...         ...     ...  ...    ...  ..  ..               ...   \n",
       "1845          1845        1845  1846PT  171   68.0  59   1              43.8   \n",
       "1849          1849        1849  1850PT  167   57.0  43   2              47.4   \n",
       "1865          1865        1865  1866PT  151   56.0  64   2              43.0   \n",
       "1866          1866        1866  1867PT  183  104.0  42   1              48.7   \n",
       "1872          1872        1872  1873PT  185   64.0  21   1              42.4   \n",
       "\n",
       "      우울증여부  종양진행여부  ...  디스크위치          척추이동척도  척추전방위증   수술시간  수술실패여부  수술기법  \\\n",
       "1         0       0  ...      4              Up       0   31.0       0  TELD   \n",
       "2         0       0  ...      4            Down       0   78.0       0  TELD   \n",
       "3         0       0  ...      4            Down       0   73.0       0  TELD   \n",
       "4         0       0  ...      4              Up       0   29.0       0  TELD   \n",
       "7         1       0  ...      4          Middle       0   85.0       0  TELD   \n",
       "...     ...     ...  ...    ...             ...     ...    ...     ...   ...   \n",
       "1845      0       0  ...      2          Middle       0   60.0       0  TELD   \n",
       "1849      0       0  ...      5          Middle       0   30.0       0  IELD   \n",
       "1865      0       0  ...      4  Extremely down       0   20.0       0  IELD   \n",
       "1866      0       0  ...      5          Middle       0  145.0       0  IELD   \n",
       "1872      0       0  ...      4            Down       0   60.0       0  TELD   \n",
       "\n",
       "      흡연여부 Instability    혈액형  입원기간  \n",
       "1        0           0   RH+A     1  \n",
       "2        0           0   RH+B     1  \n",
       "3        0           0   RH+O     1  \n",
       "4        0           0   RH+A     2  \n",
       "7        1           0   RH+B     1  \n",
       "...    ...         ...    ...   ...  \n",
       "1845     0           0  RH+AB     4  \n",
       "1849     1           0   RH+A     2  \n",
       "1865     0           1   RH+A     2  \n",
       "1866     1           0   RH+B     2  \n",
       "1872     1           0   RH+A     2  \n",
       "\n",
       "[868 rows x 22 columns]"
      ]
     },
     "execution_count": 20,
     "metadata": {},
     "output_type": "execute_result"
    }
   ],
   "source": [
    "## 조건을 걸어버림_bound보다 위 filter\n",
    "condition_L=(df_ROSF_in['Large Lymphocyte'] >= QM_L)\n",
    "df_ROSF_L = df_ROSF_in[condition_L]\n",
    "df_ROSF_L"
   ]
  },
  {
   "cell_type": "code",
   "execution_count": 21,
   "id": "2d483cce-d7df-4aeb-9274-88d038b87c70",
   "metadata": {
    "tags": []
   },
   "outputs": [
    {
     "data": {
      "text/plain": [
       "SignificanceResult(statistic=-0.002713837026276078, pvalue=0.9363648603068873)"
      ]
     },
     "execution_count": 21,
     "metadata": {},
     "output_type": "execute_result"
    }
   ],
   "source": [
    "stats.spearmanr(df_ROSF_L['Large Lymphocyte'], df_ROSF_L['입원기간'])"
   ]
  },
  {
   "cell_type": "code",
   "execution_count": 22,
   "id": "06cf8386-0c1f-41b8-be2c-1952967d48cd",
   "metadata": {
    "tags": []
   },
   "outputs": [
    {
     "data": {
      "text/plain": [
       "SignificanceResult(statistic=0.03858566905743811, pvalue=0.10853654162399108)"
      ]
     },
     "execution_count": 22,
     "metadata": {},
     "output_type": "execute_result"
    }
   ],
   "source": [
    "stats.spearmanr(df_ROSF_in['Large Lymphocyte'], df_ROSF_in['입원기간'])"
   ]
  },
  {
   "cell_type": "code",
   "execution_count": 23,
   "id": "1d0460b9-c320-468b-9f45-8aa659fb31a0",
   "metadata": {
    "tags": []
   },
   "outputs": [
    {
     "data": {
      "text/plain": [
       "(29.9, 45.2, 15.300000000000004, 39.6)"
      ]
     },
     "execution_count": 23,
     "metadata": {},
     "output_type": "execute_result"
    }
   ],
   "source": [
    "Q1_over_L = df_ROSF_inover['Large Lymphocyte'].describe()['25%']\n",
    "Q3_over_L = df_ROSF_inover['Large Lymphocyte'].describe()['75%']\n",
    "QM_over_L = df_ROSF_inover['Large Lymphocyte'].describe()['50%']\n",
    "IQR_over_L = Q3_over_L-Q1_over_L\n",
    "Q1_over_L, Q3_over_L , IQR_over_L, QM_over_L"
   ]
  },
  {
   "cell_type": "code",
   "execution_count": 24,
   "id": "9f411cbc-58d1-460d-85cb-0f2f6de5cd71",
   "metadata": {
    "tags": []
   },
   "outputs": [
    {
     "data": {
      "text/plain": [
       "(6.949999999999992, 68.15)"
      ]
     },
     "execution_count": 24,
     "metadata": {},
     "output_type": "execute_result"
    }
   ],
   "source": [
    "up_over_L = Q3_over_L + 1.5 *IQR_over_L\n",
    "down_over_L = Q1_over_L - 1.5 *IQR_over_L\n",
    "down_over_L, up_over_L"
   ]
  },
  {
   "cell_type": "code",
   "execution_count": 25,
   "id": "42d966ab-3ce7-4aac-a29d-33974592a164",
   "metadata": {
    "tags": []
   },
   "outputs": [
    {
     "data": {
      "text/html": [
       "<div>\n",
       "<style scoped>\n",
       "    .dataframe tbody tr th:only-of-type {\n",
       "        vertical-align: middle;\n",
       "    }\n",
       "\n",
       "    .dataframe tbody tr th {\n",
       "        vertical-align: top;\n",
       "    }\n",
       "\n",
       "    .dataframe thead th {\n",
       "        text-align: right;\n",
       "    }\n",
       "</style>\n",
       "<table border=\"1\" class=\"dataframe\">\n",
       "  <thead>\n",
       "    <tr style=\"text-align: right;\">\n",
       "      <th></th>\n",
       "      <th>Unnamed: 0.1</th>\n",
       "      <th>Unnamed: 0</th>\n",
       "      <th>환자ID</th>\n",
       "      <th>신장</th>\n",
       "      <th>체중</th>\n",
       "      <th>연령</th>\n",
       "      <th>성별</th>\n",
       "      <th>Large Lymphocyte</th>\n",
       "      <th>우울증여부</th>\n",
       "      <th>종양진행여부</th>\n",
       "      <th>...</th>\n",
       "      <th>디스크위치</th>\n",
       "      <th>척추이동척도</th>\n",
       "      <th>척추전방위증</th>\n",
       "      <th>수술시간</th>\n",
       "      <th>수술실패여부</th>\n",
       "      <th>수술기법</th>\n",
       "      <th>흡연여부</th>\n",
       "      <th>Instability</th>\n",
       "      <th>혈액형</th>\n",
       "      <th>입원기간</th>\n",
       "    </tr>\n",
       "  </thead>\n",
       "  <tbody>\n",
       "    <tr>\n",
       "      <th>1044</th>\n",
       "      <td>1044</td>\n",
       "      <td>1044</td>\n",
       "      <td>1045PT</td>\n",
       "      <td>162</td>\n",
       "      <td>77.0</td>\n",
       "      <td>70</td>\n",
       "      <td>1</td>\n",
       "      <td>50.1</td>\n",
       "      <td>0</td>\n",
       "      <td>0</td>\n",
       "      <td>...</td>\n",
       "      <td>12</td>\n",
       "      <td>Middle</td>\n",
       "      <td>0</td>\n",
       "      <td>50.0</td>\n",
       "      <td>0</td>\n",
       "      <td>TELD</td>\n",
       "      <td>0</td>\n",
       "      <td>0</td>\n",
       "      <td>RH+A</td>\n",
       "      <td>8</td>\n",
       "    </tr>\n",
       "    <tr>\n",
       "      <th>1204</th>\n",
       "      <td>1204</td>\n",
       "      <td>1204</td>\n",
       "      <td>1205PT</td>\n",
       "      <td>167</td>\n",
       "      <td>74.0</td>\n",
       "      <td>54</td>\n",
       "      <td>1</td>\n",
       "      <td>42.6</td>\n",
       "      <td>0</td>\n",
       "      <td>0</td>\n",
       "      <td>...</td>\n",
       "      <td>4</td>\n",
       "      <td>Middle</td>\n",
       "      <td>0</td>\n",
       "      <td>30.0</td>\n",
       "      <td>0</td>\n",
       "      <td>TELD</td>\n",
       "      <td>0</td>\n",
       "      <td>0</td>\n",
       "      <td>RH+O</td>\n",
       "      <td>5</td>\n",
       "    </tr>\n",
       "    <tr>\n",
       "      <th>1356</th>\n",
       "      <td>1356</td>\n",
       "      <td>1356</td>\n",
       "      <td>1357PT</td>\n",
       "      <td>176</td>\n",
       "      <td>84.0</td>\n",
       "      <td>31</td>\n",
       "      <td>1</td>\n",
       "      <td>45.7</td>\n",
       "      <td>0</td>\n",
       "      <td>0</td>\n",
       "      <td>...</td>\n",
       "      <td>4</td>\n",
       "      <td>Middle</td>\n",
       "      <td>0</td>\n",
       "      <td>40.0</td>\n",
       "      <td>0</td>\n",
       "      <td>TELD</td>\n",
       "      <td>1</td>\n",
       "      <td>0</td>\n",
       "      <td>RH+A</td>\n",
       "      <td>5</td>\n",
       "    </tr>\n",
       "    <tr>\n",
       "      <th>1360</th>\n",
       "      <td>1360</td>\n",
       "      <td>1360</td>\n",
       "      <td>1361PT</td>\n",
       "      <td>154</td>\n",
       "      <td>68.0</td>\n",
       "      <td>62</td>\n",
       "      <td>2</td>\n",
       "      <td>43.0</td>\n",
       "      <td>0</td>\n",
       "      <td>0</td>\n",
       "      <td>...</td>\n",
       "      <td>4</td>\n",
       "      <td>Middle</td>\n",
       "      <td>1</td>\n",
       "      <td>40.0</td>\n",
       "      <td>0</td>\n",
       "      <td>TELD</td>\n",
       "      <td>0</td>\n",
       "      <td>1</td>\n",
       "      <td>RH+A</td>\n",
       "      <td>5</td>\n",
       "    </tr>\n",
       "    <tr>\n",
       "      <th>1369</th>\n",
       "      <td>1369</td>\n",
       "      <td>1369</td>\n",
       "      <td>1370PT</td>\n",
       "      <td>163</td>\n",
       "      <td>65.0</td>\n",
       "      <td>72</td>\n",
       "      <td>1</td>\n",
       "      <td>53.3</td>\n",
       "      <td>0</td>\n",
       "      <td>0</td>\n",
       "      <td>...</td>\n",
       "      <td>3</td>\n",
       "      <td>Middle</td>\n",
       "      <td>1</td>\n",
       "      <td>75.0</td>\n",
       "      <td>0</td>\n",
       "      <td>TELD</td>\n",
       "      <td>0</td>\n",
       "      <td>1</td>\n",
       "      <td>RH+A</td>\n",
       "      <td>8</td>\n",
       "    </tr>\n",
       "    <tr>\n",
       "      <th>1371</th>\n",
       "      <td>1371</td>\n",
       "      <td>1371</td>\n",
       "      <td>1372PT</td>\n",
       "      <td>168</td>\n",
       "      <td>58.0</td>\n",
       "      <td>30</td>\n",
       "      <td>2</td>\n",
       "      <td>44.7</td>\n",
       "      <td>0</td>\n",
       "      <td>0</td>\n",
       "      <td>...</td>\n",
       "      <td>2</td>\n",
       "      <td>Middle</td>\n",
       "      <td>0</td>\n",
       "      <td>30.0</td>\n",
       "      <td>0</td>\n",
       "      <td>TELD</td>\n",
       "      <td>0</td>\n",
       "      <td>0</td>\n",
       "      <td>RH+O</td>\n",
       "      <td>44</td>\n",
       "    </tr>\n",
       "    <tr>\n",
       "      <th>1390</th>\n",
       "      <td>1390</td>\n",
       "      <td>1390</td>\n",
       "      <td>1391PT</td>\n",
       "      <td>181</td>\n",
       "      <td>74.0</td>\n",
       "      <td>21</td>\n",
       "      <td>1</td>\n",
       "      <td>49.1</td>\n",
       "      <td>0</td>\n",
       "      <td>0</td>\n",
       "      <td>...</td>\n",
       "      <td>5</td>\n",
       "      <td>Middle</td>\n",
       "      <td>0</td>\n",
       "      <td>75.0</td>\n",
       "      <td>0</td>\n",
       "      <td>IELD</td>\n",
       "      <td>0</td>\n",
       "      <td>0</td>\n",
       "      <td>RH+O</td>\n",
       "      <td>6</td>\n",
       "    </tr>\n",
       "    <tr>\n",
       "      <th>1411</th>\n",
       "      <td>1411</td>\n",
       "      <td>1411</td>\n",
       "      <td>1412PT</td>\n",
       "      <td>172</td>\n",
       "      <td>78.0</td>\n",
       "      <td>23</td>\n",
       "      <td>1</td>\n",
       "      <td>39.6</td>\n",
       "      <td>0</td>\n",
       "      <td>0</td>\n",
       "      <td>...</td>\n",
       "      <td>3</td>\n",
       "      <td>Middle</td>\n",
       "      <td>0</td>\n",
       "      <td>35.0</td>\n",
       "      <td>0</td>\n",
       "      <td>TELD</td>\n",
       "      <td>1</td>\n",
       "      <td>0</td>\n",
       "      <td>RH+O</td>\n",
       "      <td>7</td>\n",
       "    </tr>\n",
       "    <tr>\n",
       "      <th>1419</th>\n",
       "      <td>1419</td>\n",
       "      <td>1419</td>\n",
       "      <td>1420PT</td>\n",
       "      <td>157</td>\n",
       "      <td>65.0</td>\n",
       "      <td>75</td>\n",
       "      <td>2</td>\n",
       "      <td>44.4</td>\n",
       "      <td>0</td>\n",
       "      <td>0</td>\n",
       "      <td>...</td>\n",
       "      <td>4</td>\n",
       "      <td>Middle</td>\n",
       "      <td>0</td>\n",
       "      <td>35.0</td>\n",
       "      <td>0</td>\n",
       "      <td>TELD</td>\n",
       "      <td>0</td>\n",
       "      <td>0</td>\n",
       "      <td>RH+O</td>\n",
       "      <td>8</td>\n",
       "    </tr>\n",
       "    <tr>\n",
       "      <th>1439</th>\n",
       "      <td>1439</td>\n",
       "      <td>1439</td>\n",
       "      <td>1440PT</td>\n",
       "      <td>180</td>\n",
       "      <td>87.0</td>\n",
       "      <td>55</td>\n",
       "      <td>1</td>\n",
       "      <td>40.1</td>\n",
       "      <td>0</td>\n",
       "      <td>0</td>\n",
       "      <td>...</td>\n",
       "      <td>4</td>\n",
       "      <td>Up</td>\n",
       "      <td>0</td>\n",
       "      <td>50.0</td>\n",
       "      <td>0</td>\n",
       "      <td>TELD</td>\n",
       "      <td>0</td>\n",
       "      <td>0</td>\n",
       "      <td>RH+B</td>\n",
       "      <td>8</td>\n",
       "    </tr>\n",
       "    <tr>\n",
       "      <th>1548</th>\n",
       "      <td>1548</td>\n",
       "      <td>1548</td>\n",
       "      <td>1549PT</td>\n",
       "      <td>186</td>\n",
       "      <td>84.0</td>\n",
       "      <td>19</td>\n",
       "      <td>1</td>\n",
       "      <td>46.4</td>\n",
       "      <td>0</td>\n",
       "      <td>0</td>\n",
       "      <td>...</td>\n",
       "      <td>4</td>\n",
       "      <td>Middle</td>\n",
       "      <td>0</td>\n",
       "      <td>75.0</td>\n",
       "      <td>1</td>\n",
       "      <td>TELD</td>\n",
       "      <td>0</td>\n",
       "      <td>0</td>\n",
       "      <td>RH+A</td>\n",
       "      <td>17</td>\n",
       "    </tr>\n",
       "    <tr>\n",
       "      <th>1563</th>\n",
       "      <td>1563</td>\n",
       "      <td>1563</td>\n",
       "      <td>1564PT</td>\n",
       "      <td>165</td>\n",
       "      <td>65.0</td>\n",
       "      <td>64</td>\n",
       "      <td>1</td>\n",
       "      <td>44.3</td>\n",
       "      <td>0</td>\n",
       "      <td>0</td>\n",
       "      <td>...</td>\n",
       "      <td>2</td>\n",
       "      <td>Middle</td>\n",
       "      <td>0</td>\n",
       "      <td>60.0</td>\n",
       "      <td>0</td>\n",
       "      <td>TELD</td>\n",
       "      <td>0</td>\n",
       "      <td>0</td>\n",
       "      <td>RH+O</td>\n",
       "      <td>5</td>\n",
       "    </tr>\n",
       "    <tr>\n",
       "      <th>1565</th>\n",
       "      <td>1565</td>\n",
       "      <td>1565</td>\n",
       "      <td>1566PT</td>\n",
       "      <td>170</td>\n",
       "      <td>55.0</td>\n",
       "      <td>35</td>\n",
       "      <td>2</td>\n",
       "      <td>48.8</td>\n",
       "      <td>0</td>\n",
       "      <td>0</td>\n",
       "      <td>...</td>\n",
       "      <td>5</td>\n",
       "      <td>Down</td>\n",
       "      <td>0</td>\n",
       "      <td>60.0</td>\n",
       "      <td>0</td>\n",
       "      <td>TELD</td>\n",
       "      <td>0</td>\n",
       "      <td>0</td>\n",
       "      <td>RH+AB</td>\n",
       "      <td>6</td>\n",
       "    </tr>\n",
       "    <tr>\n",
       "      <th>1584</th>\n",
       "      <td>1584</td>\n",
       "      <td>1584</td>\n",
       "      <td>1585PT</td>\n",
       "      <td>188</td>\n",
       "      <td>57.0</td>\n",
       "      <td>26</td>\n",
       "      <td>1</td>\n",
       "      <td>50.5</td>\n",
       "      <td>0</td>\n",
       "      <td>0</td>\n",
       "      <td>...</td>\n",
       "      <td>5</td>\n",
       "      <td>Middle</td>\n",
       "      <td>0</td>\n",
       "      <td>75.0</td>\n",
       "      <td>0</td>\n",
       "      <td>IELD</td>\n",
       "      <td>0</td>\n",
       "      <td>0</td>\n",
       "      <td>RH+A</td>\n",
       "      <td>11</td>\n",
       "    </tr>\n",
       "  </tbody>\n",
       "</table>\n",
       "<p>14 rows × 22 columns</p>\n",
       "</div>"
      ],
      "text/plain": [
       "      Unnamed: 0.1  Unnamed: 0    환자ID   신장    체중  연령  성별  Large Lymphocyte  \\\n",
       "1044          1044        1044  1045PT  162  77.0  70   1              50.1   \n",
       "1204          1204        1204  1205PT  167  74.0  54   1              42.6   \n",
       "1356          1356        1356  1357PT  176  84.0  31   1              45.7   \n",
       "1360          1360        1360  1361PT  154  68.0  62   2              43.0   \n",
       "1369          1369        1369  1370PT  163  65.0  72   1              53.3   \n",
       "1371          1371        1371  1372PT  168  58.0  30   2              44.7   \n",
       "1390          1390        1390  1391PT  181  74.0  21   1              49.1   \n",
       "1411          1411        1411  1412PT  172  78.0  23   1              39.6   \n",
       "1419          1419        1419  1420PT  157  65.0  75   2              44.4   \n",
       "1439          1439        1439  1440PT  180  87.0  55   1              40.1   \n",
       "1548          1548        1548  1549PT  186  84.0  19   1              46.4   \n",
       "1563          1563        1563  1564PT  165  65.0  64   1              44.3   \n",
       "1565          1565        1565  1566PT  170  55.0  35   2              48.8   \n",
       "1584          1584        1584  1585PT  188  57.0  26   1              50.5   \n",
       "\n",
       "      우울증여부  종양진행여부  ...  디스크위치  척추이동척도  척추전방위증  수술시간  수술실패여부  수술기법  흡연여부  \\\n",
       "1044      0       0  ...     12  Middle       0  50.0       0  TELD     0   \n",
       "1204      0       0  ...      4  Middle       0  30.0       0  TELD     0   \n",
       "1356      0       0  ...      4  Middle       0  40.0       0  TELD     1   \n",
       "1360      0       0  ...      4  Middle       1  40.0       0  TELD     0   \n",
       "1369      0       0  ...      3  Middle       1  75.0       0  TELD     0   \n",
       "1371      0       0  ...      2  Middle       0  30.0       0  TELD     0   \n",
       "1390      0       0  ...      5  Middle       0  75.0       0  IELD     0   \n",
       "1411      0       0  ...      3  Middle       0  35.0       0  TELD     1   \n",
       "1419      0       0  ...      4  Middle       0  35.0       0  TELD     0   \n",
       "1439      0       0  ...      4      Up       0  50.0       0  TELD     0   \n",
       "1548      0       0  ...      4  Middle       0  75.0       1  TELD     0   \n",
       "1563      0       0  ...      2  Middle       0  60.0       0  TELD     0   \n",
       "1565      0       0  ...      5    Down       0  60.0       0  TELD     0   \n",
       "1584      0       0  ...      5  Middle       0  75.0       0  IELD     0   \n",
       "\n",
       "     Instability    혈액형  입원기간  \n",
       "1044           0   RH+A     8  \n",
       "1204           0   RH+O     5  \n",
       "1356           0   RH+A     5  \n",
       "1360           1   RH+A     5  \n",
       "1369           1   RH+A     8  \n",
       "1371           0   RH+O    44  \n",
       "1390           0   RH+O     6  \n",
       "1411           0   RH+O     7  \n",
       "1419           0   RH+O     8  \n",
       "1439           0   RH+B     8  \n",
       "1548           0   RH+A    17  \n",
       "1563           0   RH+O     5  \n",
       "1565           0  RH+AB     6  \n",
       "1584           0   RH+A    11  \n",
       "\n",
       "[14 rows x 22 columns]"
      ]
     },
     "execution_count": 25,
     "metadata": {},
     "output_type": "execute_result"
    }
   ],
   "source": [
    "condition_over_L=(df_ROSF_inover['Large Lymphocyte'] >= QM_over_L)\n",
    "df_ROSF_over_L = df_ROSF_inover[condition_over_L]\n",
    "df_ROSF_over_L"
   ]
  },
  {
   "cell_type": "code",
   "execution_count": 26,
   "id": "8348b6e2-23c1-4c11-86bd-a5923812eda7",
   "metadata": {
    "tags": []
   },
   "outputs": [
    {
     "data": {
      "text/plain": [
       "SignificanceResult(statistic=0.3555547818788249, pvalue=0.21217850087151904)"
      ]
     },
     "execution_count": 26,
     "metadata": {},
     "output_type": "execute_result"
    }
   ],
   "source": [
    "stats.spearmanr(df_ROSF_over_L['Large Lymphocyte'], df_ROSF_over_L['입원기간'])"
   ]
  },
  {
   "cell_type": "code",
   "execution_count": 27,
   "id": "5be5ec97-6b3b-4018-bc15-c47fa41a9da0",
   "metadata": {
    "tags": []
   },
   "outputs": [
    {
     "data": {
      "text/plain": [
       "SignificanceResult(statistic=-0.2140438063081117, pvalue=0.2836919583915103)"
      ]
     },
     "execution_count": 27,
     "metadata": {},
     "output_type": "execute_result"
    }
   ],
   "source": [
    "stats.spearmanr(df_ROSF_inover['Large Lymphocyte'], df_ROSF_inover['입원기간'])"
   ]
  },
  {
   "cell_type": "code",
   "execution_count": 28,
   "id": "cabed4c5-d049-4624-9899-ae08f997c9e4",
   "metadata": {
    "tags": []
   },
   "outputs": [
    {
     "data": {
      "text/plain": [
       "SignificanceResult(statistic=0.017373737058603216, pvalue=0.44985018280917977)"
      ]
     },
     "execution_count": 28,
     "metadata": {},
     "output_type": "execute_result"
    }
   ],
   "source": [
    "stats.spearmanr(df_ROSF['Large Lymphocyte'], df_ROSF['입원기간']) # 입원기간의 조건을 걸지 않았을때 "
   ]
  },
  {
   "cell_type": "markdown",
   "id": "9c894557-907c-49b0-9236-7e42e449c727",
   "metadata": {},
   "source": [
    "#### 종양진행여부-입원기간\n",
    "- 범주-연속\n",
    "- 입원기간 조건 X\n",
    "        - 분석 내용: 종양진행여부가 입원기간에 영향을 미치는가?\n",
    "            - 귀무: 종양진행여부가 입원기간에 영향 없음\n",
    "            - 대립: 종양진행여부가 입원기간에 영향 있음\n",
    "            - → 분석 결론 \n",
    "            - ⇒ stats.ranksums(df_ROSF_cN['입원기간'],df_ROSF_cY['입원기간'] )\n",
    "            - RanksumsResult(statistic=-1.2897290887973527, pvalue=0.19714473612340966)\n",
    "            - 귀무 참. p-value > 0.05\n",
    "            - 종양진행여부는 입원기간과 연관이 없음. \n",
    "- 입원기간 4주 이하 (연속-비정규) df_ROSF_in\n",
    "        - 분석내용: 종양진행여부가 입원기간(4주이하)에 영향을 비치는가?\n",
    "            - 귀무: 종양진행여부가 입원기간(4주이하)에 영향 없음\n",
    "            - 대립: 종양진행여부가 입원기간(4주이하)에 영향 있음\n",
    "        → 분석 결론 \n",
    "            - ⇒ stats.ranksums(df_ROSF_cancerN['입원기간'],df_ROSF_cancerY['입원기간'] )\n",
    "            - RanksumsResult(statistic=-1.173768842300049, pvalue=0.24048762723266925)\n",
    "            - 귀무 참. p-value > 0.05\n",
    "            - 입원기간 4주 이하만 보면 종양진행여부는 입원기간에 영향 없음\n",
    "- 입원기간 4주 초과 (연속-비정규) 진행 불가 \n",
    "    - 종양 진행 여부에 없음만 존재함.\n"
   ]
  },
  {
   "cell_type": "code",
   "execution_count": 29,
   "id": "738ea1ab-af3f-4329-8d60-e6ba8cbc5b5f",
   "metadata": {
    "tags": []
   },
   "outputs": [
    {
     "data": {
      "text/plain": [
       "0    1888\n",
       "1       6\n",
       "Name: 종양진행여부, dtype: int64"
      ]
     },
     "execution_count": 29,
     "metadata": {},
     "output_type": "execute_result"
    }
   ],
   "source": [
    "# 입원기간 조건 걸지 않았을 때\n",
    "df_ROSF['종양진행여부'].value_counts()"
   ]
  },
  {
   "cell_type": "code",
   "execution_count": 30,
   "id": "d1a2c3e4-24fe-4d0e-8930-3e15bf8d627a",
   "metadata": {
    "tags": []
   },
   "outputs": [
    {
     "data": {
      "text/html": [
       "<div>\n",
       "<style scoped>\n",
       "    .dataframe tbody tr th:only-of-type {\n",
       "        vertical-align: middle;\n",
       "    }\n",
       "\n",
       "    .dataframe tbody tr th {\n",
       "        vertical-align: top;\n",
       "    }\n",
       "\n",
       "    .dataframe thead th {\n",
       "        text-align: right;\n",
       "    }\n",
       "</style>\n",
       "<table border=\"1\" class=\"dataframe\">\n",
       "  <thead>\n",
       "    <tr style=\"text-align: right;\">\n",
       "      <th></th>\n",
       "      <th>Unnamed: 0.1</th>\n",
       "      <th>Unnamed: 0</th>\n",
       "      <th>환자ID</th>\n",
       "      <th>신장</th>\n",
       "      <th>체중</th>\n",
       "      <th>연령</th>\n",
       "      <th>성별</th>\n",
       "      <th>Large Lymphocyte</th>\n",
       "      <th>우울증여부</th>\n",
       "      <th>종양진행여부</th>\n",
       "      <th>...</th>\n",
       "      <th>디스크위치</th>\n",
       "      <th>척추이동척도</th>\n",
       "      <th>척추전방위증</th>\n",
       "      <th>수술시간</th>\n",
       "      <th>수술실패여부</th>\n",
       "      <th>수술기법</th>\n",
       "      <th>흡연여부</th>\n",
       "      <th>Instability</th>\n",
       "      <th>혈액형</th>\n",
       "      <th>입원기간</th>\n",
       "    </tr>\n",
       "  </thead>\n",
       "  <tbody>\n",
       "    <tr>\n",
       "      <th>0</th>\n",
       "      <td>0</td>\n",
       "      <td>0</td>\n",
       "      <td>1PT</td>\n",
       "      <td>163</td>\n",
       "      <td>60.3</td>\n",
       "      <td>66</td>\n",
       "      <td>2</td>\n",
       "      <td>22.8</td>\n",
       "      <td>0</td>\n",
       "      <td>0</td>\n",
       "      <td>...</td>\n",
       "      <td>4</td>\n",
       "      <td>Down</td>\n",
       "      <td>0</td>\n",
       "      <td>68.0</td>\n",
       "      <td>0</td>\n",
       "      <td>TELD</td>\n",
       "      <td>0</td>\n",
       "      <td>0</td>\n",
       "      <td>RH+A</td>\n",
       "      <td>2</td>\n",
       "    </tr>\n",
       "    <tr>\n",
       "      <th>1</th>\n",
       "      <td>1</td>\n",
       "      <td>1</td>\n",
       "      <td>2PT</td>\n",
       "      <td>171</td>\n",
       "      <td>71.7</td>\n",
       "      <td>47</td>\n",
       "      <td>1</td>\n",
       "      <td>44.9</td>\n",
       "      <td>0</td>\n",
       "      <td>0</td>\n",
       "      <td>...</td>\n",
       "      <td>4</td>\n",
       "      <td>Up</td>\n",
       "      <td>0</td>\n",
       "      <td>31.0</td>\n",
       "      <td>0</td>\n",
       "      <td>TELD</td>\n",
       "      <td>0</td>\n",
       "      <td>0</td>\n",
       "      <td>RH+A</td>\n",
       "      <td>1</td>\n",
       "    </tr>\n",
       "  </tbody>\n",
       "</table>\n",
       "<p>2 rows × 22 columns</p>\n",
       "</div>"
      ],
      "text/plain": [
       "   Unnamed: 0.1  Unnamed: 0 환자ID   신장    체중  연령  성별  Large Lymphocyte  우울증여부  \\\n",
       "0             0           0  1PT  163  60.3  66   2              22.8      0   \n",
       "1             1           1  2PT  171  71.7  47   1              44.9      0   \n",
       "\n",
       "   종양진행여부  ...  디스크위치  척추이동척도  척추전방위증  수술시간  수술실패여부  수술기법  흡연여부 Instability  \\\n",
       "0       0  ...      4    Down       0  68.0       0  TELD     0           0   \n",
       "1       0  ...      4      Up       0  31.0       0  TELD     0           0   \n",
       "\n",
       "    혈액형  입원기간  \n",
       "0  RH+A     2  \n",
       "1  RH+A     1  \n",
       "\n",
       "[2 rows x 22 columns]"
      ]
     },
     "execution_count": 30,
     "metadata": {},
     "output_type": "execute_result"
    }
   ],
   "source": [
    "df_ROSF_cN = df_ROSF[df_ROSF['종양진행여부'] == 0]\n",
    "df_ROSF_cN[:2]"
   ]
  },
  {
   "cell_type": "code",
   "execution_count": 31,
   "id": "d603337e-27b1-4cba-9785-f5d6d89e4116",
   "metadata": {
    "tags": []
   },
   "outputs": [
    {
     "data": {
      "text/html": [
       "<div>\n",
       "<style scoped>\n",
       "    .dataframe tbody tr th:only-of-type {\n",
       "        vertical-align: middle;\n",
       "    }\n",
       "\n",
       "    .dataframe tbody tr th {\n",
       "        vertical-align: top;\n",
       "    }\n",
       "\n",
       "    .dataframe thead th {\n",
       "        text-align: right;\n",
       "    }\n",
       "</style>\n",
       "<table border=\"1\" class=\"dataframe\">\n",
       "  <thead>\n",
       "    <tr style=\"text-align: right;\">\n",
       "      <th></th>\n",
       "      <th>Unnamed: 0.1</th>\n",
       "      <th>Unnamed: 0</th>\n",
       "      <th>환자ID</th>\n",
       "      <th>신장</th>\n",
       "      <th>체중</th>\n",
       "      <th>연령</th>\n",
       "      <th>성별</th>\n",
       "      <th>Large Lymphocyte</th>\n",
       "      <th>우울증여부</th>\n",
       "      <th>종양진행여부</th>\n",
       "      <th>...</th>\n",
       "      <th>디스크위치</th>\n",
       "      <th>척추이동척도</th>\n",
       "      <th>척추전방위증</th>\n",
       "      <th>수술시간</th>\n",
       "      <th>수술실패여부</th>\n",
       "      <th>수술기법</th>\n",
       "      <th>흡연여부</th>\n",
       "      <th>Instability</th>\n",
       "      <th>혈액형</th>\n",
       "      <th>입원기간</th>\n",
       "    </tr>\n",
       "  </thead>\n",
       "  <tbody>\n",
       "    <tr>\n",
       "      <th>582</th>\n",
       "      <td>582</td>\n",
       "      <td>582</td>\n",
       "      <td>583PT</td>\n",
       "      <td>174</td>\n",
       "      <td>64.3</td>\n",
       "      <td>48</td>\n",
       "      <td>2</td>\n",
       "      <td>31.1</td>\n",
       "      <td>0</td>\n",
       "      <td>1</td>\n",
       "      <td>...</td>\n",
       "      <td>4</td>\n",
       "      <td>Extremely down</td>\n",
       "      <td>0</td>\n",
       "      <td>88.0</td>\n",
       "      <td>0</td>\n",
       "      <td>IELD</td>\n",
       "      <td>0</td>\n",
       "      <td>0</td>\n",
       "      <td>RH+B</td>\n",
       "      <td>1</td>\n",
       "    </tr>\n",
       "    <tr>\n",
       "      <th>667</th>\n",
       "      <td>667</td>\n",
       "      <td>667</td>\n",
       "      <td>668PT</td>\n",
       "      <td>175</td>\n",
       "      <td>80.0</td>\n",
       "      <td>47</td>\n",
       "      <td>1</td>\n",
       "      <td>44.9</td>\n",
       "      <td>0</td>\n",
       "      <td>1</td>\n",
       "      <td>...</td>\n",
       "      <td>4</td>\n",
       "      <td>Middle</td>\n",
       "      <td>0</td>\n",
       "      <td>87.0</td>\n",
       "      <td>0</td>\n",
       "      <td>TELD</td>\n",
       "      <td>0</td>\n",
       "      <td>0</td>\n",
       "      <td>RH+B</td>\n",
       "      <td>1</td>\n",
       "    </tr>\n",
       "  </tbody>\n",
       "</table>\n",
       "<p>2 rows × 22 columns</p>\n",
       "</div>"
      ],
      "text/plain": [
       "     Unnamed: 0.1  Unnamed: 0   환자ID   신장    체중  연령  성별  Large Lymphocyte  \\\n",
       "582           582         582  583PT  174  64.3  48   2              31.1   \n",
       "667           667         667  668PT  175  80.0  47   1              44.9   \n",
       "\n",
       "     우울증여부  종양진행여부  ...  디스크위치          척추이동척도  척추전방위증  수술시간  수술실패여부  수술기법  \\\n",
       "582      0       1  ...      4  Extremely down       0  88.0       0  IELD   \n",
       "667      0       1  ...      4          Middle       0  87.0       0  TELD   \n",
       "\n",
       "     흡연여부 Instability   혈액형  입원기간  \n",
       "582     0           0  RH+B     1  \n",
       "667     0           0  RH+B     1  \n",
       "\n",
       "[2 rows x 22 columns]"
      ]
     },
     "execution_count": 31,
     "metadata": {},
     "output_type": "execute_result"
    }
   ],
   "source": [
    "df_ROSF_cY = df_ROSF[df_ROSF['종양진행여부'] == 1]\n",
    "df_ROSF_cY[:2]"
   ]
  },
  {
   "cell_type": "code",
   "execution_count": 32,
   "id": "e6ac09a7-7a41-44bf-90b8-0a7392296b36",
   "metadata": {
    "tags": []
   },
   "outputs": [
    {
     "data": {
      "text/plain": [
       "RanksumsResult(statistic=-1.2897290887973527, pvalue=0.19714473612340966)"
      ]
     },
     "execution_count": 32,
     "metadata": {},
     "output_type": "execute_result"
    }
   ],
   "source": [
    "## 검증_입원기간 조건 X \n",
    "stats.ranksums(df_ROSF_cN['입원기간'],df_ROSF_cY['입원기간'] )"
   ]
  },
  {
   "cell_type": "code",
   "execution_count": 33,
   "id": "9aa6e18b-4c6e-4154-bb02-826e9e41aab7",
   "metadata": {
    "tags": []
   },
   "outputs": [
    {
     "data": {
      "text/plain": [
       "0    1726\n",
       "1       5\n",
       "Name: 종양진행여부, dtype: int64"
      ]
     },
     "execution_count": 33,
     "metadata": {},
     "output_type": "execute_result"
    }
   ],
   "source": [
    "# 입원기간 4주 이하 \n",
    "df_ROSF_in['종양진행여부'].value_counts()"
   ]
  },
  {
   "cell_type": "code",
   "execution_count": 34,
   "id": "20d03ccc-f2b8-454d-99fa-a11036c3eb64",
   "metadata": {
    "tags": []
   },
   "outputs": [
    {
     "data": {
      "text/html": [
       "<div>\n",
       "<style scoped>\n",
       "    .dataframe tbody tr th:only-of-type {\n",
       "        vertical-align: middle;\n",
       "    }\n",
       "\n",
       "    .dataframe tbody tr th {\n",
       "        vertical-align: top;\n",
       "    }\n",
       "\n",
       "    .dataframe thead th {\n",
       "        text-align: right;\n",
       "    }\n",
       "</style>\n",
       "<table border=\"1\" class=\"dataframe\">\n",
       "  <thead>\n",
       "    <tr style=\"text-align: right;\">\n",
       "      <th></th>\n",
       "      <th>Unnamed: 0.1</th>\n",
       "      <th>Unnamed: 0</th>\n",
       "      <th>환자ID</th>\n",
       "      <th>신장</th>\n",
       "      <th>체중</th>\n",
       "      <th>연령</th>\n",
       "      <th>성별</th>\n",
       "      <th>Large Lymphocyte</th>\n",
       "      <th>우울증여부</th>\n",
       "      <th>종양진행여부</th>\n",
       "      <th>...</th>\n",
       "      <th>디스크위치</th>\n",
       "      <th>척추이동척도</th>\n",
       "      <th>척추전방위증</th>\n",
       "      <th>수술시간</th>\n",
       "      <th>수술실패여부</th>\n",
       "      <th>수술기법</th>\n",
       "      <th>흡연여부</th>\n",
       "      <th>Instability</th>\n",
       "      <th>혈액형</th>\n",
       "      <th>입원기간</th>\n",
       "    </tr>\n",
       "  </thead>\n",
       "  <tbody>\n",
       "    <tr>\n",
       "      <th>0</th>\n",
       "      <td>0</td>\n",
       "      <td>0</td>\n",
       "      <td>1PT</td>\n",
       "      <td>163</td>\n",
       "      <td>60.3</td>\n",
       "      <td>66</td>\n",
       "      <td>2</td>\n",
       "      <td>22.8</td>\n",
       "      <td>0</td>\n",
       "      <td>0</td>\n",
       "      <td>...</td>\n",
       "      <td>4</td>\n",
       "      <td>Down</td>\n",
       "      <td>0</td>\n",
       "      <td>68.0</td>\n",
       "      <td>0</td>\n",
       "      <td>TELD</td>\n",
       "      <td>0</td>\n",
       "      <td>0</td>\n",
       "      <td>RH+A</td>\n",
       "      <td>2</td>\n",
       "    </tr>\n",
       "    <tr>\n",
       "      <th>1</th>\n",
       "      <td>1</td>\n",
       "      <td>1</td>\n",
       "      <td>2PT</td>\n",
       "      <td>171</td>\n",
       "      <td>71.7</td>\n",
       "      <td>47</td>\n",
       "      <td>1</td>\n",
       "      <td>44.9</td>\n",
       "      <td>0</td>\n",
       "      <td>0</td>\n",
       "      <td>...</td>\n",
       "      <td>4</td>\n",
       "      <td>Up</td>\n",
       "      <td>0</td>\n",
       "      <td>31.0</td>\n",
       "      <td>0</td>\n",
       "      <td>TELD</td>\n",
       "      <td>0</td>\n",
       "      <td>0</td>\n",
       "      <td>RH+A</td>\n",
       "      <td>1</td>\n",
       "    </tr>\n",
       "  </tbody>\n",
       "</table>\n",
       "<p>2 rows × 22 columns</p>\n",
       "</div>"
      ],
      "text/plain": [
       "   Unnamed: 0.1  Unnamed: 0 환자ID   신장    체중  연령  성별  Large Lymphocyte  우울증여부  \\\n",
       "0             0           0  1PT  163  60.3  66   2              22.8      0   \n",
       "1             1           1  2PT  171  71.7  47   1              44.9      0   \n",
       "\n",
       "   종양진행여부  ...  디스크위치  척추이동척도  척추전방위증  수술시간  수술실패여부  수술기법  흡연여부 Instability  \\\n",
       "0       0  ...      4    Down       0  68.0       0  TELD     0           0   \n",
       "1       0  ...      4      Up       0  31.0       0  TELD     0           0   \n",
       "\n",
       "    혈액형  입원기간  \n",
       "0  RH+A     2  \n",
       "1  RH+A     1  \n",
       "\n",
       "[2 rows x 22 columns]"
      ]
     },
     "execution_count": 34,
     "metadata": {},
     "output_type": "execute_result"
    }
   ],
   "source": [
    "df_ROSF_cancerN =df_ROSF_in[df_ROSF_in['종양진행여부'] == 0]\n",
    "df_ROSF_cancerN[:2]"
   ]
  },
  {
   "cell_type": "code",
   "execution_count": 35,
   "id": "76f73775-b119-4dae-a74c-1c9db147d548",
   "metadata": {
    "tags": []
   },
   "outputs": [
    {
     "data": {
      "text/html": [
       "<div>\n",
       "<style scoped>\n",
       "    .dataframe tbody tr th:only-of-type {\n",
       "        vertical-align: middle;\n",
       "    }\n",
       "\n",
       "    .dataframe tbody tr th {\n",
       "        vertical-align: top;\n",
       "    }\n",
       "\n",
       "    .dataframe thead th {\n",
       "        text-align: right;\n",
       "    }\n",
       "</style>\n",
       "<table border=\"1\" class=\"dataframe\">\n",
       "  <thead>\n",
       "    <tr style=\"text-align: right;\">\n",
       "      <th></th>\n",
       "      <th>Unnamed: 0.1</th>\n",
       "      <th>Unnamed: 0</th>\n",
       "      <th>환자ID</th>\n",
       "      <th>신장</th>\n",
       "      <th>체중</th>\n",
       "      <th>연령</th>\n",
       "      <th>성별</th>\n",
       "      <th>Large Lymphocyte</th>\n",
       "      <th>우울증여부</th>\n",
       "      <th>종양진행여부</th>\n",
       "      <th>...</th>\n",
       "      <th>디스크위치</th>\n",
       "      <th>척추이동척도</th>\n",
       "      <th>척추전방위증</th>\n",
       "      <th>수술시간</th>\n",
       "      <th>수술실패여부</th>\n",
       "      <th>수술기법</th>\n",
       "      <th>흡연여부</th>\n",
       "      <th>Instability</th>\n",
       "      <th>혈액형</th>\n",
       "      <th>입원기간</th>\n",
       "    </tr>\n",
       "  </thead>\n",
       "  <tbody>\n",
       "    <tr>\n",
       "      <th>582</th>\n",
       "      <td>582</td>\n",
       "      <td>582</td>\n",
       "      <td>583PT</td>\n",
       "      <td>174</td>\n",
       "      <td>64.3</td>\n",
       "      <td>48</td>\n",
       "      <td>2</td>\n",
       "      <td>31.1</td>\n",
       "      <td>0</td>\n",
       "      <td>1</td>\n",
       "      <td>...</td>\n",
       "      <td>4</td>\n",
       "      <td>Extremely down</td>\n",
       "      <td>0</td>\n",
       "      <td>88.0</td>\n",
       "      <td>0</td>\n",
       "      <td>IELD</td>\n",
       "      <td>0</td>\n",
       "      <td>0</td>\n",
       "      <td>RH+B</td>\n",
       "      <td>1</td>\n",
       "    </tr>\n",
       "    <tr>\n",
       "      <th>667</th>\n",
       "      <td>667</td>\n",
       "      <td>667</td>\n",
       "      <td>668PT</td>\n",
       "      <td>175</td>\n",
       "      <td>80.0</td>\n",
       "      <td>47</td>\n",
       "      <td>1</td>\n",
       "      <td>44.9</td>\n",
       "      <td>0</td>\n",
       "      <td>1</td>\n",
       "      <td>...</td>\n",
       "      <td>4</td>\n",
       "      <td>Middle</td>\n",
       "      <td>0</td>\n",
       "      <td>87.0</td>\n",
       "      <td>0</td>\n",
       "      <td>TELD</td>\n",
       "      <td>0</td>\n",
       "      <td>0</td>\n",
       "      <td>RH+B</td>\n",
       "      <td>1</td>\n",
       "    </tr>\n",
       "  </tbody>\n",
       "</table>\n",
       "<p>2 rows × 22 columns</p>\n",
       "</div>"
      ],
      "text/plain": [
       "     Unnamed: 0.1  Unnamed: 0   환자ID   신장    체중  연령  성별  Large Lymphocyte  \\\n",
       "582           582         582  583PT  174  64.3  48   2              31.1   \n",
       "667           667         667  668PT  175  80.0  47   1              44.9   \n",
       "\n",
       "     우울증여부  종양진행여부  ...  디스크위치          척추이동척도  척추전방위증  수술시간  수술실패여부  수술기법  \\\n",
       "582      0       1  ...      4  Extremely down       0  88.0       0  IELD   \n",
       "667      0       1  ...      4          Middle       0  87.0       0  TELD   \n",
       "\n",
       "     흡연여부 Instability   혈액형  입원기간  \n",
       "582     0           0  RH+B     1  \n",
       "667     0           0  RH+B     1  \n",
       "\n",
       "[2 rows x 22 columns]"
      ]
     },
     "execution_count": 35,
     "metadata": {},
     "output_type": "execute_result"
    }
   ],
   "source": [
    "df_ROSF_cancerY =df_ROSF_in[df_ROSF_in['종양진행여부'] == 1]\n",
    "df_ROSF_cancerY[:2]"
   ]
  },
  {
   "cell_type": "code",
   "execution_count": 36,
   "id": "431f7e4c-692e-4232-a5ea-907679024265",
   "metadata": {
    "tags": []
   },
   "outputs": [
    {
     "data": {
      "text/plain": [
       "RanksumsResult(statistic=-1.173768842300049, pvalue=0.24048762723266925)"
      ]
     },
     "execution_count": 36,
     "metadata": {},
     "output_type": "execute_result"
    }
   ],
   "source": [
    "## 검증\n",
    "stats.ranksums(df_ROSF_cancerN['입원기간'],df_ROSF_cancerY['입원기간'] )"
   ]
  },
  {
   "cell_type": "code",
   "execution_count": 37,
   "id": "58338359-0640-4de0-9645-356fb91ecdaa",
   "metadata": {
    "tags": []
   },
   "outputs": [
    {
     "data": {
      "text/plain": [
       "1044    0\n",
       "1204    0\n",
       "1356    0\n",
       "1360    0\n",
       "1369    0\n",
       "1371    0\n",
       "1378    0\n",
       "1384    0\n",
       "1390    0\n",
       "1411    0\n",
       "1419    0\n",
       "1431    0\n",
       "1437    0\n",
       "1439    0\n",
       "1440    0\n",
       "1443    0\n",
       "1448    0\n",
       "1548    0\n",
       "1561    0\n",
       "1563    0\n",
       "1565    0\n",
       "1577    0\n",
       "1578    0\n",
       "1584    0\n",
       "1620    0\n",
       "1625    0\n",
       "1870    0\n",
       "Name: 종양진행여부, dtype: int64"
      ]
     },
     "execution_count": 37,
     "metadata": {},
     "output_type": "execute_result"
    }
   ],
   "source": [
    "## 입원 기간 4주 초과\n",
    "df_ROSF_inover['종양진행여부'] # pass 종양여부가 0만 존재함...."
   ]
  },
  {
   "cell_type": "markdown",
   "id": "b3702af6-5395-48e7-b6ea-5fada3f9b371",
   "metadata": {},
   "source": [
    "#### 디스크 단면적 - 입원기간\n",
    "\n",
    "- 입원기간 4주 이하 (연속-비정규) df_ROSF_in\n",
    "        - 분석내용: 디스크 단면적이 입원기간(4주이하)에 영향을 미치는가?\n",
    "            - 귀무: 디스크 단면적은 입원기간(4주이하)에 영향 없음\n",
    "            - 대립: 디스크 단면적은 입원기간(4주이하)에 영향 있음\n",
    "        → 분석 결론 \n",
    "            - ⇒ stats.spearmanr(df_ROSF_in['디스크단면적'], df_ROSF_in['입원기간'])\n",
    "                - SignificanceResult(statistic=0.036286814381522065, pvalue=0.13126561806499315)\n",
    "            - 귀무 참.  p-value > 0.05\n",
    "            - 디스크단면적과 입원기간은 영향이 없다.  \n",
    "- 입원기간 4주 초과 (연속-비정규) df_ROSF_inoveer\n",
    "       - 분석내용: 디스크 단면적이 입원기간(4주초과)에 영향을 미치는가?\n",
    "            - 귀무: 디스크 단면적은 입원기간(4주초과)에 영향 없음\n",
    "            - 대립: 디스크 단면적은 입원기간(4주초과)에 영향 있음\n",
    "        → 분석 결론 \n",
    "            - ⇒ stats.spearmanr(df_ROSF_inover['디스크단면적'], df_ROSF_inover['입원기간'])\n",
    "                - SignificanceResult(statistic=0.11999387838361968, pvalue=0.5510659743784876)\n",
    "            - 귀무 참.  p-value > 0.05\n",
    "            - 디스크단면적과 입원기간은 영향이 없다.\n",
    "            \n",
    "- 검색을 해보았을때_[https://synapse.koreamed.org/func/download.php?path=L2hvbWUvdmlydHVhbC9rYW1qZS9zeW5hcHNlL3VwbG9hZC9TeW5hcHNlRGF0YS9QREZEYXRhLzAwNDNqa29hL2prb2EtNDMtNTg4LnBkZg==&filename=amtvYS00My01ODgucGRm] 2008 paper \n",
    "    - 디스크단면적은 추간판 탈출증이 있는 환자의 척추관 면적의 감소가 얼마나 되어있는지에 대해, 척추경 위치에서의 척추관 면적을 측정함으로써 추간판 위치에서의 정상 척추관 면적을 평가할 수 있는 자료로 사용 될 수 있을 것이라 사료된다는 내용이 존재함. \n",
    "        - 탈출 위치와 비교해보면 어떨까 라는 생각을 해봄. \n"
   ]
  },
  {
   "cell_type": "code",
   "execution_count": 38,
   "id": "6b9eb644-233d-4f30-9c44-faabc6943ad1",
   "metadata": {
    "tags": []
   },
   "outputs": [
    {
     "data": {
      "text/plain": [
       "Index(['Unnamed: 0.1', 'Unnamed: 0', '환자ID', '신장', '체중', '연령', '성별',\n",
       "       'Large Lymphocyte', '우울증여부', '종양진행여부', '재발여부', '디스크단면적', '디스크위치',\n",
       "       '척추이동척도', '척추전방위증', '수술시간', '수술실패여부', '수술기법', '흡연여부', 'Instability',\n",
       "       '혈액형', '입원기간'],\n",
       "      dtype='object')"
      ]
     },
     "execution_count": 38,
     "metadata": {},
     "output_type": "execute_result"
    }
   ],
   "source": [
    "df_ROSF_in.columns"
   ]
  },
  {
   "cell_type": "code",
   "execution_count": 39,
   "id": "e9e90919-5040-4ca3-bc0c-d2da608b86df",
   "metadata": {
    "tags": []
   },
   "outputs": [
    {
     "data": {
      "text/html": [
       "<div>\n",
       "<style scoped>\n",
       "    .dataframe tbody tr th:only-of-type {\n",
       "        vertical-align: middle;\n",
       "    }\n",
       "\n",
       "    .dataframe tbody tr th {\n",
       "        vertical-align: top;\n",
       "    }\n",
       "\n",
       "    .dataframe thead th {\n",
       "        text-align: right;\n",
       "    }\n",
       "</style>\n",
       "<table border=\"1\" class=\"dataframe\">\n",
       "  <thead>\n",
       "    <tr style=\"text-align: right;\">\n",
       "      <th></th>\n",
       "      <th>디스크단면적</th>\n",
       "      <th>입원기간</th>\n",
       "    </tr>\n",
       "  </thead>\n",
       "  <tbody>\n",
       "    <tr>\n",
       "      <th>디스크단면적</th>\n",
       "      <td>1.000000</td>\n",
       "      <td>0.026734</td>\n",
       "    </tr>\n",
       "    <tr>\n",
       "      <th>입원기간</th>\n",
       "      <td>0.026734</td>\n",
       "      <td>1.000000</td>\n",
       "    </tr>\n",
       "  </tbody>\n",
       "</table>\n",
       "</div>"
      ],
      "text/plain": [
       "          디스크단면적      입원기간\n",
       "디스크단면적  1.000000  0.026734\n",
       "입원기간    0.026734  1.000000"
      ]
     },
     "execution_count": 39,
     "metadata": {},
     "output_type": "execute_result"
    }
   ],
   "source": [
    "df_ROSF_in[['디스크단면적', '입원기간']].corr()"
   ]
  },
  {
   "cell_type": "code",
   "execution_count": 40,
   "id": "123f7563-bc47-4c1c-bc2b-6d96db221473",
   "metadata": {
    "tags": []
   },
   "outputs": [
    {
     "data": {
      "text/plain": [
       "SignificanceResult(statistic=0.036286814381522065, pvalue=0.13126561806499315)"
      ]
     },
     "execution_count": 40,
     "metadata": {},
     "output_type": "execute_result"
    }
   ],
   "source": [
    "stats.spearmanr(df_ROSF_in['디스크단면적'], df_ROSF_in['입원기간'])"
   ]
  },
  {
   "cell_type": "code",
   "execution_count": 41,
   "id": "4624904f-1758-4533-8fa7-06106e417797",
   "metadata": {
    "tags": []
   },
   "outputs": [
    {
     "data": {
      "text/html": [
       "<div>\n",
       "<style scoped>\n",
       "    .dataframe tbody tr th:only-of-type {\n",
       "        vertical-align: middle;\n",
       "    }\n",
       "\n",
       "    .dataframe tbody tr th {\n",
       "        vertical-align: top;\n",
       "    }\n",
       "\n",
       "    .dataframe thead th {\n",
       "        text-align: right;\n",
       "    }\n",
       "</style>\n",
       "<table border=\"1\" class=\"dataframe\">\n",
       "  <thead>\n",
       "    <tr style=\"text-align: right;\">\n",
       "      <th></th>\n",
       "      <th>디스크단면적</th>\n",
       "      <th>입원기간</th>\n",
       "    </tr>\n",
       "  </thead>\n",
       "  <tbody>\n",
       "    <tr>\n",
       "      <th>디스크단면적</th>\n",
       "      <td>1.000000</td>\n",
       "      <td>0.035474</td>\n",
       "    </tr>\n",
       "    <tr>\n",
       "      <th>입원기간</th>\n",
       "      <td>0.035474</td>\n",
       "      <td>1.000000</td>\n",
       "    </tr>\n",
       "  </tbody>\n",
       "</table>\n",
       "</div>"
      ],
      "text/plain": [
       "          디스크단면적      입원기간\n",
       "디스크단면적  1.000000  0.035474\n",
       "입원기간    0.035474  1.000000"
      ]
     },
     "execution_count": 41,
     "metadata": {},
     "output_type": "execute_result"
    }
   ],
   "source": [
    "df_ROSF_inover[['디스크단면적', '입원기간']].corr()"
   ]
  },
  {
   "cell_type": "code",
   "execution_count": 42,
   "id": "786fbd1c-5ea8-48f9-8aef-2940fa10c093",
   "metadata": {
    "tags": []
   },
   "outputs": [
    {
     "data": {
      "text/plain": [
       "SignificanceResult(statistic=0.11999387838361968, pvalue=0.5510659743784876)"
      ]
     },
     "execution_count": 42,
     "metadata": {},
     "output_type": "execute_result"
    }
   ],
   "source": [
    "stats.spearmanr(df_ROSF_inover['디스크단면적'], df_ROSF_inover['입원기간'])"
   ]
  },
  {
   "cell_type": "markdown",
   "id": "ef426559-9152-4842-92dc-044951a46dcf",
   "metadata": {
    "tags": []
   },
   "source": [
    "#### 수술기법-입원기간\n",
    "- 범주- 연속\n",
    "- 입원기간 조건 X\n",
    "    - 분석내용: 수술기법에 따라 입원기간에 영향을 미치는가?\n",
    "        - 귀무: 수술기법에 따라 입원기간의 영향 없음\n",
    "        - 대립: 수술기법에 따라 입원기간의 영향 있음\n",
    "        - 분석결론\n",
    "            - stats.ranksums(df_ROSF_TELD['입원기간'], df_ROSF_IELD['입원기간'])\n",
    "            - RanksumsResult(statistic=-0.8318886371666717, pvalue=0.40547180617826806)\n",
    "            - 귀무 참. p-value > 0.05\n",
    "- 입원기간 4주 이하 df_ROSF_in\n",
    "    - 분석내용: 수술기법에 따라 입원기간에 영향을 미치는가?\n",
    "        - 귀무: 수술기법에 따라 입원기간의 영향 없음\n",
    "        - 대립: 수술기법에 따라 입원기간의 영향 있음\n",
    "        - 분석결론\n",
    "            - stats.ranksums(df_ROSF_inT['입원기간'], df_ROSF_inI['입원기간'])\n",
    "            - RanksumsResult(statistic=-0.7965957315632162, pvalue=0.4256858572065577)\n",
    "            - 귀무 참. p-value > 0.05\n",
    "- 입원기간 4주 초과 df_ROSF_inover\n",
    "    - 분석내용: 수술기법에 따라 입원기간에 영향을 미치는가?\n",
    "        - 귀무: 수술기법에 따라 입원기간의 영향 없음\n",
    "        - 대립: 수술기법에 따라 입원기간의 영향 있음\n",
    "        - 분석결론\n",
    "            - stats.ranksums(df_ROSF_inoverT['입원기간'], df_ROSF_inoverI['입원기간'])\n",
    "            - RanksumsResult(statistic=0.8100925873009825, pvalue=0.4178869643175005)\n",
    "            - 귀무 참. p-value > 0.05"
   ]
  },
  {
   "cell_type": "code",
   "execution_count": 43,
   "id": "ff6c9b6c-5f35-4a2c-b766-142b442c8312",
   "metadata": {
    "tags": []
   },
   "outputs": [
    {
     "data": {
      "text/plain": [
       "TELD    1673\n",
       "IELD     140\n",
       "Name: 수술기법, dtype: int64"
      ]
     },
     "execution_count": 43,
     "metadata": {},
     "output_type": "execute_result"
    }
   ],
   "source": [
    "df_ROSF['수술기법'].value_counts()"
   ]
  },
  {
   "cell_type": "code",
   "execution_count": 44,
   "id": "5159990d-b565-4ffd-8fe9-96bc6f59eecc",
   "metadata": {
    "tags": []
   },
   "outputs": [],
   "source": [
    "## 입원기간 조건 X\n",
    "df_ROSF_TELD = df_ROSF[(df_ROSF['수술기법'] == 'TELD')]"
   ]
  },
  {
   "cell_type": "code",
   "execution_count": 45,
   "id": "ffabebf2-eef4-428c-bd3d-3b1feb84a6c1",
   "metadata": {
    "tags": []
   },
   "outputs": [],
   "source": [
    "df_ROSF_IELD = df_ROSF[(df_ROSF['수술기법'] == 'IELD')]"
   ]
  },
  {
   "cell_type": "code",
   "execution_count": 46,
   "id": "3393c086-d1e1-44e3-a459-c9baff656cb0",
   "metadata": {
    "tags": []
   },
   "outputs": [
    {
     "data": {
      "text/plain": [
       "RanksumsResult(statistic=-0.8318886371666717, pvalue=0.40547180617826806)"
      ]
     },
     "execution_count": 46,
     "metadata": {},
     "output_type": "execute_result"
    }
   ],
   "source": [
    "stats.ranksums(df_ROSF_TELD['입원기간'], df_ROSF_IELD['입원기간'])"
   ]
  },
  {
   "cell_type": "code",
   "execution_count": 47,
   "id": "7baf5b42-7f66-461f-bf8a-8114bc1d34f8",
   "metadata": {
    "tags": []
   },
   "outputs": [],
   "source": [
    "## 입원기간 4주 이하\n",
    "df_ROSF_inT = df_ROSF_in[(df_ROSF_in['수술기법'] == 'TELD')]"
   ]
  },
  {
   "cell_type": "code",
   "execution_count": 48,
   "id": "b3aaa1ef-6f72-4da0-b5df-804ab5a7a745",
   "metadata": {
    "tags": []
   },
   "outputs": [],
   "source": [
    "df_ROSF_inI = df_ROSF_in[(df_ROSF_in['수술기법'] == 'IELD')]"
   ]
  },
  {
   "cell_type": "code",
   "execution_count": 49,
   "id": "ca7bf0d2-ca0f-423e-a258-7a42ad720f81",
   "metadata": {
    "tags": []
   },
   "outputs": [
    {
     "data": {
      "text/plain": [
       "RanksumsResult(statistic=-0.7965957315632162, pvalue=0.4256858572065577)"
      ]
     },
     "execution_count": 49,
     "metadata": {},
     "output_type": "execute_result"
    }
   ],
   "source": [
    "stats.ranksums(df_ROSF_inT['입원기간'], df_ROSF_inI['입원기간'])"
   ]
  },
  {
   "cell_type": "code",
   "execution_count": 50,
   "id": "cac8aa3e-7ff5-4a00-a1af-d7bdb25ab5e7",
   "metadata": {
    "tags": []
   },
   "outputs": [],
   "source": [
    "## 입원기간 4주 초과\n",
    "df_ROSF_inoverT = df_ROSF_inover[(df_ROSF_inover['수술기법'] == 'TELD')]"
   ]
  },
  {
   "cell_type": "code",
   "execution_count": 51,
   "id": "a3e0de1a-c437-40a6-8d29-062a40eaa732",
   "metadata": {
    "tags": []
   },
   "outputs": [],
   "source": [
    "df_ROSF_inoverI = df_ROSF_inover[(df_ROSF_inover['수술기법'] == 'IELD')]"
   ]
  },
  {
   "cell_type": "code",
   "execution_count": 52,
   "id": "7632b1ac-9c05-4cbe-b6ed-af0d5de2857c",
   "metadata": {
    "tags": []
   },
   "outputs": [
    {
     "data": {
      "text/plain": [
       "RanksumsResult(statistic=0.8100925873009825, pvalue=0.4178869643175005)"
      ]
     },
     "execution_count": 52,
     "metadata": {},
     "output_type": "execute_result"
    }
   ],
   "source": [
    "stats.ranksums(df_ROSF_inoverT['입원기간'], df_ROSF_inoverI['입원기간'])"
   ]
  },
  {
   "cell_type": "markdown",
   "id": "be8e70c2-7e2a-4cc4-82ab-f8f6f5e2e876",
   "metadata": {},
   "source": [
    "#### 수술시간 - 입원기간\n",
    "- 연속-연속\n",
    "- 입원기간 조건 X\n",
    "    - 분석내용: 수술시간에 따라 입원기간에 영향을 미치는가?\n",
    "        - 귀무: 수술시간에 따라 입원기간의 영향 없음\n",
    "        - 대립: 수술시간에 따라 입원기간의 영향 있음\n",
    "        - 분석결론\n",
    "            - stats.ranksums(df_ROSF_TELD['입원기간'], df_ROSF_IELD['입원기간'])\n",
    "            - RanksumsResult(statistic=-0.8318886371666717, pvalue=0.40547180617826806)\n",
    "            - 귀무 참. p-value > 0.05\n",
    "- 입원기간 4주 이하 df_ROSF_in\n",
    "    - 분석내용: 수술시간에 따라 입원기간에 영향을 미치는가?\n",
    "        - 귀무: 수술시간에 따라 입원기간의 영향 없음\n",
    "        - 대립: 수술시간에 따라 입원기간의 영향 있음\n",
    "        - 분석결론\n",
    "            - stats.ranksums(df_ROSF_inT['입원기간'], df_ROSF_inI['입원기간'])\n",
    "            - RanksumsResult(statistic=-0.7965957315632162, pvalue=0.4256858572065577)\n",
    "            - 귀무 참. p-value > 0.05\n",
    "- 입원기간 4주 초과 df_ROSF_inover\n",
    "    - 분석내용: 수술시간에 따라 입원기간에 영향을 미치는가?\n",
    "        - 귀무: 수술시간에 따라 입원기간의 영향 없음\n",
    "        - 대립: 수술시간에 따라 입원기간의 영향 있음\n",
    "        - 분석결론\n",
    "            - stats.ranksums(df_ROSF_inoverT['입원기간'], df_ROSF_inoverI['입원기간'])\n",
    "            - RanksumsResult(statistic=0.8100925873009825, pvalue=0.4178869643175005)\n",
    "            - 귀무 참. p-value > 0.05"
   ]
  },
  {
   "cell_type": "code",
   "execution_count": 53,
   "id": "9b5dd0a4-f133-415a-ad3a-eef3c6d0c00f",
   "metadata": {
    "tags": []
   },
   "outputs": [
    {
     "data": {
      "text/plain": [
       "Unnamed: 0.1         0\n",
       "Unnamed: 0           0\n",
       "환자ID                 0\n",
       "신장                   0\n",
       "체중                   0\n",
       "연령                   0\n",
       "성별                   0\n",
       "Large Lymphocyte     0\n",
       "우울증여부                0\n",
       "종양진행여부               0\n",
       "재발여부                 0\n",
       "디스크단면적               1\n",
       "디스크위치                0\n",
       "척추이동척도               0\n",
       "척추전방위증               0\n",
       "수술시간                54\n",
       "수술실패여부               0\n",
       "수술기법                81\n",
       "흡연여부                 0\n",
       "Instability          0\n",
       "혈액형                  0\n",
       "입원기간                 0\n",
       "dtype: int64"
      ]
     },
     "execution_count": 53,
     "metadata": {},
     "output_type": "execute_result"
    }
   ],
   "source": [
    "#입원기간 조건 X\n",
    "df_ROSF.isnull().sum()"
   ]
  },
  {
   "cell_type": "code",
   "execution_count": 54,
   "id": "c07033bb-1308-4029-b0dc-e6fbfb48bf6a",
   "metadata": {
    "tags": []
   },
   "outputs": [],
   "source": [
    "df_ROSF_drop = df_ROSF.dropna()"
   ]
  },
  {
   "cell_type": "code",
   "execution_count": 55,
   "id": "66d06568-14ff-4f63-995b-a742a7c4aab4",
   "metadata": {
    "tags": []
   },
   "outputs": [
    {
     "data": {
      "text/plain": [
       "SignificanceResult(statistic=0.023403166496777674, pvalue=0.3267425353637803)"
      ]
     },
     "execution_count": 55,
     "metadata": {},
     "output_type": "execute_result"
    }
   ],
   "source": [
    "stats.spearmanr(df_ROSF_drop['수술시간'], df_ROSF_drop['입원기간'])"
   ]
  },
  {
   "cell_type": "code",
   "execution_count": 56,
   "id": "8aae5612-a353-49fe-934c-d96cf64a3762",
   "metadata": {
    "tags": []
   },
   "outputs": [
    {
     "data": {
      "text/plain": [
       "SignificanceResult(statistic=0.03620122923596156, pvalue=0.1321780935962338)"
      ]
     },
     "execution_count": 56,
     "metadata": {},
     "output_type": "execute_result"
    }
   ],
   "source": [
    "## 입원기간 4주 이하\n",
    "stats.spearmanr(df_ROSF_in['수술시간'], df_ROSF_in['입원기간'])"
   ]
  },
  {
   "cell_type": "code",
   "execution_count": 57,
   "id": "af08f3ce-cf04-4e7b-97d7-dc1c8a1513f3",
   "metadata": {
    "tags": []
   },
   "outputs": [
    {
     "data": {
      "text/plain": [
       "SignificanceResult(statistic=0.04545456528072541, pvalue=0.8218790970489804)"
      ]
     },
     "execution_count": 57,
     "metadata": {},
     "output_type": "execute_result"
    }
   ],
   "source": [
    "## 입원기간 4주 초과\n",
    "stats.spearmanr(df_ROSF_inover['수술시간'], df_ROSF_inover['입원기간'])"
   ]
  },
  {
   "cell_type": "markdown",
   "id": "42f08b71-ab1c-48c8-94ce-f8e7f5e07505",
   "metadata": {},
   "source": [
    "#### 수술시간-수술기법에 따른 입원기간??\n",
    "- 수술기법에 따라 걸리는 수술시간이  입원기간에  영향이 있는가??\n",
    "    - pd.pivot_table(df_ROSF_drop, index='입원기간', columns='수술기법', values='수술시간',aggfunc='sum' or 'count')\n",
    "        - 귀무: 수술기법에 따라 걸리는 수술시간은 입원기간에 영향이 없음\n",
    "        - 대립: 수술기법에 따라 걸리는 수술시간은 입원기간에 영향이 있음\n",
    "    - 분석 결론\n",
    "        - ⇒ stats.spearmanr(df_ROSF_pivot_drop['IELD'], df_ROSF_pivot_drop['TELD'])\n",
    "                - SignificanceResult(statistic=0.991031208965115, pvalue=1.4561252916128956e-05)\n",
    "        - 대립 참. 수술기법에 따라 걸리는 수술시간은 입원기간에 영향이 있다. \n",
    "- 수술기법에 따라 걸리는 수술시간이  입원기간에  영향이 있는가??\n",
    "    - pd.pivot_table(df_ROSF_drop, index='입원기간', columns='수술기법', values='수술시간',aggfunc='mean')\n",
    "        - 귀무: 수술기법에 따라 걸리는 수술시간은 입원기간에 영향이 없음\n",
    "        - 대립: 수술기법에 따라 걸리는 수술시간은 입원기간에 영향이 있음\n",
    "    - 분석 결론\n",
    "        - ⇒ pd.pivot_table(df_ROSF_drop, index='입원기간', columns='수술기법', values='수술시간',aggfunc='mean')\n",
    "                - SignificanceResult(statistic=-0.23424374030084538, pvalue=0.6131550369752419)\n",
    "        - 귀무 참. 수술기법에 따라 걸리는 수술시간은 입원기간에 영향 없다. "
   ]
  },
  {
   "cell_type": "code",
   "execution_count": 58,
   "id": "ac85855b-dc8a-48d2-a16e-244e94283cf1",
   "metadata": {
    "tags": []
   },
   "outputs": [],
   "source": [
    "df_ROSF_pivot=pd.pivot_table(df_ROSF_drop, index='입원기간', columns='수술기법', values='수술시간',aggfunc='count')"
   ]
  },
  {
   "cell_type": "code",
   "execution_count": 59,
   "id": "94cb6f0b-5a82-4d0f-ab6c-124c9b70a199",
   "metadata": {
    "tags": []
   },
   "outputs": [],
   "source": [
    "df_ROSF_pivot['입원기간']=df_ROSF_pivot.index"
   ]
  },
  {
   "cell_type": "code",
   "execution_count": 60,
   "id": "942bf8e4-5cec-43fb-a44c-4477a3dd3379",
   "metadata": {
    "tags": []
   },
   "outputs": [
    {
     "data": {
      "text/html": [
       "<div>\n",
       "<style scoped>\n",
       "    .dataframe tbody tr th:only-of-type {\n",
       "        vertical-align: middle;\n",
       "    }\n",
       "\n",
       "    .dataframe tbody tr th {\n",
       "        vertical-align: top;\n",
       "    }\n",
       "\n",
       "    .dataframe thead th {\n",
       "        text-align: right;\n",
       "    }\n",
       "</style>\n",
       "<table border=\"1\" class=\"dataframe\">\n",
       "  <thead>\n",
       "    <tr style=\"text-align: right;\">\n",
       "      <th>수술기법</th>\n",
       "      <th>IELD</th>\n",
       "      <th>TELD</th>\n",
       "      <th>입원기간</th>\n",
       "    </tr>\n",
       "    <tr>\n",
       "      <th>입원기간</th>\n",
       "      <th></th>\n",
       "      <th></th>\n",
       "      <th></th>\n",
       "    </tr>\n",
       "  </thead>\n",
       "  <tbody>\n",
       "    <tr>\n",
       "      <th>0</th>\n",
       "      <td>NaN</td>\n",
       "      <td>3.0</td>\n",
       "      <td>0</td>\n",
       "    </tr>\n",
       "    <tr>\n",
       "      <th>1</th>\n",
       "      <td>81.0</td>\n",
       "      <td>1001.0</td>\n",
       "      <td>1</td>\n",
       "    </tr>\n",
       "    <tr>\n",
       "      <th>2</th>\n",
       "      <td>30.0</td>\n",
       "      <td>425.0</td>\n",
       "      <td>2</td>\n",
       "    </tr>\n",
       "    <tr>\n",
       "      <th>3</th>\n",
       "      <td>17.0</td>\n",
       "      <td>140.0</td>\n",
       "      <td>3</td>\n",
       "    </tr>\n",
       "    <tr>\n",
       "      <th>4</th>\n",
       "      <td>5.0</td>\n",
       "      <td>29.0</td>\n",
       "      <td>4</td>\n",
       "    </tr>\n",
       "    <tr>\n",
       "      <th>5</th>\n",
       "      <td>1.0</td>\n",
       "      <td>5.0</td>\n",
       "      <td>5</td>\n",
       "    </tr>\n",
       "    <tr>\n",
       "      <th>6</th>\n",
       "      <td>1.0</td>\n",
       "      <td>2.0</td>\n",
       "      <td>6</td>\n",
       "    </tr>\n",
       "    <tr>\n",
       "      <th>7</th>\n",
       "      <td>NaN</td>\n",
       "      <td>3.0</td>\n",
       "      <td>7</td>\n",
       "    </tr>\n",
       "    <tr>\n",
       "      <th>8</th>\n",
       "      <td>NaN</td>\n",
       "      <td>5.0</td>\n",
       "      <td>8</td>\n",
       "    </tr>\n",
       "    <tr>\n",
       "      <th>9</th>\n",
       "      <td>NaN</td>\n",
       "      <td>1.0</td>\n",
       "      <td>9</td>\n",
       "    </tr>\n",
       "    <tr>\n",
       "      <th>11</th>\n",
       "      <td>1.0</td>\n",
       "      <td>2.0</td>\n",
       "      <td>11</td>\n",
       "    </tr>\n",
       "    <tr>\n",
       "      <th>12</th>\n",
       "      <td>NaN</td>\n",
       "      <td>1.0</td>\n",
       "      <td>12</td>\n",
       "    </tr>\n",
       "    <tr>\n",
       "      <th>16</th>\n",
       "      <td>NaN</td>\n",
       "      <td>1.0</td>\n",
       "      <td>16</td>\n",
       "    </tr>\n",
       "    <tr>\n",
       "      <th>17</th>\n",
       "      <td>NaN</td>\n",
       "      <td>1.0</td>\n",
       "      <td>17</td>\n",
       "    </tr>\n",
       "    <tr>\n",
       "      <th>18</th>\n",
       "      <td>NaN</td>\n",
       "      <td>1.0</td>\n",
       "      <td>18</td>\n",
       "    </tr>\n",
       "    <tr>\n",
       "      <th>44</th>\n",
       "      <td>NaN</td>\n",
       "      <td>1.0</td>\n",
       "      <td>44</td>\n",
       "    </tr>\n",
       "    <tr>\n",
       "      <th>46</th>\n",
       "      <td>NaN</td>\n",
       "      <td>1.0</td>\n",
       "      <td>46</td>\n",
       "    </tr>\n",
       "  </tbody>\n",
       "</table>\n",
       "</div>"
      ],
      "text/plain": [
       "수술기법  IELD    TELD  입원기간\n",
       "입원기간                    \n",
       "0      NaN     3.0     0\n",
       "1     81.0  1001.0     1\n",
       "2     30.0   425.0     2\n",
       "3     17.0   140.0     3\n",
       "4      5.0    29.0     4\n",
       "5      1.0     5.0     5\n",
       "6      1.0     2.0     6\n",
       "7      NaN     3.0     7\n",
       "8      NaN     5.0     8\n",
       "9      NaN     1.0     9\n",
       "11     1.0     2.0    11\n",
       "12     NaN     1.0    12\n",
       "16     NaN     1.0    16\n",
       "17     NaN     1.0    17\n",
       "18     NaN     1.0    18\n",
       "44     NaN     1.0    44\n",
       "46     NaN     1.0    46"
      ]
     },
     "execution_count": 60,
     "metadata": {},
     "output_type": "execute_result"
    }
   ],
   "source": [
    "df_ROSF_pivot "
   ]
  },
  {
   "cell_type": "code",
   "execution_count": 61,
   "id": "abc22d29-3d1a-49ad-80e7-1c626245a3f9",
   "metadata": {
    "tags": []
   },
   "outputs": [],
   "source": [
    "df_ROSF_pivot_drop = df_ROSF_pivot.dropna()"
   ]
  },
  {
   "cell_type": "code",
   "execution_count": 62,
   "id": "ea0a59f7-40dc-4b2c-a51e-e617cd5f9776",
   "metadata": {
    "tags": []
   },
   "outputs": [
    {
     "data": {
      "text/html": [
       "<div>\n",
       "<style scoped>\n",
       "    .dataframe tbody tr th:only-of-type {\n",
       "        vertical-align: middle;\n",
       "    }\n",
       "\n",
       "    .dataframe tbody tr th {\n",
       "        vertical-align: top;\n",
       "    }\n",
       "\n",
       "    .dataframe thead th {\n",
       "        text-align: right;\n",
       "    }\n",
       "</style>\n",
       "<table border=\"1\" class=\"dataframe\">\n",
       "  <thead>\n",
       "    <tr style=\"text-align: right;\">\n",
       "      <th>수술기법</th>\n",
       "      <th>IELD</th>\n",
       "      <th>TELD</th>\n",
       "      <th>입원기간</th>\n",
       "    </tr>\n",
       "    <tr>\n",
       "      <th>입원기간</th>\n",
       "      <th></th>\n",
       "      <th></th>\n",
       "      <th></th>\n",
       "    </tr>\n",
       "  </thead>\n",
       "  <tbody>\n",
       "    <tr>\n",
       "      <th>1</th>\n",
       "      <td>81.0</td>\n",
       "      <td>1001.0</td>\n",
       "      <td>1</td>\n",
       "    </tr>\n",
       "    <tr>\n",
       "      <th>2</th>\n",
       "      <td>30.0</td>\n",
       "      <td>425.0</td>\n",
       "      <td>2</td>\n",
       "    </tr>\n",
       "    <tr>\n",
       "      <th>3</th>\n",
       "      <td>17.0</td>\n",
       "      <td>140.0</td>\n",
       "      <td>3</td>\n",
       "    </tr>\n",
       "    <tr>\n",
       "      <th>4</th>\n",
       "      <td>5.0</td>\n",
       "      <td>29.0</td>\n",
       "      <td>4</td>\n",
       "    </tr>\n",
       "    <tr>\n",
       "      <th>5</th>\n",
       "      <td>1.0</td>\n",
       "      <td>5.0</td>\n",
       "      <td>5</td>\n",
       "    </tr>\n",
       "    <tr>\n",
       "      <th>6</th>\n",
       "      <td>1.0</td>\n",
       "      <td>2.0</td>\n",
       "      <td>6</td>\n",
       "    </tr>\n",
       "    <tr>\n",
       "      <th>11</th>\n",
       "      <td>1.0</td>\n",
       "      <td>2.0</td>\n",
       "      <td>11</td>\n",
       "    </tr>\n",
       "  </tbody>\n",
       "</table>\n",
       "</div>"
      ],
      "text/plain": [
       "수술기법  IELD    TELD  입원기간\n",
       "입원기간                    \n",
       "1     81.0  1001.0     1\n",
       "2     30.0   425.0     2\n",
       "3     17.0   140.0     3\n",
       "4      5.0    29.0     4\n",
       "5      1.0     5.0     5\n",
       "6      1.0     2.0     6\n",
       "11     1.0     2.0    11"
      ]
     },
     "execution_count": 62,
     "metadata": {},
     "output_type": "execute_result"
    }
   ],
   "source": [
    "df_ROSF_pivot_drop"
   ]
  },
  {
   "cell_type": "code",
   "execution_count": 63,
   "id": "c76d6e8b-5d15-4ed6-8e3e-42a89390c5cf",
   "metadata": {
    "tags": []
   },
   "outputs": [
    {
     "data": {
      "text/plain": [
       "SignificanceResult(statistic=0.9723448696087955, pvalue=0.00024067356450236597)"
      ]
     },
     "execution_count": 63,
     "metadata": {},
     "output_type": "execute_result"
    }
   ],
   "source": [
    "stats.spearmanr(df_ROSF_pivot_drop['IELD'], df_ROSF_pivot_drop['TELD'])"
   ]
  },
  {
   "cell_type": "code",
   "execution_count": 64,
   "id": "35bd8ece-92cc-4b09-a9dd-9f948e5bbe54",
   "metadata": {
    "tags": []
   },
   "outputs": [],
   "source": [
    "df_ROSF_pivot_mean=pd.pivot_table(df_ROSF_drop, index='입원기간', columns='수술기법', values='수술시간',aggfunc='mean')"
   ]
  },
  {
   "cell_type": "code",
   "execution_count": 65,
   "id": "9fa54534-5c8a-4827-baed-0a98b494c06e",
   "metadata": {
    "tags": []
   },
   "outputs": [],
   "source": [
    "df_ROSF_pivot_mean_d = df_ROSF_pivot_mean.dropna()"
   ]
  },
  {
   "cell_type": "code",
   "execution_count": 66,
   "id": "77269036-d3e9-4a49-827b-2e406e3217de",
   "metadata": {
    "tags": []
   },
   "outputs": [
    {
     "data": {
      "text/plain": [
       "SignificanceResult(statistic=-0.23424374030084538, pvalue=0.6131550369752419)"
      ]
     },
     "execution_count": 66,
     "metadata": {},
     "output_type": "execute_result"
    }
   ],
   "source": [
    "stats.spearmanr(df_ROSF_pivot_mean_d['IELD'], df_ROSF_pivot_mean_d['TELD'])"
   ]
  },
  {
   "cell_type": "code",
   "execution_count": null,
   "id": "26063c2f-aef4-44fb-bdfa-b3cf56e3565e",
   "metadata": {},
   "outputs": [],
   "source": []
  }
 ],
 "metadata": {
  "kernelspec": {
   "display_name": "Python 3 (ipykernel)",
   "language": "python",
   "name": "python3"
  },
  "language_info": {
   "codemirror_mode": {
    "name": "ipython",
    "version": 3
   },
   "file_extension": ".py",
   "mimetype": "text/x-python",
   "name": "python",
   "nbconvert_exporter": "python",
   "pygments_lexer": "ipython3",
   "version": "3.11.4"
  }
 },
 "nbformat": 4,
 "nbformat_minor": 5
}
