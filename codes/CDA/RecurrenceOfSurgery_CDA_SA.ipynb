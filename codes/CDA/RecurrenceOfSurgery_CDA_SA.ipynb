{
 "cells": [
  {
   "cell_type": "code",
   "execution_count": 1,
   "id": "e330e038-dd0a-45c3-80e4-9c363c6db413",
   "metadata": {
    "tags": []
   },
   "outputs": [],
   "source": [
    "import matplotlib.pyplot as plt\n",
    "import matplotlib as mpl\n",
    "mpl.rc('font',family='Malgun Gothic')\n",
    "import seaborn as sns\n",
    "import pandas as pd\n",
    "import scipy.stats as stats\n",
    "import numpy as np"
   ]
  },
  {
   "cell_type": "code",
   "execution_count": 2,
   "id": "c4404184-579e-4a36-bd37-2e33adb3b585",
   "metadata": {
    "tags": []
   },
   "outputs": [
    {
     "data": {
      "text/html": [
       "<div>\n",
       "<style scoped>\n",
       "    .dataframe tbody tr th:only-of-type {\n",
       "        vertical-align: middle;\n",
       "    }\n",
       "\n",
       "    .dataframe tbody tr th {\n",
       "        vertical-align: top;\n",
       "    }\n",
       "\n",
       "    .dataframe thead th {\n",
       "        text-align: right;\n",
       "    }\n",
       "</style>\n",
       "<table border=\"1\" class=\"dataframe\">\n",
       "  <thead>\n",
       "    <tr style=\"text-align: right;\">\n",
       "      <th></th>\n",
       "      <th>Unnamed: 0.1</th>\n",
       "      <th>Unnamed: 0</th>\n",
       "      <th>환자ID</th>\n",
       "      <th>신장</th>\n",
       "      <th>체중</th>\n",
       "      <th>연령</th>\n",
       "      <th>성별</th>\n",
       "      <th>Large Lymphocyte</th>\n",
       "      <th>우울증여부</th>\n",
       "      <th>종양진행여부</th>\n",
       "      <th>...</th>\n",
       "      <th>디스크위치</th>\n",
       "      <th>척추이동척도</th>\n",
       "      <th>척추전방위증</th>\n",
       "      <th>수술시간</th>\n",
       "      <th>수술실패여부</th>\n",
       "      <th>수술기법</th>\n",
       "      <th>흡연여부</th>\n",
       "      <th>Instability</th>\n",
       "      <th>혈액형</th>\n",
       "      <th>입원기간</th>\n",
       "    </tr>\n",
       "  </thead>\n",
       "  <tbody>\n",
       "    <tr>\n",
       "      <th>0</th>\n",
       "      <td>0</td>\n",
       "      <td>0</td>\n",
       "      <td>1PT</td>\n",
       "      <td>163</td>\n",
       "      <td>60.3</td>\n",
       "      <td>66</td>\n",
       "      <td>2</td>\n",
       "      <td>22.8</td>\n",
       "      <td>0</td>\n",
       "      <td>0</td>\n",
       "      <td>...</td>\n",
       "      <td>4</td>\n",
       "      <td>Down</td>\n",
       "      <td>0</td>\n",
       "      <td>68.0</td>\n",
       "      <td>0</td>\n",
       "      <td>TELD</td>\n",
       "      <td>0</td>\n",
       "      <td>0</td>\n",
       "      <td>RH+A</td>\n",
       "      <td>2</td>\n",
       "    </tr>\n",
       "    <tr>\n",
       "      <th>1</th>\n",
       "      <td>1</td>\n",
       "      <td>1</td>\n",
       "      <td>2PT</td>\n",
       "      <td>171</td>\n",
       "      <td>71.7</td>\n",
       "      <td>47</td>\n",
       "      <td>1</td>\n",
       "      <td>44.9</td>\n",
       "      <td>0</td>\n",
       "      <td>0</td>\n",
       "      <td>...</td>\n",
       "      <td>4</td>\n",
       "      <td>Up</td>\n",
       "      <td>0</td>\n",
       "      <td>31.0</td>\n",
       "      <td>0</td>\n",
       "      <td>TELD</td>\n",
       "      <td>0</td>\n",
       "      <td>0</td>\n",
       "      <td>RH+A</td>\n",
       "      <td>1</td>\n",
       "    </tr>\n",
       "  </tbody>\n",
       "</table>\n",
       "<p>2 rows × 22 columns</p>\n",
       "</div>"
      ],
      "text/plain": [
       "   Unnamed: 0.1  Unnamed: 0 환자ID   신장    체중  연령  성별  Large Lymphocyte  우울증여부  \\\n",
       "0             0           0  1PT  163  60.3  66   2              22.8      0   \n",
       "1             1           1  2PT  171  71.7  47   1              44.9      0   \n",
       "\n",
       "   종양진행여부  ...  디스크위치  척추이동척도  척추전방위증  수술시간  수술실패여부  수술기법  흡연여부 Instability  \\\n",
       "0       0  ...      4    Down       0  68.0       0  TELD     0           0   \n",
       "1       0  ...      4      Up       0  31.0       0  TELD     0           0   \n",
       "\n",
       "    혈액형  입원기간  \n",
       "0  RH+A     2  \n",
       "1  RH+A     1  \n",
       "\n",
       "[2 rows x 22 columns]"
      ]
     },
     "execution_count": 2,
     "metadata": {},
     "output_type": "execute_result"
    }
   ],
   "source": [
    "df_ROSF = pd.read_csv('../../datasets/RecurrenceOfSurgery_Final.csv')\n",
    "df_ROSF[:2]"
   ]
  },
  {
   "cell_type": "markdown",
   "id": "893b774a-c5f8-467a-88ff-7c40c370776c",
   "metadata": {},
   "source": [
    "#### 연령-입원기간\n",
    "- 입원기간 4주 이하 (연속-비정규)\n",
    "        - 분석내용: 연령이 입원기간에 영향을 비치는가?\n",
    "            - 귀무: 연령에 따른 입원기간 영향 없음\n",
    "            - 대립: 연령에 따른 입원기간 영향 있음\n",
    "        → 분석 결론 \n",
    "        ⇒ stats.spearmanr(df_ROSF_in['연령'], df_ROSF_in['입원기간'])\n",
    "        SignificanceResult(statistic=0.0703582597408785, pvalue=0.0034028301768509323)\n",
    "            - 대립이 참. p-value < 0.05\n",
    "            - 입원기간 4주 이하만 보면 연령이 입원기간게 영향이 있다고 나옴..? \n",
    "-"
   ]
  },
  {
   "cell_type": "code",
   "execution_count": 4,
   "id": "91dc1229-5f23-4e07-87a1-8c8ea8e4fd34",
   "metadata": {
    "tags": []
   },
   "outputs": [],
   "source": [
    "Q1_in = df_ROSF['입원기간'].describe()['25%']\n",
    "Q3_in = df_ROSF['입원기간'].describe()['75%']\n",
    "IQR_in = Q3_in-Q1_in"
   ]
  },
  {
   "cell_type": "code",
   "execution_count": 5,
   "id": "b74f0757-b17b-4cb6-a8ff-82bfd9828603",
   "metadata": {
    "tags": []
   },
   "outputs": [
    {
     "data": {
      "text/plain": [
       "(-0.5, 3.5)"
      ]
     },
     "execution_count": 5,
     "metadata": {},
     "output_type": "execute_result"
    }
   ],
   "source": [
    "up = Q3_in + 1.5 *IQR_in\n",
    "down = Q1_in - 1.5 *IQR_in\n",
    "down, up"
   ]
  },
  {
   "cell_type": "code",
   "execution_count": 6,
   "id": "afcbb1b6-e9fe-4348-9a4d-f79ee61e4561",
   "metadata": {
    "tags": []
   },
   "outputs": [],
   "source": [
    "## 입원기간 4주 이하\n",
    "condition = (df_ROSF['입원기간'] <= 4)\n",
    "df_ROSF_in = df_ROSF[condition]"
   ]
  },
  {
   "cell_type": "code",
   "execution_count": 7,
   "id": "79e16578-fb75-40b2-9ed1-030743ed02fc",
   "metadata": {
    "collapsed": true,
    "jupyter": {
     "outputs_hidden": true
    },
    "tags": []
   },
   "outputs": [
    {
     "data": {
      "text/plain": [
       "Unnamed: 0.1         0\n",
       "Unnamed: 0           0\n",
       "환자ID                 0\n",
       "신장                   0\n",
       "체중                   0\n",
       "연령                   0\n",
       "성별                   0\n",
       "Large Lymphocyte     0\n",
       "우울증여부                0\n",
       "종양진행여부               0\n",
       "재발여부                 0\n",
       "디스크단면적               1\n",
       "디스크위치                0\n",
       "척추이동척도               0\n",
       "척추전방위증               0\n",
       "수술시간                52\n",
       "수술실패여부               0\n",
       "수술기법                73\n",
       "흡연여부                 0\n",
       "Instability          0\n",
       "혈액형                  0\n",
       "입원기간                 0\n",
       "dtype: int64"
      ]
     },
     "execution_count": 7,
     "metadata": {},
     "output_type": "execute_result"
    }
   ],
   "source": [
    "df_ROSF_in.isnull().sum()"
   ]
  },
  {
   "cell_type": "code",
   "execution_count": 8,
   "id": "06a39f28-ac98-493b-94ab-63ac7db2f65c",
   "metadata": {
    "tags": []
   },
   "outputs": [],
   "source": [
    "df_ROSF_in = df_ROSF_in.dropna()"
   ]
  },
  {
   "cell_type": "code",
   "execution_count": 14,
   "id": "74f55241-2dd6-46a5-8995-6dfcf0919860",
   "metadata": {
    "tags": []
   },
   "outputs": [
    {
     "data": {
      "text/plain": [
       "ShapiroResult(statistic=0.6962171196937561, pvalue=0.0)"
      ]
     },
     "execution_count": 14,
     "metadata": {},
     "output_type": "execute_result"
    }
   ],
   "source": [
    "stats.shapiro(df_ROSF_in['입원기간'])"
   ]
  },
  {
   "cell_type": "code",
   "execution_count": 10,
   "id": "f4abae98-e9f2-48a9-9cc5-029687ac65dd",
   "metadata": {
    "tags": []
   },
   "outputs": [
    {
     "data": {
      "text/html": [
       "<div>\n",
       "<style scoped>\n",
       "    .dataframe tbody tr th:only-of-type {\n",
       "        vertical-align: middle;\n",
       "    }\n",
       "\n",
       "    .dataframe tbody tr th {\n",
       "        vertical-align: top;\n",
       "    }\n",
       "\n",
       "    .dataframe thead th {\n",
       "        text-align: right;\n",
       "    }\n",
       "</style>\n",
       "<table border=\"1\" class=\"dataframe\">\n",
       "  <thead>\n",
       "    <tr style=\"text-align: right;\">\n",
       "      <th></th>\n",
       "      <th>입원기간</th>\n",
       "      <th>연령</th>\n",
       "    </tr>\n",
       "  </thead>\n",
       "  <tbody>\n",
       "    <tr>\n",
       "      <th>입원기간</th>\n",
       "      <td>1.000000</td>\n",
       "      <td>0.075214</td>\n",
       "    </tr>\n",
       "    <tr>\n",
       "      <th>연령</th>\n",
       "      <td>0.075214</td>\n",
       "      <td>1.000000</td>\n",
       "    </tr>\n",
       "  </tbody>\n",
       "</table>\n",
       "</div>"
      ],
      "text/plain": [
       "          입원기간        연령\n",
       "입원기간  1.000000  0.075214\n",
       "연령    0.075214  1.000000"
      ]
     },
     "execution_count": 10,
     "metadata": {},
     "output_type": "execute_result"
    }
   ],
   "source": [
    "df_ROSF_in[['입원기간', '연령']].corr()"
   ]
  },
  {
   "cell_type": "code",
   "execution_count": 15,
   "id": "1dee339b-7ba9-468a-8b70-0995dc677eb6",
   "metadata": {
    "tags": []
   },
   "outputs": [
    {
     "data": {
      "text/plain": [
       "SignificanceResult(statistic=0.0703582597408785, pvalue=0.0034028301768509323)"
      ]
     },
     "execution_count": 15,
     "metadata": {},
     "output_type": "execute_result"
    }
   ],
   "source": [
    "stats.spearmanr(df_ROSF_in['연령'], df_ROSF_in['입원기간'])"
   ]
  },
  {
   "cell_type": "code",
   "execution_count": 16,
   "id": "c63992f8-cdaf-408d-9981-61dc02972eef",
   "metadata": {
    "tags": []
   },
   "outputs": [],
   "source": [
    "conditions = (df_ROSF['입원기간'] > 4)\n",
    "df_ROSF_inover = df_ROSF[conditions]"
   ]
  },
  {
   "cell_type": "code",
   "execution_count": 17,
   "id": "cd104dfa-e824-40c1-9b8d-29c89cede850",
   "metadata": {
    "tags": []
   },
   "outputs": [
    {
     "data": {
      "text/html": [
       "<div>\n",
       "<style scoped>\n",
       "    .dataframe tbody tr th:only-of-type {\n",
       "        vertical-align: middle;\n",
       "    }\n",
       "\n",
       "    .dataframe tbody tr th {\n",
       "        vertical-align: top;\n",
       "    }\n",
       "\n",
       "    .dataframe thead th {\n",
       "        text-align: right;\n",
       "    }\n",
       "</style>\n",
       "<table border=\"1\" class=\"dataframe\">\n",
       "  <thead>\n",
       "    <tr style=\"text-align: right;\">\n",
       "      <th></th>\n",
       "      <th>입원기간</th>\n",
       "      <th>연령</th>\n",
       "    </tr>\n",
       "  </thead>\n",
       "  <tbody>\n",
       "    <tr>\n",
       "      <th>입원기간</th>\n",
       "      <td>1.000000</td>\n",
       "      <td>0.028159</td>\n",
       "    </tr>\n",
       "    <tr>\n",
       "      <th>연령</th>\n",
       "      <td>0.028159</td>\n",
       "      <td>1.000000</td>\n",
       "    </tr>\n",
       "  </tbody>\n",
       "</table>\n",
       "</div>"
      ],
      "text/plain": [
       "          입원기간        연령\n",
       "입원기간  1.000000  0.028159\n",
       "연령    0.028159  1.000000"
      ]
     },
     "execution_count": 17,
     "metadata": {},
     "output_type": "execute_result"
    }
   ],
   "source": [
    "df_ROSF_inover[['입원기간', '연령']].corr()"
   ]
  },
  {
   "cell_type": "code",
   "execution_count": 18,
   "id": "7793f141-37dd-478a-b641-d149c5a5b2d3",
   "metadata": {
    "tags": []
   },
   "outputs": [
    {
     "data": {
      "text/plain": [
       "SignificanceResult(statistic=-0.019569489758439012, pvalue=0.9084754057678648)"
      ]
     },
     "execution_count": 18,
     "metadata": {},
     "output_type": "execute_result"
    }
   ],
   "source": [
    "stats.spearmanr(df_ROSF_inover['연령'], df_ROSF_inover['입원기간'])"
   ]
  },
  {
   "cell_type": "code",
   "execution_count": null,
   "id": "8cfefaeb-c19b-415e-a575-18d868a3c484",
   "metadata": {},
   "outputs": [],
   "source": []
  }
 ],
 "metadata": {
  "kernelspec": {
   "display_name": "Python 3 (ipykernel)",
   "language": "python",
   "name": "python3"
  },
  "language_info": {
   "codemirror_mode": {
    "name": "ipython",
    "version": 3
   },
   "file_extension": ".py",
   "mimetype": "text/x-python",
   "name": "python",
   "nbconvert_exporter": "python",
   "pygments_lexer": "ipython3",
   "version": "3.11.3"
  }
 },
 "nbformat": 4,
 "nbformat_minor": 5
}
