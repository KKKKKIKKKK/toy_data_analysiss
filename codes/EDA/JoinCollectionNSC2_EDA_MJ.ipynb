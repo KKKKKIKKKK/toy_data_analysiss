{
 "cells": [
  {
   "cell_type": "code",
   "execution_count": 1,
   "id": "b8852548-68a0-438e-8cb6-f8ad89950a8c",
   "metadata": {
    "tags": []
   },
   "outputs": [],
   "source": [
    "import matplotlib.pyplot as plt\n",
    "import matplotlib as mpl\n",
    "mpl.rc('font',family='Malgun Gothic')\n",
    "import seaborn as sns\n",
    "import pandas as pd\n",
    "import scipy.stats as stats\n",
    "import numpy as np"
   ]
  },
  {
   "cell_type": "code",
   "execution_count": 2,
   "id": "289e479b-e79a-4b71-bd62-b2b3ebe65066",
   "metadata": {
    "tags": []
   },
   "outputs": [
    {
     "data": {
      "text/html": [
       "<div>\n",
       "<style scoped>\n",
       "    .dataframe tbody tr th:only-of-type {\n",
       "        vertical-align: middle;\n",
       "    }\n",
       "\n",
       "    .dataframe tbody tr th {\n",
       "        vertical-align: top;\n",
       "    }\n",
       "\n",
       "    .dataframe thead th {\n",
       "        text-align: right;\n",
       "    }\n",
       "</style>\n",
       "<table border=\"1\" class=\"dataframe\">\n",
       "  <thead>\n",
       "    <tr style=\"text-align: right;\">\n",
       "      <th></th>\n",
       "      <th>Unnamed: 0</th>\n",
       "      <th>EDC_SBA</th>\n",
       "      <th>BTH_YYYY</th>\n",
       "      <th>DTH_YYYYMM</th>\n",
       "      <th>MCARE_SUBJ_CD</th>\n",
       "      <th>OPRTN_YN</th>\n",
       "      <th>TOT_PRSC_DD_CNT</th>\n",
       "      <th>MCARE_RSLT_TYPE</th>\n",
       "      <th>STD_YYYY</th>\n",
       "    </tr>\n",
       "  </thead>\n",
       "  <tbody>\n",
       "    <tr>\n",
       "      <th>0</th>\n",
       "      <td>0</td>\n",
       "      <td>3000</td>\n",
       "      <td>1921LE</td>\n",
       "      <td>200805.0</td>\n",
       "      <td>1</td>\n",
       "      <td>0</td>\n",
       "      <td>30</td>\n",
       "      <td>5.0</td>\n",
       "      <td>2002</td>\n",
       "    </tr>\n",
       "    <tr>\n",
       "      <th>1</th>\n",
       "      <td>1</td>\n",
       "      <td>6000</td>\n",
       "      <td>1921LE</td>\n",
       "      <td>200805.0</td>\n",
       "      <td>1</td>\n",
       "      <td>0</td>\n",
       "      <td>60</td>\n",
       "      <td>5.0</td>\n",
       "      <td>2002</td>\n",
       "    </tr>\n",
       "  </tbody>\n",
       "</table>\n",
       "</div>"
      ],
      "text/plain": [
       "   Unnamed: 0  EDC_SBA BTH_YYYY  DTH_YYYYMM  MCARE_SUBJ_CD  OPRTN_YN  \\\n",
       "0           0     3000   1921LE    200805.0              1         0   \n",
       "1           1     6000   1921LE    200805.0              1         0   \n",
       "\n",
       "   TOT_PRSC_DD_CNT  MCARE_RSLT_TYPE  STD_YYYY  \n",
       "0               30              5.0      2002  \n",
       "1               60              5.0      2002  "
      ]
     },
     "execution_count": 2,
     "metadata": {},
     "output_type": "execute_result"
    }
   ],
   "source": [
    "df_BM = pd.read_csv('../../datasets/JoinCollection NSC2_BND_M20.csv')\n",
    "df_BM[:2]"
   ]
  },
  {
   "cell_type": "code",
   "execution_count": 4,
   "id": "be21eb2b-6808-4299-ac48-3eacb13df128",
   "metadata": {
    "tags": []
   },
   "outputs": [
    {
     "name": "stdout",
     "output_type": "stream",
     "text": [
      "<class 'pandas.core.frame.DataFrame'>\n",
      "RangeIndex: 4629 entries, 0 to 4628\n",
      "Data columns (total 9 columns):\n",
      " #   Column           Non-Null Count  Dtype  \n",
      "---  ------           --------------  -----  \n",
      " 0   Unnamed: 0       4629 non-null   int64  \n",
      " 1   EDC_SBA          4629 non-null   int64  \n",
      " 2   BTH_YYYY         4629 non-null   object \n",
      " 3   DTH_YYYYMM       373 non-null    float64\n",
      " 4   MCARE_SUBJ_CD    4629 non-null   int64  \n",
      " 5   OPRTN_YN         4629 non-null   int64  \n",
      " 6   TOT_PRSC_DD_CNT  4629 non-null   int64  \n",
      " 7   MCARE_RSLT_TYPE  4205 non-null   float64\n",
      " 8   STD_YYYY         4629 non-null   int64  \n",
      "dtypes: float64(2), int64(6), object(1)\n",
      "memory usage: 325.6+ KB\n"
     ]
    }
   ],
   "source": [
    "df_BM.info()"
   ]
  },
  {
   "cell_type": "markdown",
   "id": "1dc00d09-1180-45a7-a7f0-0ec7d1a83d56",
   "metadata": {},
   "source": [
    "### 상관관계 확인\n",
    "- 목표변수 : EDC_SBA 심결본인부담금\n",
    "- 설명변수\n",
    "    - MCARE_SUBJ_CD : 진료과목코드.\n",
    "    - OPRTN_YN : 수술여부\n",
    "    - MCARE_RSLT_TYPE : 진료결과구분"
   ]
  },
  {
   "cell_type": "code",
   "execution_count": 6,
   "id": "cac68765-47ba-46ed-823a-f57fb22c10ee",
   "metadata": {
    "tags": []
   },
   "outputs": [],
   "source": [
    "df_BM = df_BM.drop(columns=['Unnamed: 0']).copy()"
   ]
  },
  {
   "cell_type": "code",
   "execution_count": 7,
   "id": "7815ae1c-43fd-47d2-9afb-d3458fa75af0",
   "metadata": {
    "tags": []
   },
   "outputs": [
    {
     "name": "stdout",
     "output_type": "stream",
     "text": [
      "<class 'pandas.core.frame.DataFrame'>\n",
      "RangeIndex: 4629 entries, 0 to 4628\n",
      "Data columns (total 8 columns):\n",
      " #   Column           Non-Null Count  Dtype  \n",
      "---  ------           --------------  -----  \n",
      " 0   EDC_SBA          4629 non-null   int64  \n",
      " 1   BTH_YYYY         4629 non-null   object \n",
      " 2   DTH_YYYYMM       373 non-null    float64\n",
      " 3   MCARE_SUBJ_CD    4629 non-null   int64  \n",
      " 4   OPRTN_YN         4629 non-null   int64  \n",
      " 5   TOT_PRSC_DD_CNT  4629 non-null   int64  \n",
      " 6   MCARE_RSLT_TYPE  4205 non-null   float64\n",
      " 7   STD_YYYY         4629 non-null   int64  \n",
      "dtypes: float64(2), int64(5), object(1)\n",
      "memory usage: 289.4+ KB\n"
     ]
    }
   ],
   "source": [
    "df_BM.info()"
   ]
  },
  {
   "cell_type": "code",
   "execution_count": 10,
   "id": "22bae655-f7e1-482b-a9d4-21ae1277b9ee",
   "metadata": {
    "tags": []
   },
   "outputs": [
    {
     "data": {
      "text/plain": [
       "EDC_SBA            0\n",
       "BTH_YYYY           0\n",
       "DTH_YYYYMM         0\n",
       "MCARE_SUBJ_CD      0\n",
       "OPRTN_YN           0\n",
       "TOT_PRSC_DD_CNT    0\n",
       "MCARE_RSLT_TYPE    0\n",
       "STD_YYYY           0\n",
       "dtype: int64"
      ]
     },
     "execution_count": 10,
     "metadata": {},
     "output_type": "execute_result"
    }
   ],
   "source": [
    "df_BM = df_BM.dropna()\n",
    "df_BM.isnull().sum()"
   ]
  },
  {
   "cell_type": "code",
   "execution_count": 26,
   "id": "48b00e6b-94ae-467d-a786-6a59cac730a9",
   "metadata": {
    "tags": []
   },
   "outputs": [],
   "source": [
    "# 진료과목코드/수술여부/MCARE_RSLT_TYPE 진료결과구분\n",
    "df_BM[[ 'MCARE_SUBJ_CD', 'OPRTN_YN' , 'MCARE_RSLT_TYPE']] = df_BM[[ 'MCARE_SUBJ_CD', 'OPRTN_YN' , 'MCARE_RSLT_TYPE']].astype(object)"
   ]
  },
  {
   "cell_type": "code",
   "execution_count": 27,
   "id": "fb25e400-75c1-4e1f-ab96-cd2a8bb62389",
   "metadata": {
    "tags": []
   },
   "outputs": [
    {
     "name": "stdout",
     "output_type": "stream",
     "text": [
      "<class 'pandas.core.frame.DataFrame'>\n",
      "Int64Index: 354 entries, 0 to 1456\n",
      "Data columns (total 8 columns):\n",
      " #   Column           Non-Null Count  Dtype  \n",
      "---  ------           --------------  -----  \n",
      " 0   EDC_SBA          354 non-null    int64  \n",
      " 1   BTH_YYYY         354 non-null    object \n",
      " 2   DTH_YYYYMM       354 non-null    float64\n",
      " 3   MCARE_SUBJ_CD    354 non-null    object \n",
      " 4   OPRTN_YN         354 non-null    object \n",
      " 5   TOT_PRSC_DD_CNT  354 non-null    int64  \n",
      " 6   MCARE_RSLT_TYPE  354 non-null    object \n",
      " 7   STD_YYYY         354 non-null    int64  \n",
      "dtypes: float64(1), int64(3), object(4)\n",
      "memory usage: 24.9+ KB\n"
     ]
    }
   ],
   "source": [
    "df_BM.info()"
   ]
  },
  {
   "cell_type": "markdown",
   "id": "4bfffd0e-c8b3-4a0b-a69d-00e0ea03aa20",
   "metadata": {},
   "source": [
    "### 상관관계  확인 필요 (스토리)\n",
    "- 목표변수 : '입원기간'\n",
    "- 설명변수: "
   ]
  },
  {
   "cell_type": "markdown",
   "id": "28d1a7ba-4a09-43bf-8a13-ac18830a398d",
   "metadata": {},
   "source": [
    "### 1.EDC_SBA 심결본인부담금과 / MCARE_SUBJ_CD : 진료과목코드.\n",
    "- 범주형\n",
    "- 진료과목코드가 24인 경우 평균의 값으로 6400으로 24(응급의학과)가 가장 많다. "
   ]
  },
  {
   "cell_type": "code",
   "execution_count": 28,
   "id": "f6243939-8322-43b7-9d77-cacff3fe7687",
   "metadata": {
    "tags": []
   },
   "outputs": [
    {
     "name": "stdout",
     "output_type": "stream",
     "text": [
      "<class 'pandas.core.frame.DataFrame'>\n",
      "Int64Index: 354 entries, 0 to 1456\n",
      "Data columns (total 2 columns):\n",
      " #   Column         Non-Null Count  Dtype \n",
      "---  ------         --------------  ----- \n",
      " 0   EDC_SBA        354 non-null    int64 \n",
      " 1   MCARE_SUBJ_CD  354 non-null    object\n",
      "dtypes: int64(1), object(1)\n",
      "memory usage: 8.3+ KB\n"
     ]
    }
   ],
   "source": [
    "df_MSC = df_BM[['EDC_SBA','MCARE_SUBJ_CD']]\n",
    "df_MSC.info()"
   ]
  },
  {
   "cell_type": "code",
   "execution_count": 29,
   "id": "d1196237-daab-45dd-8d4b-64dfe9643052",
   "metadata": {
    "tags": []
   },
   "outputs": [
    {
     "data": {
      "text/html": [
       "<div>\n",
       "<style scoped>\n",
       "    .dataframe tbody tr th:only-of-type {\n",
       "        vertical-align: middle;\n",
       "    }\n",
       "\n",
       "    .dataframe tbody tr th {\n",
       "        vertical-align: top;\n",
       "    }\n",
       "\n",
       "    .dataframe thead th {\n",
       "        text-align: right;\n",
       "    }\n",
       "</style>\n",
       "<table border=\"1\" class=\"dataframe\">\n",
       "  <thead>\n",
       "    <tr style=\"text-align: right;\">\n",
       "      <th></th>\n",
       "      <th>EDC_SBA</th>\n",
       "    </tr>\n",
       "    <tr>\n",
       "      <th>MCARE_SUBJ_CD</th>\n",
       "      <th></th>\n",
       "    </tr>\n",
       "  </thead>\n",
       "  <tbody>\n",
       "    <tr>\n",
       "      <th>1</th>\n",
       "      <td>4643.247863</td>\n",
       "    </tr>\n",
       "    <tr>\n",
       "      <th>23</th>\n",
       "      <td>2850.000000</td>\n",
       "    </tr>\n",
       "    <tr>\n",
       "      <th>24</th>\n",
       "      <td>6400.000000</td>\n",
       "    </tr>\n",
       "  </tbody>\n",
       "</table>\n",
       "</div>"
      ],
      "text/plain": [
       "                   EDC_SBA\n",
       "MCARE_SUBJ_CD             \n",
       "1              4643.247863\n",
       "23             2850.000000\n",
       "24             6400.000000"
      ]
     },
     "execution_count": 29,
     "metadata": {},
     "output_type": "execute_result"
    }
   ],
   "source": [
    "df_MSC.pivot_table(index='MCARE_SUBJ_CD', values='EDC_SBA', aggfunc=np.mean)"
   ]
  },
  {
   "cell_type": "code",
   "execution_count": 30,
   "id": "08b786ca-a6c4-48b3-a735-7c454adfc3a2",
   "metadata": {
    "tags": []
   },
   "outputs": [
    {
     "data": {
      "text/plain": [
       "<Axes: xlabel='MCARE_SUBJ_CD', ylabel='EDC_SBA'>"
      ]
     },
     "execution_count": 30,
     "metadata": {},
     "output_type": "execute_result"
    },
    {
     "data": {
      "image/png": "[encoded data removed]",
      "text/plain": [
       "<Figure size 640x480 with 1 Axes>"
      ]
     },
     "metadata": {},
     "output_type": "display_data"
    }
   ],
   "source": [
    "sns.barplot(data=df_BM, x='MCARE_SUBJ_CD', y='EDC_SBA',)"
   ]
  },
  {
   "cell_type": "markdown",
   "id": "f3973853-d897-4339-87f0-b866107fe153",
   "metadata": {
    "tags": []
   },
   "source": [
    "### 2.EDC_SBA 심결본인부담금과 / OPRTN_YN 수술여부\n",
    "- 범주형\n",
    "- 본인부담금과 수술여부로 확인할 수 없다. "
   ]
  },
  {
   "cell_type": "code",
   "execution_count": 31,
   "id": "180c4bd0-79f0-4786-bf63-8ea5dc48a4c5",
   "metadata": {
    "tags": []
   },
   "outputs": [
    {
     "name": "stdout",
     "output_type": "stream",
     "text": [
      "<class 'pandas.core.frame.DataFrame'>\n",
      "Int64Index: 354 entries, 0 to 1456\n",
      "Data columns (total 2 columns):\n",
      " #   Column    Non-Null Count  Dtype \n",
      "---  ------    --------------  ----- \n",
      " 0   EDC_SBA   354 non-null    int64 \n",
      " 1   OPRTN_YN  354 non-null    object\n",
      "dtypes: int64(1), object(1)\n",
      "memory usage: 8.3+ KB\n"
     ]
    }
   ],
   "source": [
    "df_OPR = df_BM[['EDC_SBA', 'OPRTN_YN']]\n",
    "df_OPR.info()"
   ]
  },
  {
   "cell_type": "code",
   "execution_count": 32,
   "id": "5e3078b7-c563-42df-bd03-68413c7c5c53",
   "metadata": {
    "tags": []
   },
   "outputs": [
    {
     "data": {
      "text/html": [
       "<div>\n",
       "<style scoped>\n",
       "    .dataframe tbody tr th:only-of-type {\n",
       "        vertical-align: middle;\n",
       "    }\n",
       "\n",
       "    .dataframe tbody tr th {\n",
       "        vertical-align: top;\n",
       "    }\n",
       "\n",
       "    .dataframe thead th {\n",
       "        text-align: right;\n",
       "    }\n",
       "</style>\n",
       "<table border=\"1\" class=\"dataframe\">\n",
       "  <thead>\n",
       "    <tr style=\"text-align: right;\">\n",
       "      <th></th>\n",
       "      <th>EDC_SBA</th>\n",
       "    </tr>\n",
       "    <tr>\n",
       "      <th>OPRTN_YN</th>\n",
       "      <th></th>\n",
       "    </tr>\n",
       "  </thead>\n",
       "  <tbody>\n",
       "    <tr>\n",
       "      <th>0</th>\n",
       "      <td>4638.079096</td>\n",
       "    </tr>\n",
       "  </tbody>\n",
       "</table>\n",
       "</div>"
      ],
      "text/plain": [
       "              EDC_SBA\n",
       "OPRTN_YN             \n",
       "0         4638.079096"
      ]
     },
     "execution_count": 32,
     "metadata": {},
     "output_type": "execute_result"
    }
   ],
   "source": [
    "df_OPR.pivot_table(index='OPRTN_YN', values='EDC_SBA', aggfunc=np.mean)"
   ]
  },
  {
   "cell_type": "code",
   "execution_count": 33,
   "id": "e6f8ab7c-045b-459f-87c2-4f1b2389eb63",
   "metadata": {
    "tags": []
   },
   "outputs": [
    {
     "data": {
      "text/plain": [
       "<Axes: xlabel='OPRTN_YN', ylabel='EDC_SBA'>"
      ]
     },
     "execution_count": 33,
     "metadata": {},
     "output_type": "execute_result"
    },
    {
     "data": {
      "image/png": "[encoded data removed]",
      "text/plain": [
       "<Figure size 640x480 with 1 Axes>"
      ]
     },
     "metadata": {},
     "output_type": "display_data"
    }
   ],
   "source": [
    "sns.barplot(data=df_BM, x='OPRTN_YN', y='EDC_SBA',)"
   ]
  },
  {
   "cell_type": "markdown",
   "id": "14ce3c20-e112-4539-b945-87282dcaa21f",
   "metadata": {},
   "source": [
    "### 3.EDC_SBA 심결본인부담금과 / MCARE_RSLT_TYPE 진료결과구분\n",
    "- 최종상태  1: 계속, 2: 이송, 3: 회송, 4 :사망, 9: 퇴원 또는 외래치료 종결 \n",
    "- 범주형\n",
    "- 본인부담금과 수술여부로 확인할 수 없다. "
   ]
  },
  {
   "cell_type": "code",
   "execution_count": 34,
   "id": "2fd0041a-959c-4d80-9dba-e5732c53c78a",
   "metadata": {
    "tags": []
   },
   "outputs": [
    {
     "name": "stdout",
     "output_type": "stream",
     "text": [
      "<class 'pandas.core.frame.DataFrame'>\n",
      "Int64Index: 354 entries, 0 to 1456\n",
      "Data columns (total 2 columns):\n",
      " #   Column           Non-Null Count  Dtype \n",
      "---  ------           --------------  ----- \n",
      " 0   EDC_SBA          354 non-null    int64 \n",
      " 1   MCARE_RSLT_TYPE  354 non-null    object\n",
      "dtypes: int64(1), object(1)\n",
      "memory usage: 8.3+ KB\n"
     ]
    }
   ],
   "source": [
    "df_Mrt = df_BM[['EDC_SBA', 'MCARE_RSLT_TYPE']]\n",
    "df_Mrt.info()"
   ]
  },
  {
   "cell_type": "code",
   "execution_count": 36,
   "id": "70f6d62b-8c4d-4e7f-a7c9-1f1a978ec8ee",
   "metadata": {
    "tags": []
   },
   "outputs": [
    {
     "data": {
      "text/plain": [
       "<Axes: xlabel='MCARE_RSLT_TYPE', ylabel='EDC_SBA'>"
      ]
     },
     "execution_count": 36,
     "metadata": {},
     "output_type": "execute_result"
    },
    {
     "data": {
      "image/png": "[encoded data removed]",
      "text/plain": [
       "<Figure size 640x480 with 1 Axes>"
      ]
     },
     "metadata": {},
     "output_type": "display_data"
    }
   ],
   "source": [
    "sns.barplot(data=df_BM, x='MCARE_RSLT_TYPE', y='EDC_SBA',)"
   ]
  },
  {
   "cell_type": "code",
   "execution_count": null,
   "id": "ce601fb3-88a1-493d-9047-db0d3db89dbd",
   "metadata": {},
   "outputs": [],
   "source": []
  }
 ],
 "metadata": {
  "kernelspec": {
   "display_name": "Python 3 (ipykernel)",
   "language": "python",
   "name": "python3"
  },
  "language_info": {
   "codemirror_mode": {
    "name": "ipython",
    "version": 3
   },
   "file_extension": ".py",
   "mimetype": "text/x-python",
   "name": "python",
   "nbconvert_exporter": "python",
   "pygments_lexer": "ipython3",
   "version": "3.11.3"
  }
 },
 "nbformat": 4,
 "nbformat_minor": 5
}
