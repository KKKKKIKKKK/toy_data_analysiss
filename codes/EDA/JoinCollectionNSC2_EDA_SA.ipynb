{
 "cells": [
  {
   "cell_type": "code",
   "execution_count": 1,
   "id": "7d55d7f1-8eee-4ba4-b7a8-c5273bf16bb2",
   "metadata": {
    "tags": []
   },
   "outputs": [],
   "source": [
    "import matplotlib.pyplot as plt\n",
    "import matplotlib as mpl\n",
    "mpl.rc('font',family='Malgun Gothic')\n",
    "import seaborn as sns\n",
    "import pandas as pd\n",
    "import scipy.stats as stats\n",
    "import numpy as np"
   ]
  },
  {
   "cell_type": "code",
   "execution_count": 2,
   "id": "f7c8b2f7-295f-4cab-994e-cc0b08ce8cf1",
   "metadata": {
    "tags": []
   },
   "outputs": [
    {
     "data": {
      "text/html": [
       "<div>\n",
       "<style scoped>\n",
       "    .dataframe tbody tr th:only-of-type {\n",
       "        vertical-align: middle;\n",
       "    }\n",
       "\n",
       "    .dataframe tbody tr th {\n",
       "        vertical-align: top;\n",
       "    }\n",
       "\n",
       "    .dataframe thead th {\n",
       "        text-align: right;\n",
       "    }\n",
       "</style>\n",
       "<table border=\"1\" class=\"dataframe\">\n",
       "  <thead>\n",
       "    <tr style=\"text-align: right;\">\n",
       "      <th></th>\n",
       "      <th>Unnamed: 0</th>\n",
       "      <th>EDC_SBA</th>\n",
       "      <th>BTH_YYYY</th>\n",
       "      <th>DTH_YYYYMM</th>\n",
       "      <th>MCARE_SUBJ_CD</th>\n",
       "      <th>OPRTN_YN</th>\n",
       "      <th>TOT_PRSC_DD_CNT</th>\n",
       "      <th>MCARE_RSLT_TYPE</th>\n",
       "      <th>STD_YYYY</th>\n",
       "    </tr>\n",
       "  </thead>\n",
       "  <tbody>\n",
       "    <tr>\n",
       "      <th>0</th>\n",
       "      <td>0</td>\n",
       "      <td>3000</td>\n",
       "      <td>1921LE</td>\n",
       "      <td>200805.0</td>\n",
       "      <td>1</td>\n",
       "      <td>0</td>\n",
       "      <td>30</td>\n",
       "      <td>5.0</td>\n",
       "      <td>2002</td>\n",
       "    </tr>\n",
       "    <tr>\n",
       "      <th>1</th>\n",
       "      <td>1</td>\n",
       "      <td>6000</td>\n",
       "      <td>1921LE</td>\n",
       "      <td>200805.0</td>\n",
       "      <td>1</td>\n",
       "      <td>0</td>\n",
       "      <td>60</td>\n",
       "      <td>5.0</td>\n",
       "      <td>2002</td>\n",
       "    </tr>\n",
       "    <tr>\n",
       "      <th>2</th>\n",
       "      <td>2</td>\n",
       "      <td>3000</td>\n",
       "      <td>1921LE</td>\n",
       "      <td>200805.0</td>\n",
       "      <td>1</td>\n",
       "      <td>0</td>\n",
       "      <td>30</td>\n",
       "      <td>5.0</td>\n",
       "      <td>2002</td>\n",
       "    </tr>\n",
       "    <tr>\n",
       "      <th>3</th>\n",
       "      <td>3</td>\n",
       "      <td>4200</td>\n",
       "      <td>1921LE</td>\n",
       "      <td>200805.0</td>\n",
       "      <td>23</td>\n",
       "      <td>0</td>\n",
       "      <td>7</td>\n",
       "      <td>1.0</td>\n",
       "      <td>2007</td>\n",
       "    </tr>\n",
       "    <tr>\n",
       "      <th>4</th>\n",
       "      <td>4</td>\n",
       "      <td>1500</td>\n",
       "      <td>1921LE</td>\n",
       "      <td>201409.0</td>\n",
       "      <td>1</td>\n",
       "      <td>0</td>\n",
       "      <td>7</td>\n",
       "      <td>5.0</td>\n",
       "      <td>2004</td>\n",
       "    </tr>\n",
       "    <tr>\n",
       "      <th>...</th>\n",
       "      <td>...</td>\n",
       "      <td>...</td>\n",
       "      <td>...</td>\n",
       "      <td>...</td>\n",
       "      <td>...</td>\n",
       "      <td>...</td>\n",
       "      <td>...</td>\n",
       "      <td>...</td>\n",
       "      <td>...</td>\n",
       "    </tr>\n",
       "    <tr>\n",
       "      <th>4624</th>\n",
       "      <td>4624</td>\n",
       "      <td>3000</td>\n",
       "      <td>2005</td>\n",
       "      <td>NaN</td>\n",
       "      <td>1</td>\n",
       "      <td>0</td>\n",
       "      <td>30</td>\n",
       "      <td>1.0</td>\n",
       "      <td>2005</td>\n",
       "    </tr>\n",
       "    <tr>\n",
       "      <th>4625</th>\n",
       "      <td>4625</td>\n",
       "      <td>3000</td>\n",
       "      <td>2005</td>\n",
       "      <td>NaN</td>\n",
       "      <td>1</td>\n",
       "      <td>0</td>\n",
       "      <td>30</td>\n",
       "      <td>1.0</td>\n",
       "      <td>2005</td>\n",
       "    </tr>\n",
       "    <tr>\n",
       "      <th>4626</th>\n",
       "      <td>4626</td>\n",
       "      <td>3000</td>\n",
       "      <td>2005</td>\n",
       "      <td>NaN</td>\n",
       "      <td>1</td>\n",
       "      <td>0</td>\n",
       "      <td>30</td>\n",
       "      <td>1.0</td>\n",
       "      <td>2005</td>\n",
       "    </tr>\n",
       "    <tr>\n",
       "      <th>4627</th>\n",
       "      <td>4627</td>\n",
       "      <td>3000</td>\n",
       "      <td>2005</td>\n",
       "      <td>NaN</td>\n",
       "      <td>1</td>\n",
       "      <td>0</td>\n",
       "      <td>30</td>\n",
       "      <td>1.0</td>\n",
       "      <td>2006</td>\n",
       "    </tr>\n",
       "    <tr>\n",
       "      <th>4628</th>\n",
       "      <td>4628</td>\n",
       "      <td>1500</td>\n",
       "      <td>2005</td>\n",
       "      <td>NaN</td>\n",
       "      <td>1</td>\n",
       "      <td>0</td>\n",
       "      <td>30</td>\n",
       "      <td>1.0</td>\n",
       "      <td>2010</td>\n",
       "    </tr>\n",
       "  </tbody>\n",
       "</table>\n",
       "<p>4629 rows × 9 columns</p>\n",
       "</div>"
      ],
      "text/plain": [
       "      Unnamed: 0  EDC_SBA BTH_YYYY  DTH_YYYYMM  MCARE_SUBJ_CD  OPRTN_YN  \\\n",
       "0              0     3000   1921LE    200805.0              1         0   \n",
       "1              1     6000   1921LE    200805.0              1         0   \n",
       "2              2     3000   1921LE    200805.0              1         0   \n",
       "3              3     4200   1921LE    200805.0             23         0   \n",
       "4              4     1500   1921LE    201409.0              1         0   \n",
       "...          ...      ...      ...         ...            ...       ...   \n",
       "4624        4624     3000     2005         NaN              1         0   \n",
       "4625        4625     3000     2005         NaN              1         0   \n",
       "4626        4626     3000     2005         NaN              1         0   \n",
       "4627        4627     3000     2005         NaN              1         0   \n",
       "4628        4628     1500     2005         NaN              1         0   \n",
       "\n",
       "      TOT_PRSC_DD_CNT  MCARE_RSLT_TYPE  STD_YYYY  \n",
       "0                  30              5.0      2002  \n",
       "1                  60              5.0      2002  \n",
       "2                  30              5.0      2002  \n",
       "3                   7              1.0      2007  \n",
       "4                   7              5.0      2004  \n",
       "...               ...              ...       ...  \n",
       "4624               30              1.0      2005  \n",
       "4625               30              1.0      2005  \n",
       "4626               30              1.0      2005  \n",
       "4627               30              1.0      2006  \n",
       "4628               30              1.0      2010  \n",
       "\n",
       "[4629 rows x 9 columns]"
      ]
     },
     "execution_count": 2,
     "metadata": {},
     "output_type": "execute_result"
    }
   ],
   "source": [
    "df_BM = pd.read_csv('../../datasets/Join Collection NSC2_BND_M20.csv')\n",
    "df_BM ## 고혈압환자들만 select"
   ]
  },
  {
   "cell_type": "code",
   "execution_count": 3,
   "id": "86a319df-0e76-4fd4-bf1a-21d4e2d17d9c",
   "metadata": {
    "tags": []
   },
   "outputs": [
    {
     "data": {
      "text/html": [
       "<div>\n",
       "<style scoped>\n",
       "    .dataframe tbody tr th:only-of-type {\n",
       "        vertical-align: middle;\n",
       "    }\n",
       "\n",
       "    .dataframe tbody tr th {\n",
       "        vertical-align: top;\n",
       "    }\n",
       "\n",
       "    .dataframe thead th {\n",
       "        text-align: right;\n",
       "    }\n",
       "</style>\n",
       "<table border=\"1\" class=\"dataframe\">\n",
       "  <thead>\n",
       "    <tr style=\"text-align: right;\">\n",
       "      <th></th>\n",
       "      <th>Unnamed: 0</th>\n",
       "      <th>EDC_SBA</th>\n",
       "      <th>BTH_YYYY</th>\n",
       "      <th>DTH_YYYYMM</th>\n",
       "      <th>MCARE_SUBJ_CD</th>\n",
       "      <th>OPRTN_YN</th>\n",
       "      <th>TOT_PRSC_DD_CNT</th>\n",
       "      <th>MCARE_RSLT_TYPE</th>\n",
       "      <th>STD_YYYY</th>\n",
       "    </tr>\n",
       "  </thead>\n",
       "  <tbody>\n",
       "    <tr>\n",
       "      <th>11</th>\n",
       "      <td>11</td>\n",
       "      <td>8580</td>\n",
       "      <td>1926</td>\n",
       "      <td>201808.0</td>\n",
       "      <td>1</td>\n",
       "      <td>0</td>\n",
       "      <td>0</td>\n",
       "      <td>1.0</td>\n",
       "      <td>2006</td>\n",
       "    </tr>\n",
       "    <tr>\n",
       "      <th>12</th>\n",
       "      <td>12</td>\n",
       "      <td>2900</td>\n",
       "      <td>1926</td>\n",
       "      <td>201808.0</td>\n",
       "      <td>1</td>\n",
       "      <td>0</td>\n",
       "      <td>30</td>\n",
       "      <td>1.0</td>\n",
       "      <td>2008</td>\n",
       "    </tr>\n",
       "    <tr>\n",
       "      <th>13</th>\n",
       "      <td>13</td>\n",
       "      <td>2900</td>\n",
       "      <td>1926</td>\n",
       "      <td>201808.0</td>\n",
       "      <td>1</td>\n",
       "      <td>0</td>\n",
       "      <td>30</td>\n",
       "      <td>1.0</td>\n",
       "      <td>2008</td>\n",
       "    </tr>\n",
       "    <tr>\n",
       "      <th>14</th>\n",
       "      <td>14</td>\n",
       "      <td>2900</td>\n",
       "      <td>1926</td>\n",
       "      <td>201808.0</td>\n",
       "      <td>1</td>\n",
       "      <td>0</td>\n",
       "      <td>14</td>\n",
       "      <td>1.0</td>\n",
       "      <td>2008</td>\n",
       "    </tr>\n",
       "    <tr>\n",
       "      <th>15</th>\n",
       "      <td>15</td>\n",
       "      <td>3500</td>\n",
       "      <td>1926</td>\n",
       "      <td>201808.0</td>\n",
       "      <td>1</td>\n",
       "      <td>0</td>\n",
       "      <td>30</td>\n",
       "      <td>1.0</td>\n",
       "      <td>2008</td>\n",
       "    </tr>\n",
       "    <tr>\n",
       "      <th>...</th>\n",
       "      <td>...</td>\n",
       "      <td>...</td>\n",
       "      <td>...</td>\n",
       "      <td>...</td>\n",
       "      <td>...</td>\n",
       "      <td>...</td>\n",
       "      <td>...</td>\n",
       "      <td>...</td>\n",
       "      <td>...</td>\n",
       "    </tr>\n",
       "    <tr>\n",
       "      <th>4624</th>\n",
       "      <td>4624</td>\n",
       "      <td>3000</td>\n",
       "      <td>2005</td>\n",
       "      <td>NaN</td>\n",
       "      <td>1</td>\n",
       "      <td>0</td>\n",
       "      <td>30</td>\n",
       "      <td>1.0</td>\n",
       "      <td>2005</td>\n",
       "    </tr>\n",
       "    <tr>\n",
       "      <th>4625</th>\n",
       "      <td>4625</td>\n",
       "      <td>3000</td>\n",
       "      <td>2005</td>\n",
       "      <td>NaN</td>\n",
       "      <td>1</td>\n",
       "      <td>0</td>\n",
       "      <td>30</td>\n",
       "      <td>1.0</td>\n",
       "      <td>2005</td>\n",
       "    </tr>\n",
       "    <tr>\n",
       "      <th>4626</th>\n",
       "      <td>4626</td>\n",
       "      <td>3000</td>\n",
       "      <td>2005</td>\n",
       "      <td>NaN</td>\n",
       "      <td>1</td>\n",
       "      <td>0</td>\n",
       "      <td>30</td>\n",
       "      <td>1.0</td>\n",
       "      <td>2005</td>\n",
       "    </tr>\n",
       "    <tr>\n",
       "      <th>4627</th>\n",
       "      <td>4627</td>\n",
       "      <td>3000</td>\n",
       "      <td>2005</td>\n",
       "      <td>NaN</td>\n",
       "      <td>1</td>\n",
       "      <td>0</td>\n",
       "      <td>30</td>\n",
       "      <td>1.0</td>\n",
       "      <td>2006</td>\n",
       "    </tr>\n",
       "    <tr>\n",
       "      <th>4628</th>\n",
       "      <td>4628</td>\n",
       "      <td>1500</td>\n",
       "      <td>2005</td>\n",
       "      <td>NaN</td>\n",
       "      <td>1</td>\n",
       "      <td>0</td>\n",
       "      <td>30</td>\n",
       "      <td>1.0</td>\n",
       "      <td>2010</td>\n",
       "    </tr>\n",
       "  </tbody>\n",
       "</table>\n",
       "<p>4618 rows × 9 columns</p>\n",
       "</div>"
      ],
      "text/plain": [
       "      Unnamed: 0  EDC_SBA BTH_YYYY  DTH_YYYYMM  MCARE_SUBJ_CD  OPRTN_YN  \\\n",
       "11            11     8580     1926    201808.0              1         0   \n",
       "12            12     2900     1926    201808.0              1         0   \n",
       "13            13     2900     1926    201808.0              1         0   \n",
       "14            14     2900     1926    201808.0              1         0   \n",
       "15            15     3500     1926    201808.0              1         0   \n",
       "...          ...      ...      ...         ...            ...       ...   \n",
       "4624        4624     3000     2005         NaN              1         0   \n",
       "4625        4625     3000     2005         NaN              1         0   \n",
       "4626        4626     3000     2005         NaN              1         0   \n",
       "4627        4627     3000     2005         NaN              1         0   \n",
       "4628        4628     1500     2005         NaN              1         0   \n",
       "\n",
       "      TOT_PRSC_DD_CNT  MCARE_RSLT_TYPE  STD_YYYY  \n",
       "11                  0              1.0      2006  \n",
       "12                 30              1.0      2008  \n",
       "13                 30              1.0      2008  \n",
       "14                 14              1.0      2008  \n",
       "15                 30              1.0      2008  \n",
       "...               ...              ...       ...  \n",
       "4624               30              1.0      2005  \n",
       "4625               30              1.0      2005  \n",
       "4626               30              1.0      2005  \n",
       "4627               30              1.0      2006  \n",
       "4628               30              1.0      2010  \n",
       "\n",
       "[4618 rows x 9 columns]"
      ]
     },
     "execution_count": 3,
     "metadata": {},
     "output_type": "execute_result"
    }
   ],
   "source": [
    "condition = (df_BM['BTH_YYYY'] != '1921LE')\n",
    "df_BMA = df_BM[condition]\n",
    "df_BMA"
   ]
  },
  {
   "cell_type": "code",
   "execution_count": 4,
   "id": "4779e44c-cc1e-46d2-b557-e2ac119c0056",
   "metadata": {
    "tags": []
   },
   "outputs": [
    {
     "name": "stderr",
     "output_type": "stream",
     "text": [
      "C:\\Users\\01-15\\AppData\\Local\\Temp\\ipykernel_12036\\1629062973.py:1: SettingWithCopyWarning: \n",
      "A value is trying to be set on a copy of a slice from a DataFrame.\n",
      "Try using .loc[row_indexer,col_indexer] = value instead\n",
      "\n",
      "See the caveats in the documentation: https://pandas.pydata.org/pandas-docs/stable/user_guide/indexing.html#returning-a-view-versus-a-copy\n",
      "  df_BMA['BTH_Y']=pd.to_datetime(df_BMA['BTH_YYYY'].astype(str))\n"
     ]
    }
   ],
   "source": [
    "df_BMA['BTH_Y']=pd.to_datetime(df_BMA['BTH_YYYY'].astype(str))"
   ]
  },
  {
   "cell_type": "code",
   "execution_count": 5,
   "id": "9cd29258-c4ba-4f10-90a6-5d41a79c1dd4",
   "metadata": {
    "tags": []
   },
   "outputs": [],
   "source": [
    "def present(birth_year):\n",
    "    current_year = pd.to_datetime('today').year  # 현재 연도 가져오기\n",
    "    return current_year - birth_year.year \n",
    "## chatGPT에게 도움을 받음. "
   ]
  },
  {
   "cell_type": "code",
   "execution_count": 6,
   "id": "a1fc3e87-dd1b-4d64-9bec-356bc1855cea",
   "metadata": {
    "tags": []
   },
   "outputs": [
    {
     "name": "stderr",
     "output_type": "stream",
     "text": [
      "C:\\Users\\01-15\\AppData\\Local\\Temp\\ipykernel_12036\\1676463516.py:1: SettingWithCopyWarning: \n",
      "A value is trying to be set on a copy of a slice from a DataFrame.\n",
      "Try using .loc[row_indexer,col_indexer] = value instead\n",
      "\n",
      "See the caveats in the documentation: https://pandas.pydata.org/pandas-docs/stable/user_guide/indexing.html#returning-a-view-versus-a-copy\n",
      "  df_BMA['Age']=df_BMA['BTH_Y'].apply(present) ## 2023년 기준 나이로 계산\n"
     ]
    }
   ],
   "source": [
    "df_BMA['Age']=df_BMA['BTH_Y'].apply(present) ## 2023년 기준 나이로 계산"
   ]
  },
  {
   "cell_type": "code",
   "execution_count": 7,
   "id": "a498ff62-a239-4d3e-b1eb-83ffa716c5f8",
   "metadata": {
    "tags": []
   },
   "outputs": [],
   "source": [
    "## 현재 기준으로 진료 받은 년차\n",
    "def disease(year) :\n",
    "    result = 2023 - year\n",
    "    return result"
   ]
  },
  {
   "cell_type": "code",
   "execution_count": 8,
   "id": "8fad77b0-dcee-4edc-b789-c71c2cf01563",
   "metadata": {
    "tags": []
   },
   "outputs": [
    {
     "name": "stderr",
     "output_type": "stream",
     "text": [
      "C:\\Users\\01-15\\AppData\\Local\\Temp\\ipykernel_12036\\4100314602.py:1: SettingWithCopyWarning: \n",
      "A value is trying to be set on a copy of a slice from a DataFrame.\n",
      "Try using .loc[row_indexer,col_indexer] = value instead\n",
      "\n",
      "See the caveats in the documentation: https://pandas.pydata.org/pandas-docs/stable/user_guide/indexing.html#returning-a-view-versus-a-copy\n",
      "  df_BMA['disease_year']= df_BMA['STD_YYYY'].apply(disease)\n"
     ]
    }
   ],
   "source": [
    "df_BMA['disease_year']= df_BMA['STD_YYYY'].apply(disease)"
   ]
  },
  {
   "cell_type": "code",
   "execution_count": 9,
   "id": "3c7bd783-4c13-4587-82b0-809e52956d72",
   "metadata": {
    "tags": []
   },
   "outputs": [
    {
     "data": {
      "text/html": [
       "<div>\n",
       "<style scoped>\n",
       "    .dataframe tbody tr th:only-of-type {\n",
       "        vertical-align: middle;\n",
       "    }\n",
       "\n",
       "    .dataframe tbody tr th {\n",
       "        vertical-align: top;\n",
       "    }\n",
       "\n",
       "    .dataframe thead th {\n",
       "        text-align: right;\n",
       "    }\n",
       "</style>\n",
       "<table border=\"1\" class=\"dataframe\">\n",
       "  <thead>\n",
       "    <tr style=\"text-align: right;\">\n",
       "      <th></th>\n",
       "      <th>Unnamed: 0</th>\n",
       "      <th>EDC_SBA</th>\n",
       "      <th>BTH_YYYY</th>\n",
       "      <th>DTH_YYYYMM</th>\n",
       "      <th>MCARE_SUBJ_CD</th>\n",
       "      <th>OPRTN_YN</th>\n",
       "      <th>TOT_PRSC_DD_CNT</th>\n",
       "      <th>MCARE_RSLT_TYPE</th>\n",
       "      <th>STD_YYYY</th>\n",
       "      <th>BTH_Y</th>\n",
       "      <th>Age</th>\n",
       "      <th>disease_year</th>\n",
       "    </tr>\n",
       "  </thead>\n",
       "  <tbody>\n",
       "    <tr>\n",
       "      <th>11</th>\n",
       "      <td>11</td>\n",
       "      <td>8580</td>\n",
       "      <td>1926</td>\n",
       "      <td>201808.0</td>\n",
       "      <td>1</td>\n",
       "      <td>0</td>\n",
       "      <td>0</td>\n",
       "      <td>1.0</td>\n",
       "      <td>2006</td>\n",
       "      <td>1926-01-01</td>\n",
       "      <td>97</td>\n",
       "      <td>17</td>\n",
       "    </tr>\n",
       "    <tr>\n",
       "      <th>12</th>\n",
       "      <td>12</td>\n",
       "      <td>2900</td>\n",
       "      <td>1926</td>\n",
       "      <td>201808.0</td>\n",
       "      <td>1</td>\n",
       "      <td>0</td>\n",
       "      <td>30</td>\n",
       "      <td>1.0</td>\n",
       "      <td>2008</td>\n",
       "      <td>1926-01-01</td>\n",
       "      <td>97</td>\n",
       "      <td>15</td>\n",
       "    </tr>\n",
       "    <tr>\n",
       "      <th>13</th>\n",
       "      <td>13</td>\n",
       "      <td>2900</td>\n",
       "      <td>1926</td>\n",
       "      <td>201808.0</td>\n",
       "      <td>1</td>\n",
       "      <td>0</td>\n",
       "      <td>30</td>\n",
       "      <td>1.0</td>\n",
       "      <td>2008</td>\n",
       "      <td>1926-01-01</td>\n",
       "      <td>97</td>\n",
       "      <td>15</td>\n",
       "    </tr>\n",
       "    <tr>\n",
       "      <th>14</th>\n",
       "      <td>14</td>\n",
       "      <td>2900</td>\n",
       "      <td>1926</td>\n",
       "      <td>201808.0</td>\n",
       "      <td>1</td>\n",
       "      <td>0</td>\n",
       "      <td>14</td>\n",
       "      <td>1.0</td>\n",
       "      <td>2008</td>\n",
       "      <td>1926-01-01</td>\n",
       "      <td>97</td>\n",
       "      <td>15</td>\n",
       "    </tr>\n",
       "    <tr>\n",
       "      <th>15</th>\n",
       "      <td>15</td>\n",
       "      <td>3500</td>\n",
       "      <td>1926</td>\n",
       "      <td>201808.0</td>\n",
       "      <td>1</td>\n",
       "      <td>0</td>\n",
       "      <td>30</td>\n",
       "      <td>1.0</td>\n",
       "      <td>2008</td>\n",
       "      <td>1926-01-01</td>\n",
       "      <td>97</td>\n",
       "      <td>15</td>\n",
       "    </tr>\n",
       "  </tbody>\n",
       "</table>\n",
       "</div>"
      ],
      "text/plain": [
       "    Unnamed: 0  EDC_SBA BTH_YYYY  DTH_YYYYMM  MCARE_SUBJ_CD  OPRTN_YN  \\\n",
       "11          11     8580     1926    201808.0              1         0   \n",
       "12          12     2900     1926    201808.0              1         0   \n",
       "13          13     2900     1926    201808.0              1         0   \n",
       "14          14     2900     1926    201808.0              1         0   \n",
       "15          15     3500     1926    201808.0              1         0   \n",
       "\n",
       "    TOT_PRSC_DD_CNT  MCARE_RSLT_TYPE  STD_YYYY      BTH_Y  Age  disease_year  \n",
       "11                0              1.0      2006 1926-01-01   97            17  \n",
       "12               30              1.0      2008 1926-01-01   97            15  \n",
       "13               30              1.0      2008 1926-01-01   97            15  \n",
       "14               14              1.0      2008 1926-01-01   97            15  \n",
       "15               30              1.0      2008 1926-01-01   97            15  "
      ]
     },
     "execution_count": 9,
     "metadata": {},
     "output_type": "execute_result"
    }
   ],
   "source": [
    "df_BMA[:5]"
   ]
  },
  {
   "cell_type": "markdown",
   "id": "c74e7b7b-0dc0-4d00-bcbc-02a0709a29e5",
   "metadata": {},
   "source": [
    "#### DDA 변수 분석 결과\n",
    "- EDC_SBA = 심결본인부담금: 연속형\n",
    "- Age = 생년월일-사망월일로 진행하려 했으나 데이터의 일관성이 없었고 DTH의 null값이 대부분이라 출생년도 1921부터 2023년 현재 생존한 환자로 확인 (현재연령- 연속형)\n",
    "- TOT_PRSC_DD_CNT= 총 처방일수: 연속형 \n",
    "- disease_year-첫 진료받은 년도: 범주형 가능할듯. 12~21년 (2023년 기준)"
   ]
  },
  {
   "cell_type": "markdown",
   "id": "f77d65ef-e1db-4f22-a381-8c2b65d8ba74",
   "metadata": {
    "tags": []
   },
   "source": [
    "### 연령-심결본인부담금\n",
    "- 연속-연속\n",
    "- lmplot?histplot?scatter?\n",
    "-  ⇒ 전체 연관성이 보이지 않음. \n",
    "-  ⇒ 50-60 대 사이에서 본인부담금이 높은것으로 보여짐. "
   ]
  },
  {
   "cell_type": "code",
   "execution_count": 10,
   "id": "809341e2-24ff-47c7-b8f3-ee2fe5ad0a3e",
   "metadata": {
    "tags": []
   },
   "outputs": [
    {
     "data": {
      "text/plain": [
       "<Axes: xlabel='Age', ylabel='EDC_SBA'>"
      ]
     },
     "execution_count": 10,
     "metadata": {},
     "output_type": "execute_result"
    },
    {
     "data": {
      "image/png": "[encoded data removed]",
      "text/plain": [
       "<Figure size 640x480 with 1 Axes>"
      ]
     },
     "metadata": {},
     "output_type": "display_data"
    }
   ],
   "source": [
    "sns.scatterplot(data=df_BMA, x='Age', y='EDC_SBA')"
   ]
  },
  {
   "cell_type": "code",
   "execution_count": 11,
   "id": "f4b718d7-17c4-425a-88d6-0ff79e95cad4",
   "metadata": {
    "tags": []
   },
   "outputs": [
    {
     "data": {
      "text/html": [
       "<div>\n",
       "<style scoped>\n",
       "    .dataframe tbody tr th:only-of-type {\n",
       "        vertical-align: middle;\n",
       "    }\n",
       "\n",
       "    .dataframe tbody tr th {\n",
       "        vertical-align: top;\n",
       "    }\n",
       "\n",
       "    .dataframe thead th {\n",
       "        text-align: right;\n",
       "    }\n",
       "</style>\n",
       "<table border=\"1\" class=\"dataframe\">\n",
       "  <thead>\n",
       "    <tr style=\"text-align: right;\">\n",
       "      <th></th>\n",
       "      <th>Age</th>\n",
       "      <th>EDC_SBA</th>\n",
       "    </tr>\n",
       "  </thead>\n",
       "  <tbody>\n",
       "    <tr>\n",
       "      <th>Age</th>\n",
       "      <td>1.000000</td>\n",
       "      <td>-0.011429</td>\n",
       "    </tr>\n",
       "    <tr>\n",
       "      <th>EDC_SBA</th>\n",
       "      <td>-0.011429</td>\n",
       "      <td>1.000000</td>\n",
       "    </tr>\n",
       "  </tbody>\n",
       "</table>\n",
       "</div>"
      ],
      "text/plain": [
       "              Age   EDC_SBA\n",
       "Age      1.000000 -0.011429\n",
       "EDC_SBA -0.011429  1.000000"
      ]
     },
     "execution_count": 11,
     "metadata": {},
     "output_type": "execute_result"
    }
   ],
   "source": [
    "df_BMA[['Age','EDC_SBA']].corr()"
   ]
  },
  {
   "cell_type": "code",
   "execution_count": 12,
   "id": "b9a8d7aa-7094-4e40-aeba-14f8f8473a89",
   "metadata": {
    "tags": []
   },
   "outputs": [
    {
     "name": "stderr",
     "output_type": "stream",
     "text": [
      "C:\\Users\\01-15\\AppData\\Local\\Temp\\ipykernel_12036\\176395773.py:1: FutureWarning: The operation <built-in function sum> failed on a column. If any error is raised, this will raise an exception in a future version of pandas. Drop these columns to avoid this warning.\n",
      "  df_BMA_age = pd.pivot_table(data=df_BMA, index='Age', aggfunc=sum)\n"
     ]
    }
   ],
   "source": [
    "df_BMA_age = pd.pivot_table(data=df_BMA, index='Age', aggfunc=sum)\n",
    "df_BMA_age['Age_expense']=df_BMA_age.index"
   ]
  },
  {
   "cell_type": "code",
   "execution_count": 13,
   "id": "6a40d2eb-9f9b-4596-88f4-38597dd7cd8a",
   "metadata": {
    "tags": []
   },
   "outputs": [
    {
     "data": {
      "text/html": [
       "<div>\n",
       "<style scoped>\n",
       "    .dataframe tbody tr th:only-of-type {\n",
       "        vertical-align: middle;\n",
       "    }\n",
       "\n",
       "    .dataframe tbody tr th {\n",
       "        vertical-align: top;\n",
       "    }\n",
       "\n",
       "    .dataframe thead th {\n",
       "        text-align: right;\n",
       "    }\n",
       "</style>\n",
       "<table border=\"1\" class=\"dataframe\">\n",
       "  <thead>\n",
       "    <tr style=\"text-align: right;\">\n",
       "      <th></th>\n",
       "      <th>Unnamed: 0</th>\n",
       "      <th>EDC_SBA</th>\n",
       "      <th>DTH_YYYYMM</th>\n",
       "      <th>MCARE_SUBJ_CD</th>\n",
       "      <th>OPRTN_YN</th>\n",
       "      <th>TOT_PRSC_DD_CNT</th>\n",
       "      <th>MCARE_RSLT_TYPE</th>\n",
       "      <th>STD_YYYY</th>\n",
       "      <th>Age</th>\n",
       "      <th>disease_year</th>\n",
       "    </tr>\n",
       "  </thead>\n",
       "  <tbody>\n",
       "    <tr>\n",
       "      <th>count</th>\n",
       "      <td>4618.000000</td>\n",
       "      <td>4618.000000</td>\n",
       "      <td>362.000000</td>\n",
       "      <td>4618.000000</td>\n",
       "      <td>4618.000000</td>\n",
       "      <td>4618.000000</td>\n",
       "      <td>4194.000000</td>\n",
       "      <td>4618.000000</td>\n",
       "      <td>4618.000000</td>\n",
       "      <td>4618.000000</td>\n",
       "    </tr>\n",
       "    <tr>\n",
       "      <th>mean</th>\n",
       "      <td>2319.500000</td>\n",
       "      <td>4613.659593</td>\n",
       "      <td>201598.121547</td>\n",
       "      <td>1.927025</td>\n",
       "      <td>0.005847</td>\n",
       "      <td>32.557601</td>\n",
       "      <td>1.894850</td>\n",
       "      <td>2006.933738</td>\n",
       "      <td>53.174318</td>\n",
       "      <td>16.066262</td>\n",
       "    </tr>\n",
       "    <tr>\n",
       "      <th>std</th>\n",
       "      <td>1333.246101</td>\n",
       "      <td>17925.723626</td>\n",
       "      <td>276.155165</td>\n",
       "      <td>4.392297</td>\n",
       "      <td>0.229341</td>\n",
       "      <td>19.970886</td>\n",
       "      <td>1.747379</td>\n",
       "      <td>2.412593</td>\n",
       "      <td>21.908629</td>\n",
       "      <td>2.412593</td>\n",
       "    </tr>\n",
       "    <tr>\n",
       "      <th>min</th>\n",
       "      <td>11.000000</td>\n",
       "      <td>0.000000</td>\n",
       "      <td>201009.000000</td>\n",
       "      <td>0.000000</td>\n",
       "      <td>0.000000</td>\n",
       "      <td>0.000000</td>\n",
       "      <td>1.000000</td>\n",
       "      <td>2002.000000</td>\n",
       "      <td>18.000000</td>\n",
       "      <td>12.000000</td>\n",
       "    </tr>\n",
       "    <tr>\n",
       "      <th>25%</th>\n",
       "      <td>1165.250000</td>\n",
       "      <td>1500.000000</td>\n",
       "      <td>201508.000000</td>\n",
       "      <td>1.000000</td>\n",
       "      <td>0.000000</td>\n",
       "      <td>30.000000</td>\n",
       "      <td>1.000000</td>\n",
       "      <td>2005.000000</td>\n",
       "      <td>32.000000</td>\n",
       "      <td>14.000000</td>\n",
       "    </tr>\n",
       "    <tr>\n",
       "      <th>50%</th>\n",
       "      <td>2319.500000</td>\n",
       "      <td>2900.000000</td>\n",
       "      <td>201508.000000</td>\n",
       "      <td>1.000000</td>\n",
       "      <td>0.000000</td>\n",
       "      <td>30.000000</td>\n",
       "      <td>1.000000</td>\n",
       "      <td>2007.000000</td>\n",
       "      <td>55.000000</td>\n",
       "      <td>16.000000</td>\n",
       "    </tr>\n",
       "    <tr>\n",
       "      <th>75%</th>\n",
       "      <td>3473.750000</td>\n",
       "      <td>3100.000000</td>\n",
       "      <td>201808.000000</td>\n",
       "      <td>1.000000</td>\n",
       "      <td>0.000000</td>\n",
       "      <td>30.000000</td>\n",
       "      <td>1.000000</td>\n",
       "      <td>2009.000000</td>\n",
       "      <td>69.000000</td>\n",
       "      <td>18.000000</td>\n",
       "    </tr>\n",
       "    <tr>\n",
       "      <th>max</th>\n",
       "      <td>4628.000000</td>\n",
       "      <td>574770.000000</td>\n",
       "      <td>202102.000000</td>\n",
       "      <td>24.000000</td>\n",
       "      <td>9.000000</td>\n",
       "      <td>190.000000</td>\n",
       "      <td>9.000000</td>\n",
       "      <td>2011.000000</td>\n",
       "      <td>97.000000</td>\n",
       "      <td>21.000000</td>\n",
       "    </tr>\n",
       "  </tbody>\n",
       "</table>\n",
       "</div>"
      ],
      "text/plain": [
       "        Unnamed: 0        EDC_SBA     DTH_YYYYMM  MCARE_SUBJ_CD     OPRTN_YN  \\\n",
       "count  4618.000000    4618.000000     362.000000    4618.000000  4618.000000   \n",
       "mean   2319.500000    4613.659593  201598.121547       1.927025     0.005847   \n",
       "std    1333.246101   17925.723626     276.155165       4.392297     0.229341   \n",
       "min      11.000000       0.000000  201009.000000       0.000000     0.000000   \n",
       "25%    1165.250000    1500.000000  201508.000000       1.000000     0.000000   \n",
       "50%    2319.500000    2900.000000  201508.000000       1.000000     0.000000   \n",
       "75%    3473.750000    3100.000000  201808.000000       1.000000     0.000000   \n",
       "max    4628.000000  574770.000000  202102.000000      24.000000     9.000000   \n",
       "\n",
       "       TOT_PRSC_DD_CNT  MCARE_RSLT_TYPE     STD_YYYY          Age  \\\n",
       "count      4618.000000      4194.000000  4618.000000  4618.000000   \n",
       "mean         32.557601         1.894850  2006.933738    53.174318   \n",
       "std          19.970886         1.747379     2.412593    21.908629   \n",
       "min           0.000000         1.000000  2002.000000    18.000000   \n",
       "25%          30.000000         1.000000  2005.000000    32.000000   \n",
       "50%          30.000000         1.000000  2007.000000    55.000000   \n",
       "75%          30.000000         1.000000  2009.000000    69.000000   \n",
       "max         190.000000         9.000000  2011.000000    97.000000   \n",
       "\n",
       "       disease_year  \n",
       "count   4618.000000  \n",
       "mean      16.066262  \n",
       "std        2.412593  \n",
       "min       12.000000  \n",
       "25%       14.000000  \n",
       "50%       16.000000  \n",
       "75%       18.000000  \n",
       "max       21.000000  "
      ]
     },
     "execution_count": 13,
     "metadata": {},
     "output_type": "execute_result"
    }
   ],
   "source": [
    "df_BMA.describe()"
   ]
  },
  {
   "cell_type": "markdown",
   "id": "9417aa13-0c2e-44ec-807c-2fce9ae0c6ff",
   "metadata": {},
   "source": [
    "###  총 처방일수-심결본인부담금\n",
    "- 연속-연속\n",
    "- TOT_PRSC_DD_CNT scatter?\n",
    "-  ⇒ 총 처방일수와 본인부담금의 연관성이 보이지 않음. "
   ]
  },
  {
   "cell_type": "code",
   "execution_count": 14,
   "id": "f9e65002-c44a-47c7-b466-971d5ca61867",
   "metadata": {
    "tags": []
   },
   "outputs": [
    {
     "data": {
      "text/plain": [
       "<Axes: xlabel='TOT_PRSC_DD_CNT', ylabel='EDC_SBA'>"
      ]
     },
     "execution_count": 14,
     "metadata": {},
     "output_type": "execute_result"
    },
    {
     "data": {
      "image/png": "[encoded data removed]",
      "text/plain": [
       "<Figure size 640x480 with 1 Axes>"
      ]
     },
     "metadata": {},
     "output_type": "display_data"
    }
   ],
   "source": [
    "sns.scatterplot(data=df_BMA, x='TOT_PRSC_DD_CNT', y='EDC_SBA')"
   ]
  },
  {
   "cell_type": "code",
   "execution_count": 15,
   "id": "ac8009a3-034a-4881-a92f-1742cb8773ca",
   "metadata": {
    "tags": []
   },
   "outputs": [
    {
     "data": {
      "text/html": [
       "<div>\n",
       "<style scoped>\n",
       "    .dataframe tbody tr th:only-of-type {\n",
       "        vertical-align: middle;\n",
       "    }\n",
       "\n",
       "    .dataframe tbody tr th {\n",
       "        vertical-align: top;\n",
       "    }\n",
       "\n",
       "    .dataframe thead th {\n",
       "        text-align: right;\n",
       "    }\n",
       "</style>\n",
       "<table border=\"1\" class=\"dataframe\">\n",
       "  <thead>\n",
       "    <tr style=\"text-align: right;\">\n",
       "      <th></th>\n",
       "      <th>TOT_PRSC_DD_CNT</th>\n",
       "      <th>EDC_SBA</th>\n",
       "    </tr>\n",
       "  </thead>\n",
       "  <tbody>\n",
       "    <tr>\n",
       "      <th>TOT_PRSC_DD_CNT</th>\n",
       "      <td>1.000000</td>\n",
       "      <td>-0.021871</td>\n",
       "    </tr>\n",
       "    <tr>\n",
       "      <th>EDC_SBA</th>\n",
       "      <td>-0.021871</td>\n",
       "      <td>1.000000</td>\n",
       "    </tr>\n",
       "  </tbody>\n",
       "</table>\n",
       "</div>"
      ],
      "text/plain": [
       "                 TOT_PRSC_DD_CNT   EDC_SBA\n",
       "TOT_PRSC_DD_CNT         1.000000 -0.021871\n",
       "EDC_SBA                -0.021871  1.000000"
      ]
     },
     "execution_count": 15,
     "metadata": {},
     "output_type": "execute_result"
    }
   ],
   "source": [
    "df_BMA[['TOT_PRSC_DD_CNT','EDC_SBA']].corr()"
   ]
  },
  {
   "cell_type": "markdown",
   "id": "cf03efae-4533-4f23-8953-f105a34e7859",
   "metadata": {},
   "source": [
    "###  질병년차-심결본인부담금\n",
    "- 범주-연속\n",
    "- disease_year: 2023- 첫 진료받은 년도\n",
    "- ⇒ 진료진단 받은 년차가 오래되었을수록 본인부담금의 누적이 클것이라고 예상했으나 13년차에서 가장 많았음. 다른 이유가 있을것으로 예상됨. "
   ]
  },
  {
   "cell_type": "code",
   "execution_count": 16,
   "id": "b9e1917f-151a-4ebc-897d-6ca06fd72ebd",
   "metadata": {
    "tags": []
   },
   "outputs": [
    {
     "data": {
      "text/plain": [
       "<Axes: xlabel='disease_year', ylabel='EDC_SBA'>"
      ]
     },
     "execution_count": 16,
     "metadata": {},
     "output_type": "execute_result"
    },
    {
     "data": {
      "image/png": "[encoded data removed]",
      "text/plain": [
       "<Figure size 640x480 with 1 Axes>"
      ]
     },
     "metadata": {},
     "output_type": "display_data"
    }
   ],
   "source": [
    "sns.barplot(data=df_BMA, x='disease_year', y='EDC_SBA',)"
   ]
  },
  {
   "cell_type": "code",
   "execution_count": 17,
   "id": "108a8eb5-f18b-429f-88c1-21cb246773b1",
   "metadata": {
    "tags": []
   },
   "outputs": [
    {
     "name": "stderr",
     "output_type": "stream",
     "text": [
      "C:\\Users\\01-15\\AppData\\Local\\Temp\\ipykernel_12036\\1012462435.py:1: FutureWarning: The operation <built-in function sum> failed on a column. If any error is raised, this will raise an exception in a future version of pandas. Drop these columns to avoid this warning.\n",
      "  df_BMA_year=pd.pivot_table(data=df_BMA, index='disease_year', aggfunc=sum)\n"
     ]
    }
   ],
   "source": [
    "df_BMA_year=pd.pivot_table(data=df_BMA, index='disease_year', aggfunc=sum)\n",
    "df_BMA_year['year_Disease']=df_BMA_year.index"
   ]
  },
  {
   "cell_type": "code",
   "execution_count": 18,
   "id": "cd3ae8d3-db0c-47a9-a6cb-b53a012b4daa",
   "metadata": {
    "tags": []
   },
   "outputs": [
    {
     "data": {
      "text/html": [
       "<div>\n",
       "<style scoped>\n",
       "    .dataframe tbody tr th:only-of-type {\n",
       "        vertical-align: middle;\n",
       "    }\n",
       "\n",
       "    .dataframe tbody tr th {\n",
       "        vertical-align: top;\n",
       "    }\n",
       "\n",
       "    .dataframe thead th {\n",
       "        text-align: right;\n",
       "    }\n",
       "</style>\n",
       "<table border=\"1\" class=\"dataframe\">\n",
       "  <thead>\n",
       "    <tr style=\"text-align: right;\">\n",
       "      <th></th>\n",
       "      <th>Age</th>\n",
       "      <th>DTH_YYYYMM</th>\n",
       "      <th>EDC_SBA</th>\n",
       "      <th>MCARE_RSLT_TYPE</th>\n",
       "      <th>MCARE_SUBJ_CD</th>\n",
       "      <th>OPRTN_YN</th>\n",
       "      <th>STD_YYYY</th>\n",
       "      <th>TOT_PRSC_DD_CNT</th>\n",
       "      <th>Unnamed: 0</th>\n",
       "      <th>year_Disease</th>\n",
       "    </tr>\n",
       "    <tr>\n",
       "      <th>disease_year</th>\n",
       "      <th></th>\n",
       "      <th></th>\n",
       "      <th></th>\n",
       "      <th></th>\n",
       "      <th></th>\n",
       "      <th></th>\n",
       "      <th></th>\n",
       "      <th></th>\n",
       "      <th></th>\n",
       "      <th></th>\n",
       "    </tr>\n",
       "  </thead>\n",
       "  <tbody>\n",
       "    <tr>\n",
       "      <th>12</th>\n",
       "      <td>1041</td>\n",
       "      <td>0.0</td>\n",
       "      <td>134100</td>\n",
       "      <td>10.0</td>\n",
       "      <td>2</td>\n",
       "      <td>0</td>\n",
       "      <td>36198</td>\n",
       "      <td>285</td>\n",
       "      <td>37150</td>\n",
       "      <td>12</td>\n",
       "    </tr>\n",
       "    <tr>\n",
       "      <th>13</th>\n",
       "      <td>42682</td>\n",
       "      <td>17136671.0</td>\n",
       "      <td>4114690</td>\n",
       "      <td>792.0</td>\n",
       "      <td>1513</td>\n",
       "      <td>9</td>\n",
       "      <td>1547700</td>\n",
       "      <td>25281</td>\n",
       "      <td>1690550</td>\n",
       "      <td>13</td>\n",
       "    </tr>\n",
       "    <tr>\n",
       "      <th>14</th>\n",
       "      <td>39256</td>\n",
       "      <td>13508092.0</td>\n",
       "      <td>2944570</td>\n",
       "      <td>743.0</td>\n",
       "      <td>1494</td>\n",
       "      <td>0</td>\n",
       "      <td>1440453</td>\n",
       "      <td>23327</td>\n",
       "      <td>1602939</td>\n",
       "      <td>14</td>\n",
       "    </tr>\n",
       "    <tr>\n",
       "      <th>15</th>\n",
       "      <td>37233</td>\n",
       "      <td>12693565.0</td>\n",
       "      <td>3417850</td>\n",
       "      <td>774.0</td>\n",
       "      <td>1334</td>\n",
       "      <td>0</td>\n",
       "      <td>1427688</td>\n",
       "      <td>22782</td>\n",
       "      <td>1677981</td>\n",
       "      <td>15</td>\n",
       "    </tr>\n",
       "    <tr>\n",
       "      <th>16</th>\n",
       "      <td>29389</td>\n",
       "      <td>8465759.0</td>\n",
       "      <td>2389000</td>\n",
       "      <td>679.0</td>\n",
       "      <td>853</td>\n",
       "      <td>0</td>\n",
       "      <td>1156032</td>\n",
       "      <td>18750</td>\n",
       "      <td>1403029</td>\n",
       "      <td>16</td>\n",
       "    </tr>\n",
       "    <tr>\n",
       "      <th>17</th>\n",
       "      <td>24616</td>\n",
       "      <td>6857532.0</td>\n",
       "      <td>2418950</td>\n",
       "      <td>482.0</td>\n",
       "      <td>875</td>\n",
       "      <td>9</td>\n",
       "      <td>964886</td>\n",
       "      <td>16075</td>\n",
       "      <td>1167713</td>\n",
       "      <td>17</td>\n",
       "    </tr>\n",
       "    <tr>\n",
       "      <th>18</th>\n",
       "      <td>22004</td>\n",
       "      <td>4234360.0</td>\n",
       "      <td>1655280</td>\n",
       "      <td>527.0</td>\n",
       "      <td>605</td>\n",
       "      <td>0</td>\n",
       "      <td>848115</td>\n",
       "      <td>13973</td>\n",
       "      <td>1007959</td>\n",
       "      <td>18</td>\n",
       "    </tr>\n",
       "    <tr>\n",
       "      <th>19</th>\n",
       "      <td>21827</td>\n",
       "      <td>6249707.0</td>\n",
       "      <td>2024550</td>\n",
       "      <td>1692.0</td>\n",
       "      <td>743</td>\n",
       "      <td>0</td>\n",
       "      <td>811620</td>\n",
       "      <td>12459</td>\n",
       "      <td>921593</td>\n",
       "      <td>19</td>\n",
       "    </tr>\n",
       "    <tr>\n",
       "      <th>20</th>\n",
       "      <td>15402</td>\n",
       "      <td>1815274.0</td>\n",
       "      <td>1281580</td>\n",
       "      <td>1237.0</td>\n",
       "      <td>869</td>\n",
       "      <td>9</td>\n",
       "      <td>588882</td>\n",
       "      <td>9664</td>\n",
       "      <td>698427</td>\n",
       "      <td>20</td>\n",
       "    </tr>\n",
       "    <tr>\n",
       "      <th>21</th>\n",
       "      <td>12109</td>\n",
       "      <td>2017560.0</td>\n",
       "      <td>925310</td>\n",
       "      <td>1011.0</td>\n",
       "      <td>611</td>\n",
       "      <td>0</td>\n",
       "      <td>446446</td>\n",
       "      <td>7755</td>\n",
       "      <td>504110</td>\n",
       "      <td>21</td>\n",
       "    </tr>\n",
       "  </tbody>\n",
       "</table>\n",
       "</div>"
      ],
      "text/plain": [
       "                Age  DTH_YYYYMM  EDC_SBA  MCARE_RSLT_TYPE  MCARE_SUBJ_CD  \\\n",
       "disease_year                                                               \n",
       "12             1041         0.0   134100             10.0              2   \n",
       "13            42682  17136671.0  4114690            792.0           1513   \n",
       "14            39256  13508092.0  2944570            743.0           1494   \n",
       "15            37233  12693565.0  3417850            774.0           1334   \n",
       "16            29389   8465759.0  2389000            679.0            853   \n",
       "17            24616   6857532.0  2418950            482.0            875   \n",
       "18            22004   4234360.0  1655280            527.0            605   \n",
       "19            21827   6249707.0  2024550           1692.0            743   \n",
       "20            15402   1815274.0  1281580           1237.0            869   \n",
       "21            12109   2017560.0   925310           1011.0            611   \n",
       "\n",
       "              OPRTN_YN  STD_YYYY  TOT_PRSC_DD_CNT  Unnamed: 0  year_Disease  \n",
       "disease_year                                                                 \n",
       "12                   0     36198              285       37150            12  \n",
       "13                   9   1547700            25281     1690550            13  \n",
       "14                   0   1440453            23327     1602939            14  \n",
       "15                   0   1427688            22782     1677981            15  \n",
       "16                   0   1156032            18750     1403029            16  \n",
       "17                   9    964886            16075     1167713            17  \n",
       "18                   0    848115            13973     1007959            18  \n",
       "19                   0    811620            12459      921593            19  \n",
       "20                   9    588882             9664      698427            20  \n",
       "21                   0    446446             7755      504110            21  "
      ]
     },
     "execution_count": 18,
     "metadata": {},
     "output_type": "execute_result"
    }
   ],
   "source": [
    "df_BMA_year"
   ]
  },
  {
   "cell_type": "code",
   "execution_count": 19,
   "id": "c5f140ee-8157-4e1e-855f-135e93bdf4e3",
   "metadata": {
    "tags": []
   },
   "outputs": [
    {
     "data": {
      "text/plain": [
       "<Axes: xlabel='year_Disease', ylabel='EDC_SBA'>"
      ]
     },
     "execution_count": 19,
     "metadata": {},
     "output_type": "execute_result"
    },
    {
     "data": {
      "image/png": "[encoded data removed]",
      "text/plain": [
       "<Figure size 640x480 with 1 Axes>"
      ]
     },
     "metadata": {},
     "output_type": "display_data"
    }
   ],
   "source": [
    "sns.barplot(data=df_BMA_year, x='year_Disease', y='EDC_SBA',)"
   ]
  },
  {
   "cell_type": "code",
   "execution_count": null,
   "id": "be75864e-bc4b-4c53-849d-f02b6f6d09c8",
   "metadata": {},
   "outputs": [],
   "source": []
  }
 ],
 "metadata": {
  "kernelspec": {
   "display_name": "Python 3 (ipykernel)",
   "language": "python",
   "name": "python3"
  },
  "language_info": {
   "codemirror_mode": {
    "name": "ipython",
    "version": 3
   },
   "file_extension": ".py",
   "mimetype": "text/x-python",
   "name": "python",
   "nbconvert_exporter": "python",
   "pygments_lexer": "ipython3",
   "version": "3.11.3"
  }
 },
 "nbformat": 4,
 "nbformat_minor": 5
}
