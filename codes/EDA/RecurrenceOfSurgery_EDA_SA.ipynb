{
 "cells": [
  {
   "cell_type": "code",
   "execution_count": 1,
   "id": "9406afed-49c9-449a-81e0-1440dd8ea98a",
   "metadata": {
    "tags": []
   },
   "outputs": [],
   "source": [
    "import matplotlib.pyplot as plt\n",
    "import matplotlib as mpl\n",
    "mpl.rc('font',family='Malgun Gothic')\n",
    "import seaborn as sns\n",
    "import pandas as pd\n",
    "import scipy.stats as stats\n",
    "import numpy as np"
   ]
  },
  {
   "cell_type": "code",
   "execution_count": 2,
   "id": "9c600945-fe10-472a-9a05-29994926970d",
   "metadata": {
    "tags": []
   },
   "outputs": [
    {
     "data": {
      "text/html": [
       "<div>\n",
       "<style scoped>\n",
       "    .dataframe tbody tr th:only-of-type {\n",
       "        vertical-align: middle;\n",
       "    }\n",
       "\n",
       "    .dataframe tbody tr th {\n",
       "        vertical-align: top;\n",
       "    }\n",
       "\n",
       "    .dataframe thead th {\n",
       "        text-align: right;\n",
       "    }\n",
       "</style>\n",
       "<table border=\"1\" class=\"dataframe\">\n",
       "  <thead>\n",
       "    <tr style=\"text-align: right;\">\n",
       "      <th></th>\n",
       "      <th>Unnamed: 0.1</th>\n",
       "      <th>Unnamed: 0</th>\n",
       "      <th>환자ID</th>\n",
       "      <th>신장</th>\n",
       "      <th>체중</th>\n",
       "      <th>연령</th>\n",
       "      <th>성별</th>\n",
       "      <th>Large Lymphocyte</th>\n",
       "      <th>우울증여부</th>\n",
       "      <th>종양진행여부</th>\n",
       "      <th>...</th>\n",
       "      <th>디스크위치</th>\n",
       "      <th>척추이동척도</th>\n",
       "      <th>척추전방위증</th>\n",
       "      <th>수술시간</th>\n",
       "      <th>수술실패여부</th>\n",
       "      <th>수술기법</th>\n",
       "      <th>흡연여부</th>\n",
       "      <th>Instability</th>\n",
       "      <th>혈액형</th>\n",
       "      <th>입원기간</th>\n",
       "    </tr>\n",
       "  </thead>\n",
       "  <tbody>\n",
       "    <tr>\n",
       "      <th>0</th>\n",
       "      <td>0</td>\n",
       "      <td>0</td>\n",
       "      <td>1PT</td>\n",
       "      <td>163</td>\n",
       "      <td>60.3</td>\n",
       "      <td>66</td>\n",
       "      <td>2</td>\n",
       "      <td>22.8</td>\n",
       "      <td>0</td>\n",
       "      <td>0</td>\n",
       "      <td>...</td>\n",
       "      <td>4</td>\n",
       "      <td>Down</td>\n",
       "      <td>0</td>\n",
       "      <td>68.0</td>\n",
       "      <td>0</td>\n",
       "      <td>TELD</td>\n",
       "      <td>0</td>\n",
       "      <td>0</td>\n",
       "      <td>RH+A</td>\n",
       "      <td>2</td>\n",
       "    </tr>\n",
       "    <tr>\n",
       "      <th>1</th>\n",
       "      <td>1</td>\n",
       "      <td>1</td>\n",
       "      <td>2PT</td>\n",
       "      <td>171</td>\n",
       "      <td>71.7</td>\n",
       "      <td>47</td>\n",
       "      <td>1</td>\n",
       "      <td>44.9</td>\n",
       "      <td>0</td>\n",
       "      <td>0</td>\n",
       "      <td>...</td>\n",
       "      <td>4</td>\n",
       "      <td>Up</td>\n",
       "      <td>0</td>\n",
       "      <td>31.0</td>\n",
       "      <td>0</td>\n",
       "      <td>TELD</td>\n",
       "      <td>0</td>\n",
       "      <td>0</td>\n",
       "      <td>RH+A</td>\n",
       "      <td>1</td>\n",
       "    </tr>\n",
       "  </tbody>\n",
       "</table>\n",
       "<p>2 rows × 22 columns</p>\n",
       "</div>"
      ],
      "text/plain": [
       "   Unnamed: 0.1  Unnamed: 0 환자ID   신장    체중  연령  성별  Large Lymphocyte  우울증여부  \\\n",
       "0             0           0  1PT  163  60.3  66   2              22.8      0   \n",
       "1             1           1  2PT  171  71.7  47   1              44.9      0   \n",
       "\n",
       "   종양진행여부  ...  디스크위치  척추이동척도  척추전방위증  수술시간  수술실패여부  수술기법  흡연여부 Instability  \\\n",
       "0       0  ...      4    Down       0  68.0       0  TELD     0           0   \n",
       "1       0  ...      4      Up       0  31.0       0  TELD     0           0   \n",
       "\n",
       "    혈액형  입원기간  \n",
       "0  RH+A     2  \n",
       "1  RH+A     1  \n",
       "\n",
       "[2 rows x 22 columns]"
      ]
     },
     "execution_count": 2,
     "metadata": {},
     "output_type": "execute_result"
    }
   ],
   "source": [
    "df_ROSF = pd.read_csv('../../datasets/RecurrenceOfSurgery_Final.csv')\n",
    "df_ROSF[:2]"
   ]
  },
  {
   "cell_type": "code",
   "execution_count": 3,
   "id": "0b4a5619-f1b7-41fa-be9a-514f6a5ac361",
   "metadata": {
    "tags": []
   },
   "outputs": [
    {
     "data": {
      "text/plain": [
       "Index(['Unnamed: 0.1', 'Unnamed: 0', '환자ID', '신장', '체중', '연령', '성별',\n",
       "       'Large Lymphocyte', '우울증여부', '종양진행여부', '재발여부', '디스크단면적', '디스크위치',\n",
       "       '척추이동척도', '척추전방위증', '수술시간', '수술실패여부', '수술기법', '흡연여부', 'Instability',\n",
       "       '혈액형', '입원기간'],\n",
       "      dtype='object')"
      ]
     },
     "execution_count": 3,
     "metadata": {},
     "output_type": "execute_result"
    }
   ],
   "source": [
    "df_ROSF.columns"
   ]
  },
  {
   "cell_type": "markdown",
   "id": "f85ea11f-03b9-4e07-8642-2e90b4a24f7c",
   "metadata": {},
   "source": [
    "## SA\n",
    "- '연령','Large Lymphocyte','종양진행여부','디스크단면적','척추이동척도','수술시간','수술기법','Instability','혈액형'"
   ]
  },
  {
   "cell_type": "markdown",
   "id": "cb07ebc0-7ffd-4695-8342-318335858963",
   "metadata": {
    "tags": []
   },
   "source": [
    "#### 연령-입원기간\n",
    "- 연속-연속? scatter??\n",
    "- 연령은 입원기간에 영향을 미치지 않는 것으로 보여짐. \n",
    "    - 입원기간 4주 이하에서 50대가 많이 입원하는것으로 보여짐\n",
    "    - 입원기간 4주 초과에서 오히려 30대, 60대 많이 입원하는 것으로 보여짐 (직업 or 생활환경에 영향을 많이 받았을거같은..)"
   ]
  },
  {
   "cell_type": "code",
   "execution_count": 4,
   "id": "99cacd11-ff39-4ebe-83ba-34d4ae3acc15",
   "metadata": {
    "tags": []
   },
   "outputs": [
    {
     "data": {
      "text/plain": [
       "count    1894.000000\n",
       "mean        1.736536\n",
       "std         2.344085\n",
       "min         0.000000\n",
       "25%         1.000000\n",
       "50%         1.000000\n",
       "75%         2.000000\n",
       "max        51.000000\n",
       "Name: 입원기간, dtype: float64"
      ]
     },
     "execution_count": 4,
     "metadata": {},
     "output_type": "execute_result"
    }
   ],
   "source": [
    "## 입원기간의 value count로 했을때 범위를 끊어서 분석하고 싶음. \n",
    "df_ROSF['입원기간'].describe()"
   ]
  },
  {
   "cell_type": "code",
   "execution_count": 5,
   "id": "1278e6b0-9050-4327-b26d-550503906678",
   "metadata": {
    "tags": []
   },
   "outputs": [],
   "source": [
    "Q1_in = df_ROSF['입원기간'].describe()['25%']\n",
    "Q3_in = df_ROSF['입원기간'].describe()['75%']\n",
    "IQR_in = Q3_in-Q1_in"
   ]
  },
  {
   "cell_type": "code",
   "execution_count": 6,
   "id": "ffa673b9-2b08-4175-9305-392b7613075d",
   "metadata": {
    "tags": []
   },
   "outputs": [
    {
     "data": {
      "text/plain": [
       "(-0.5, 3.5)"
      ]
     },
     "execution_count": 6,
     "metadata": {},
     "output_type": "execute_result"
    }
   ],
   "source": [
    "up = Q3_in + 1.5 *IQR_in\n",
    "down = Q1_in - 1.5 *IQR_in\n",
    "down, up"
   ]
  },
  {
   "cell_type": "code",
   "execution_count": 7,
   "id": "b267e882-c554-40fc-8d9d-9c89536f257a",
   "metadata": {
    "tags": []
   },
   "outputs": [],
   "source": [
    "## 입원기간 4주 이하\n",
    "condition = (df_ROSF['입원기간'] <= 4)\n",
    "df_ROSF_in = df_ROSF[condition]"
   ]
  },
  {
   "cell_type": "code",
   "execution_count": 8,
   "id": "64c7eb99-a9ec-447f-b684-0891a610812e",
   "metadata": {
    "tags": []
   },
   "outputs": [
    {
     "data": {
      "text/plain": [
       "<Axes: xlabel='연령', ylabel='입원기간'>"
      ]
     },
     "execution_count": 8,
     "metadata": {},
     "output_type": "execute_result"
    },
    {
     "data": {
      "image/png": "[encoded data removed]",
      "text/plain": [
       "<Figure size 640x480 with 1 Axes>"
      ]
     },
     "metadata": {},
     "output_type": "display_data"
    }
   ],
   "source": [
    "sns.scatterplot(data=df_ROSF_in, x='연령', y='입원기간')"
   ]
  },
  {
   "cell_type": "code",
   "execution_count": 9,
   "id": "ce594358-7d6e-4cd6-8879-0dbbf1f3d4c8",
   "metadata": {
    "tags": []
   },
   "outputs": [
    {
     "data": {
      "text/html": [
       "<div>\n",
       "<style scoped>\n",
       "    .dataframe tbody tr th:only-of-type {\n",
       "        vertical-align: middle;\n",
       "    }\n",
       "\n",
       "    .dataframe tbody tr th {\n",
       "        vertical-align: top;\n",
       "    }\n",
       "\n",
       "    .dataframe thead th {\n",
       "        text-align: right;\n",
       "    }\n",
       "</style>\n",
       "<table border=\"1\" class=\"dataframe\">\n",
       "  <thead>\n",
       "    <tr style=\"text-align: right;\">\n",
       "      <th></th>\n",
       "      <th>입원기간</th>\n",
       "      <th>연령</th>\n",
       "    </tr>\n",
       "  </thead>\n",
       "  <tbody>\n",
       "    <tr>\n",
       "      <th>입원기간</th>\n",
       "      <td>1.000000</td>\n",
       "      <td>0.068691</td>\n",
       "    </tr>\n",
       "    <tr>\n",
       "      <th>연령</th>\n",
       "      <td>0.068691</td>\n",
       "      <td>1.000000</td>\n",
       "    </tr>\n",
       "  </tbody>\n",
       "</table>\n",
       "</div>"
      ],
      "text/plain": [
       "          입원기간        연령\n",
       "입원기간  1.000000  0.068691\n",
       "연령    0.068691  1.000000"
      ]
     },
     "execution_count": 9,
     "metadata": {},
     "output_type": "execute_result"
    }
   ],
   "source": [
    "df_ROSF_in[['입원기간', '연령']].corr()"
   ]
  },
  {
   "cell_type": "code",
   "execution_count": 10,
   "id": "f3da7049-be75-4d5d-a027-db877d3604ef",
   "metadata": {
    "tags": []
   },
   "outputs": [
    {
     "data": {
      "image/png": "[encoded data removed]",
      "text/plain": [
       "<Figure size 600x600 with 3 Axes>"
      ]
     },
     "metadata": {},
     "output_type": "display_data"
    }
   ],
   "source": [
    "sns.jointplot(data=df_ROSF_in, x='연령', y='입원기간',)\n",
    "plt.title('연령에 따른 입원기간')\n",
    "plt.show()"
   ]
  },
  {
   "cell_type": "code",
   "execution_count": 11,
   "id": "f971c876-a29d-4a5b-b8a8-beb765c5da39",
   "metadata": {
    "tags": []
   },
   "outputs": [],
   "source": [
    "df_ROSF_in_pivot = pd.pivot_table(data=df_ROSF_in, index='연령',  aggfunc=len)\n",
    "df_ROSF_in_pivot['4주이하입원연령추세']=df_ROSF_in_pivot.index"
   ]
  },
  {
   "cell_type": "code",
   "execution_count": 12,
   "id": "8e485a8d-2d55-40cf-83d0-8155ebf43bfd",
   "metadata": {
    "tags": []
   },
   "outputs": [
    {
     "data": {
      "text/html": [
       "<div>\n",
       "<style scoped>\n",
       "    .dataframe tbody tr th:only-of-type {\n",
       "        vertical-align: middle;\n",
       "    }\n",
       "\n",
       "    .dataframe tbody tr th {\n",
       "        vertical-align: top;\n",
       "    }\n",
       "\n",
       "    .dataframe thead th {\n",
       "        text-align: right;\n",
       "    }\n",
       "</style>\n",
       "<table border=\"1\" class=\"dataframe\">\n",
       "  <thead>\n",
       "    <tr style=\"text-align: right;\">\n",
       "      <th></th>\n",
       "      <th>Instability</th>\n",
       "      <th>Large Lymphocyte</th>\n",
       "      <th>Unnamed: 0</th>\n",
       "      <th>Unnamed: 0.1</th>\n",
       "      <th>디스크단면적</th>\n",
       "      <th>디스크위치</th>\n",
       "      <th>성별</th>\n",
       "      <th>수술기법</th>\n",
       "      <th>수술시간</th>\n",
       "      <th>수술실패여부</th>\n",
       "      <th>...</th>\n",
       "      <th>입원기간</th>\n",
       "      <th>재발여부</th>\n",
       "      <th>종양진행여부</th>\n",
       "      <th>척추이동척도</th>\n",
       "      <th>척추전방위증</th>\n",
       "      <th>체중</th>\n",
       "      <th>혈액형</th>\n",
       "      <th>환자ID</th>\n",
       "      <th>흡연여부</th>\n",
       "      <th>4주이하입원연령추세</th>\n",
       "    </tr>\n",
       "    <tr>\n",
       "      <th>연령</th>\n",
       "      <th></th>\n",
       "      <th></th>\n",
       "      <th></th>\n",
       "      <th></th>\n",
       "      <th></th>\n",
       "      <th></th>\n",
       "      <th></th>\n",
       "      <th></th>\n",
       "      <th></th>\n",
       "      <th></th>\n",
       "      <th></th>\n",
       "      <th></th>\n",
       "      <th></th>\n",
       "      <th></th>\n",
       "      <th></th>\n",
       "      <th></th>\n",
       "      <th></th>\n",
       "      <th></th>\n",
       "      <th></th>\n",
       "      <th></th>\n",
       "      <th></th>\n",
       "    </tr>\n",
       "  </thead>\n",
       "  <tbody>\n",
       "    <tr>\n",
       "      <th>15</th>\n",
       "      <td>1</td>\n",
       "      <td>1</td>\n",
       "      <td>1</td>\n",
       "      <td>1</td>\n",
       "      <td>1</td>\n",
       "      <td>1</td>\n",
       "      <td>1</td>\n",
       "      <td>1</td>\n",
       "      <td>1</td>\n",
       "      <td>1</td>\n",
       "      <td>...</td>\n",
       "      <td>1</td>\n",
       "      <td>1</td>\n",
       "      <td>1</td>\n",
       "      <td>1</td>\n",
       "      <td>1</td>\n",
       "      <td>1</td>\n",
       "      <td>1</td>\n",
       "      <td>1</td>\n",
       "      <td>1</td>\n",
       "      <td>15</td>\n",
       "    </tr>\n",
       "    <tr>\n",
       "      <th>16</th>\n",
       "      <td>5</td>\n",
       "      <td>5</td>\n",
       "      <td>5</td>\n",
       "      <td>5</td>\n",
       "      <td>5</td>\n",
       "      <td>5</td>\n",
       "      <td>5</td>\n",
       "      <td>5</td>\n",
       "      <td>5</td>\n",
       "      <td>5</td>\n",
       "      <td>...</td>\n",
       "      <td>5</td>\n",
       "      <td>5</td>\n",
       "      <td>5</td>\n",
       "      <td>5</td>\n",
       "      <td>5</td>\n",
       "      <td>5</td>\n",
       "      <td>5</td>\n",
       "      <td>5</td>\n",
       "      <td>5</td>\n",
       "      <td>16</td>\n",
       "    </tr>\n",
       "    <tr>\n",
       "      <th>17</th>\n",
       "      <td>13</td>\n",
       "      <td>13</td>\n",
       "      <td>13</td>\n",
       "      <td>13</td>\n",
       "      <td>13</td>\n",
       "      <td>13</td>\n",
       "      <td>13</td>\n",
       "      <td>13</td>\n",
       "      <td>13</td>\n",
       "      <td>13</td>\n",
       "      <td>...</td>\n",
       "      <td>13</td>\n",
       "      <td>13</td>\n",
       "      <td>13</td>\n",
       "      <td>13</td>\n",
       "      <td>13</td>\n",
       "      <td>13</td>\n",
       "      <td>13</td>\n",
       "      <td>13</td>\n",
       "      <td>13</td>\n",
       "      <td>17</td>\n",
       "    </tr>\n",
       "    <tr>\n",
       "      <th>18</th>\n",
       "      <td>20</td>\n",
       "      <td>20</td>\n",
       "      <td>20</td>\n",
       "      <td>20</td>\n",
       "      <td>20</td>\n",
       "      <td>20</td>\n",
       "      <td>20</td>\n",
       "      <td>20</td>\n",
       "      <td>20</td>\n",
       "      <td>20</td>\n",
       "      <td>...</td>\n",
       "      <td>20</td>\n",
       "      <td>20</td>\n",
       "      <td>20</td>\n",
       "      <td>20</td>\n",
       "      <td>20</td>\n",
       "      <td>20</td>\n",
       "      <td>20</td>\n",
       "      <td>20</td>\n",
       "      <td>20</td>\n",
       "      <td>18</td>\n",
       "    </tr>\n",
       "    <tr>\n",
       "      <th>19</th>\n",
       "      <td>28</td>\n",
       "      <td>28</td>\n",
       "      <td>28</td>\n",
       "      <td>28</td>\n",
       "      <td>28</td>\n",
       "      <td>28</td>\n",
       "      <td>28</td>\n",
       "      <td>28</td>\n",
       "      <td>28</td>\n",
       "      <td>28</td>\n",
       "      <td>...</td>\n",
       "      <td>28</td>\n",
       "      <td>28</td>\n",
       "      <td>28</td>\n",
       "      <td>28</td>\n",
       "      <td>28</td>\n",
       "      <td>28</td>\n",
       "      <td>28</td>\n",
       "      <td>28</td>\n",
       "      <td>28</td>\n",
       "      <td>19</td>\n",
       "    </tr>\n",
       "    <tr>\n",
       "      <th>...</th>\n",
       "      <td>...</td>\n",
       "      <td>...</td>\n",
       "      <td>...</td>\n",
       "      <td>...</td>\n",
       "      <td>...</td>\n",
       "      <td>...</td>\n",
       "      <td>...</td>\n",
       "      <td>...</td>\n",
       "      <td>...</td>\n",
       "      <td>...</td>\n",
       "      <td>...</td>\n",
       "      <td>...</td>\n",
       "      <td>...</td>\n",
       "      <td>...</td>\n",
       "      <td>...</td>\n",
       "      <td>...</td>\n",
       "      <td>...</td>\n",
       "      <td>...</td>\n",
       "      <td>...</td>\n",
       "      <td>...</td>\n",
       "      <td>...</td>\n",
       "    </tr>\n",
       "    <tr>\n",
       "      <th>78</th>\n",
       "      <td>2</td>\n",
       "      <td>2</td>\n",
       "      <td>2</td>\n",
       "      <td>2</td>\n",
       "      <td>2</td>\n",
       "      <td>2</td>\n",
       "      <td>2</td>\n",
       "      <td>2</td>\n",
       "      <td>2</td>\n",
       "      <td>2</td>\n",
       "      <td>...</td>\n",
       "      <td>2</td>\n",
       "      <td>2</td>\n",
       "      <td>2</td>\n",
       "      <td>2</td>\n",
       "      <td>2</td>\n",
       "      <td>2</td>\n",
       "      <td>2</td>\n",
       "      <td>2</td>\n",
       "      <td>2</td>\n",
       "      <td>78</td>\n",
       "    </tr>\n",
       "    <tr>\n",
       "      <th>79</th>\n",
       "      <td>7</td>\n",
       "      <td>7</td>\n",
       "      <td>7</td>\n",
       "      <td>7</td>\n",
       "      <td>7</td>\n",
       "      <td>7</td>\n",
       "      <td>7</td>\n",
       "      <td>7</td>\n",
       "      <td>7</td>\n",
       "      <td>7</td>\n",
       "      <td>...</td>\n",
       "      <td>7</td>\n",
       "      <td>7</td>\n",
       "      <td>7</td>\n",
       "      <td>7</td>\n",
       "      <td>7</td>\n",
       "      <td>7</td>\n",
       "      <td>7</td>\n",
       "      <td>7</td>\n",
       "      <td>7</td>\n",
       "      <td>79</td>\n",
       "    </tr>\n",
       "    <tr>\n",
       "      <th>80</th>\n",
       "      <td>1</td>\n",
       "      <td>1</td>\n",
       "      <td>1</td>\n",
       "      <td>1</td>\n",
       "      <td>1</td>\n",
       "      <td>1</td>\n",
       "      <td>1</td>\n",
       "      <td>1</td>\n",
       "      <td>1</td>\n",
       "      <td>1</td>\n",
       "      <td>...</td>\n",
       "      <td>1</td>\n",
       "      <td>1</td>\n",
       "      <td>1</td>\n",
       "      <td>1</td>\n",
       "      <td>1</td>\n",
       "      <td>1</td>\n",
       "      <td>1</td>\n",
       "      <td>1</td>\n",
       "      <td>1</td>\n",
       "      <td>80</td>\n",
       "    </tr>\n",
       "    <tr>\n",
       "      <th>84</th>\n",
       "      <td>2</td>\n",
       "      <td>2</td>\n",
       "      <td>2</td>\n",
       "      <td>2</td>\n",
       "      <td>2</td>\n",
       "      <td>2</td>\n",
       "      <td>2</td>\n",
       "      <td>2</td>\n",
       "      <td>2</td>\n",
       "      <td>2</td>\n",
       "      <td>...</td>\n",
       "      <td>2</td>\n",
       "      <td>2</td>\n",
       "      <td>2</td>\n",
       "      <td>2</td>\n",
       "      <td>2</td>\n",
       "      <td>2</td>\n",
       "      <td>2</td>\n",
       "      <td>2</td>\n",
       "      <td>2</td>\n",
       "      <td>84</td>\n",
       "    </tr>\n",
       "    <tr>\n",
       "      <th>86</th>\n",
       "      <td>1</td>\n",
       "      <td>1</td>\n",
       "      <td>1</td>\n",
       "      <td>1</td>\n",
       "      <td>1</td>\n",
       "      <td>1</td>\n",
       "      <td>1</td>\n",
       "      <td>1</td>\n",
       "      <td>1</td>\n",
       "      <td>1</td>\n",
       "      <td>...</td>\n",
       "      <td>1</td>\n",
       "      <td>1</td>\n",
       "      <td>1</td>\n",
       "      <td>1</td>\n",
       "      <td>1</td>\n",
       "      <td>1</td>\n",
       "      <td>1</td>\n",
       "      <td>1</td>\n",
       "      <td>1</td>\n",
       "      <td>86</td>\n",
       "    </tr>\n",
       "  </tbody>\n",
       "</table>\n",
       "<p>67 rows × 22 columns</p>\n",
       "</div>"
      ],
      "text/plain": [
       "    Instability  Large Lymphocyte  Unnamed: 0  Unnamed: 0.1  디스크단면적  디스크위치  \\\n",
       "연령                                                                           \n",
       "15            1                 1           1             1       1      1   \n",
       "16            5                 5           5             5       5      5   \n",
       "17           13                13          13            13      13     13   \n",
       "18           20                20          20            20      20     20   \n",
       "19           28                28          28            28      28     28   \n",
       "..          ...               ...         ...           ...     ...    ...   \n",
       "78            2                 2           2             2       2      2   \n",
       "79            7                 7           7             7       7      7   \n",
       "80            1                 1           1             1       1      1   \n",
       "84            2                 2           2             2       2      2   \n",
       "86            1                 1           1             1       1      1   \n",
       "\n",
       "    성별  수술기법  수술시간  수술실패여부  ...  입원기간  재발여부  종양진행여부  척추이동척도  척추전방위증  체중  혈액형  \\\n",
       "연령                          ...                                                \n",
       "15   1     1     1       1  ...     1     1       1       1       1   1    1   \n",
       "16   5     5     5       5  ...     5     5       5       5       5   5    5   \n",
       "17  13    13    13      13  ...    13    13      13      13      13  13   13   \n",
       "18  20    20    20      20  ...    20    20      20      20      20  20   20   \n",
       "19  28    28    28      28  ...    28    28      28      28      28  28   28   \n",
       "..  ..   ...   ...     ...  ...   ...   ...     ...     ...     ...  ..  ...   \n",
       "78   2     2     2       2  ...     2     2       2       2       2   2    2   \n",
       "79   7     7     7       7  ...     7     7       7       7       7   7    7   \n",
       "80   1     1     1       1  ...     1     1       1       1       1   1    1   \n",
       "84   2     2     2       2  ...     2     2       2       2       2   2    2   \n",
       "86   1     1     1       1  ...     1     1       1       1       1   1    1   \n",
       "\n",
       "    환자ID  흡연여부  4주이하입원연령추세  \n",
       "연령                          \n",
       "15     1     1          15  \n",
       "16     5     5          16  \n",
       "17    13    13          17  \n",
       "18    20    20          18  \n",
       "19    28    28          19  \n",
       "..   ...   ...         ...  \n",
       "78     2     2          78  \n",
       "79     7     7          79  \n",
       "80     1     1          80  \n",
       "84     2     2          84  \n",
       "86     1     1          86  \n",
       "\n",
       "[67 rows x 22 columns]"
      ]
     },
     "execution_count": 12,
     "metadata": {},
     "output_type": "execute_result"
    }
   ],
   "source": [
    "df_ROSF_in_pivot"
   ]
  },
  {
   "cell_type": "code",
   "execution_count": 13,
   "id": "40e14e9d-af87-49f0-b697-824bddf0336f",
   "metadata": {
    "tags": []
   },
   "outputs": [
    {
     "data": {
      "image/png": "[encoded data removed]",
      "text/plain": [
       "<Figure size 640x480 with 1 Axes>"
      ]
     },
     "metadata": {},
     "output_type": "display_data"
    }
   ],
   "source": [
    "sns.histplot(data=df_ROSF_in_pivot, x='4주이하입원연령추세', y='입원기간')\n",
    "plt.title('4주 이하 입원기간에 해당하는 연령의 입원기간 총합')\n",
    "plt.show()"
   ]
  },
  {
   "cell_type": "code",
   "execution_count": 14,
   "id": "4028ebb7-6653-4e51-99fd-baf8db3351f9",
   "metadata": {
    "tags": []
   },
   "outputs": [
    {
     "data": {
      "text/html": [
       "<div>\n",
       "<style scoped>\n",
       "    .dataframe tbody tr th:only-of-type {\n",
       "        vertical-align: middle;\n",
       "    }\n",
       "\n",
       "    .dataframe tbody tr th {\n",
       "        vertical-align: top;\n",
       "    }\n",
       "\n",
       "    .dataframe thead th {\n",
       "        text-align: right;\n",
       "    }\n",
       "</style>\n",
       "<table border=\"1\" class=\"dataframe\">\n",
       "  <thead>\n",
       "    <tr style=\"text-align: right;\">\n",
       "      <th></th>\n",
       "      <th>입원기간</th>\n",
       "      <th>4주이하입원연령추세</th>\n",
       "    </tr>\n",
       "  </thead>\n",
       "  <tbody>\n",
       "    <tr>\n",
       "      <th>입원기간</th>\n",
       "      <td>1.000000</td>\n",
       "      <td>-0.440863</td>\n",
       "    </tr>\n",
       "    <tr>\n",
       "      <th>4주이하입원연령추세</th>\n",
       "      <td>-0.440863</td>\n",
       "      <td>1.000000</td>\n",
       "    </tr>\n",
       "  </tbody>\n",
       "</table>\n",
       "</div>"
      ],
      "text/plain": [
       "                입원기간  4주이하입원연령추세\n",
       "입원기간        1.000000   -0.440863\n",
       "4주이하입원연령추세 -0.440863    1.000000"
      ]
     },
     "execution_count": 14,
     "metadata": {},
     "output_type": "execute_result"
    }
   ],
   "source": [
    "df_ROSF_in_pivot[['입원기간', '4주이하입원연령추세']].corr()"
   ]
  },
  {
   "cell_type": "code",
   "execution_count": 15,
   "id": "91db5378-ecbb-49ca-be1f-5c683b0a8252",
   "metadata": {
    "tags": []
   },
   "outputs": [],
   "source": [
    "## 입원기간 4주 초과 \n",
    "conditions = (df_ROSF['입원기간'] > 4)\n",
    "df_ROSF_inover = df_ROSF[conditions]"
   ]
  },
  {
   "cell_type": "code",
   "execution_count": 16,
   "id": "1354b871-3417-4dba-8417-df4b540d938d",
   "metadata": {
    "tags": []
   },
   "outputs": [
    {
     "data": {
      "image/png": "[encoded data removed]",
      "text/plain": [
       "<Figure size 640x480 with 1 Axes>"
      ]
     },
     "metadata": {},
     "output_type": "display_data"
    }
   ],
   "source": [
    "sns.histplot(data=df_ROSF_inover, x='연령', y='입원기간')\n",
    "plt.title('4주 초과 입원기간에 해당하는 연령의 입원기간 총합')\n",
    "plt.show()"
   ]
  },
  {
   "cell_type": "code",
   "execution_count": 17,
   "id": "62027243-e38b-4629-9cb2-b0c0453683e8",
   "metadata": {
    "tags": []
   },
   "outputs": [
    {
     "data": {
      "text/html": [
       "<div>\n",
       "<style scoped>\n",
       "    .dataframe tbody tr th:only-of-type {\n",
       "        vertical-align: middle;\n",
       "    }\n",
       "\n",
       "    .dataframe tbody tr th {\n",
       "        vertical-align: top;\n",
       "    }\n",
       "\n",
       "    .dataframe thead th {\n",
       "        text-align: right;\n",
       "    }\n",
       "</style>\n",
       "<table border=\"1\" class=\"dataframe\">\n",
       "  <thead>\n",
       "    <tr style=\"text-align: right;\">\n",
       "      <th></th>\n",
       "      <th>입원기간</th>\n",
       "      <th>연령</th>\n",
       "    </tr>\n",
       "  </thead>\n",
       "  <tbody>\n",
       "    <tr>\n",
       "      <th>입원기간</th>\n",
       "      <td>1.000000</td>\n",
       "      <td>0.028159</td>\n",
       "    </tr>\n",
       "    <tr>\n",
       "      <th>연령</th>\n",
       "      <td>0.028159</td>\n",
       "      <td>1.000000</td>\n",
       "    </tr>\n",
       "  </tbody>\n",
       "</table>\n",
       "</div>"
      ],
      "text/plain": [
       "          입원기간        연령\n",
       "입원기간  1.000000  0.028159\n",
       "연령    0.028159  1.000000"
      ]
     },
     "execution_count": 17,
     "metadata": {},
     "output_type": "execute_result"
    }
   ],
   "source": [
    "df_ROSF_inover[['입원기간', '연령']].corr()"
   ]
  },
  {
   "cell_type": "markdown",
   "id": "05e50189-d5e1-475d-ba83-0c9a8023531c",
   "metadata": {
    "tags": []
   },
   "source": [
    "#### Large Lymphocyte-입원기간\n",
    "- 연속-연속?\n",
    "- 림프구 수와 입원기간은 연관성이 보이지 않음. \n",
    "        - 림프수 중앙값 이상만 filter해도 입원기간과는 무관해보임. "
   ]
  },
  {
   "cell_type": "code",
   "execution_count": 18,
   "id": "b800ab47-5406-4c07-8e60-451456e6e369",
   "metadata": {
    "tags": []
   },
   "outputs": [
    {
     "data": {
      "text/plain": [
       "count    1894.000000\n",
       "mean       39.270750\n",
       "std        13.675874\n",
       "min         0.000000\n",
       "25%        30.700000\n",
       "50%        40.200000\n",
       "75%        48.600000\n",
       "max        89.000000\n",
       "Name: Large Lymphocyte, dtype: float64"
      ]
     },
     "execution_count": 18,
     "metadata": {},
     "output_type": "execute_result"
    }
   ],
   "source": [
    "df_ROSF['Large Lymphocyte'].describe()"
   ]
  },
  {
   "cell_type": "code",
   "execution_count": 19,
   "id": "adbbf1a5-6169-4559-a78b-5a35efd275c7",
   "metadata": {
    "tags": []
   },
   "outputs": [
    {
     "data": {
      "image/png": "[encoded data removed]",
      "text/plain": [
       "<Figure size 500x500 with 1 Axes>"
      ]
     },
     "metadata": {},
     "output_type": "display_data"
    }
   ],
   "source": [
    "sns.lmplot(data=df_ROSF, x='Large Lymphocyte', y='입원기간',)\n",
    "plt.title('Large Lymphocyte수에 의한 입원기간 경향')\n",
    "plt.show()"
   ]
  },
  {
   "cell_type": "code",
   "execution_count": 20,
   "id": "901900c7-82aa-4a68-9cfa-e7695ef4f6f6",
   "metadata": {
    "tags": []
   },
   "outputs": [
    {
     "data": {
      "text/html": [
       "<div>\n",
       "<style scoped>\n",
       "    .dataframe tbody tr th:only-of-type {\n",
       "        vertical-align: middle;\n",
       "    }\n",
       "\n",
       "    .dataframe tbody tr th {\n",
       "        vertical-align: top;\n",
       "    }\n",
       "\n",
       "    .dataframe thead th {\n",
       "        text-align: right;\n",
       "    }\n",
       "</style>\n",
       "<table border=\"1\" class=\"dataframe\">\n",
       "  <thead>\n",
       "    <tr style=\"text-align: right;\">\n",
       "      <th></th>\n",
       "      <th>Large Lymphocyte</th>\n",
       "      <th>입원기간</th>\n",
       "    </tr>\n",
       "  </thead>\n",
       "  <tbody>\n",
       "    <tr>\n",
       "      <th>Large Lymphocyte</th>\n",
       "      <td>1.000000</td>\n",
       "      <td>-0.034671</td>\n",
       "    </tr>\n",
       "    <tr>\n",
       "      <th>입원기간</th>\n",
       "      <td>-0.034671</td>\n",
       "      <td>1.000000</td>\n",
       "    </tr>\n",
       "  </tbody>\n",
       "</table>\n",
       "</div>"
      ],
      "text/plain": [
       "                  Large Lymphocyte      입원기간\n",
       "Large Lymphocyte          1.000000 -0.034671\n",
       "입원기간                     -0.034671  1.000000"
      ]
     },
     "execution_count": 20,
     "metadata": {},
     "output_type": "execute_result"
    }
   ],
   "source": [
    "df_ROSF[['Large Lymphocyte','입원기간']].corr()"
   ]
  },
  {
   "cell_type": "code",
   "execution_count": 21,
   "id": "de2b9abf-aa9d-4fc5-828f-cd1602fa75ce",
   "metadata": {
    "tags": []
   },
   "outputs": [
    {
     "data": {
      "text/plain": [
       "(30.7, 48.6, 17.900000000000002, 40.2)"
      ]
     },
     "execution_count": 21,
     "metadata": {},
     "output_type": "execute_result"
    }
   ],
   "source": [
    "Q1_L = df_ROSF['Large Lymphocyte'].describe()['25%']\n",
    "Q3_L = df_ROSF['Large Lymphocyte'].describe()['75%']\n",
    "QM_L = df_ROSF['Large Lymphocyte'].describe()['50%']\n",
    "IQR_L = Q3_L-Q1_L\n",
    "Q1_L, Q3_L , IQR_L, QM_L"
   ]
  },
  {
   "cell_type": "code",
   "execution_count": 22,
   "id": "149873af-600e-4c6d-b241-3025815189ca",
   "metadata": {
    "tags": []
   },
   "outputs": [
    {
     "data": {
      "text/plain": [
       "(3.849999999999998, 75.45)"
      ]
     },
     "execution_count": 22,
     "metadata": {},
     "output_type": "execute_result"
    }
   ],
   "source": [
    "up_L = Q3_L + 1.5 *IQR_L\n",
    "down_L = Q1_L - 1.5 *IQR_L\n",
    "down_L, up_L"
   ]
  },
  {
   "cell_type": "code",
   "execution_count": 23,
   "id": "96b3dc9b-2e07-480e-af3f-605e7d71f003",
   "metadata": {
    "tags": []
   },
   "outputs": [
    {
     "data": {
      "text/html": [
       "<div>\n",
       "<style scoped>\n",
       "    .dataframe tbody tr th:only-of-type {\n",
       "        vertical-align: middle;\n",
       "    }\n",
       "\n",
       "    .dataframe tbody tr th {\n",
       "        vertical-align: top;\n",
       "    }\n",
       "\n",
       "    .dataframe thead th {\n",
       "        text-align: right;\n",
       "    }\n",
       "</style>\n",
       "<table border=\"1\" class=\"dataframe\">\n",
       "  <thead>\n",
       "    <tr style=\"text-align: right;\">\n",
       "      <th></th>\n",
       "      <th>Unnamed: 0.1</th>\n",
       "      <th>Unnamed: 0</th>\n",
       "      <th>환자ID</th>\n",
       "      <th>신장</th>\n",
       "      <th>체중</th>\n",
       "      <th>연령</th>\n",
       "      <th>성별</th>\n",
       "      <th>Large Lymphocyte</th>\n",
       "      <th>우울증여부</th>\n",
       "      <th>종양진행여부</th>\n",
       "      <th>...</th>\n",
       "      <th>디스크위치</th>\n",
       "      <th>척추이동척도</th>\n",
       "      <th>척추전방위증</th>\n",
       "      <th>수술시간</th>\n",
       "      <th>수술실패여부</th>\n",
       "      <th>수술기법</th>\n",
       "      <th>흡연여부</th>\n",
       "      <th>Instability</th>\n",
       "      <th>혈액형</th>\n",
       "      <th>입원기간</th>\n",
       "    </tr>\n",
       "  </thead>\n",
       "  <tbody>\n",
       "    <tr>\n",
       "      <th>1</th>\n",
       "      <td>1</td>\n",
       "      <td>1</td>\n",
       "      <td>2PT</td>\n",
       "      <td>171</td>\n",
       "      <td>71.7</td>\n",
       "      <td>47</td>\n",
       "      <td>1</td>\n",
       "      <td>44.9</td>\n",
       "      <td>0</td>\n",
       "      <td>0</td>\n",
       "      <td>...</td>\n",
       "      <td>4</td>\n",
       "      <td>Up</td>\n",
       "      <td>0</td>\n",
       "      <td>31.0</td>\n",
       "      <td>0</td>\n",
       "      <td>TELD</td>\n",
       "      <td>0</td>\n",
       "      <td>0</td>\n",
       "      <td>RH+A</td>\n",
       "      <td>1</td>\n",
       "    </tr>\n",
       "    <tr>\n",
       "      <th>2</th>\n",
       "      <td>2</td>\n",
       "      <td>2</td>\n",
       "      <td>3PT</td>\n",
       "      <td>178</td>\n",
       "      <td>77.1</td>\n",
       "      <td>39</td>\n",
       "      <td>1</td>\n",
       "      <td>53.0</td>\n",
       "      <td>0</td>\n",
       "      <td>0</td>\n",
       "      <td>...</td>\n",
       "      <td>4</td>\n",
       "      <td>Down</td>\n",
       "      <td>0</td>\n",
       "      <td>78.0</td>\n",
       "      <td>0</td>\n",
       "      <td>TELD</td>\n",
       "      <td>0</td>\n",
       "      <td>0</td>\n",
       "      <td>RH+B</td>\n",
       "      <td>1</td>\n",
       "    </tr>\n",
       "    <tr>\n",
       "      <th>3</th>\n",
       "      <td>3</td>\n",
       "      <td>3</td>\n",
       "      <td>4PT</td>\n",
       "      <td>174</td>\n",
       "      <td>74.2</td>\n",
       "      <td>40</td>\n",
       "      <td>1</td>\n",
       "      <td>54.7</td>\n",
       "      <td>0</td>\n",
       "      <td>0</td>\n",
       "      <td>...</td>\n",
       "      <td>4</td>\n",
       "      <td>Down</td>\n",
       "      <td>0</td>\n",
       "      <td>73.0</td>\n",
       "      <td>0</td>\n",
       "      <td>TELD</td>\n",
       "      <td>0</td>\n",
       "      <td>0</td>\n",
       "      <td>RH+O</td>\n",
       "      <td>1</td>\n",
       "    </tr>\n",
       "    <tr>\n",
       "      <th>4</th>\n",
       "      <td>4</td>\n",
       "      <td>4</td>\n",
       "      <td>5PT</td>\n",
       "      <td>183</td>\n",
       "      <td>80.7</td>\n",
       "      <td>42</td>\n",
       "      <td>1</td>\n",
       "      <td>53.8</td>\n",
       "      <td>0</td>\n",
       "      <td>0</td>\n",
       "      <td>...</td>\n",
       "      <td>4</td>\n",
       "      <td>Up</td>\n",
       "      <td>0</td>\n",
       "      <td>29.0</td>\n",
       "      <td>0</td>\n",
       "      <td>TELD</td>\n",
       "      <td>0</td>\n",
       "      <td>0</td>\n",
       "      <td>RH+A</td>\n",
       "      <td>2</td>\n",
       "    </tr>\n",
       "    <tr>\n",
       "      <th>7</th>\n",
       "      <td>7</td>\n",
       "      <td>7</td>\n",
       "      <td>8PT</td>\n",
       "      <td>183</td>\n",
       "      <td>81.2</td>\n",
       "      <td>55</td>\n",
       "      <td>1</td>\n",
       "      <td>43.8</td>\n",
       "      <td>1</td>\n",
       "      <td>0</td>\n",
       "      <td>...</td>\n",
       "      <td>4</td>\n",
       "      <td>Middle</td>\n",
       "      <td>0</td>\n",
       "      <td>85.0</td>\n",
       "      <td>0</td>\n",
       "      <td>TELD</td>\n",
       "      <td>1</td>\n",
       "      <td>0</td>\n",
       "      <td>RH+B</td>\n",
       "      <td>1</td>\n",
       "    </tr>\n",
       "    <tr>\n",
       "      <th>...</th>\n",
       "      <td>...</td>\n",
       "      <td>...</td>\n",
       "      <td>...</td>\n",
       "      <td>...</td>\n",
       "      <td>...</td>\n",
       "      <td>...</td>\n",
       "      <td>...</td>\n",
       "      <td>...</td>\n",
       "      <td>...</td>\n",
       "      <td>...</td>\n",
       "      <td>...</td>\n",
       "      <td>...</td>\n",
       "      <td>...</td>\n",
       "      <td>...</td>\n",
       "      <td>...</td>\n",
       "      <td>...</td>\n",
       "      <td>...</td>\n",
       "      <td>...</td>\n",
       "      <td>...</td>\n",
       "      <td>...</td>\n",
       "      <td>...</td>\n",
       "    </tr>\n",
       "    <tr>\n",
       "      <th>1886</th>\n",
       "      <td>1886</td>\n",
       "      <td>1886</td>\n",
       "      <td>1887PT</td>\n",
       "      <td>163</td>\n",
       "      <td>56.0</td>\n",
       "      <td>34</td>\n",
       "      <td>2</td>\n",
       "      <td>49.9</td>\n",
       "      <td>0</td>\n",
       "      <td>0</td>\n",
       "      <td>...</td>\n",
       "      <td>5</td>\n",
       "      <td>Down</td>\n",
       "      <td>0</td>\n",
       "      <td>30.0</td>\n",
       "      <td>0</td>\n",
       "      <td>NaN</td>\n",
       "      <td>0</td>\n",
       "      <td>0</td>\n",
       "      <td>RH+O</td>\n",
       "      <td>2</td>\n",
       "    </tr>\n",
       "    <tr>\n",
       "      <th>1887</th>\n",
       "      <td>1887</td>\n",
       "      <td>1887</td>\n",
       "      <td>1888PT</td>\n",
       "      <td>163</td>\n",
       "      <td>56.0</td>\n",
       "      <td>34</td>\n",
       "      <td>2</td>\n",
       "      <td>49.9</td>\n",
       "      <td>0</td>\n",
       "      <td>0</td>\n",
       "      <td>...</td>\n",
       "      <td>5</td>\n",
       "      <td>Down</td>\n",
       "      <td>0</td>\n",
       "      <td>75.0</td>\n",
       "      <td>0</td>\n",
       "      <td>NaN</td>\n",
       "      <td>0</td>\n",
       "      <td>0</td>\n",
       "      <td>RH+B</td>\n",
       "      <td>2</td>\n",
       "    </tr>\n",
       "    <tr>\n",
       "      <th>1888</th>\n",
       "      <td>1888</td>\n",
       "      <td>1888</td>\n",
       "      <td>1889PT</td>\n",
       "      <td>165</td>\n",
       "      <td>63.0</td>\n",
       "      <td>59</td>\n",
       "      <td>1</td>\n",
       "      <td>42.4</td>\n",
       "      <td>0</td>\n",
       "      <td>0</td>\n",
       "      <td>...</td>\n",
       "      <td>3</td>\n",
       "      <td>Down</td>\n",
       "      <td>0</td>\n",
       "      <td>30.0</td>\n",
       "      <td>0</td>\n",
       "      <td>NaN</td>\n",
       "      <td>0</td>\n",
       "      <td>0</td>\n",
       "      <td>RH+A</td>\n",
       "      <td>4</td>\n",
       "    </tr>\n",
       "    <tr>\n",
       "      <th>1889</th>\n",
       "      <td>1889</td>\n",
       "      <td>1889</td>\n",
       "      <td>1890PT</td>\n",
       "      <td>157</td>\n",
       "      <td>64.0</td>\n",
       "      <td>59</td>\n",
       "      <td>2</td>\n",
       "      <td>44.0</td>\n",
       "      <td>0</td>\n",
       "      <td>1</td>\n",
       "      <td>...</td>\n",
       "      <td>5</td>\n",
       "      <td>Middle</td>\n",
       "      <td>0</td>\n",
       "      <td>80.0</td>\n",
       "      <td>0</td>\n",
       "      <td>NaN</td>\n",
       "      <td>0</td>\n",
       "      <td>0</td>\n",
       "      <td>RH+A</td>\n",
       "      <td>2</td>\n",
       "    </tr>\n",
       "    <tr>\n",
       "      <th>1893</th>\n",
       "      <td>1893</td>\n",
       "      <td>1893</td>\n",
       "      <td>1894PT</td>\n",
       "      <td>168</td>\n",
       "      <td>49.0</td>\n",
       "      <td>30</td>\n",
       "      <td>2</td>\n",
       "      <td>49.5</td>\n",
       "      <td>0</td>\n",
       "      <td>0</td>\n",
       "      <td>...</td>\n",
       "      <td>5</td>\n",
       "      <td>Middle</td>\n",
       "      <td>0</td>\n",
       "      <td>45.0</td>\n",
       "      <td>0</td>\n",
       "      <td>NaN</td>\n",
       "      <td>0</td>\n",
       "      <td>0</td>\n",
       "      <td>RH+AB</td>\n",
       "      <td>2</td>\n",
       "    </tr>\n",
       "  </tbody>\n",
       "</table>\n",
       "<p>948 rows × 22 columns</p>\n",
       "</div>"
      ],
      "text/plain": [
       "      Unnamed: 0.1  Unnamed: 0    환자ID   신장    체중  연령  성별  Large Lymphocyte  \\\n",
       "1                1           1     2PT  171  71.7  47   1              44.9   \n",
       "2                2           2     3PT  178  77.1  39   1              53.0   \n",
       "3                3           3     4PT  174  74.2  40   1              54.7   \n",
       "4                4           4     5PT  183  80.7  42   1              53.8   \n",
       "7                7           7     8PT  183  81.2  55   1              43.8   \n",
       "...            ...         ...     ...  ...   ...  ..  ..               ...   \n",
       "1886          1886        1886  1887PT  163  56.0  34   2              49.9   \n",
       "1887          1887        1887  1888PT  163  56.0  34   2              49.9   \n",
       "1888          1888        1888  1889PT  165  63.0  59   1              42.4   \n",
       "1889          1889        1889  1890PT  157  64.0  59   2              44.0   \n",
       "1893          1893        1893  1894PT  168  49.0  30   2              49.5   \n",
       "\n",
       "      우울증여부  종양진행여부  ...  디스크위치  척추이동척도  척추전방위증  수술시간  수술실패여부  수술기법  흡연여부  \\\n",
       "1         0       0  ...      4      Up       0  31.0       0  TELD     0   \n",
       "2         0       0  ...      4    Down       0  78.0       0  TELD     0   \n",
       "3         0       0  ...      4    Down       0  73.0       0  TELD     0   \n",
       "4         0       0  ...      4      Up       0  29.0       0  TELD     0   \n",
       "7         1       0  ...      4  Middle       0  85.0       0  TELD     1   \n",
       "...     ...     ...  ...    ...     ...     ...   ...     ...   ...   ...   \n",
       "1886      0       0  ...      5    Down       0  30.0       0   NaN     0   \n",
       "1887      0       0  ...      5    Down       0  75.0       0   NaN     0   \n",
       "1888      0       0  ...      3    Down       0  30.0       0   NaN     0   \n",
       "1889      0       1  ...      5  Middle       0  80.0       0   NaN     0   \n",
       "1893      0       0  ...      5  Middle       0  45.0       0   NaN     0   \n",
       "\n",
       "     Instability    혈액형  입원기간  \n",
       "1              0   RH+A     1  \n",
       "2              0   RH+B     1  \n",
       "3              0   RH+O     1  \n",
       "4              0   RH+A     2  \n",
       "7              0   RH+B     1  \n",
       "...          ...    ...   ...  \n",
       "1886           0   RH+O     2  \n",
       "1887           0   RH+B     2  \n",
       "1888           0   RH+A     4  \n",
       "1889           0   RH+A     2  \n",
       "1893           0  RH+AB     2  \n",
       "\n",
       "[948 rows x 22 columns]"
      ]
     },
     "execution_count": 23,
     "metadata": {},
     "output_type": "execute_result"
    }
   ],
   "source": [
    "## 조건을 걸어버림_bound보다 위 filter\n",
    "condition_L=(df_ROSF['Large Lymphocyte'] >= QM_L)\n",
    "df_ROSF_L = df_ROSF[condition_L]\n",
    "df_ROSF_L"
   ]
  },
  {
   "cell_type": "code",
   "execution_count": 24,
   "id": "8c201b0c-f9b8-4288-81c3-9621b556408b",
   "metadata": {
    "tags": []
   },
   "outputs": [
    {
     "data": {
      "text/html": [
       "<div>\n",
       "<style scoped>\n",
       "    .dataframe tbody tr th:only-of-type {\n",
       "        vertical-align: middle;\n",
       "    }\n",
       "\n",
       "    .dataframe tbody tr th {\n",
       "        vertical-align: top;\n",
       "    }\n",
       "\n",
       "    .dataframe thead th {\n",
       "        text-align: right;\n",
       "    }\n",
       "</style>\n",
       "<table border=\"1\" class=\"dataframe\">\n",
       "  <thead>\n",
       "    <tr style=\"text-align: right;\">\n",
       "      <th></th>\n",
       "      <th>Large Lymphocyte</th>\n",
       "      <th>입원기간</th>\n",
       "    </tr>\n",
       "  </thead>\n",
       "  <tbody>\n",
       "    <tr>\n",
       "      <th>Large Lymphocyte</th>\n",
       "      <td>1.000000</td>\n",
       "      <td>-0.035086</td>\n",
       "    </tr>\n",
       "    <tr>\n",
       "      <th>입원기간</th>\n",
       "      <td>-0.035086</td>\n",
       "      <td>1.000000</td>\n",
       "    </tr>\n",
       "  </tbody>\n",
       "</table>\n",
       "</div>"
      ],
      "text/plain": [
       "                  Large Lymphocyte      입원기간\n",
       "Large Lymphocyte          1.000000 -0.035086\n",
       "입원기간                     -0.035086  1.000000"
      ]
     },
     "execution_count": 24,
     "metadata": {},
     "output_type": "execute_result"
    }
   ],
   "source": [
    "df_ROSF_L[['Large Lymphocyte','입원기간']].corr()"
   ]
  },
  {
   "cell_type": "code",
   "execution_count": 25,
   "id": "19761182-47e2-482e-bc12-99394a06e04c",
   "metadata": {
    "tags": []
   },
   "outputs": [
    {
     "data": {
      "image/png": "[encoded data removed]",
      "text/plain": [
       "<Figure size 500x500 with 1 Axes>"
      ]
     },
     "metadata": {},
     "output_type": "display_data"
    }
   ],
   "source": [
    "sns.lmplot(data=df_ROSF_L, x='Large Lymphocyte', y='입원기간',)\n",
    "plt.title('Large Lymphocyte수 중앙값 이상에 의한 입원기간 경향')\n",
    "plt.show()"
   ]
  },
  {
   "cell_type": "markdown",
   "id": "191f22e9-fe17-48f8-9b98-ab67bef36f4f",
   "metadata": {},
   "source": [
    "#### 종양진행여부-입원기간\n",
    "- 범주-연속\n",
    "- 종양 진행이 없을때보다 있을 때 입원기간이 조금 늘어나는 것으로 보이나 이의 값의 variation이 크므로 검증이 필수\n",
    "\n"
   ]
  },
  {
   "cell_type": "code",
   "execution_count": 26,
   "id": "6d152b3c-04fc-43c0-a4fc-889586cbb529",
   "metadata": {
    "tags": []
   },
   "outputs": [
    {
     "data": {
      "text/plain": [
       "0    1888\n",
       "1       6\n",
       "Name: 종양진행여부, dtype: int64"
      ]
     },
     "execution_count": 26,
     "metadata": {},
     "output_type": "execute_result"
    }
   ],
   "source": [
    "df_ROSF['종양진행여부'].value_counts()"
   ]
  },
  {
   "cell_type": "code",
   "execution_count": 27,
   "id": "7f20bfd3-3f1a-49bb-9dcf-721d814bcb70",
   "metadata": {
    "tags": []
   },
   "outputs": [
    {
     "data": {
      "text/plain": [
       "<Axes: xlabel='종양진행여부', ylabel='입원기간'>"
      ]
     },
     "execution_count": 27,
     "metadata": {},
     "output_type": "execute_result"
    },
    {
     "data": {
      "image/png": "[encoded data removed]",
      "text/plain": [
       "<Figure size 640x480 with 1 Axes>"
      ]
     },
     "metadata": {},
     "output_type": "display_data"
    }
   ],
   "source": [
    "sns.barplot(data=df_ROSF, x='종양진행여부', y='입원기간', )"
   ]
  },
  {
   "cell_type": "markdown",
   "id": "2a8f850d-2aa7-4eb9-942b-ab64a39c39c9",
   "metadata": {},
   "source": [
    "#### 디스크 단면적-입원기간\n",
    "- 연속-연속"
   ]
  },
  {
   "cell_type": "code",
   "execution_count": 28,
   "id": "1d8bab74-bf0b-4fdf-8a84-61e5925ef859",
   "metadata": {
    "tags": []
   },
   "outputs": [
    {
     "data": {
      "text/plain": [
       "count    1893.000000\n",
       "mean     1989.788774\n",
       "std       314.478436\n",
       "min      1145.800000\n",
       "25%      1777.000000\n",
       "50%      1985.500000\n",
       "75%      2178.500000\n",
       "max      3214.200000\n",
       "Name: 디스크단면적, dtype: float64"
      ]
     },
     "execution_count": 28,
     "metadata": {},
     "output_type": "execute_result"
    }
   ],
   "source": [
    "df_ROSF['디스크단면적'].describe()"
   ]
  },
  {
   "cell_type": "code",
   "execution_count": 29,
   "id": "5ce6d5cd-3e77-4c63-af7d-3b7dbc963de7",
   "metadata": {
    "tags": []
   },
   "outputs": [
    {
     "data": {
      "text/plain": [
       "(1777.0, 2178.5, 401.5)"
      ]
     },
     "execution_count": 29,
     "metadata": {},
     "output_type": "execute_result"
    }
   ],
   "source": [
    "Q1_D = df_ROSF['디스크단면적'].describe()['25%']\n",
    "Q3_D = df_ROSF['디스크단면적'].describe()['75%']\n",
    "IQR_D = Q3_D-Q1_D\n",
    "Q1_D, Q3_D , IQR_D"
   ]
  },
  {
   "cell_type": "code",
   "execution_count": 30,
   "id": "71174aa9-c251-40e1-bd00-b7e7de32878e",
   "metadata": {
    "tags": []
   },
   "outputs": [
    {
     "data": {
      "text/plain": [
       "(1750.15, 2205.35)"
      ]
     },
     "execution_count": 30,
     "metadata": {},
     "output_type": "execute_result"
    }
   ],
   "source": [
    "up_D = Q3_D + 1.5 *IQR_L\n",
    "down_D = Q1_D - 1.5 *IQR_L\n",
    "down_D, up_D"
   ]
  },
  {
   "cell_type": "code",
   "execution_count": 31,
   "id": "7817fbda-9b1d-4ff7-b23e-7ce1fd6800ce",
   "metadata": {
    "tags": []
   },
   "outputs": [],
   "source": [
    "condition_D = (down_D <= df_ROSF['디스크단면적']) & (df_ROSF['디스크단면적']<= up_D)\n",
    "df_ROSF_D = df_ROSF[condition_D]"
   ]
  },
  {
   "cell_type": "code",
   "execution_count": 32,
   "id": "0aed446d-0900-4027-a40f-a404d2d8146e",
   "metadata": {
    "tags": []
   },
   "outputs": [
    {
     "data": {
      "text/html": [
       "<div>\n",
       "<style scoped>\n",
       "    .dataframe tbody tr th:only-of-type {\n",
       "        vertical-align: middle;\n",
       "    }\n",
       "\n",
       "    .dataframe tbody tr th {\n",
       "        vertical-align: top;\n",
       "    }\n",
       "\n",
       "    .dataframe thead th {\n",
       "        text-align: right;\n",
       "    }\n",
       "</style>\n",
       "<table border=\"1\" class=\"dataframe\">\n",
       "  <thead>\n",
       "    <tr style=\"text-align: right;\">\n",
       "      <th></th>\n",
       "      <th>Unnamed: 0.1</th>\n",
       "      <th>Unnamed: 0</th>\n",
       "      <th>환자ID</th>\n",
       "      <th>신장</th>\n",
       "      <th>체중</th>\n",
       "      <th>연령</th>\n",
       "      <th>성별</th>\n",
       "      <th>Large Lymphocyte</th>\n",
       "      <th>우울증여부</th>\n",
       "      <th>종양진행여부</th>\n",
       "      <th>...</th>\n",
       "      <th>디스크위치</th>\n",
       "      <th>척추이동척도</th>\n",
       "      <th>척추전방위증</th>\n",
       "      <th>수술시간</th>\n",
       "      <th>수술실패여부</th>\n",
       "      <th>수술기법</th>\n",
       "      <th>흡연여부</th>\n",
       "      <th>Instability</th>\n",
       "      <th>혈액형</th>\n",
       "      <th>입원기간</th>\n",
       "    </tr>\n",
       "  </thead>\n",
       "  <tbody>\n",
       "    <tr>\n",
       "      <th>0</th>\n",
       "      <td>0</td>\n",
       "      <td>0</td>\n",
       "      <td>1PT</td>\n",
       "      <td>163</td>\n",
       "      <td>60.3</td>\n",
       "      <td>66</td>\n",
       "      <td>2</td>\n",
       "      <td>22.8</td>\n",
       "      <td>0</td>\n",
       "      <td>0</td>\n",
       "      <td>...</td>\n",
       "      <td>4</td>\n",
       "      <td>Down</td>\n",
       "      <td>0</td>\n",
       "      <td>68.0</td>\n",
       "      <td>0</td>\n",
       "      <td>TELD</td>\n",
       "      <td>0</td>\n",
       "      <td>0</td>\n",
       "      <td>RH+A</td>\n",
       "      <td>2</td>\n",
       "    </tr>\n",
       "    <tr>\n",
       "      <th>1</th>\n",
       "      <td>1</td>\n",
       "      <td>1</td>\n",
       "      <td>2PT</td>\n",
       "      <td>171</td>\n",
       "      <td>71.7</td>\n",
       "      <td>47</td>\n",
       "      <td>1</td>\n",
       "      <td>44.9</td>\n",
       "      <td>0</td>\n",
       "      <td>0</td>\n",
       "      <td>...</td>\n",
       "      <td>4</td>\n",
       "      <td>Up</td>\n",
       "      <td>0</td>\n",
       "      <td>31.0</td>\n",
       "      <td>0</td>\n",
       "      <td>TELD</td>\n",
       "      <td>0</td>\n",
       "      <td>0</td>\n",
       "      <td>RH+A</td>\n",
       "      <td>1</td>\n",
       "    </tr>\n",
       "    <tr>\n",
       "      <th>3</th>\n",
       "      <td>3</td>\n",
       "      <td>3</td>\n",
       "      <td>4PT</td>\n",
       "      <td>174</td>\n",
       "      <td>74.2</td>\n",
       "      <td>40</td>\n",
       "      <td>1</td>\n",
       "      <td>54.7</td>\n",
       "      <td>0</td>\n",
       "      <td>0</td>\n",
       "      <td>...</td>\n",
       "      <td>4</td>\n",
       "      <td>Down</td>\n",
       "      <td>0</td>\n",
       "      <td>73.0</td>\n",
       "      <td>0</td>\n",
       "      <td>TELD</td>\n",
       "      <td>0</td>\n",
       "      <td>0</td>\n",
       "      <td>RH+O</td>\n",
       "      <td>1</td>\n",
       "    </tr>\n",
       "    <tr>\n",
       "      <th>4</th>\n",
       "      <td>4</td>\n",
       "      <td>4</td>\n",
       "      <td>5PT</td>\n",
       "      <td>183</td>\n",
       "      <td>80.7</td>\n",
       "      <td>42</td>\n",
       "      <td>1</td>\n",
       "      <td>53.8</td>\n",
       "      <td>0</td>\n",
       "      <td>0</td>\n",
       "      <td>...</td>\n",
       "      <td>4</td>\n",
       "      <td>Up</td>\n",
       "      <td>0</td>\n",
       "      <td>29.0</td>\n",
       "      <td>0</td>\n",
       "      <td>TELD</td>\n",
       "      <td>0</td>\n",
       "      <td>0</td>\n",
       "      <td>RH+A</td>\n",
       "      <td>2</td>\n",
       "    </tr>\n",
       "    <tr>\n",
       "      <th>5</th>\n",
       "      <td>5</td>\n",
       "      <td>5</td>\n",
       "      <td>6PT</td>\n",
       "      <td>164</td>\n",
       "      <td>60.8</td>\n",
       "      <td>60</td>\n",
       "      <td>2</td>\n",
       "      <td>28.5</td>\n",
       "      <td>0</td>\n",
       "      <td>0</td>\n",
       "      <td>...</td>\n",
       "      <td>4</td>\n",
       "      <td>Down</td>\n",
       "      <td>0</td>\n",
       "      <td>47.0</td>\n",
       "      <td>0</td>\n",
       "      <td>TELD</td>\n",
       "      <td>1</td>\n",
       "      <td>0</td>\n",
       "      <td>RH+AB</td>\n",
       "      <td>1</td>\n",
       "    </tr>\n",
       "    <tr>\n",
       "      <th>...</th>\n",
       "      <td>...</td>\n",
       "      <td>...</td>\n",
       "      <td>...</td>\n",
       "      <td>...</td>\n",
       "      <td>...</td>\n",
       "      <td>...</td>\n",
       "      <td>...</td>\n",
       "      <td>...</td>\n",
       "      <td>...</td>\n",
       "      <td>...</td>\n",
       "      <td>...</td>\n",
       "      <td>...</td>\n",
       "      <td>...</td>\n",
       "      <td>...</td>\n",
       "      <td>...</td>\n",
       "      <td>...</td>\n",
       "      <td>...</td>\n",
       "      <td>...</td>\n",
       "      <td>...</td>\n",
       "      <td>...</td>\n",
       "      <td>...</td>\n",
       "    </tr>\n",
       "    <tr>\n",
       "      <th>1884</th>\n",
       "      <td>1884</td>\n",
       "      <td>1884</td>\n",
       "      <td>1885PT</td>\n",
       "      <td>156</td>\n",
       "      <td>52.0</td>\n",
       "      <td>56</td>\n",
       "      <td>2</td>\n",
       "      <td>30.7</td>\n",
       "      <td>0</td>\n",
       "      <td>0</td>\n",
       "      <td>...</td>\n",
       "      <td>5</td>\n",
       "      <td>Middle</td>\n",
       "      <td>0</td>\n",
       "      <td>50.0</td>\n",
       "      <td>0</td>\n",
       "      <td>NaN</td>\n",
       "      <td>1</td>\n",
       "      <td>0</td>\n",
       "      <td>RH+A</td>\n",
       "      <td>8</td>\n",
       "    </tr>\n",
       "    <tr>\n",
       "      <th>1886</th>\n",
       "      <td>1886</td>\n",
       "      <td>1886</td>\n",
       "      <td>1887PT</td>\n",
       "      <td>163</td>\n",
       "      <td>56.0</td>\n",
       "      <td>34</td>\n",
       "      <td>2</td>\n",
       "      <td>49.9</td>\n",
       "      <td>0</td>\n",
       "      <td>0</td>\n",
       "      <td>...</td>\n",
       "      <td>5</td>\n",
       "      <td>Down</td>\n",
       "      <td>0</td>\n",
       "      <td>30.0</td>\n",
       "      <td>0</td>\n",
       "      <td>NaN</td>\n",
       "      <td>0</td>\n",
       "      <td>0</td>\n",
       "      <td>RH+O</td>\n",
       "      <td>2</td>\n",
       "    </tr>\n",
       "    <tr>\n",
       "      <th>1887</th>\n",
       "      <td>1887</td>\n",
       "      <td>1887</td>\n",
       "      <td>1888PT</td>\n",
       "      <td>163</td>\n",
       "      <td>56.0</td>\n",
       "      <td>34</td>\n",
       "      <td>2</td>\n",
       "      <td>49.9</td>\n",
       "      <td>0</td>\n",
       "      <td>0</td>\n",
       "      <td>...</td>\n",
       "      <td>5</td>\n",
       "      <td>Down</td>\n",
       "      <td>0</td>\n",
       "      <td>75.0</td>\n",
       "      <td>0</td>\n",
       "      <td>NaN</td>\n",
       "      <td>0</td>\n",
       "      <td>0</td>\n",
       "      <td>RH+B</td>\n",
       "      <td>2</td>\n",
       "    </tr>\n",
       "    <tr>\n",
       "      <th>1890</th>\n",
       "      <td>1890</td>\n",
       "      <td>1890</td>\n",
       "      <td>1891PT</td>\n",
       "      <td>157</td>\n",
       "      <td>59.0</td>\n",
       "      <td>42</td>\n",
       "      <td>2</td>\n",
       "      <td>30.8</td>\n",
       "      <td>0</td>\n",
       "      <td>0</td>\n",
       "      <td>...</td>\n",
       "      <td>4</td>\n",
       "      <td>Down</td>\n",
       "      <td>0</td>\n",
       "      <td>20.0</td>\n",
       "      <td>0</td>\n",
       "      <td>NaN</td>\n",
       "      <td>0</td>\n",
       "      <td>0</td>\n",
       "      <td>RH+B</td>\n",
       "      <td>4</td>\n",
       "    </tr>\n",
       "    <tr>\n",
       "      <th>1892</th>\n",
       "      <td>1892</td>\n",
       "      <td>1892</td>\n",
       "      <td>1893PT</td>\n",
       "      <td>177</td>\n",
       "      <td>77.0</td>\n",
       "      <td>29</td>\n",
       "      <td>1</td>\n",
       "      <td>32.5</td>\n",
       "      <td>0</td>\n",
       "      <td>0</td>\n",
       "      <td>...</td>\n",
       "      <td>5</td>\n",
       "      <td>Down</td>\n",
       "      <td>0</td>\n",
       "      <td>25.0</td>\n",
       "      <td>0</td>\n",
       "      <td>NaN</td>\n",
       "      <td>0</td>\n",
       "      <td>0</td>\n",
       "      <td>RH+A</td>\n",
       "      <td>4</td>\n",
       "    </tr>\n",
       "  </tbody>\n",
       "</table>\n",
       "<p>1034 rows × 22 columns</p>\n",
       "</div>"
      ],
      "text/plain": [
       "      Unnamed: 0.1  Unnamed: 0    환자ID   신장    체중  연령  성별  Large Lymphocyte  \\\n",
       "0                0           0     1PT  163  60.3  66   2              22.8   \n",
       "1                1           1     2PT  171  71.7  47   1              44.9   \n",
       "3                3           3     4PT  174  74.2  40   1              54.7   \n",
       "4                4           4     5PT  183  80.7  42   1              53.8   \n",
       "5                5           5     6PT  164  60.8  60   2              28.5   \n",
       "...            ...         ...     ...  ...   ...  ..  ..               ...   \n",
       "1884          1884        1884  1885PT  156  52.0  56   2              30.7   \n",
       "1886          1886        1886  1887PT  163  56.0  34   2              49.9   \n",
       "1887          1887        1887  1888PT  163  56.0  34   2              49.9   \n",
       "1890          1890        1890  1891PT  157  59.0  42   2              30.8   \n",
       "1892          1892        1892  1893PT  177  77.0  29   1              32.5   \n",
       "\n",
       "      우울증여부  종양진행여부  ...  디스크위치  척추이동척도  척추전방위증  수술시간  수술실패여부  수술기법  흡연여부  \\\n",
       "0         0       0  ...      4    Down       0  68.0       0  TELD     0   \n",
       "1         0       0  ...      4      Up       0  31.0       0  TELD     0   \n",
       "3         0       0  ...      4    Down       0  73.0       0  TELD     0   \n",
       "4         0       0  ...      4      Up       0  29.0       0  TELD     0   \n",
       "5         0       0  ...      4    Down       0  47.0       0  TELD     1   \n",
       "...     ...     ...  ...    ...     ...     ...   ...     ...   ...   ...   \n",
       "1884      0       0  ...      5  Middle       0  50.0       0   NaN     1   \n",
       "1886      0       0  ...      5    Down       0  30.0       0   NaN     0   \n",
       "1887      0       0  ...      5    Down       0  75.0       0   NaN     0   \n",
       "1890      0       0  ...      4    Down       0  20.0       0   NaN     0   \n",
       "1892      0       0  ...      5    Down       0  25.0       0   NaN     0   \n",
       "\n",
       "     Instability    혈액형  입원기간  \n",
       "0              0   RH+A     2  \n",
       "1              0   RH+A     1  \n",
       "3              0   RH+O     1  \n",
       "4              0   RH+A     2  \n",
       "5              0  RH+AB     1  \n",
       "...          ...    ...   ...  \n",
       "1884           0   RH+A     8  \n",
       "1886           0   RH+O     2  \n",
       "1887           0   RH+B     2  \n",
       "1890           0   RH+B     4  \n",
       "1892           0   RH+A     4  \n",
       "\n",
       "[1034 rows x 22 columns]"
      ]
     },
     "execution_count": 32,
     "metadata": {},
     "output_type": "execute_result"
    }
   ],
   "source": [
    "df_ROSF_D"
   ]
  },
  {
   "cell_type": "code",
   "execution_count": 33,
   "id": "d57e9bd7-36ad-4b55-b8f8-665d15fae71b",
   "metadata": {
    "tags": []
   },
   "outputs": [
    {
     "data": {
      "image/png": "[encoded data removed]",
      "text/plain": [
       "<Figure size 500x500 with 1 Axes>"
      ]
     },
     "metadata": {},
     "output_type": "display_data"
    }
   ],
   "source": [
    "sns.lmplot(data=df_ROSF_D, x='디스크단면적', y='입원기간',)\n",
    "plt.title('디스크단면적당 입원기간')\n",
    "plt.show()"
   ]
  },
  {
   "cell_type": "code",
   "execution_count": 34,
   "id": "1bfdba26-c990-4620-bad7-b1a9c07d022a",
   "metadata": {
    "tags": []
   },
   "outputs": [
    {
     "data": {
      "text/html": [
       "<div>\n",
       "<style scoped>\n",
       "    .dataframe tbody tr th:only-of-type {\n",
       "        vertical-align: middle;\n",
       "    }\n",
       "\n",
       "    .dataframe tbody tr th {\n",
       "        vertical-align: top;\n",
       "    }\n",
       "\n",
       "    .dataframe thead th {\n",
       "        text-align: right;\n",
       "    }\n",
       "</style>\n",
       "<table border=\"1\" class=\"dataframe\">\n",
       "  <thead>\n",
       "    <tr style=\"text-align: right;\">\n",
       "      <th></th>\n",
       "      <th>디스크단면적</th>\n",
       "      <th>입원기간</th>\n",
       "    </tr>\n",
       "  </thead>\n",
       "  <tbody>\n",
       "    <tr>\n",
       "      <th>디스크단면적</th>\n",
       "      <td>1.000000</td>\n",
       "      <td>-0.011314</td>\n",
       "    </tr>\n",
       "    <tr>\n",
       "      <th>입원기간</th>\n",
       "      <td>-0.011314</td>\n",
       "      <td>1.000000</td>\n",
       "    </tr>\n",
       "  </tbody>\n",
       "</table>\n",
       "</div>"
      ],
      "text/plain": [
       "          디스크단면적      입원기간\n",
       "디스크단면적  1.000000 -0.011314\n",
       "입원기간   -0.011314  1.000000"
      ]
     },
     "execution_count": 34,
     "metadata": {},
     "output_type": "execute_result"
    }
   ],
   "source": [
    "df_ROSF_D[['디스크단면적','입원기간']].corr()"
   ]
  },
  {
   "cell_type": "markdown",
   "id": "511c02f2-982a-4626-8ebd-bed30cdbe055",
   "metadata": {
    "jp-MarkdownHeadingCollapsed": true,
    "tags": []
   },
   "source": [
    "#### 척추이동척도-입원기간\n",
    "- 범주-연속"
   ]
  },
  {
   "cell_type": "code",
   "execution_count": 35,
   "id": "9829d120-6754-49b1-ab52-a5e8142019ae",
   "metadata": {
    "tags": []
   },
   "outputs": [
    {
     "data": {
      "text/plain": [
       "Middle            1260\n",
       "Down               513\n",
       "Up                  65\n",
       "Extremely down      40\n",
       "Extremely up        16\n",
       "Name: 척추이동척도, dtype: int64"
      ]
     },
     "execution_count": 35,
     "metadata": {},
     "output_type": "execute_result"
    }
   ],
   "source": [
    "df_ROSF['척추이동척도'].value_counts()"
   ]
  },
  {
   "cell_type": "code",
   "execution_count": 36,
   "id": "dace019b-7579-4d7d-b2b1-b08f6c0abbb2",
   "metadata": {
    "tags": []
   },
   "outputs": [
    {
     "data": {
      "text/html": [
       "<div>\n",
       "<style scoped>\n",
       "    .dataframe tbody tr th:only-of-type {\n",
       "        vertical-align: middle;\n",
       "    }\n",
       "\n",
       "    .dataframe tbody tr th {\n",
       "        vertical-align: top;\n",
       "    }\n",
       "\n",
       "    .dataframe thead th {\n",
       "        text-align: right;\n",
       "    }\n",
       "</style>\n",
       "<table border=\"1\" class=\"dataframe\">\n",
       "  <thead>\n",
       "    <tr style=\"text-align: right;\">\n",
       "      <th></th>\n",
       "      <th>Instability</th>\n",
       "      <th>Large Lymphocyte</th>\n",
       "      <th>Unnamed: 0</th>\n",
       "      <th>Unnamed: 0.1</th>\n",
       "      <th>디스크단면적</th>\n",
       "      <th>디스크위치</th>\n",
       "      <th>성별</th>\n",
       "      <th>수술기법</th>\n",
       "      <th>수술시간</th>\n",
       "      <th>수술실패여부</th>\n",
       "      <th>...</th>\n",
       "      <th>우울증여부</th>\n",
       "      <th>입원기간</th>\n",
       "      <th>재발여부</th>\n",
       "      <th>종양진행여부</th>\n",
       "      <th>척추전방위증</th>\n",
       "      <th>체중</th>\n",
       "      <th>혈액형</th>\n",
       "      <th>환자ID</th>\n",
       "      <th>흡연여부</th>\n",
       "      <th>척추이동</th>\n",
       "    </tr>\n",
       "    <tr>\n",
       "      <th>척추이동척도</th>\n",
       "      <th></th>\n",
       "      <th></th>\n",
       "      <th></th>\n",
       "      <th></th>\n",
       "      <th></th>\n",
       "      <th></th>\n",
       "      <th></th>\n",
       "      <th></th>\n",
       "      <th></th>\n",
       "      <th></th>\n",
       "      <th></th>\n",
       "      <th></th>\n",
       "      <th></th>\n",
       "      <th></th>\n",
       "      <th></th>\n",
       "      <th></th>\n",
       "      <th></th>\n",
       "      <th></th>\n",
       "      <th></th>\n",
       "      <th></th>\n",
       "      <th></th>\n",
       "    </tr>\n",
       "  </thead>\n",
       "  <tbody>\n",
       "    <tr>\n",
       "      <th>Down</th>\n",
       "      <td>513</td>\n",
       "      <td>513</td>\n",
       "      <td>513</td>\n",
       "      <td>513</td>\n",
       "      <td>513</td>\n",
       "      <td>513</td>\n",
       "      <td>513</td>\n",
       "      <td>513</td>\n",
       "      <td>513</td>\n",
       "      <td>513</td>\n",
       "      <td>...</td>\n",
       "      <td>513</td>\n",
       "      <td>513</td>\n",
       "      <td>513</td>\n",
       "      <td>513</td>\n",
       "      <td>513</td>\n",
       "      <td>513</td>\n",
       "      <td>513</td>\n",
       "      <td>513</td>\n",
       "      <td>513</td>\n",
       "      <td>Down</td>\n",
       "    </tr>\n",
       "    <tr>\n",
       "      <th>Extremely down</th>\n",
       "      <td>40</td>\n",
       "      <td>40</td>\n",
       "      <td>40</td>\n",
       "      <td>40</td>\n",
       "      <td>40</td>\n",
       "      <td>40</td>\n",
       "      <td>40</td>\n",
       "      <td>40</td>\n",
       "      <td>40</td>\n",
       "      <td>40</td>\n",
       "      <td>...</td>\n",
       "      <td>40</td>\n",
       "      <td>40</td>\n",
       "      <td>40</td>\n",
       "      <td>40</td>\n",
       "      <td>40</td>\n",
       "      <td>40</td>\n",
       "      <td>40</td>\n",
       "      <td>40</td>\n",
       "      <td>40</td>\n",
       "      <td>Extremely down</td>\n",
       "    </tr>\n",
       "    <tr>\n",
       "      <th>Extremely up</th>\n",
       "      <td>16</td>\n",
       "      <td>16</td>\n",
       "      <td>16</td>\n",
       "      <td>16</td>\n",
       "      <td>16</td>\n",
       "      <td>16</td>\n",
       "      <td>16</td>\n",
       "      <td>16</td>\n",
       "      <td>16</td>\n",
       "      <td>16</td>\n",
       "      <td>...</td>\n",
       "      <td>16</td>\n",
       "      <td>16</td>\n",
       "      <td>16</td>\n",
       "      <td>16</td>\n",
       "      <td>16</td>\n",
       "      <td>16</td>\n",
       "      <td>16</td>\n",
       "      <td>16</td>\n",
       "      <td>16</td>\n",
       "      <td>Extremely up</td>\n",
       "    </tr>\n",
       "    <tr>\n",
       "      <th>Middle</th>\n",
       "      <td>1260</td>\n",
       "      <td>1260</td>\n",
       "      <td>1260</td>\n",
       "      <td>1260</td>\n",
       "      <td>1260</td>\n",
       "      <td>1260</td>\n",
       "      <td>1260</td>\n",
       "      <td>1260</td>\n",
       "      <td>1260</td>\n",
       "      <td>1260</td>\n",
       "      <td>...</td>\n",
       "      <td>1260</td>\n",
       "      <td>1260</td>\n",
       "      <td>1260</td>\n",
       "      <td>1260</td>\n",
       "      <td>1260</td>\n",
       "      <td>1260</td>\n",
       "      <td>1260</td>\n",
       "      <td>1260</td>\n",
       "      <td>1260</td>\n",
       "      <td>Middle</td>\n",
       "    </tr>\n",
       "    <tr>\n",
       "      <th>Up</th>\n",
       "      <td>65</td>\n",
       "      <td>65</td>\n",
       "      <td>65</td>\n",
       "      <td>65</td>\n",
       "      <td>65</td>\n",
       "      <td>65</td>\n",
       "      <td>65</td>\n",
       "      <td>65</td>\n",
       "      <td>65</td>\n",
       "      <td>65</td>\n",
       "      <td>...</td>\n",
       "      <td>65</td>\n",
       "      <td>65</td>\n",
       "      <td>65</td>\n",
       "      <td>65</td>\n",
       "      <td>65</td>\n",
       "      <td>65</td>\n",
       "      <td>65</td>\n",
       "      <td>65</td>\n",
       "      <td>65</td>\n",
       "      <td>Up</td>\n",
       "    </tr>\n",
       "  </tbody>\n",
       "</table>\n",
       "<p>5 rows × 22 columns</p>\n",
       "</div>"
      ],
      "text/plain": [
       "                Instability  Large Lymphocyte  Unnamed: 0  Unnamed: 0.1  \\\n",
       "척추이동척도                                                                    \n",
       "Down                    513               513         513           513   \n",
       "Extremely down           40                40          40            40   \n",
       "Extremely up             16                16          16            16   \n",
       "Middle                 1260              1260        1260          1260   \n",
       "Up                       65                65          65            65   \n",
       "\n",
       "                디스크단면적  디스크위치    성별  수술기법  수술시간  수술실패여부  ...  우울증여부  입원기간  \\\n",
       "척추이동척도                                                   ...                \n",
       "Down               513    513   513   513   513     513  ...    513   513   \n",
       "Extremely down      40     40    40    40    40      40  ...     40    40   \n",
       "Extremely up        16     16    16    16    16      16  ...     16    16   \n",
       "Middle            1260   1260  1260  1260  1260    1260  ...   1260  1260   \n",
       "Up                  65     65    65    65    65      65  ...     65    65   \n",
       "\n",
       "                재발여부  종양진행여부  척추전방위증    체중   혈액형  환자ID  흡연여부            척추이동  \n",
       "척추이동척도                                                                        \n",
       "Down             513     513     513   513   513   513   513            Down  \n",
       "Extremely down    40      40      40    40    40    40    40  Extremely down  \n",
       "Extremely up      16      16      16    16    16    16    16    Extremely up  \n",
       "Middle          1260    1260    1260  1260  1260  1260  1260          Middle  \n",
       "Up                65      65      65    65    65    65    65              Up  \n",
       "\n",
       "[5 rows x 22 columns]"
      ]
     },
     "execution_count": 36,
     "metadata": {},
     "output_type": "execute_result"
    }
   ],
   "source": [
    "df_ROSF_M=pd.pivot_table(data=df_ROSF, index='척추이동척도', aggfunc=len)\n",
    "df_ROSF_M['척추이동'] = df_ROSF_M.index\n",
    "df_ROSF_M"
   ]
  },
  {
   "cell_type": "code",
   "execution_count": 37,
   "id": "44d25baa-5614-4d76-b1ab-389bf8f6a133",
   "metadata": {
    "tags": []
   },
   "outputs": [
    {
     "data": {
      "image/png": "[encoded data removed]",
      "text/plain": [
       "<Figure size 640x480 with 1 Axes>"
      ]
     },
     "metadata": {},
     "output_type": "display_data"
    }
   ],
   "source": [
    "sns.barplot(data=df_ROSF, x='척추이동척도', y='입원기간')\n",
    "plt.title('척추이동척도에 따른 입원기간')\n",
    "plt.show()"
   ]
  },
  {
   "cell_type": "code",
   "execution_count": 38,
   "id": "e8619b06-5279-4ddd-b29f-1d42de752f4f",
   "metadata": {
    "tags": []
   },
   "outputs": [
    {
     "data": {
      "image/png": "[encoded data removed]",
      "text/plain": [
       "<Figure size 640x480 with 1 Axes>"
      ]
     },
     "metadata": {},
     "output_type": "display_data"
    }
   ],
   "source": [
    "sns.barplot(data=df_ROSF_M, x='척추이동', y='입원기간')\n",
    "plt.title('척추이동척도에 따른 입원기간')\n",
    "plt.show()"
   ]
  },
  {
   "cell_type": "markdown",
   "id": "80a5af2f-918c-405e-946f-cad865266574",
   "metadata": {
    "tags": []
   },
   "source": [
    "#### 수술시간-입원기간\n",
    "- 연속-연속"
   ]
  },
  {
   "cell_type": "code",
   "execution_count": 39,
   "id": "ebd26701-122b-42d7-b833-751eb10804d9",
   "metadata": {
    "tags": []
   },
   "outputs": [
    {
     "data": {
      "text/plain": [
       "count    1840.000000\n",
       "mean       62.066304\n",
       "std        24.994615\n",
       "min         5.000000\n",
       "25%        45.000000\n",
       "50%        60.000000\n",
       "75%        77.000000\n",
       "max       220.000000\n",
       "Name: 수술시간, dtype: float64"
      ]
     },
     "execution_count": 39,
     "metadata": {},
     "output_type": "execute_result"
    }
   ],
   "source": [
    "df_ROSF['수술시간'].describe()"
   ]
  },
  {
   "cell_type": "code",
   "execution_count": 40,
   "id": "584ce5ad-b21e-46b4-ba6a-8d6259f5a0d1",
   "metadata": {
    "tags": []
   },
   "outputs": [
    {
     "data": {
      "image/png": "[encoded data removed]",
      "text/plain": [
       "<Figure size 500x500 with 1 Axes>"
      ]
     },
     "metadata": {},
     "output_type": "display_data"
    }
   ],
   "source": [
    "sns.lmplot(data=df_ROSF, x='수술시간', y='입원기간',)\n",
    "plt.title('수술시간에 따른 입원기간')\n",
    "plt.show()"
   ]
  },
  {
   "cell_type": "code",
   "execution_count": 41,
   "id": "ccbfa8a8-1922-4930-a1f1-dd52fcf740e1",
   "metadata": {
    "tags": []
   },
   "outputs": [
    {
     "data": {
      "text/html": [
       "<div>\n",
       "<style scoped>\n",
       "    .dataframe tbody tr th:only-of-type {\n",
       "        vertical-align: middle;\n",
       "    }\n",
       "\n",
       "    .dataframe tbody tr th {\n",
       "        vertical-align: top;\n",
       "    }\n",
       "\n",
       "    .dataframe thead th {\n",
       "        text-align: right;\n",
       "    }\n",
       "</style>\n",
       "<table border=\"1\" class=\"dataframe\">\n",
       "  <thead>\n",
       "    <tr style=\"text-align: right;\">\n",
       "      <th></th>\n",
       "      <th>수술시간</th>\n",
       "      <th>입원기간</th>\n",
       "    </tr>\n",
       "  </thead>\n",
       "  <tbody>\n",
       "    <tr>\n",
       "      <th>수술시간</th>\n",
       "      <td>1.00000</td>\n",
       "      <td>-0.04194</td>\n",
       "    </tr>\n",
       "    <tr>\n",
       "      <th>입원기간</th>\n",
       "      <td>-0.04194</td>\n",
       "      <td>1.00000</td>\n",
       "    </tr>\n",
       "  </tbody>\n",
       "</table>\n",
       "</div>"
      ],
      "text/plain": [
       "         수술시간     입원기간\n",
       "수술시간  1.00000 -0.04194\n",
       "입원기간 -0.04194  1.00000"
      ]
     },
     "execution_count": 41,
     "metadata": {},
     "output_type": "execute_result"
    }
   ],
   "source": [
    "df_ROSF[['수술시간','입원기간']].corr()"
   ]
  },
  {
   "cell_type": "markdown",
   "id": "218c8ea1-8d6f-4c10-9065-ec9120f18a9a",
   "metadata": {
    "tags": []
   },
   "source": [
    "#### 수술기법-입원기간\n",
    "- 범주-연속"
   ]
  },
  {
   "cell_type": "code",
   "execution_count": 42,
   "id": "2e849e4e-6ddc-452d-b830-0aa36fe5e744",
   "metadata": {
    "tags": []
   },
   "outputs": [
    {
     "data": {
      "text/plain": [
       "수술기법\n",
       "TELD    1673\n",
       "IELD     140\n",
       "dtype: int64"
      ]
     },
     "execution_count": 42,
     "metadata": {},
     "output_type": "execute_result"
    }
   ],
   "source": [
    "df_ROSF[['수술기법']].value_counts()"
   ]
  },
  {
   "cell_type": "code",
   "execution_count": 43,
   "id": "c7aeab2a-102a-4770-b162-c6232879b667",
   "metadata": {
    "tags": []
   },
   "outputs": [
    {
     "data": {
      "text/plain": [
       "<Axes: xlabel='수술기법', ylabel='입원기간'>"
      ]
     },
     "execution_count": 43,
     "metadata": {},
     "output_type": "execute_result"
    },
    {
     "data": {
      "image/png": "[encoded data removed]",
      "text/plain": [
       "<Figure size 640x480 with 1 Axes>"
      ]
     },
     "metadata": {},
     "output_type": "display_data"
    }
   ],
   "source": [
    "sns.barplot(data=df_ROSF, x='수술기법', y='입원기간')"
   ]
  },
  {
   "cell_type": "markdown",
   "id": "50d30879-acd1-4f8d-81c5-08c51072461a",
   "metadata": {
    "tags": []
   },
   "source": [
    "#### Instability-입원기간\n",
    "- 범주-연속"
   ]
  },
  {
   "cell_type": "code",
   "execution_count": 44,
   "id": "76967d30-3bd5-44dc-ba96-d2f6052c0827",
   "metadata": {
    "tags": []
   },
   "outputs": [
    {
     "data": {
      "text/plain": [
       "Instability\n",
       "0              1817\n",
       "1                77\n",
       "dtype: int64"
      ]
     },
     "execution_count": 44,
     "metadata": {},
     "output_type": "execute_result"
    }
   ],
   "source": [
    "df_ROSF[['Instability']].value_counts()"
   ]
  },
  {
   "cell_type": "code",
   "execution_count": 45,
   "id": "32125e2b-3772-4997-a9bd-a642623dba24",
   "metadata": {
    "tags": []
   },
   "outputs": [
    {
     "data": {
      "text/plain": [
       "<Axes: xlabel='Instability', ylabel='입원기간'>"
      ]
     },
     "execution_count": 45,
     "metadata": {},
     "output_type": "execute_result"
    },
    {
     "data": {
      "image/png": "[encoded data removed]",
      "text/plain": [
       "<Figure size 640x480 with 1 Axes>"
      ]
     },
     "metadata": {},
     "output_type": "display_data"
    }
   ],
   "source": [
    "sns.barplot(data=df_ROSF, x='Instability', y='입원기간')"
   ]
  },
  {
   "cell_type": "markdown",
   "id": "ce77f8ec-7369-4af2-bdfa-96814dd9ead4",
   "metadata": {
    "jp-MarkdownHeadingCollapsed": true,
    "tags": []
   },
   "source": [
    "#### 혈액형-입원기간\n",
    "- 범주-연속"
   ]
  },
  {
   "cell_type": "code",
   "execution_count": 46,
   "id": "7c713036-c6ce-4d36-b580-358c3f9c814b",
   "metadata": {
    "tags": []
   },
   "outputs": [
    {
     "data": {
      "text/plain": [
       "혈액형  \n",
       "RH+A     688\n",
       "RH+O     532\n",
       "RH+B     476\n",
       "RH+AB    198\n",
       "dtype: int64"
      ]
     },
     "execution_count": 46,
     "metadata": {},
     "output_type": "execute_result"
    }
   ],
   "source": [
    "df_ROSF[['혈액형']].value_counts()"
   ]
  },
  {
   "cell_type": "code",
   "execution_count": 47,
   "id": "6dfabd8e-b1b1-4395-af4c-56cb378f684c",
   "metadata": {
    "tags": []
   },
   "outputs": [
    {
     "data": {
      "text/plain": [
       "<Axes: xlabel='혈액형', ylabel='입원기간'>"
      ]
     },
     "execution_count": 47,
     "metadata": {},
     "output_type": "execute_result"
    },
    {
     "data": {
      "image/png": "[encoded data removed]",
      "text/plain": [
       "<Figure size 640x480 with 1 Axes>"
      ]
     },
     "metadata": {},
     "output_type": "display_data"
    }
   ],
   "source": [
    "sns.barplot(data=df_ROSF, x='혈액형', y='입원기간')"
   ]
  },
  {
   "cell_type": "markdown",
   "id": "86fecf60-311d-43dd-b298-f8cf9ef92347",
   "metadata": {
    "tags": []
   },
   "source": [
    "#### 신장,체중-입원기간 or BMI\n",
    "- 연속-연속/ 범주-연속"
   ]
  },
  {
   "cell_type": "code",
   "execution_count": 48,
   "id": "f6f49f32-1810-476d-a04e-cf6cfa528067",
   "metadata": {},
   "outputs": [
    {
     "data": {
      "text/html": [
       "<div>\n",
       "<style scoped>\n",
       "    .dataframe tbody tr th:only-of-type {\n",
       "        vertical-align: middle;\n",
       "    }\n",
       "\n",
       "    .dataframe tbody tr th {\n",
       "        vertical-align: top;\n",
       "    }\n",
       "\n",
       "    .dataframe thead th {\n",
       "        text-align: right;\n",
       "    }\n",
       "</style>\n",
       "<table border=\"1\" class=\"dataframe\">\n",
       "  <thead>\n",
       "    <tr style=\"text-align: right;\">\n",
       "      <th></th>\n",
       "      <th>신장</th>\n",
       "      <th>체중</th>\n",
       "    </tr>\n",
       "  </thead>\n",
       "  <tbody>\n",
       "    <tr>\n",
       "      <th>count</th>\n",
       "      <td>1894.000000</td>\n",
       "      <td>1894.000000</td>\n",
       "    </tr>\n",
       "    <tr>\n",
       "      <th>mean</th>\n",
       "      <td>168.027983</td>\n",
       "      <td>68.111140</td>\n",
       "    </tr>\n",
       "    <tr>\n",
       "      <th>std</th>\n",
       "      <td>9.211419</td>\n",
       "      <td>11.234318</td>\n",
       "    </tr>\n",
       "    <tr>\n",
       "      <th>min</th>\n",
       "      <td>140.000000</td>\n",
       "      <td>35.000000</td>\n",
       "    </tr>\n",
       "    <tr>\n",
       "      <th>25%</th>\n",
       "      <td>161.000000</td>\n",
       "      <td>59.700000</td>\n",
       "    </tr>\n",
       "    <tr>\n",
       "      <th>50%</th>\n",
       "      <td>169.000000</td>\n",
       "      <td>68.000000</td>\n",
       "    </tr>\n",
       "    <tr>\n",
       "      <th>75%</th>\n",
       "      <td>175.000000</td>\n",
       "      <td>75.000000</td>\n",
       "    </tr>\n",
       "    <tr>\n",
       "      <th>max</th>\n",
       "      <td>204.000000</td>\n",
       "      <td>136.100000</td>\n",
       "    </tr>\n",
       "  </tbody>\n",
       "</table>\n",
       "</div>"
      ],
      "text/plain": [
       "                신장           체중\n",
       "count  1894.000000  1894.000000\n",
       "mean    168.027983    68.111140\n",
       "std       9.211419    11.234318\n",
       "min     140.000000    35.000000\n",
       "25%     161.000000    59.700000\n",
       "50%     169.000000    68.000000\n",
       "75%     175.000000    75.000000\n",
       "max     204.000000   136.100000"
      ]
     },
     "execution_count": 48,
     "metadata": {},
     "output_type": "execute_result"
    }
   ],
   "source": [
    "df_ROSF[['신장','체중']].describe()"
   ]
  },
  {
   "cell_type": "code",
   "execution_count": 49,
   "id": "6729c4cb-c839-4de1-bf0f-3636a610e026",
   "metadata": {
    "tags": []
   },
   "outputs": [],
   "source": [
    "def convert (height) :\n",
    "    return float(height)\n",
    "\n",
    "df_ROSF['신장_소수']=df_ROSF['신장'].apply(convert)"
   ]
  },
  {
   "cell_type": "code",
   "execution_count": 50,
   "id": "2201465a-136a-4b9f-9bb5-45d9b4823fa8",
   "metadata": {
    "tags": []
   },
   "outputs": [],
   "source": [
    "def cm_convert(height):\n",
    "    height = height / 100\n",
    "    return height\n",
    "df_ROSF['신장(m)']= df_ROSF['신장_소수'].apply(cm_convert)\n",
    "df_ROSF['신장(m)^2'] = df_ROSF['신장(m)'] * df_ROSF['신장(m)']"
   ]
  },
  {
   "cell_type": "code",
   "execution_count": 51,
   "id": "380cc762-081f-4e9a-a098-116be06120b3",
   "metadata": {
    "tags": []
   },
   "outputs": [],
   "source": [
    "df_ROSF['BMI'] = df_ROSF['체중'] / df_ROSF['신장(m)^2']"
   ]
  },
  {
   "cell_type": "code",
   "execution_count": 52,
   "id": "c0fa0735-a441-4d53-986b-2b59232ad3d2",
   "metadata": {
    "tags": []
   },
   "outputs": [],
   "source": [
    "def BMI_calculation(BMI):\n",
    "    if (BMI) < 18.5 :\n",
    "        return '저체중'\n",
    "    elif 18.5 <= (BMI) < 23 :\n",
    "        return '정상체중'\n",
    "    elif 23 <= (BMI) < 25 :\n",
    "        return '과체중'\n",
    "    elif 25 <= (BMI) < 30 :\n",
    "        return '1단계비만'\n",
    "    elif 30 <= (BMI) <35 : \n",
    "        return '2단계비만'\n",
    "    elif 35 <= (BMI) : \n",
    "        return '고도비만'\n",
    "    else :\n",
    "        return '측정이상'\n",
    "\n",
    "df_ROSF['BMI_범위'] = df_ROSF['BMI'].apply(BMI_calculation)"
   ]
  },
  {
   "cell_type": "code",
   "execution_count": 53,
   "id": "58ce5530-6de4-4cbd-8aa2-4e421c47d2b1",
   "metadata": {
    "tags": []
   },
   "outputs": [
    {
     "data": {
      "image/png": "[encoded data removed]",
      "text/plain": [
       "<Figure size 640x480 with 1 Axes>"
      ]
     },
     "metadata": {},
     "output_type": "display_data"
    }
   ],
   "source": [
    "sns.barplot(data=df_ROSF, x='BMI_범위',y='입원기간')\n",
    "plt.title('BMI에 따른 입원기간')\n",
    "plt.show()"
   ]
  },
  {
   "cell_type": "code",
   "execution_count": null,
   "id": "3d62d4b0-efe1-45ee-88f7-a4a39e578e72",
   "metadata": {},
   "outputs": [],
   "source": []
  }
 ],
 "metadata": {
  "kernelspec": {
   "display_name": "Python 3 (ipykernel)",
   "language": "python",
   "name": "python3"
  },
  "language_info": {
   "codemirror_mode": {
    "name": "ipython",
    "version": 3
   },
   "file_extension": ".py",
   "mimetype": "text/x-python",
   "name": "python",
   "nbconvert_exporter": "python",
   "pygments_lexer": "ipython3",
   "version": "3.11.4"
  }
 },
 "nbformat": 4,
 "nbformat_minor": 5
}
