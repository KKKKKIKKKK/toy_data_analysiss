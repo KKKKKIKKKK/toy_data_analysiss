{
 "cells": [
  {
   "cell_type": "code",
   "execution_count": 1,
   "id": "3cef20d4-0965-4cb5-90a3-e367f21f0a1c",
   "metadata": {
    "tags": []
   },
   "outputs": [],
   "source": [
    "import matplotlib.pyplot as plt\n",
    "import matplotlib as mpl\n",
    "mpl.rc('font',family='Malgun Gothic')\n",
    "import seaborn as sns\n",
    "import pandas as pd\n",
    "import scipy.stats as stats\n",
    "import numpy as np"
   ]
  },
  {
   "cell_type": "code",
   "execution_count": 2,
   "id": "d5b43eb6-4088-4a31-b2af-da9c96d7d711",
   "metadata": {
    "tags": []
   },
   "outputs": [
    {
     "data": {
      "text/html": [
       "<div>\n",
       "<style scoped>\n",
       "    .dataframe tbody tr th:only-of-type {\n",
       "        vertical-align: middle;\n",
       "    }\n",
       "\n",
       "    .dataframe tbody tr th {\n",
       "        vertical-align: top;\n",
       "    }\n",
       "\n",
       "    .dataframe thead th {\n",
       "        text-align: right;\n",
       "    }\n",
       "</style>\n",
       "<table border=\"1\" class=\"dataframe\">\n",
       "  <thead>\n",
       "    <tr style=\"text-align: right;\">\n",
       "      <th></th>\n",
       "      <th>Unnamed: 0</th>\n",
       "      <th>환자ID</th>\n",
       "      <th>연령</th>\n",
       "      <th>성별</th>\n",
       "      <th>Large Lymphocyte</th>\n",
       "      <th>우울증여부</th>\n",
       "      <th>종양진행여부</th>\n",
       "      <th>재발여부</th>\n",
       "      <th>디스크단면적</th>\n",
       "      <th>디스크위치</th>\n",
       "      <th>척추이동척도</th>\n",
       "      <th>척추전방위증</th>\n",
       "      <th>수술시간</th>\n",
       "      <th>수술실패여부</th>\n",
       "      <th>수술기법</th>\n",
       "      <th>흡연여부</th>\n",
       "      <th>Instability</th>\n",
       "      <th>혈액형</th>\n",
       "    </tr>\n",
       "  </thead>\n",
       "  <tbody>\n",
       "    <tr>\n",
       "      <th>0</th>\n",
       "      <td>0</td>\n",
       "      <td>1PT</td>\n",
       "      <td>66</td>\n",
       "      <td>2</td>\n",
       "      <td>22.8</td>\n",
       "      <td>0</td>\n",
       "      <td>0</td>\n",
       "      <td>0</td>\n",
       "      <td>2048.5</td>\n",
       "      <td>4</td>\n",
       "      <td>Down</td>\n",
       "      <td>0</td>\n",
       "      <td>68.0</td>\n",
       "      <td>0</td>\n",
       "      <td>TELD</td>\n",
       "      <td>0</td>\n",
       "      <td>0</td>\n",
       "      <td>RH+A</td>\n",
       "    </tr>\n",
       "    <tr>\n",
       "      <th>1</th>\n",
       "      <td>1</td>\n",
       "      <td>2PT</td>\n",
       "      <td>47</td>\n",
       "      <td>1</td>\n",
       "      <td>44.9</td>\n",
       "      <td>0</td>\n",
       "      <td>0</td>\n",
       "      <td>0</td>\n",
       "      <td>1753.1</td>\n",
       "      <td>4</td>\n",
       "      <td>Up</td>\n",
       "      <td>0</td>\n",
       "      <td>31.0</td>\n",
       "      <td>0</td>\n",
       "      <td>TELD</td>\n",
       "      <td>0</td>\n",
       "      <td>0</td>\n",
       "      <td>RH+A</td>\n",
       "    </tr>\n",
       "  </tbody>\n",
       "</table>\n",
       "</div>"
      ],
      "text/plain": [
       "   Unnamed: 0 환자ID  연령  성별  Large Lymphocyte  우울증여부  종양진행여부  재발여부  디스크단면적  \\\n",
       "0           0  1PT  66   2              22.8      0       0     0  2048.5   \n",
       "1           1  2PT  47   1              44.9      0       0     0  1753.1   \n",
       "\n",
       "   디스크위치 척추이동척도  척추전방위증  수술시간  수술실패여부  수술기법  흡연여부  Instability   혈액형  \n",
       "0      4   Down       0  68.0       0  TELD     0            0  RH+A  \n",
       "1      4     Up       0  31.0       0  TELD     0            0  RH+A  "
      ]
     },
     "execution_count": 2,
     "metadata": {},
     "output_type": "execute_result"
    }
   ],
   "source": [
    "df_ROS = pd.read_csv('../../datasets/RecurrenceOfSurgery_Final.csv')\n",
    "df_ROS[:2]"
   ]
  },
  {
   "cell_type": "code",
   "execution_count": 3,
   "id": "65afeb6a-5840-4251-b9a9-feb4d4989ed3",
   "metadata": {},
   "outputs": [
    {
     "name": "stdout",
     "output_type": "stream",
     "text": [
      "<class 'pandas.core.frame.DataFrame'>\n",
      "RangeIndex: 1758 entries, 0 to 1757\n",
      "Data columns (total 21 columns):\n",
      " #   Column            Non-Null Count  Dtype  \n",
      "---  ------            --------------  -----  \n",
      " 0   Unnamed: 0        1758 non-null   int64  \n",
      " 1   환자ID              1758 non-null   object \n",
      " 2   신장                1758 non-null   int64  \n",
      " 3   체중                1758 non-null   float64\n",
      " 4   연령                1758 non-null   int64  \n",
      " 5   성별                1758 non-null   int64  \n",
      " 6   Large Lymphocyte  1758 non-null   float64\n",
      " 7   우울증여부             1758 non-null   int64  \n",
      " 8   종양진행여부            1758 non-null   int64  \n",
      " 9   재발여부              1758 non-null   int64  \n",
      " 10  디스크단면적            1758 non-null   float64\n",
      " 11  디스크위치             1758 non-null   int64  \n",
      " 12  척추이동척도            1758 non-null   object \n",
      " 13  척추전방위증            1758 non-null   int64  \n",
      " 14  수술시간              1758 non-null   float64\n",
      " 15  수술실패여부            1758 non-null   int64  \n",
      " 16  수술기법              1758 non-null   object \n",
      " 17  흡연여부              1758 non-null   int64  \n",
      " 18  Instability       1758 non-null   int64  \n",
      " 19  혈액형               1758 non-null   object \n",
      " 20  입원기간              1758 non-null   int64  \n",
      "dtypes: float64(4), int64(13), object(4)\n",
      "memory usage: 288.6+ KB\n"
     ]
    }
   ],
   "source": [
    "df_ROS.info()"
   ]
  },
  {
   "cell_type": "markdown",
   "id": "aa0d8205-53a6-4104-833a-516d43978673",
   "metadata": {},
   "source": [
    "### quest (DDA) \n",
    "- 목표변수: 입원기간\n",
    "- 하단의 주어진 변수들을 사용해서 목적변수(입원기간)를 예측하고, 각 변수의 기여도 및 차이를 분석하려 함. \n",
    "- 데이터타입\n",
    "    1. 연속형\n",
    "    2. 범주형 :'입원기간','성별','우울증여부','종양진행여부','재발여부','척추전방위증','수술실패여부','흡연여부'\n",
    "\n",
    "- 설명변수\n",
    "    - 신장과 체중 : 환자의 생체 특성을 나타내는 변수이며, 입원기간에 영향을 미칠 가능성이 있다고 봄 \n",
    "    - 연령과 성별 :  환자의 나이와 성별은 건강 상태 및 치료에 영향을 줄 수 있는 중요한 변수임\n",
    "    - Large Lymphocyte: 혈액 내의 특정 세포 유형을 나타내는 변수로, 면역 상태 등에 영향을 줄 수 있음\n",
    "    - 우울증여부, 종양진행여부, 재발여부 : 환자의 건강 상태 및 진단 정보를 나타내는 변수임\n",
    "    - 디스크단면적과 디스크위치: 환자의 척추 건강과 관련된 변수로 입원기간에 영향을 줄 수 있음 \n",
    "    - 척추이동척도와 척추전방위증: 척추의 이동과 관련된 변수로 선택에 포함 \n",
    "    - 수술시간, 수술실패여부, 수술기법 : 환자의 수술 관련 변수\n",
    "    - 흡연여부 : 환자의 생활 습관을 나타내는 변수 \n",
    "    - Instability : 척추의 불안정성을 나타내는 변수\n",
    "    - 혈액형 : 혈액 그룹은 환자의 생체 특성을 나타내는 변수  \n",
    "    \n",
    "- 담당부분\n",
    "    - '입원기간','성별','우울증여부','종양진행여부','재발여부','척추전방위증','수술실패여부','흡연여부'"
   ]
  },
  {
   "cell_type": "code",
   "execution_count": 4,
   "id": "fdd022e1-3856-42b2-9acf-1efa225224cc",
   "metadata": {
    "tags": []
   },
   "outputs": [],
   "source": [
    "df_ROS_Analysis = df_ROS[['환자ID','신장', '체중', '연령', '성별', 'Large Lymphocyte', '우울증여부', '종양진행여부', '재발여부','디스크단면적','디스크위치', '척추이동척도','척추전방위증','수술시간','수술실패여부','수술기법','흡연여부','Instability','혈액형','입원기간']]"
   ]
  },
  {
   "cell_type": "code",
   "execution_count": 5,
   "id": "6cd51341-847e-4ef4-b2eb-71dd0bc90b90",
   "metadata": {
    "tags": []
   },
   "outputs": [
    {
     "data": {
      "text/plain": [
       "환자ID                0\n",
       "신장                  0\n",
       "체중                  0\n",
       "연령                  0\n",
       "성별                  0\n",
       "Large Lymphocyte    0\n",
       "우울증여부               0\n",
       "종양진행여부              0\n",
       "재발여부                0\n",
       "디스크단면적              0\n",
       "디스크위치               0\n",
       "척추이동척도              0\n",
       "척추전방위증              0\n",
       "수술시간                0\n",
       "수술실패여부              0\n",
       "수술기법                0\n",
       "흡연여부                0\n",
       "Instability         0\n",
       "혈액형                 0\n",
       "입원기간                0\n",
       "dtype: int64"
      ]
     },
     "execution_count": 5,
     "metadata": {},
     "output_type": "execute_result"
    }
   ],
   "source": [
    "df_ROS_Analysis.isnull().sum()"
   ]
  },
  {
   "cell_type": "code",
   "execution_count": 6,
   "id": "913115ed-d0ae-4ae0-af2f-58ccf5e97208",
   "metadata": {
    "tags": []
   },
   "outputs": [],
   "source": [
    "df_ROS_Analysis=df_ROS_Analysis.dropna().copy()"
   ]
  },
  {
   "cell_type": "code",
   "execution_count": 7,
   "id": "e0ec2272-a774-45bd-a0df-5dfc54513bcb",
   "metadata": {
    "tags": []
   },
   "outputs": [],
   "source": [
    "df_ROS_Analysis.to_csv('../../datasets/RecurrenceOfSurgery_Final.csv')"
   ]
  },
  {
   "cell_type": "markdown",
   "id": "3a26b4e2-771a-4c26-a5d5-235a87fb9463",
   "metadata": {},
   "source": [
    "### 담당 부분 \n",
    "'입원기간','성별','우울증여부','종양진행여부','재발여부','척추전방위증','수술실패여부','흡연여부'"
   ]
  },
  {
   "cell_type": "code",
   "execution_count": 8,
   "id": "d234ed90-bf3a-49ea-8dd2-9df8cd61f6f2",
   "metadata": {
    "tags": []
   },
   "outputs": [
    {
     "data": {
      "text/html": [
       "<div>\n",
       "<style scoped>\n",
       "    .dataframe tbody tr th:only-of-type {\n",
       "        vertical-align: middle;\n",
       "    }\n",
       "\n",
       "    .dataframe tbody tr th {\n",
       "        vertical-align: top;\n",
       "    }\n",
       "\n",
       "    .dataframe thead th {\n",
       "        text-align: right;\n",
       "    }\n",
       "</style>\n",
       "<table border=\"1\" class=\"dataframe\">\n",
       "  <thead>\n",
       "    <tr style=\"text-align: right;\">\n",
       "      <th></th>\n",
       "      <th>입원기간</th>\n",
       "      <th>성별</th>\n",
       "      <th>우울증여부</th>\n",
       "      <th>종양진행여부</th>\n",
       "      <th>재발여부</th>\n",
       "      <th>척추전방위증</th>\n",
       "      <th>수술실패여부</th>\n",
       "      <th>흡연여부</th>\n",
       "    </tr>\n",
       "  </thead>\n",
       "  <tbody>\n",
       "    <tr>\n",
       "      <th>0</th>\n",
       "      <td>2</td>\n",
       "      <td>2</td>\n",
       "      <td>0</td>\n",
       "      <td>0</td>\n",
       "      <td>0</td>\n",
       "      <td>0</td>\n",
       "      <td>0</td>\n",
       "      <td>0</td>\n",
       "    </tr>\n",
       "    <tr>\n",
       "      <th>1</th>\n",
       "      <td>1</td>\n",
       "      <td>1</td>\n",
       "      <td>0</td>\n",
       "      <td>0</td>\n",
       "      <td>0</td>\n",
       "      <td>0</td>\n",
       "      <td>0</td>\n",
       "      <td>0</td>\n",
       "    </tr>\n",
       "  </tbody>\n",
       "</table>\n",
       "</div>"
      ],
      "text/plain": [
       "   입원기간  성별  우울증여부  종양진행여부  재발여부  척추전방위증  수술실패여부  흡연여부\n",
       "0     2   2      0       0     0       0       0     0\n",
       "1     1   1      0       0     0       0       0     0"
      ]
     },
     "execution_count": 8,
     "metadata": {},
     "output_type": "execute_result"
    }
   ],
   "source": [
    "df_ROS_Analysis = df_ROS[['입원기간','성별','우울증여부','종양진행여부','재발여부','척추전방위증','수술실패여부','흡연여부']]\n",
    "df_ROS_Analysis[:2]"
   ]
  },
  {
   "cell_type": "code",
   "execution_count": 9,
   "id": "4a9c53cc-dce7-45ed-8856-526b06953440",
   "metadata": {
    "tags": []
   },
   "outputs": [
    {
     "data": {
      "text/html": [
       "<div>\n",
       "<style scoped>\n",
       "    .dataframe tbody tr th:only-of-type {\n",
       "        vertical-align: middle;\n",
       "    }\n",
       "\n",
       "    .dataframe tbody tr th {\n",
       "        vertical-align: top;\n",
       "    }\n",
       "\n",
       "    .dataframe thead th {\n",
       "        text-align: right;\n",
       "    }\n",
       "</style>\n",
       "<table border=\"1\" class=\"dataframe\">\n",
       "  <thead>\n",
       "    <tr style=\"text-align: right;\">\n",
       "      <th></th>\n",
       "      <th>입원기간</th>\n",
       "      <th>성별</th>\n",
       "      <th>우울증여부</th>\n",
       "      <th>종양진행여부</th>\n",
       "      <th>재발여부</th>\n",
       "      <th>척추전방위증</th>\n",
       "      <th>수술실패여부</th>\n",
       "      <th>흡연여부</th>\n",
       "    </tr>\n",
       "  </thead>\n",
       "  <tbody>\n",
       "    <tr>\n",
       "      <th>count</th>\n",
       "      <td>1758.000000</td>\n",
       "      <td>1758.000000</td>\n",
       "      <td>1758.000000</td>\n",
       "      <td>1758.000000</td>\n",
       "      <td>1758.000000</td>\n",
       "      <td>1758.000000</td>\n",
       "      <td>1758.000000</td>\n",
       "      <td>1758.000000</td>\n",
       "    </tr>\n",
       "    <tr>\n",
       "      <th>mean</th>\n",
       "      <td>1.651308</td>\n",
       "      <td>1.377702</td>\n",
       "      <td>0.025028</td>\n",
       "      <td>0.002844</td>\n",
       "      <td>0.115472</td>\n",
       "      <td>0.030717</td>\n",
       "      <td>0.061433</td>\n",
       "      <td>0.215017</td>\n",
       "    </tr>\n",
       "    <tr>\n",
       "      <th>std</th>\n",
       "      <td>1.893471</td>\n",
       "      <td>0.484950</td>\n",
       "      <td>0.159857</td>\n",
       "      <td>0.053270</td>\n",
       "      <td>0.319682</td>\n",
       "      <td>0.172598</td>\n",
       "      <td>0.240192</td>\n",
       "      <td>0.410951</td>\n",
       "    </tr>\n",
       "    <tr>\n",
       "      <th>min</th>\n",
       "      <td>0.000000</td>\n",
       "      <td>1.000000</td>\n",
       "      <td>0.000000</td>\n",
       "      <td>0.000000</td>\n",
       "      <td>0.000000</td>\n",
       "      <td>0.000000</td>\n",
       "      <td>0.000000</td>\n",
       "      <td>0.000000</td>\n",
       "    </tr>\n",
       "    <tr>\n",
       "      <th>25%</th>\n",
       "      <td>1.000000</td>\n",
       "      <td>1.000000</td>\n",
       "      <td>0.000000</td>\n",
       "      <td>0.000000</td>\n",
       "      <td>0.000000</td>\n",
       "      <td>0.000000</td>\n",
       "      <td>0.000000</td>\n",
       "      <td>0.000000</td>\n",
       "    </tr>\n",
       "    <tr>\n",
       "      <th>50%</th>\n",
       "      <td>1.000000</td>\n",
       "      <td>1.000000</td>\n",
       "      <td>0.000000</td>\n",
       "      <td>0.000000</td>\n",
       "      <td>0.000000</td>\n",
       "      <td>0.000000</td>\n",
       "      <td>0.000000</td>\n",
       "      <td>0.000000</td>\n",
       "    </tr>\n",
       "    <tr>\n",
       "      <th>75%</th>\n",
       "      <td>2.000000</td>\n",
       "      <td>2.000000</td>\n",
       "      <td>0.000000</td>\n",
       "      <td>0.000000</td>\n",
       "      <td>0.000000</td>\n",
       "      <td>0.000000</td>\n",
       "      <td>0.000000</td>\n",
       "      <td>0.000000</td>\n",
       "    </tr>\n",
       "    <tr>\n",
       "      <th>max</th>\n",
       "      <td>46.000000</td>\n",
       "      <td>2.000000</td>\n",
       "      <td>2.000000</td>\n",
       "      <td>1.000000</td>\n",
       "      <td>1.000000</td>\n",
       "      <td>1.000000</td>\n",
       "      <td>1.000000</td>\n",
       "      <td>1.000000</td>\n",
       "    </tr>\n",
       "  </tbody>\n",
       "</table>\n",
       "</div>"
      ],
      "text/plain": [
       "              입원기간           성별        우울증여부       종양진행여부         재발여부  \\\n",
       "count  1758.000000  1758.000000  1758.000000  1758.000000  1758.000000   \n",
       "mean      1.651308     1.377702     0.025028     0.002844     0.115472   \n",
       "std       1.893471     0.484950     0.159857     0.053270     0.319682   \n",
       "min       0.000000     1.000000     0.000000     0.000000     0.000000   \n",
       "25%       1.000000     1.000000     0.000000     0.000000     0.000000   \n",
       "50%       1.000000     1.000000     0.000000     0.000000     0.000000   \n",
       "75%       2.000000     2.000000     0.000000     0.000000     0.000000   \n",
       "max      46.000000     2.000000     2.000000     1.000000     1.000000   \n",
       "\n",
       "            척추전방위증       수술실패여부         흡연여부  \n",
       "count  1758.000000  1758.000000  1758.000000  \n",
       "mean      0.030717     0.061433     0.215017  \n",
       "std       0.172598     0.240192     0.410951  \n",
       "min       0.000000     0.000000     0.000000  \n",
       "25%       0.000000     0.000000     0.000000  \n",
       "50%       0.000000     0.000000     0.000000  \n",
       "75%       0.000000     0.000000     0.000000  \n",
       "max       1.000000     1.000000     1.000000  "
      ]
     },
     "execution_count": 9,
     "metadata": {},
     "output_type": "execute_result"
    }
   ],
   "source": [
    "df_ROS_Analysis.describe()"
   ]
  },
  {
   "cell_type": "markdown",
   "id": "67a22712-3793-4085-ba6a-523ce235bf7d",
   "metadata": {},
   "source": [
    "### 데이터 타입 확인\n",
    "- 범주형: '성별', '우울증 여부', '종양진행여부', '재발여부', '척추전방위증', '수술실패여부', '흡연여부'"
   ]
  },
  {
   "cell_type": "code",
   "execution_count": 10,
   "id": "dc050d79-3845-4ed1-9224-6587fd89e680",
   "metadata": {},
   "outputs": [
    {
     "data": {
      "text/plain": [
       "입원기간      int64\n",
       "성별        int64\n",
       "우울증여부     int64\n",
       "종양진행여부    int64\n",
       "재발여부      int64\n",
       "척추전방위증    int64\n",
       "수술실패여부    int64\n",
       "흡연여부      int64\n",
       "dtype: object"
      ]
     },
     "execution_count": 10,
     "metadata": {},
     "output_type": "execute_result"
    }
   ],
   "source": [
    "df_ROS_Analysis.dtypes #데이터 타입 확인"
   ]
  },
  {
   "cell_type": "markdown",
   "id": "c7214735-dc7e-4cdd-8c4e-24c062a33170",
   "metadata": {},
   "source": [
    "####   타입 변경  = 성별,우울증여부, 종양진행여부, 재발여부, 척추전방위증, 수술실패여부, 흡연여부"
   ]
  },
  {
   "cell_type": "code",
   "execution_count": 16,
   "id": "2a148f37-b964-4b58-8b7b-4e3ff4ff07ec",
   "metadata": {
    "tags": []
   },
   "outputs": [
    {
     "name": "stderr",
     "output_type": "stream",
     "text": [
      "C:\\Users\\5-20\\AppData\\Local\\Temp\\ipykernel_10216\\1532712258.py:2: SettingWithCopyWarning: \n",
      "A value is trying to be set on a copy of a slice from a DataFrame.\n",
      "Try using .loc[row_indexer,col_indexer] = value instead\n",
      "\n",
      "See the caveats in the documentation: https://pandas.pydata.org/pandas-docs/stable/user_guide/indexing.html#returning-a-view-versus-a-copy\n",
      "  df_ROS_Analysis[['성별','우울증여부', '종양진행여부','재발여부', '수술실패여부', '흡연여부']] = df_ROS_Analysis[['성별','우울증여부', '종양진행여부','재발여부', '수술실패여부', '흡연여부']].astype(object)\n"
     ]
    }
   ],
   "source": [
    "# 성별,우울증여부, 종양진행여부, 재발여부, 척추전방위증, 수술실패여부, 흡연여부 타입 변경 \n",
    "df_ROS_Analysis[['성별','우울증여부', '종양진행여부','재발여부', '수술실패여부', '흡연여부']] = df_ROS_Analysis[['성별','우울증여부', '종양진행여부','재발여부', '수술실패여부', '흡연여부']].astype(object)"
   ]
  },
  {
   "cell_type": "code",
   "execution_count": 17,
   "id": "b5feb743-cece-4b75-996f-8352e939634a",
   "metadata": {
    "tags": []
   },
   "outputs": [
    {
     "name": "stdout",
     "output_type": "stream",
     "text": [
      "<class 'pandas.core.frame.DataFrame'>\n",
      "RangeIndex: 1758 entries, 0 to 1757\n",
      "Data columns (total 8 columns):\n",
      " #   Column  Non-Null Count  Dtype \n",
      "---  ------  --------------  ----- \n",
      " 0   입원기간    1758 non-null   int64 \n",
      " 1   성별      1758 non-null   object\n",
      " 2   우울증여부   1758 non-null   object\n",
      " 3   종양진행여부  1758 non-null   object\n",
      " 4   재발여부    1758 non-null   object\n",
      " 5   척추전방위증  1758 non-null   int64 \n",
      " 6   수술실패여부  1758 non-null   object\n",
      " 7   흡연여부    1758 non-null   object\n",
      "dtypes: int64(2), object(6)\n",
      "memory usage: 110.0+ KB\n"
     ]
    }
   ],
   "source": [
    "df_ROS_Analysis.info()"
   ]
  },
  {
   "cell_type": "code",
   "execution_count": 18,
   "id": "e4a46da0-14bc-4fb3-bcbe-42779135f4dc",
   "metadata": {
    "tags": []
   },
   "outputs": [
    {
     "data": {
      "text/html": [
       "<div>\n",
       "<style scoped>\n",
       "    .dataframe tbody tr th:only-of-type {\n",
       "        vertical-align: middle;\n",
       "    }\n",
       "\n",
       "    .dataframe tbody tr th {\n",
       "        vertical-align: top;\n",
       "    }\n",
       "\n",
       "    .dataframe thead th {\n",
       "        text-align: right;\n",
       "    }\n",
       "</style>\n",
       "<table border=\"1\" class=\"dataframe\">\n",
       "  <thead>\n",
       "    <tr style=\"text-align: right;\">\n",
       "      <th></th>\n",
       "      <th>입원기간</th>\n",
       "      <th>척추전방위증</th>\n",
       "    </tr>\n",
       "  </thead>\n",
       "  <tbody>\n",
       "    <tr>\n",
       "      <th>count</th>\n",
       "      <td>1758.000000</td>\n",
       "      <td>1758.000000</td>\n",
       "    </tr>\n",
       "    <tr>\n",
       "      <th>mean</th>\n",
       "      <td>1.651308</td>\n",
       "      <td>0.030717</td>\n",
       "    </tr>\n",
       "  </tbody>\n",
       "</table>\n",
       "</div>"
      ],
      "text/plain": [
       "              입원기간       척추전방위증\n",
       "count  1758.000000  1758.000000\n",
       "mean      1.651308     0.030717"
      ]
     },
     "execution_count": 18,
     "metadata": {},
     "output_type": "execute_result"
    }
   ],
   "source": [
    "df_ROS_Analysis.describe()[:2] # 범주형"
   ]
  },
  {
   "cell_type": "markdown",
   "id": "f74dfba5-148d-4ed9-9b04-2f7871a5ff3a",
   "metadata": {},
   "source": [
    "### 입원기간 여부 시각화 확인 "
   ]
  },
  {
   "cell_type": "code",
   "execution_count": 19,
   "id": "cee8dcb9-5b79-4f7a-8eb6-9a0671da17c8",
   "metadata": {
    "tags": []
   },
   "outputs": [
    {
     "data": {
      "text/plain": [
       "count    1758.000000\n",
       "mean        1.651308\n",
       "std         1.893471\n",
       "min         0.000000\n",
       "25%         1.000000\n",
       "50%         1.000000\n",
       "75%         2.000000\n",
       "max        46.000000\n",
       "Name: 입원기간, dtype: float64"
      ]
     },
     "execution_count": 19,
     "metadata": {},
     "output_type": "execute_result"
    }
   ],
   "source": [
    "df_ROS_Analysis['입원기간'].describe()"
   ]
  },
  {
   "cell_type": "code",
   "execution_count": 20,
   "id": "a8915211-66fb-495c-b71d-9027e51f2e35",
   "metadata": {
    "tags": []
   },
   "outputs": [
    {
     "data": {
      "text/plain": [
       "1     1082\n",
       "2      455\n",
       "3      157\n",
       "4       34\n",
       "5        6\n",
       "8        5\n",
       "0        3\n",
       "6        3\n",
       "11       3\n",
       "7        3\n",
       "46       1\n",
       "17       1\n",
       "9        1\n",
       "18       1\n",
       "16       1\n",
       "44       1\n",
       "12       1\n",
       "Name: 입원기간, dtype: int64"
      ]
     },
     "execution_count": 20,
     "metadata": {},
     "output_type": "execute_result"
    }
   ],
   "source": [
    "df_ROS_Analysis['입원기간'].value_counts()"
   ]
  },
  {
   "cell_type": "code",
   "execution_count": 21,
   "id": "35af4495-0692-44fc-81b4-d68495b877a1",
   "metadata": {
    "tags": []
   },
   "outputs": [
    {
     "data": {
      "text/plain": [
       "46"
      ]
     },
     "execution_count": 21,
     "metadata": {},
     "output_type": "execute_result"
    }
   ],
   "source": [
    "#df_ROS['입원기간'].mean() #1.7365364308342133\n",
    "#df_ROS['입원기간'].min() #0일  = 당일 퇴원 \n",
    "#df_ROS['입원기간'].median() # 입원기간의 중앙값 #1.0\n",
    "df_ROS_Analysis['입원기간'].max() # 46일"
   ]
  },
  {
   "cell_type": "code",
   "execution_count": 22,
   "id": "5dc74e28-0166-479d-ac12-f96f3273fd50",
   "metadata": {
    "tags": []
   },
   "outputs": [
    {
     "data": {
      "text/plain": [
       "<Axes: xlabel='입원기간'>"
      ]
     },
     "execution_count": 22,
     "metadata": {},
     "output_type": "execute_result"
    },
    {
     "data": {
      "image/png": "[encoded data removed]",
      "text/plain": [
       "<Figure size 640x480 with 1 Axes>"
      ]
     },
     "metadata": {},
     "output_type": "display_data"
    }
   ],
   "source": [
    "sns.boxplot(data=df_ROS_Analysis,x='입원기간')"
   ]
  },
  {
   "cell_type": "code",
   "execution_count": 23,
   "id": "4d7bb239-c142-4299-91e0-87f3189c275f",
   "metadata": {
    "tags": []
   },
   "outputs": [
    {
     "data": {
      "text/plain": [
       "<Axes: xlabel='입원기간', ylabel='count'>"
      ]
     },
     "execution_count": 23,
     "metadata": {},
     "output_type": "execute_result"
    },
    {
     "data": {
      "image/png": "[encoded data removed]",
      "text/plain": [
       "<Figure size 640x480 with 1 Axes>"
      ]
     },
     "metadata": {},
     "output_type": "display_data"
    }
   ],
   "source": [
    "sns.countplot(data=df_ROS_Analysis,x='입원기간')"
   ]
  },
  {
   "cell_type": "markdown",
   "id": "3181d154-8460-40d3-941b-57840155e00a",
   "metadata": {},
   "source": [
    "### 1.성별과 입원기간\n",
    "- 범주형"
   ]
  },
  {
   "cell_type": "code",
   "execution_count": 67,
   "id": "4b1b3169-b676-4fde-a316-df5585956477",
   "metadata": {
    "tags": []
   },
   "outputs": [
    {
     "data": {
      "text/html": [
       "<div>\n",
       "<style scoped>\n",
       "    .dataframe tbody tr th:only-of-type {\n",
       "        vertical-align: middle;\n",
       "    }\n",
       "\n",
       "    .dataframe tbody tr th {\n",
       "        vertical-align: top;\n",
       "    }\n",
       "\n",
       "    .dataframe thead th {\n",
       "        text-align: right;\n",
       "    }\n",
       "</style>\n",
       "<table border=\"1\" class=\"dataframe\">\n",
       "  <thead>\n",
       "    <tr style=\"text-align: right;\">\n",
       "      <th></th>\n",
       "      <th>입원기간</th>\n",
       "      <th>성별</th>\n",
       "    </tr>\n",
       "  </thead>\n",
       "  <tbody>\n",
       "    <tr>\n",
       "      <th>0</th>\n",
       "      <td>2</td>\n",
       "      <td>2</td>\n",
       "    </tr>\n",
       "    <tr>\n",
       "      <th>1</th>\n",
       "      <td>1</td>\n",
       "      <td>1</td>\n",
       "    </tr>\n",
       "    <tr>\n",
       "      <th>2</th>\n",
       "      <td>1</td>\n",
       "      <td>1</td>\n",
       "    </tr>\n",
       "    <tr>\n",
       "      <th>3</th>\n",
       "      <td>1</td>\n",
       "      <td>1</td>\n",
       "    </tr>\n",
       "    <tr>\n",
       "      <th>4</th>\n",
       "      <td>2</td>\n",
       "      <td>1</td>\n",
       "    </tr>\n",
       "    <tr>\n",
       "      <th>...</th>\n",
       "      <td>...</td>\n",
       "      <td>...</td>\n",
       "    </tr>\n",
       "    <tr>\n",
       "      <th>1753</th>\n",
       "      <td>12</td>\n",
       "      <td>2</td>\n",
       "    </tr>\n",
       "    <tr>\n",
       "      <th>1754</th>\n",
       "      <td>2</td>\n",
       "      <td>1</td>\n",
       "    </tr>\n",
       "    <tr>\n",
       "      <th>1755</th>\n",
       "      <td>3</td>\n",
       "      <td>1</td>\n",
       "    </tr>\n",
       "    <tr>\n",
       "      <th>1756</th>\n",
       "      <td>3</td>\n",
       "      <td>1</td>\n",
       "    </tr>\n",
       "    <tr>\n",
       "      <th>1757</th>\n",
       "      <td>3</td>\n",
       "      <td>1</td>\n",
       "    </tr>\n",
       "  </tbody>\n",
       "</table>\n",
       "<p>1758 rows × 2 columns</p>\n",
       "</div>"
      ],
      "text/plain": [
       "      입원기간 성별\n",
       "0        2  2\n",
       "1        1  1\n",
       "2        1  1\n",
       "3        1  1\n",
       "4        2  1\n",
       "...    ... ..\n",
       "1753    12  2\n",
       "1754     2  1\n",
       "1755     3  1\n",
       "1756     3  1\n",
       "1757     3  1\n",
       "\n",
       "[1758 rows x 2 columns]"
      ]
     },
     "execution_count": 67,
     "metadata": {},
     "output_type": "execute_result"
    }
   ],
   "source": [
    "df_Sex = df_ROS_Analysis[['입원기간', '성별']]\n",
    "df_Sex"
   ]
  },
  {
   "cell_type": "code",
   "execution_count": 71,
   "id": "9bf44e01-090e-48dd-a46e-7d130d793ec4",
   "metadata": {
    "tags": []
   },
   "outputs": [
    {
     "data": {
      "image/png": "[encoded data removed]",
      "text/plain": [
       "<Figure size 640x480 with 1 Axes>"
      ]
     },
     "metadata": {},
     "output_type": "display_data"
    }
   ],
   "source": [
    "# 성별에 따른 환자 분류 1(남자)/ 2(여자)\n",
    "sex_chart = sns.countplot(data=df_Sex, x='성별')"
   ]
  },
  {
   "cell_type": "code",
   "execution_count": 72,
   "id": "d4f6b57b-f931-4687-be0c-5267a1ab15c9",
   "metadata": {
    "tags": []
   },
   "outputs": [
    {
     "data": {
      "text/plain": [
       "1.6513083048919226"
      ]
     },
     "execution_count": 72,
     "metadata": {},
     "output_type": "execute_result"
    }
   ],
   "source": [
    "# 전체 환자의 입원기간 평균\n",
    "df_ROS_Analysis['입원기간'].mean()"
   ]
  },
  {
   "cell_type": "code",
   "execution_count": 73,
   "id": "e899a9c1-62b6-42ac-b60d-4447d1c88c5f",
   "metadata": {
    "tags": []
   },
   "outputs": [
    {
     "data": {
      "text/plain": [
       "성별\n",
       "1    1.605119\n",
       "2    1.727410\n",
       "Name: 입원기간, dtype: float64"
      ]
     },
     "execution_count": 73,
     "metadata": {},
     "output_type": "execute_result"
    }
   ],
   "source": [
    "# 성별여부에 따른 입원 기간 평균 비교 \n",
    "average = df_Sex.groupby('성별')['입원기간'].mean()\n",
    "average"
   ]
  },
  {
   "cell_type": "markdown",
   "id": "3dd5e192-81ae-4985-a21c-3482be330961",
   "metadata": {},
   "source": [
    "### 2.우울증(depression)여부와 입원기간\n",
    "- 범주형"
   ]
  },
  {
   "cell_type": "code",
   "execution_count": 44,
   "id": "d54668c8-f978-419e-a741-ccf4f5a92ffb",
   "metadata": {
    "tags": []
   },
   "outputs": [
    {
     "data": {
      "text/html": [
       "<div>\n",
       "<style scoped>\n",
       "    .dataframe tbody tr th:only-of-type {\n",
       "        vertical-align: middle;\n",
       "    }\n",
       "\n",
       "    .dataframe tbody tr th {\n",
       "        vertical-align: top;\n",
       "    }\n",
       "\n",
       "    .dataframe thead th {\n",
       "        text-align: right;\n",
       "    }\n",
       "</style>\n",
       "<table border=\"1\" class=\"dataframe\">\n",
       "  <thead>\n",
       "    <tr style=\"text-align: right;\">\n",
       "      <th></th>\n",
       "      <th>입원기간</th>\n",
       "      <th>우울증여부</th>\n",
       "    </tr>\n",
       "  </thead>\n",
       "  <tbody>\n",
       "    <tr>\n",
       "      <th>0</th>\n",
       "      <td>2</td>\n",
       "      <td>0</td>\n",
       "    </tr>\n",
       "    <tr>\n",
       "      <th>1</th>\n",
       "      <td>1</td>\n",
       "      <td>0</td>\n",
       "    </tr>\n",
       "    <tr>\n",
       "      <th>2</th>\n",
       "      <td>1</td>\n",
       "      <td>0</td>\n",
       "    </tr>\n",
       "    <tr>\n",
       "      <th>3</th>\n",
       "      <td>1</td>\n",
       "      <td>0</td>\n",
       "    </tr>\n",
       "    <tr>\n",
       "      <th>4</th>\n",
       "      <td>2</td>\n",
       "      <td>0</td>\n",
       "    </tr>\n",
       "    <tr>\n",
       "      <th>...</th>\n",
       "      <td>...</td>\n",
       "      <td>...</td>\n",
       "    </tr>\n",
       "    <tr>\n",
       "      <th>1753</th>\n",
       "      <td>12</td>\n",
       "      <td>0</td>\n",
       "    </tr>\n",
       "    <tr>\n",
       "      <th>1754</th>\n",
       "      <td>2</td>\n",
       "      <td>0</td>\n",
       "    </tr>\n",
       "    <tr>\n",
       "      <th>1755</th>\n",
       "      <td>3</td>\n",
       "      <td>0</td>\n",
       "    </tr>\n",
       "    <tr>\n",
       "      <th>1756</th>\n",
       "      <td>3</td>\n",
       "      <td>0</td>\n",
       "    </tr>\n",
       "    <tr>\n",
       "      <th>1757</th>\n",
       "      <td>3</td>\n",
       "      <td>0</td>\n",
       "    </tr>\n",
       "  </tbody>\n",
       "</table>\n",
       "<p>1758 rows × 2 columns</p>\n",
       "</div>"
      ],
      "text/plain": [
       "      입원기간 우울증여부\n",
       "0        2     0\n",
       "1        1     0\n",
       "2        1     0\n",
       "3        1     0\n",
       "4        2     0\n",
       "...    ...   ...\n",
       "1753    12     0\n",
       "1754     2     0\n",
       "1755     3     0\n",
       "1756     3     0\n",
       "1757     3     0\n",
       "\n",
       "[1758 rows x 2 columns]"
      ]
     },
     "execution_count": 44,
     "metadata": {},
     "output_type": "execute_result"
    }
   ],
   "source": [
    "df_depr = df_ROS_Analysis[['입원기간', '우울증여부']]\n",
    "df_depr"
   ]
  },
  {
   "cell_type": "code",
   "execution_count": 45,
   "id": "96806212-b32e-4643-9ad0-ab8c12d2350f",
   "metadata": {
    "tags": []
   },
   "outputs": [
    {
     "data": {
      "image/png": "[encoded data removed]",
      "text/plain": [
       "<Figure size 640x480 with 1 Axes>"
      ]
     },
     "metadata": {},
     "output_type": "display_data"
    }
   ],
   "source": [
    "# 우울증여부에 따른 환자 분류\n",
    "depression_chart = sns.countplot(data=df_depr, x='우울증여부')"
   ]
  },
  {
   "cell_type": "code",
   "execution_count": 46,
   "id": "228eb7d1-96eb-491a-94dd-4dcb1bf7c140",
   "metadata": {
    "tags": []
   },
   "outputs": [
    {
     "data": {
      "text/plain": [
       "우울증여부\n",
       "0    1.655977\n",
       "1    1.476190\n",
       "2    1.000000\n",
       "Name: 입원기간, dtype: float64"
      ]
     },
     "execution_count": 46,
     "metadata": {},
     "output_type": "execute_result"
    }
   ],
   "source": [
    "# 우울증여부에 따른 입원 기간 평균 비교  0(우울증 없음) VS 1(우울증 있음) \n",
    "average = df_depr.groupby('우울증여부')['입원기간'].mean()\n",
    "average"
   ]
  },
  {
   "cell_type": "markdown",
   "id": "b973e23b-0564-4ba5-acd7-2b15c971704f",
   "metadata": {},
   "source": [
    "#### 3. 종양진행여부 입원기간\n",
    "- 범주형"
   ]
  },
  {
   "cell_type": "code",
   "execution_count": 47,
   "id": "e39d5c85-d16d-4c3e-a722-2ecdbe823bb0",
   "metadata": {
    "tags": []
   },
   "outputs": [
    {
     "data": {
      "text/html": [
       "<div>\n",
       "<style scoped>\n",
       "    .dataframe tbody tr th:only-of-type {\n",
       "        vertical-align: middle;\n",
       "    }\n",
       "\n",
       "    .dataframe tbody tr th {\n",
       "        vertical-align: top;\n",
       "    }\n",
       "\n",
       "    .dataframe thead th {\n",
       "        text-align: right;\n",
       "    }\n",
       "</style>\n",
       "<table border=\"1\" class=\"dataframe\">\n",
       "  <thead>\n",
       "    <tr style=\"text-align: right;\">\n",
       "      <th></th>\n",
       "      <th>종양진행여부</th>\n",
       "      <th>입원기간</th>\n",
       "    </tr>\n",
       "  </thead>\n",
       "  <tbody>\n",
       "    <tr>\n",
       "      <th>0</th>\n",
       "      <td>0</td>\n",
       "      <td>2</td>\n",
       "    </tr>\n",
       "    <tr>\n",
       "      <th>1</th>\n",
       "      <td>0</td>\n",
       "      <td>1</td>\n",
       "    </tr>\n",
       "    <tr>\n",
       "      <th>2</th>\n",
       "      <td>0</td>\n",
       "      <td>1</td>\n",
       "    </tr>\n",
       "    <tr>\n",
       "      <th>3</th>\n",
       "      <td>0</td>\n",
       "      <td>1</td>\n",
       "    </tr>\n",
       "    <tr>\n",
       "      <th>4</th>\n",
       "      <td>0</td>\n",
       "      <td>2</td>\n",
       "    </tr>\n",
       "    <tr>\n",
       "      <th>...</th>\n",
       "      <td>...</td>\n",
       "      <td>...</td>\n",
       "    </tr>\n",
       "    <tr>\n",
       "      <th>1753</th>\n",
       "      <td>0</td>\n",
       "      <td>12</td>\n",
       "    </tr>\n",
       "    <tr>\n",
       "      <th>1754</th>\n",
       "      <td>0</td>\n",
       "      <td>2</td>\n",
       "    </tr>\n",
       "    <tr>\n",
       "      <th>1755</th>\n",
       "      <td>0</td>\n",
       "      <td>3</td>\n",
       "    </tr>\n",
       "    <tr>\n",
       "      <th>1756</th>\n",
       "      <td>0</td>\n",
       "      <td>3</td>\n",
       "    </tr>\n",
       "    <tr>\n",
       "      <th>1757</th>\n",
       "      <td>0</td>\n",
       "      <td>3</td>\n",
       "    </tr>\n",
       "  </tbody>\n",
       "</table>\n",
       "<p>1758 rows × 2 columns</p>\n",
       "</div>"
      ],
      "text/plain": [
       "     종양진행여부  입원기간\n",
       "0         0     2\n",
       "1         0     1\n",
       "2         0     1\n",
       "3         0     1\n",
       "4         0     2\n",
       "...     ...   ...\n",
       "1753      0    12\n",
       "1754      0     2\n",
       "1755      0     3\n",
       "1756      0     3\n",
       "1757      0     3\n",
       "\n",
       "[1758 rows x 2 columns]"
      ]
     },
     "execution_count": 47,
     "metadata": {},
     "output_type": "execute_result"
    }
   ],
   "source": [
    "df_tumor = df_ROS_Analysis[['종양진행여부', '입원기간']]\n",
    "df_tumor"
   ]
  },
  {
   "cell_type": "code",
   "execution_count": 50,
   "id": "6246e161-3e3b-4635-b71d-4a742d214144",
   "metadata": {
    "tags": []
   },
   "outputs": [
    {
     "data": {
      "image/png": "[encoded data removed]",
      "text/plain": [
       "<Figure size 640x480 with 1 Axes>"
      ]
     },
     "metadata": {},
     "output_type": "display_data"
    }
   ],
   "source": [
    "# 종양진행여부에  따른 환자 분류\n",
    "tumor_chart = sns.countplot(data=df_tumor , x='종양진행여부')"
   ]
  },
  {
   "cell_type": "code",
   "execution_count": 51,
   "id": "3d4b1958-99be-4dfa-83c0-75310f7c4895",
   "metadata": {
    "tags": []
   },
   "outputs": [
    {
     "data": {
      "text/plain": [
       "종양진행여부\n",
       "0    1.650314\n",
       "1    2.000000\n",
       "Name: 입원기간, dtype: float64"
      ]
     },
     "execution_count": 51,
     "metadata": {},
     "output_type": "execute_result"
    }
   ],
   "source": [
    "# 종양진행여부에 따른 입원 기간 평균 비교\n",
    "tumor_average = df_tumor.groupby('종양진행여부')['입원기간'].mean()\n",
    "tumor_average"
   ]
  },
  {
   "cell_type": "markdown",
   "id": "3af53297-b307-4250-994d-84faef316461",
   "metadata": {},
   "source": [
    "#### 4. 재발(recurrence)여부와 입원기간\n",
    "- 범주형"
   ]
  },
  {
   "cell_type": "code",
   "execution_count": 52,
   "id": "97cdc783-10cb-429f-b277-435f9dec50b9",
   "metadata": {
    "tags": []
   },
   "outputs": [
    {
     "data": {
      "text/html": [
       "<div>\n",
       "<style scoped>\n",
       "    .dataframe tbody tr th:only-of-type {\n",
       "        vertical-align: middle;\n",
       "    }\n",
       "\n",
       "    .dataframe tbody tr th {\n",
       "        vertical-align: top;\n",
       "    }\n",
       "\n",
       "    .dataframe thead th {\n",
       "        text-align: right;\n",
       "    }\n",
       "</style>\n",
       "<table border=\"1\" class=\"dataframe\">\n",
       "  <thead>\n",
       "    <tr style=\"text-align: right;\">\n",
       "      <th></th>\n",
       "      <th>재발여부</th>\n",
       "      <th>입원기간</th>\n",
       "    </tr>\n",
       "  </thead>\n",
       "  <tbody>\n",
       "    <tr>\n",
       "      <th>0</th>\n",
       "      <td>0</td>\n",
       "      <td>2</td>\n",
       "    </tr>\n",
       "    <tr>\n",
       "      <th>1</th>\n",
       "      <td>0</td>\n",
       "      <td>1</td>\n",
       "    </tr>\n",
       "    <tr>\n",
       "      <th>2</th>\n",
       "      <td>0</td>\n",
       "      <td>1</td>\n",
       "    </tr>\n",
       "    <tr>\n",
       "      <th>3</th>\n",
       "      <td>0</td>\n",
       "      <td>1</td>\n",
       "    </tr>\n",
       "    <tr>\n",
       "      <th>4</th>\n",
       "      <td>0</td>\n",
       "      <td>2</td>\n",
       "    </tr>\n",
       "    <tr>\n",
       "      <th>...</th>\n",
       "      <td>...</td>\n",
       "      <td>...</td>\n",
       "    </tr>\n",
       "    <tr>\n",
       "      <th>1753</th>\n",
       "      <td>0</td>\n",
       "      <td>12</td>\n",
       "    </tr>\n",
       "    <tr>\n",
       "      <th>1754</th>\n",
       "      <td>0</td>\n",
       "      <td>2</td>\n",
       "    </tr>\n",
       "    <tr>\n",
       "      <th>1755</th>\n",
       "      <td>0</td>\n",
       "      <td>3</td>\n",
       "    </tr>\n",
       "    <tr>\n",
       "      <th>1756</th>\n",
       "      <td>0</td>\n",
       "      <td>3</td>\n",
       "    </tr>\n",
       "    <tr>\n",
       "      <th>1757</th>\n",
       "      <td>0</td>\n",
       "      <td>3</td>\n",
       "    </tr>\n",
       "  </tbody>\n",
       "</table>\n",
       "<p>1758 rows × 2 columns</p>\n",
       "</div>"
      ],
      "text/plain": [
       "     재발여부  입원기간\n",
       "0       0     2\n",
       "1       0     1\n",
       "2       0     1\n",
       "3       0     1\n",
       "4       0     2\n",
       "...   ...   ...\n",
       "1753    0    12\n",
       "1754    0     2\n",
       "1755    0     3\n",
       "1756    0     3\n",
       "1757    0     3\n",
       "\n",
       "[1758 rows x 2 columns]"
      ]
     },
     "execution_count": 52,
     "metadata": {},
     "output_type": "execute_result"
    }
   ],
   "source": [
    "df_rec = df_ROS_Analysis[['재발여부', '입원기간']]\n",
    "df_rec"
   ]
  },
  {
   "cell_type": "code",
   "execution_count": 53,
   "id": "7d6a95c5-83fa-40ae-9732-9a495d5cc98d",
   "metadata": {
    "tags": []
   },
   "outputs": [
    {
     "data": {
      "image/png": "[encoded data removed]",
      "text/plain": [
       "<Figure size 640x480 with 1 Axes>"
      ]
     },
     "metadata": {},
     "output_type": "display_data"
    }
   ],
   "source": [
    "recurrence_chart = sns.countplot(data=df_rec, x='재발여부')"
   ]
  },
  {
   "cell_type": "code",
   "execution_count": 54,
   "id": "51f4fb9f-b3d5-4ecf-8611-e215c244846a",
   "metadata": {
    "tags": []
   },
   "outputs": [
    {
     "data": {
      "text/plain": [
       "재발여부\n",
       "0    1.666238\n",
       "1    1.536946\n",
       "Name: 입원기간, dtype: float64"
      ]
     },
     "execution_count": 54,
     "metadata": {},
     "output_type": "execute_result"
    }
   ],
   "source": [
    "# 재발여부 따른 평균 입원기간 \n",
    "recurrence_average = df_rec.groupby('재발여부')['입원기간'].mean()\n",
    "recurrence_average"
   ]
  },
  {
   "cell_type": "markdown",
   "id": "4596d89d-bd5b-4791-80fe-d01c915a7f00",
   "metadata": {
    "tags": []
   },
   "source": [
    "### 5. 척추전방위증(spondylolisthesis) 입원기간\n",
    "- 범주형"
   ]
  },
  {
   "cell_type": "code",
   "execution_count": 56,
   "id": "7de17f3e-ed42-4de4-b890-ad4e35dbb9a1",
   "metadata": {
    "tags": []
   },
   "outputs": [
    {
     "name": "stdout",
     "output_type": "stream",
     "text": [
      "<class 'pandas.core.frame.DataFrame'>\n",
      "RangeIndex: 1758 entries, 0 to 1757\n",
      "Data columns (total 2 columns):\n",
      " #   Column  Non-Null Count  Dtype\n",
      "---  ------  --------------  -----\n",
      " 0   척추전방위증  1758 non-null   int64\n",
      " 1   입원기간    1758 non-null   int64\n",
      "dtypes: int64(2)\n",
      "memory usage: 27.6 KB\n"
     ]
    }
   ],
   "source": [
    "df_spo = df_ROS_Analysis[['척추전방위증', '입원기간']]\n",
    "df_spo.info()"
   ]
  },
  {
   "cell_type": "code",
   "execution_count": 57,
   "id": "1643b79b-48e1-48e2-8410-da592c748ffb",
   "metadata": {
    "tags": []
   },
   "outputs": [
    {
     "data": {
      "image/png": "[encoded data removed]",
      "text/plain": [
       "<Figure size 640x480 with 1 Axes>"
      ]
     },
     "metadata": {},
     "output_type": "display_data"
    }
   ],
   "source": [
    "# 심혈관질환 따른 환자 분류\n",
    "spo_chart = sns.countplot(data=df_spo, x='척추전방위증')\n"
   ]
  },
  {
   "cell_type": "code",
   "execution_count": 58,
   "id": "26fbf172-66a9-498f-af47-21fc24422019",
   "metadata": {
    "tags": []
   },
   "outputs": [
    {
     "data": {
      "text/plain": [
       "척추전방위증\n",
       "0    1.649061\n",
       "1    1.722222\n",
       "Name: 입원기간, dtype: float64"
      ]
     },
     "execution_count": 58,
     "metadata": {},
     "output_type": "execute_result"
    }
   ],
   "source": [
    "# 척추전방위증 여부에 따른 환자 입원기간 평균\n",
    "spo_average = df_spo.groupby('척추전방위증')['입원기간'].mean()\n",
    "spo_average"
   ]
  },
  {
   "cell_type": "markdown",
   "id": "a38af7d9-d0d0-4a56-a9ad-a32fcbfb2329",
   "metadata": {},
   "source": [
    "### 6. 수술실패(operation failure)여부와 입원기간\n",
    "- 범주형"
   ]
  },
  {
   "cell_type": "code",
   "execution_count": 59,
   "id": "4ac2c629-b43f-4857-9b91-733b61de1a04",
   "metadata": {
    "tags": []
   },
   "outputs": [
    {
     "name": "stdout",
     "output_type": "stream",
     "text": [
      "<class 'pandas.core.frame.DataFrame'>\n",
      "RangeIndex: 1758 entries, 0 to 1757\n",
      "Data columns (total 2 columns):\n",
      " #   Column  Non-Null Count  Dtype \n",
      "---  ------  --------------  ----- \n",
      " 0   수술실패여부  1758 non-null   object\n",
      " 1   입원기간    1758 non-null   int64 \n",
      "dtypes: int64(1), object(1)\n",
      "memory usage: 27.6+ KB\n"
     ]
    }
   ],
   "source": [
    "df_Of = df_ROS_Analysis[['수술실패여부', '입원기간']]\n",
    "df_Of.info()"
   ]
  },
  {
   "cell_type": "code",
   "execution_count": 60,
   "id": "41533b30-7f85-43b7-8261-fbb3916f8066",
   "metadata": {
    "tags": []
   },
   "outputs": [
    {
     "data": {
      "image/png": "[encoded data removed]",
      "text/plain": [
       "<Figure size 640x480 with 1 Axes>"
      ]
     },
     "metadata": {},
     "output_type": "display_data"
    }
   ],
   "source": [
    "# 스테로이드치료 여부에 따른 환자 분류\n",
    "operation_chart = sns.countplot(data=df_Of, x='수술실패여부')"
   ]
  },
  {
   "cell_type": "code",
   "execution_count": 61,
   "id": "5772e90f-0984-41f4-9186-056f6b5326b8",
   "metadata": {
    "tags": []
   },
   "outputs": [
    {
     "data": {
      "text/plain": [
       "수술실패여부\n",
       "0    1.647879\n",
       "1    1.703704\n",
       "Name: 입원기간, dtype: float64"
      ]
     },
     "execution_count": 61,
     "metadata": {},
     "output_type": "execute_result"
    }
   ],
   "source": [
    "# 수술실패 여부에 따른 입원 기간 평균 비교\n",
    "average = df_Of.groupby('수술실패여부')['입원기간'].mean()\n",
    "average"
   ]
  },
  {
   "cell_type": "markdown",
   "id": "58ab5f11-2a31-47ee-82bf-75dcdec10d3e",
   "metadata": {
    "tags": []
   },
   "source": [
    "### 6. 흡연여부(smoking) 입원기간\n",
    "- 범주형"
   ]
  },
  {
   "cell_type": "code",
   "execution_count": 64,
   "id": "aaf4dd33-7848-455e-9ef8-66d23e68e1e2",
   "metadata": {
    "tags": []
   },
   "outputs": [
    {
     "data": {
      "text/html": [
       "<div>\n",
       "<style scoped>\n",
       "    .dataframe tbody tr th:only-of-type {\n",
       "        vertical-align: middle;\n",
       "    }\n",
       "\n",
       "    .dataframe tbody tr th {\n",
       "        vertical-align: top;\n",
       "    }\n",
       "\n",
       "    .dataframe thead th {\n",
       "        text-align: right;\n",
       "    }\n",
       "</style>\n",
       "<table border=\"1\" class=\"dataframe\">\n",
       "  <thead>\n",
       "    <tr style=\"text-align: right;\">\n",
       "      <th></th>\n",
       "      <th>입원기간</th>\n",
       "      <th>흡연여부</th>\n",
       "    </tr>\n",
       "  </thead>\n",
       "  <tbody>\n",
       "    <tr>\n",
       "      <th>0</th>\n",
       "      <td>2</td>\n",
       "      <td>0</td>\n",
       "    </tr>\n",
       "    <tr>\n",
       "      <th>1</th>\n",
       "      <td>1</td>\n",
       "      <td>0</td>\n",
       "    </tr>\n",
       "    <tr>\n",
       "      <th>2</th>\n",
       "      <td>1</td>\n",
       "      <td>0</td>\n",
       "    </tr>\n",
       "    <tr>\n",
       "      <th>3</th>\n",
       "      <td>1</td>\n",
       "      <td>0</td>\n",
       "    </tr>\n",
       "    <tr>\n",
       "      <th>4</th>\n",
       "      <td>2</td>\n",
       "      <td>0</td>\n",
       "    </tr>\n",
       "    <tr>\n",
       "      <th>...</th>\n",
       "      <td>...</td>\n",
       "      <td>...</td>\n",
       "    </tr>\n",
       "    <tr>\n",
       "      <th>1753</th>\n",
       "      <td>12</td>\n",
       "      <td>0</td>\n",
       "    </tr>\n",
       "    <tr>\n",
       "      <th>1754</th>\n",
       "      <td>2</td>\n",
       "      <td>1</td>\n",
       "    </tr>\n",
       "    <tr>\n",
       "      <th>1755</th>\n",
       "      <td>3</td>\n",
       "      <td>1</td>\n",
       "    </tr>\n",
       "    <tr>\n",
       "      <th>1756</th>\n",
       "      <td>3</td>\n",
       "      <td>0</td>\n",
       "    </tr>\n",
       "    <tr>\n",
       "      <th>1757</th>\n",
       "      <td>3</td>\n",
       "      <td>0</td>\n",
       "    </tr>\n",
       "  </tbody>\n",
       "</table>\n",
       "<p>1758 rows × 2 columns</p>\n",
       "</div>"
      ],
      "text/plain": [
       "      입원기간 흡연여부\n",
       "0        2    0\n",
       "1        1    0\n",
       "2        1    0\n",
       "3        1    0\n",
       "4        2    0\n",
       "...    ...  ...\n",
       "1753    12    0\n",
       "1754     2    1\n",
       "1755     3    1\n",
       "1756     3    0\n",
       "1757     3    0\n",
       "\n",
       "[1758 rows x 2 columns]"
      ]
     },
     "execution_count": 64,
     "metadata": {},
     "output_type": "execute_result"
    }
   ],
   "source": [
    "df_Smo= df_ROS_Analysis[['입원기간', '흡연여부']]\n",
    "df_Smo"
   ]
  },
  {
   "cell_type": "code",
   "execution_count": 65,
   "id": "442abb20-b1ce-40dd-b97d-51890ea52d69",
   "metadata": {
    "tags": []
   },
   "outputs": [
    {
     "data": {
      "image/png": "[encoded data removed]",
      "text/plain": [
       "<Figure size 640x480 with 1 Axes>"
      ]
     },
     "metadata": {},
     "output_type": "display_data"
    }
   ],
   "source": [
    "# 흡연 여부에 따른 환자 분류\n",
    "smoking_chart = sns.countplot(data=df_Smo, x='흡연여부')"
   ]
  },
  {
   "cell_type": "code",
   "execution_count": 66,
   "id": "18699cd0-06ef-4f07-92f6-455e468f6e7b",
   "metadata": {
    "tags": []
   },
   "outputs": [
    {
     "data": {
      "text/plain": [
       "흡연여부\n",
       "0    1.635507\n",
       "1    1.708995\n",
       "Name: 입원기간, dtype: float64"
      ]
     },
     "execution_count": 66,
     "metadata": {},
     "output_type": "execute_result"
    }
   ],
   "source": [
    "# 흡연 여부에 따른 입원 기간 평균 비교\n",
    "average = df_Smo.groupby('흡연여부')['입원기간'].mean()\n",
    "average"
   ]
  }
 ],
 "metadata": {
  "kernelspec": {
   "display_name": "Python 3 (ipykernel)",
   "language": "python",
   "name": "python3"
  },
  "language_info": {
   "codemirror_mode": {
    "name": "ipython",
    "version": 3
   },
   "file_extension": ".py",
   "mimetype": "text/x-python",
   "name": "python",
   "nbconvert_exporter": "python",
   "pygments_lexer": "ipython3",
   "version": "3.11.3"
  }
 },
 "nbformat": 4,
 "nbformat_minor": 5
}
