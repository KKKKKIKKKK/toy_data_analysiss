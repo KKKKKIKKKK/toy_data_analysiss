{
 "cells": [
  {
   "cell_type": "code",
   "execution_count": 1,
   "id": "10e95dff-5b0f-4e67-a6b5-858cfe0f0449",
   "metadata": {
    "tags": []
   },
   "outputs": [],
   "source": [
    "import matplotlib.pyplot as plt\n",
    "import matplotlib as mpl\n",
    "mpl.rc('font',family='Malgun Gothic')\n",
    "import seaborn as sns\n",
    "import pandas as pd\n",
    "import scipy.stats as stats\n",
    "import numpy as np"
   ]
  },
  {
   "cell_type": "code",
   "execution_count": 4,
   "id": "cff7ca21-9f1c-42c2-98de-2d073a986572",
   "metadata": {
    "tags": []
   },
   "outputs": [
    {
     "data": {
      "text/html": [
       "<div>\n",
       "<style scoped>\n",
       "    .dataframe tbody tr th:only-of-type {\n",
       "        vertical-align: middle;\n",
       "    }\n",
       "\n",
       "    .dataframe tbody tr th {\n",
       "        vertical-align: top;\n",
       "    }\n",
       "\n",
       "    .dataframe thead th {\n",
       "        text-align: right;\n",
       "    }\n",
       "</style>\n",
       "<table border=\"1\" class=\"dataframe\">\n",
       "  <thead>\n",
       "    <tr style=\"text-align: right;\">\n",
       "      <th></th>\n",
       "      <th>Unnamed: 0</th>\n",
       "      <th>환자ID</th>\n",
       "      <th>연령</th>\n",
       "      <th>성별</th>\n",
       "      <th>Large Lymphocyte</th>\n",
       "      <th>우울증여부</th>\n",
       "      <th>종양진행여부</th>\n",
       "      <th>재발여부</th>\n",
       "      <th>디스크단면적</th>\n",
       "      <th>디스크위치</th>\n",
       "      <th>척추이동척도</th>\n",
       "      <th>척추전방위증</th>\n",
       "      <th>수술시간</th>\n",
       "      <th>수술실패여부</th>\n",
       "      <th>수술기법</th>\n",
       "      <th>흡연여부</th>\n",
       "      <th>Instability</th>\n",
       "      <th>혈액형</th>\n",
       "    </tr>\n",
       "  </thead>\n",
       "  <tbody>\n",
       "    <tr>\n",
       "      <th>0</th>\n",
       "      <td>0</td>\n",
       "      <td>1PT</td>\n",
       "      <td>66</td>\n",
       "      <td>2</td>\n",
       "      <td>22.8</td>\n",
       "      <td>0</td>\n",
       "      <td>0</td>\n",
       "      <td>0</td>\n",
       "      <td>2048.50</td>\n",
       "      <td>4</td>\n",
       "      <td>Down</td>\n",
       "      <td>0</td>\n",
       "      <td>68.0</td>\n",
       "      <td>0</td>\n",
       "      <td>TELD</td>\n",
       "      <td>0</td>\n",
       "      <td>0</td>\n",
       "      <td>RH+A</td>\n",
       "    </tr>\n",
       "    <tr>\n",
       "      <th>1</th>\n",
       "      <td>1</td>\n",
       "      <td>2PT</td>\n",
       "      <td>47</td>\n",
       "      <td>1</td>\n",
       "      <td>44.9</td>\n",
       "      <td>0</td>\n",
       "      <td>0</td>\n",
       "      <td>0</td>\n",
       "      <td>1753.10</td>\n",
       "      <td>4</td>\n",
       "      <td>Up</td>\n",
       "      <td>0</td>\n",
       "      <td>31.0</td>\n",
       "      <td>0</td>\n",
       "      <td>TELD</td>\n",
       "      <td>0</td>\n",
       "      <td>0</td>\n",
       "      <td>RH+A</td>\n",
       "    </tr>\n",
       "    <tr>\n",
       "      <th>2</th>\n",
       "      <td>2</td>\n",
       "      <td>3PT</td>\n",
       "      <td>39</td>\n",
       "      <td>1</td>\n",
       "      <td>53.0</td>\n",
       "      <td>0</td>\n",
       "      <td>0</td>\n",
       "      <td>0</td>\n",
       "      <td>1749.00</td>\n",
       "      <td>4</td>\n",
       "      <td>Down</td>\n",
       "      <td>0</td>\n",
       "      <td>78.0</td>\n",
       "      <td>0</td>\n",
       "      <td>TELD</td>\n",
       "      <td>0</td>\n",
       "      <td>0</td>\n",
       "      <td>RH+B</td>\n",
       "    </tr>\n",
       "    <tr>\n",
       "      <th>3</th>\n",
       "      <td>3</td>\n",
       "      <td>4PT</td>\n",
       "      <td>40</td>\n",
       "      <td>1</td>\n",
       "      <td>54.7</td>\n",
       "      <td>0</td>\n",
       "      <td>0</td>\n",
       "      <td>0</td>\n",
       "      <td>1796.20</td>\n",
       "      <td>4</td>\n",
       "      <td>Down</td>\n",
       "      <td>0</td>\n",
       "      <td>73.0</td>\n",
       "      <td>0</td>\n",
       "      <td>TELD</td>\n",
       "      <td>0</td>\n",
       "      <td>0</td>\n",
       "      <td>RH+O</td>\n",
       "    </tr>\n",
       "    <tr>\n",
       "      <th>4</th>\n",
       "      <td>4</td>\n",
       "      <td>5PT</td>\n",
       "      <td>42</td>\n",
       "      <td>1</td>\n",
       "      <td>53.8</td>\n",
       "      <td>0</td>\n",
       "      <td>0</td>\n",
       "      <td>0</td>\n",
       "      <td>2021.48</td>\n",
       "      <td>4</td>\n",
       "      <td>Up</td>\n",
       "      <td>0</td>\n",
       "      <td>29.0</td>\n",
       "      <td>0</td>\n",
       "      <td>TELD</td>\n",
       "      <td>0</td>\n",
       "      <td>0</td>\n",
       "      <td>RH+A</td>\n",
       "    </tr>\n",
       "    <tr>\n",
       "      <th>...</th>\n",
       "      <td>...</td>\n",
       "      <td>...</td>\n",
       "      <td>...</td>\n",
       "      <td>...</td>\n",
       "      <td>...</td>\n",
       "      <td>...</td>\n",
       "      <td>...</td>\n",
       "      <td>...</td>\n",
       "      <td>...</td>\n",
       "      <td>...</td>\n",
       "      <td>...</td>\n",
       "      <td>...</td>\n",
       "      <td>...</td>\n",
       "      <td>...</td>\n",
       "      <td>...</td>\n",
       "      <td>...</td>\n",
       "      <td>...</td>\n",
       "      <td>...</td>\n",
       "    </tr>\n",
       "    <tr>\n",
       "      <th>1753</th>\n",
       "      <td>1870</td>\n",
       "      <td>1871PT</td>\n",
       "      <td>29</td>\n",
       "      <td>2</td>\n",
       "      <td>32.4</td>\n",
       "      <td>0</td>\n",
       "      <td>0</td>\n",
       "      <td>0</td>\n",
       "      <td>1813.00</td>\n",
       "      <td>4</td>\n",
       "      <td>Middle</td>\n",
       "      <td>0</td>\n",
       "      <td>35.0</td>\n",
       "      <td>0</td>\n",
       "      <td>TELD</td>\n",
       "      <td>0</td>\n",
       "      <td>0</td>\n",
       "      <td>RH+O</td>\n",
       "    </tr>\n",
       "    <tr>\n",
       "      <th>1754</th>\n",
       "      <td>1872</td>\n",
       "      <td>1873PT</td>\n",
       "      <td>21</td>\n",
       "      <td>1</td>\n",
       "      <td>42.4</td>\n",
       "      <td>0</td>\n",
       "      <td>0</td>\n",
       "      <td>0</td>\n",
       "      <td>2167.60</td>\n",
       "      <td>4</td>\n",
       "      <td>Down</td>\n",
       "      <td>0</td>\n",
       "      <td>60.0</td>\n",
       "      <td>0</td>\n",
       "      <td>TELD</td>\n",
       "      <td>1</td>\n",
       "      <td>0</td>\n",
       "      <td>RH+A</td>\n",
       "    </tr>\n",
       "    <tr>\n",
       "      <th>1755</th>\n",
       "      <td>1874</td>\n",
       "      <td>1875PT</td>\n",
       "      <td>43</td>\n",
       "      <td>1</td>\n",
       "      <td>30.8</td>\n",
       "      <td>0</td>\n",
       "      <td>0</td>\n",
       "      <td>0</td>\n",
       "      <td>2250.80</td>\n",
       "      <td>4</td>\n",
       "      <td>Middle</td>\n",
       "      <td>0</td>\n",
       "      <td>70.0</td>\n",
       "      <td>0</td>\n",
       "      <td>TELD</td>\n",
       "      <td>1</td>\n",
       "      <td>1</td>\n",
       "      <td>RH+B</td>\n",
       "    </tr>\n",
       "    <tr>\n",
       "      <th>1756</th>\n",
       "      <td>1879</td>\n",
       "      <td>1880PT</td>\n",
       "      <td>20</td>\n",
       "      <td>1</td>\n",
       "      <td>5.4</td>\n",
       "      <td>0</td>\n",
       "      <td>0</td>\n",
       "      <td>0</td>\n",
       "      <td>2258.80</td>\n",
       "      <td>4</td>\n",
       "      <td>Down</td>\n",
       "      <td>0</td>\n",
       "      <td>45.0</td>\n",
       "      <td>0</td>\n",
       "      <td>TELD</td>\n",
       "      <td>0</td>\n",
       "      <td>0</td>\n",
       "      <td>RH+B</td>\n",
       "    </tr>\n",
       "    <tr>\n",
       "      <th>1757</th>\n",
       "      <td>1891</td>\n",
       "      <td>1892PT</td>\n",
       "      <td>61</td>\n",
       "      <td>1</td>\n",
       "      <td>36.7</td>\n",
       "      <td>0</td>\n",
       "      <td>0</td>\n",
       "      <td>0</td>\n",
       "      <td>2624.40</td>\n",
       "      <td>4</td>\n",
       "      <td>Down</td>\n",
       "      <td>0</td>\n",
       "      <td>50.0</td>\n",
       "      <td>0</td>\n",
       "      <td>IELD</td>\n",
       "      <td>0</td>\n",
       "      <td>0</td>\n",
       "      <td>RH+O</td>\n",
       "    </tr>\n",
       "  </tbody>\n",
       "</table>\n",
       "<p>1758 rows × 18 columns</p>\n",
       "</div>"
      ],
      "text/plain": [
       "      Unnamed: 0    환자ID  연령  성별  Large Lymphocyte  우울증여부  종양진행여부  재발여부  \\\n",
       "0              0     1PT  66   2              22.8      0       0     0   \n",
       "1              1     2PT  47   1              44.9      0       0     0   \n",
       "2              2     3PT  39   1              53.0      0       0     0   \n",
       "3              3     4PT  40   1              54.7      0       0     0   \n",
       "4              4     5PT  42   1              53.8      0       0     0   \n",
       "...          ...     ...  ..  ..               ...    ...     ...   ...   \n",
       "1753        1870  1871PT  29   2              32.4      0       0     0   \n",
       "1754        1872  1873PT  21   1              42.4      0       0     0   \n",
       "1755        1874  1875PT  43   1              30.8      0       0     0   \n",
       "1756        1879  1880PT  20   1               5.4      0       0     0   \n",
       "1757        1891  1892PT  61   1              36.7      0       0     0   \n",
       "\n",
       "       디스크단면적  디스크위치  척추이동척도  척추전방위증  수술시간  수술실패여부  수술기법  흡연여부  Instability  \\\n",
       "0     2048.50      4    Down       0  68.0       0  TELD     0            0   \n",
       "1     1753.10      4      Up       0  31.0       0  TELD     0            0   \n",
       "2     1749.00      4    Down       0  78.0       0  TELD     0            0   \n",
       "3     1796.20      4    Down       0  73.0       0  TELD     0            0   \n",
       "4     2021.48      4      Up       0  29.0       0  TELD     0            0   \n",
       "...       ...    ...     ...     ...   ...     ...   ...   ...          ...   \n",
       "1753  1813.00      4  Middle       0  35.0       0  TELD     0            0   \n",
       "1754  2167.60      4    Down       0  60.0       0  TELD     1            0   \n",
       "1755  2250.80      4  Middle       0  70.0       0  TELD     1            1   \n",
       "1756  2258.80      4    Down       0  45.0       0  TELD     0            0   \n",
       "1757  2624.40      4    Down       0  50.0       0  IELD     0            0   \n",
       "\n",
       "       혈액형  \n",
       "0     RH+A  \n",
       "1     RH+A  \n",
       "2     RH+B  \n",
       "3     RH+O  \n",
       "4     RH+A  \n",
       "...    ...  \n",
       "1753  RH+O  \n",
       "1754  RH+A  \n",
       "1755  RH+B  \n",
       "1756  RH+B  \n",
       "1757  RH+O  \n",
       "\n",
       "[1758 rows x 18 columns]"
      ]
     },
     "execution_count": 4,
     "metadata": {},
     "output_type": "execute_result"
    }
   ],
   "source": [
    "df_ROSF = pd.read_csv('../../datasets/RecurrenceOfSurgery_Final.csv')\n",
    "df_ROSF"
   ]
  },
  {
   "cell_type": "code",
   "execution_count": 5,
   "id": "54c113f4-3187-4713-a44c-e2637a880a88",
   "metadata": {
    "tags": []
   },
   "outputs": [
    {
     "data": {
      "text/plain": [
       "Index(['Unnamed: 0', '환자ID', '연령', '성별', 'Large Lymphocyte', '우울증여부', '종양진행여부',\n",
       "       '재발여부', '디스크단면적', '디스크위치', '척추이동척도', '척추전방위증', '수술시간', '수술실패여부', '수술기법',\n",
       "       '흡연여부', 'Instability', '혈액형'],\n",
       "      dtype='object')"
      ]
     },
     "execution_count": 5,
     "metadata": {},
     "output_type": "execute_result"
    }
   ],
   "source": [
    "df_ROSF.columns"
   ]
  },
  {
   "cell_type": "markdown",
   "id": "b7f30d2a-76d7-4863-822b-012362aabeeb",
   "metadata": {},
   "source": [
    "### DDA \n",
    "- 목표변수: 입원기간\n",
    "- '연령' : 나이가 많을 수록 회복력으로 인해 입원기간이 길어질것으로 예상함. \n",
    "- 'Large Lymphocyte': 정상수치보다 높아지거나 비정상적으로 높았을때 감염여부로 인해 입원기간이 길어질것으로 예상함. \n",
    "- '종양진행여부' : 종양진행정도에 따라 입원기간의 영향이 있지 않을까.. \n",
    "- '디스크단면적' : 디스크 단면적에 따라 수술의 시간이 길어져서 입원기간의 영향이 있을것 같았음. \n",
    "- '척추이동척도': 척추이동의 정도에 따라 디스크 정도가 다를것같고 이는 입원기간의 영향이 있을것같음. \n",
    "- '수술시간': 수술 시간이 길면 그만큼 디스크의 심각함이라 생각했고 이는 입원기간에 영향이 있을것같음. \n",
    "- '수술기법' : 수술 기법에 따라 회복력이 다를것으로 예상함. \n",
    "- 'Instability': 척추의 안정성이 불안하면 입원기간에 영향이 있을것 같음. \n",
    "- '혈액형': 혈액형은 궁금했음. \n",
    "        - ( + '성별','우울증여부','종양진행여부','재발여부','디스크위치','척추전방위증','수술실패여부','흡연여부')"
   ]
  },
  {
   "cell_type": "code",
   "execution_count": 26,
   "id": "63650025-c635-4009-829d-e6b0a710affe",
   "metadata": {
    "collapsed": true,
    "jupyter": {
     "outputs_hidden": true
    },
    "tags": []
   },
   "outputs": [
    {
     "name": "stdout",
     "output_type": "stream",
     "text": [
      "<class 'pandas.core.frame.DataFrame'>\n",
      "Int64Index: 1723 entries, 0 to 1757\n",
      "Data columns (total 18 columns):\n",
      " #   Column            Non-Null Count  Dtype  \n",
      "---  ------            --------------  -----  \n",
      " 0   Unnamed: 0        1723 non-null   int64  \n",
      " 1   환자ID              1723 non-null   object \n",
      " 2   연령                1723 non-null   int64  \n",
      " 3   성별                1723 non-null   int64  \n",
      " 4   Large Lymphocyte  1723 non-null   float64\n",
      " 5   우울증여부             1723 non-null   int64  \n",
      " 6   종양진행여부            1723 non-null   int64  \n",
      " 7   재발여부              1723 non-null   int64  \n",
      " 8   디스크단면적            1723 non-null   float64\n",
      " 9   디스크위치             1723 non-null   int64  \n",
      " 10  척추이동척도            1723 non-null   object \n",
      " 11  척추전방위증            1723 non-null   int64  \n",
      " 12  수술시간              1723 non-null   float64\n",
      " 13  수술실패여부            1723 non-null   int64  \n",
      " 14  수술기법              1723 non-null   object \n",
      " 15  흡연여부              1723 non-null   int64  \n",
      " 16  Instability       1723 non-null   int64  \n",
      " 17  혈액형               1723 non-null   object \n",
      "dtypes: float64(3), int64(11), object(4)\n",
      "memory usage: 255.8+ KB\n"
     ]
    }
   ],
   "source": [
    "df_ROSF.info()"
   ]
  },
  {
   "cell_type": "markdown",
   "id": "1c105d1f-ff03-4a61-af24-794371916a90",
   "metadata": {
    "jp-MarkdownHeadingCollapsed": true,
    "tags": []
   },
   "source": [
    "#### 연령"
   ]
  },
  {
   "cell_type": "code",
   "execution_count": 31,
   "id": "55f9ed9c-4138-48f0-93c0-6c02ebe2ae2e",
   "metadata": {
    "tags": []
   },
   "outputs": [
    {
     "data": {
      "text/plain": [
       "count    1723.000000\n",
       "mean       40.832269\n",
       "std        12.552018\n",
       "min        15.000000\n",
       "25%        32.000000\n",
       "50%        41.000000\n",
       "75%        48.000000\n",
       "max        74.000000\n",
       "Name: 연령, dtype: float64"
      ]
     },
     "execution_count": 31,
     "metadata": {},
     "output_type": "execute_result"
    }
   ],
   "source": [
    "df_ROSF['연령'].describe()"
   ]
  },
  {
   "cell_type": "code",
   "execution_count": 33,
   "id": "f99aa0f8-dbc1-4624-b8ab-e542f1748610",
   "metadata": {
    "tags": []
   },
   "outputs": [],
   "source": [
    "Q1 = df_ROSF['연령'].describe()['25%']\n",
    "Q3 = df_ROSF['연령'].describe()['75%']\n",
    "IQR = Q3-Q1"
   ]
  },
  {
   "cell_type": "code",
   "execution_count": 34,
   "id": "a72aa5e0-cd95-408e-ae32-d0a5ed827f9b",
   "metadata": {
    "tags": []
   },
   "outputs": [
    {
     "data": {
      "text/plain": [
       "(8.0, 72.0)"
      ]
     },
     "execution_count": 34,
     "metadata": {},
     "output_type": "execute_result"
    }
   ],
   "source": [
    "bound_up = Q3 + 1.5 *IQR\n",
    "bound_down = Q1 - 1.5 *IQR\n",
    "bound_down, bound_up"
   ]
  },
  {
   "cell_type": "code",
   "execution_count": 35,
   "id": "98302775-05f2-4eb2-a25c-8d441e6679fb",
   "metadata": {
    "tags": []
   },
   "outputs": [
    {
     "data": {
      "text/plain": [
       "<Axes: xlabel='연령'>"
      ]
     },
     "execution_count": 35,
     "metadata": {},
     "output_type": "execute_result"
    },
    {
     "data": {
      "image/png": "[encoded data removed]",
      "text/plain": [
       "<Figure size 640x480 with 1 Axes>"
      ]
     },
     "metadata": {},
     "output_type": "display_data"
    }
   ],
   "source": [
    "sns.boxplot(data=df_ROSF,x='연령')"
   ]
  },
  {
   "cell_type": "markdown",
   "id": "761d1b35-12b0-411e-a9a9-9067f5e3050b",
   "metadata": {},
   "source": [
    "#### Large Lymphocyte"
   ]
  },
  {
   "cell_type": "code",
   "execution_count": 39,
   "id": "1e6b8567-15e9-4a68-9672-b4723ec90c78",
   "metadata": {
    "tags": []
   },
   "outputs": [
    {
     "data": {
      "text/plain": [
       "<bound method NDFrame.describe of 0       22.8\n",
       "1       44.9\n",
       "2       53.0\n",
       "3       54.7\n",
       "4       53.8\n",
       "        ... \n",
       "1753    32.4\n",
       "1754    42.4\n",
       "1755    30.8\n",
       "1756     5.4\n",
       "1757    36.7\n",
       "Name: Large Lymphocyte, Length: 1723, dtype: float64>"
      ]
     },
     "execution_count": 39,
     "metadata": {},
     "output_type": "execute_result"
    }
   ],
   "source": [
    "df_ROSF['Large Lymphocyte'].describe"
   ]
  },
  {
   "cell_type": "markdown",
   "id": "1ae43e01-492e-497d-8166-b527725608e3",
   "metadata": {
    "jp-MarkdownHeadingCollapsed": true,
    "tags": []
   },
   "source": [
    "#### 디스크단면적"
   ]
  },
  {
   "cell_type": "code",
   "execution_count": 29,
   "id": "827bfee1-e6a4-4c02-b06c-dd7e881a39b5",
   "metadata": {
    "tags": []
   },
   "outputs": [
    {
     "data": {
      "text/plain": [
       "count    1723.000000\n",
       "mean     1988.281892\n",
       "std       311.526544\n",
       "min      1145.800000\n",
       "25%      1777.250000\n",
       "50%      1985.500000\n",
       "75%      2177.120000\n",
       "max      3166.140000\n",
       "Name: 디스크단면적, dtype: float64"
      ]
     },
     "execution_count": 29,
     "metadata": {},
     "output_type": "execute_result"
    }
   ],
   "source": [
    "df_ROSF['디스크단면적'].describe()"
   ]
  },
  {
   "cell_type": "code",
   "execution_count": 36,
   "id": "9194dc93-651c-4f12-bcc9-ec9d7dd2b043",
   "metadata": {
    "tags": []
   },
   "outputs": [],
   "source": [
    "Q1 = df_ROSF['디스크단면적'].describe()['25%']\n",
    "Q3 = df_ROSF['디스크단면적'].describe()['75%']\n",
    "IQR = Q3-Q1"
   ]
  },
  {
   "cell_type": "code",
   "execution_count": 37,
   "id": "5ecef4ad-8754-494d-a06a-49258a63771a",
   "metadata": {
    "tags": []
   },
   "outputs": [
    {
     "data": {
      "text/plain": [
       "(1177.4450000000002, 2776.9249999999997)"
      ]
     },
     "execution_count": 37,
     "metadata": {},
     "output_type": "execute_result"
    }
   ],
   "source": [
    "bound_up = Q3 + 1.5 *IQR\n",
    "bound_down = Q1 - 1.5 *IQR\n",
    "bound_down, bound_up"
   ]
  },
  {
   "cell_type": "code",
   "execution_count": 38,
   "id": "8e0c4adf-f0bd-48a8-b767-b7f2f6a6a81f",
   "metadata": {
    "tags": []
   },
   "outputs": [
    {
     "data": {
      "text/plain": [
       "<Axes: xlabel='디스크단면적'>"
      ]
     },
     "execution_count": 38,
     "metadata": {},
     "output_type": "execute_result"
    },
    {
     "data": {
      "image/png": "[encoded data removed]",
      "text/plain": [
       "<Figure size 640x480 with 1 Axes>"
      ]
     },
     "metadata": {},
     "output_type": "display_data"
    }
   ],
   "source": [
    "sns.boxplot(data=df_ROSF,x='디스크단면적')"
   ]
  },
  {
   "cell_type": "code",
   "execution_count": 12,
   "id": "23625f50-dad6-43d4-8c6f-1e634ecbc0ba",
   "metadata": {
    "tags": []
   },
   "outputs": [
    {
     "data": {
      "text/plain": [
       "Middle            1177\n",
       "Down               471\n",
       "Up                  60\n",
       "Extremely down      34\n",
       "Extremely up        16\n",
       "Name: 척추이동척도, dtype: int64"
      ]
     },
     "execution_count": 12,
     "metadata": {},
     "output_type": "execute_result"
    }
   ],
   "source": [
    "df_ROSF['척추이동척도'].value_counts()"
   ]
  },
  {
   "cell_type": "code",
   "execution_count": 20,
   "id": "42ca3032-25a9-4947-bbd9-dc76855ef2e8",
   "metadata": {
    "tags": []
   },
   "outputs": [
    {
     "data": {
      "text/html": [
       "<div>\n",
       "<style scoped>\n",
       "    .dataframe tbody tr th:only-of-type {\n",
       "        vertical-align: middle;\n",
       "    }\n",
       "\n",
       "    .dataframe tbody tr th {\n",
       "        vertical-align: top;\n",
       "    }\n",
       "\n",
       "    .dataframe thead th {\n",
       "        text-align: right;\n",
       "    }\n",
       "</style>\n",
       "<table border=\"1\" class=\"dataframe\">\n",
       "  <thead>\n",
       "    <tr style=\"text-align: right;\">\n",
       "      <th></th>\n",
       "      <th>Instability</th>\n",
       "      <th>MF + ES</th>\n",
       "      <th>성별</th>\n",
       "      <th>연령</th>\n",
       "      <th>우울증여부</th>\n",
       "      <th>입원기간</th>\n",
       "      <th>재발여부</th>\n",
       "      <th>종양진행여부</th>\n",
       "      <th>혈전합병증여부</th>\n",
       "      <th>환자ID</th>\n",
       "    </tr>\n",
       "    <tr>\n",
       "      <th>Large Lymphocyte</th>\n",
       "      <th></th>\n",
       "      <th></th>\n",
       "      <th></th>\n",
       "      <th></th>\n",
       "      <th></th>\n",
       "      <th></th>\n",
       "      <th></th>\n",
       "      <th></th>\n",
       "      <th></th>\n",
       "      <th></th>\n",
       "    </tr>\n",
       "  </thead>\n",
       "  <tbody>\n",
       "    <tr>\n",
       "      <th>0.0</th>\n",
       "      <td>3</td>\n",
       "      <td>3</td>\n",
       "      <td>3</td>\n",
       "      <td>3</td>\n",
       "      <td>3</td>\n",
       "      <td>3</td>\n",
       "      <td>3</td>\n",
       "      <td>3</td>\n",
       "      <td>3</td>\n",
       "      <td>3</td>\n",
       "    </tr>\n",
       "    <tr>\n",
       "      <th>1.2</th>\n",
       "      <td>1</td>\n",
       "      <td>1</td>\n",
       "      <td>1</td>\n",
       "      <td>1</td>\n",
       "      <td>1</td>\n",
       "      <td>1</td>\n",
       "      <td>1</td>\n",
       "      <td>1</td>\n",
       "      <td>1</td>\n",
       "      <td>1</td>\n",
       "    </tr>\n",
       "    <tr>\n",
       "      <th>1.4</th>\n",
       "      <td>3</td>\n",
       "      <td>3</td>\n",
       "      <td>3</td>\n",
       "      <td>3</td>\n",
       "      <td>3</td>\n",
       "      <td>3</td>\n",
       "      <td>3</td>\n",
       "      <td>3</td>\n",
       "      <td>3</td>\n",
       "      <td>3</td>\n",
       "    </tr>\n",
       "    <tr>\n",
       "      <th>1.8</th>\n",
       "      <td>3</td>\n",
       "      <td>3</td>\n",
       "      <td>3</td>\n",
       "      <td>3</td>\n",
       "      <td>3</td>\n",
       "      <td>3</td>\n",
       "      <td>3</td>\n",
       "      <td>3</td>\n",
       "      <td>3</td>\n",
       "      <td>3</td>\n",
       "    </tr>\n",
       "    <tr>\n",
       "      <th>1.9</th>\n",
       "      <td>3</td>\n",
       "      <td>3</td>\n",
       "      <td>3</td>\n",
       "      <td>3</td>\n",
       "      <td>3</td>\n",
       "      <td>3</td>\n",
       "      <td>3</td>\n",
       "      <td>3</td>\n",
       "      <td>3</td>\n",
       "      <td>3</td>\n",
       "    </tr>\n",
       "    <tr>\n",
       "      <th>...</th>\n",
       "      <td>...</td>\n",
       "      <td>...</td>\n",
       "      <td>...</td>\n",
       "      <td>...</td>\n",
       "      <td>...</td>\n",
       "      <td>...</td>\n",
       "      <td>...</td>\n",
       "      <td>...</td>\n",
       "      <td>...</td>\n",
       "      <td>...</td>\n",
       "    </tr>\n",
       "    <tr>\n",
       "      <th>67.4</th>\n",
       "      <td>1</td>\n",
       "      <td>1</td>\n",
       "      <td>1</td>\n",
       "      <td>1</td>\n",
       "      <td>1</td>\n",
       "      <td>1</td>\n",
       "      <td>1</td>\n",
       "      <td>1</td>\n",
       "      <td>1</td>\n",
       "      <td>1</td>\n",
       "    </tr>\n",
       "    <tr>\n",
       "      <th>69.6</th>\n",
       "      <td>3</td>\n",
       "      <td>3</td>\n",
       "      <td>3</td>\n",
       "      <td>3</td>\n",
       "      <td>3</td>\n",
       "      <td>3</td>\n",
       "      <td>3</td>\n",
       "      <td>3</td>\n",
       "      <td>3</td>\n",
       "      <td>3</td>\n",
       "    </tr>\n",
       "    <tr>\n",
       "      <th>75.7</th>\n",
       "      <td>3</td>\n",
       "      <td>3</td>\n",
       "      <td>3</td>\n",
       "      <td>3</td>\n",
       "      <td>3</td>\n",
       "      <td>3</td>\n",
       "      <td>3</td>\n",
       "      <td>3</td>\n",
       "      <td>3</td>\n",
       "      <td>3</td>\n",
       "    </tr>\n",
       "    <tr>\n",
       "      <th>86.1</th>\n",
       "      <td>3</td>\n",
       "      <td>3</td>\n",
       "      <td>3</td>\n",
       "      <td>3</td>\n",
       "      <td>3</td>\n",
       "      <td>3</td>\n",
       "      <td>3</td>\n",
       "      <td>3</td>\n",
       "      <td>3</td>\n",
       "      <td>3</td>\n",
       "    </tr>\n",
       "    <tr>\n",
       "      <th>89.0</th>\n",
       "      <td>4</td>\n",
       "      <td>4</td>\n",
       "      <td>4</td>\n",
       "      <td>4</td>\n",
       "      <td>4</td>\n",
       "      <td>4</td>\n",
       "      <td>4</td>\n",
       "      <td>4</td>\n",
       "      <td>4</td>\n",
       "      <td>4</td>\n",
       "    </tr>\n",
       "  </tbody>\n",
       "</table>\n",
       "<p>441 rows × 10 columns</p>\n",
       "</div>"
      ],
      "text/plain": [
       "                  Instability  MF + ES  성별  연령  우울증여부  입원기간  재발여부  종양진행여부  \\\n",
       "Large Lymphocyte                                                            \n",
       "0.0                         3        3   3   3      3     3     3       3   \n",
       "1.2                         1        1   1   1      1     1     1       1   \n",
       "1.4                         3        3   3   3      3     3     3       3   \n",
       "1.8                         3        3   3   3      3     3     3       3   \n",
       "1.9                         3        3   3   3      3     3     3       3   \n",
       "...                       ...      ...  ..  ..    ...   ...   ...     ...   \n",
       "67.4                        1        1   1   1      1     1     1       1   \n",
       "69.6                        3        3   3   3      3     3     3       3   \n",
       "75.7                        3        3   3   3      3     3     3       3   \n",
       "86.1                        3        3   3   3      3     3     3       3   \n",
       "89.0                        4        4   4   4      4     4     4       4   \n",
       "\n",
       "                  혈전합병증여부  환자ID  \n",
       "Large Lymphocyte                 \n",
       "0.0                     3     3  \n",
       "1.2                     1     1  \n",
       "1.4                     3     3  \n",
       "1.8                     3     3  \n",
       "1.9                     3     3  \n",
       "...                   ...   ...  \n",
       "67.4                    1     1  \n",
       "69.6                    3     3  \n",
       "75.7                    3     3  \n",
       "86.1                    3     3  \n",
       "89.0                    4     4  \n",
       "\n",
       "[441 rows x 10 columns]"
      ]
     },
     "execution_count": 20,
     "metadata": {},
     "output_type": "execute_result"
    }
   ],
   "source": [
    "pd.pivot_table(data=df_ROS_Analysis, index='Large Lymphocyte', aggfunc=len)"
   ]
  },
  {
   "cell_type": "code",
   "execution_count": null,
   "id": "38db754c-723f-43cb-a534-bae6d0e31872",
   "metadata": {},
   "outputs": [],
   "source": []
  }
 ],
 "metadata": {
  "kernelspec": {
   "display_name": "Python 3 (ipykernel)",
   "language": "python",
   "name": "python3"
  },
  "language_info": {
   "codemirror_mode": {
    "name": "ipython",
    "version": 3
   },
   "file_extension": ".py",
   "mimetype": "text/x-python",
   "name": "python",
   "nbconvert_exporter": "python",
   "pygments_lexer": "ipython3",
   "version": "3.11.3"
  }
 },
 "nbformat": 4,
 "nbformat_minor": 5
}
