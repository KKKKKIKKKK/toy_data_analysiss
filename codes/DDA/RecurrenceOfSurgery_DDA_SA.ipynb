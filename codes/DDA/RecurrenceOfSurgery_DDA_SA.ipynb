{
 "cells": [
  {
   "cell_type": "code",
   "execution_count": 1,
   "id": "10e95dff-5b0f-4e67-a6b5-858cfe0f0449",
   "metadata": {
    "tags": []
   },
   "outputs": [],
   "source": [
    "import matplotlib.pyplot as plt\n",
    "import matplotlib as mpl\n",
    "mpl.rc('font',family='Malgun Gothic')\n",
    "import seaborn as sns\n",
    "import pandas as pd\n",
    "import scipy.stats as stats\n",
    "import numpy as np"
   ]
  },
  {
   "cell_type": "code",
   "execution_count": 2,
   "id": "cff7ca21-9f1c-42c2-98de-2d073a986572",
   "metadata": {
    "tags": []
   },
   "outputs": [
    {
     "data": {
      "text/html": [
       "<div>\n",
       "<style scoped>\n",
       "    .dataframe tbody tr th:only-of-type {\n",
       "        vertical-align: middle;\n",
       "    }\n",
       "\n",
       "    .dataframe tbody tr th {\n",
       "        vertical-align: top;\n",
       "    }\n",
       "\n",
       "    .dataframe thead th {\n",
       "        text-align: right;\n",
       "    }\n",
       "</style>\n",
       "<table border=\"1\" class=\"dataframe\">\n",
       "  <thead>\n",
       "    <tr style=\"text-align: right;\">\n",
       "      <th></th>\n",
       "      <th>Unnamed: 0.1</th>\n",
       "      <th>Unnamed: 0</th>\n",
       "      <th>환자ID</th>\n",
       "      <th>신장</th>\n",
       "      <th>체중</th>\n",
       "      <th>연령</th>\n",
       "      <th>성별</th>\n",
       "      <th>Large Lymphocyte</th>\n",
       "      <th>우울증여부</th>\n",
       "      <th>종양진행여부</th>\n",
       "      <th>...</th>\n",
       "      <th>디스크위치</th>\n",
       "      <th>척추이동척도</th>\n",
       "      <th>척추전방위증</th>\n",
       "      <th>수술시간</th>\n",
       "      <th>수술실패여부</th>\n",
       "      <th>수술기법</th>\n",
       "      <th>흡연여부</th>\n",
       "      <th>Instability</th>\n",
       "      <th>혈액형</th>\n",
       "      <th>입원기간</th>\n",
       "    </tr>\n",
       "  </thead>\n",
       "  <tbody>\n",
       "    <tr>\n",
       "      <th>0</th>\n",
       "      <td>0</td>\n",
       "      <td>0</td>\n",
       "      <td>1PT</td>\n",
       "      <td>163</td>\n",
       "      <td>60.3</td>\n",
       "      <td>66</td>\n",
       "      <td>2</td>\n",
       "      <td>22.8</td>\n",
       "      <td>0</td>\n",
       "      <td>0</td>\n",
       "      <td>...</td>\n",
       "      <td>4</td>\n",
       "      <td>Down</td>\n",
       "      <td>0</td>\n",
       "      <td>68.0</td>\n",
       "      <td>0</td>\n",
       "      <td>TELD</td>\n",
       "      <td>0</td>\n",
       "      <td>0</td>\n",
       "      <td>RH+A</td>\n",
       "      <td>2</td>\n",
       "    </tr>\n",
       "    <tr>\n",
       "      <th>1</th>\n",
       "      <td>1</td>\n",
       "      <td>1</td>\n",
       "      <td>2PT</td>\n",
       "      <td>171</td>\n",
       "      <td>71.7</td>\n",
       "      <td>47</td>\n",
       "      <td>1</td>\n",
       "      <td>44.9</td>\n",
       "      <td>0</td>\n",
       "      <td>0</td>\n",
       "      <td>...</td>\n",
       "      <td>4</td>\n",
       "      <td>Up</td>\n",
       "      <td>0</td>\n",
       "      <td>31.0</td>\n",
       "      <td>0</td>\n",
       "      <td>TELD</td>\n",
       "      <td>0</td>\n",
       "      <td>0</td>\n",
       "      <td>RH+A</td>\n",
       "      <td>1</td>\n",
       "    </tr>\n",
       "    <tr>\n",
       "      <th>2</th>\n",
       "      <td>2</td>\n",
       "      <td>2</td>\n",
       "      <td>3PT</td>\n",
       "      <td>178</td>\n",
       "      <td>77.1</td>\n",
       "      <td>39</td>\n",
       "      <td>1</td>\n",
       "      <td>53.0</td>\n",
       "      <td>0</td>\n",
       "      <td>0</td>\n",
       "      <td>...</td>\n",
       "      <td>4</td>\n",
       "      <td>Down</td>\n",
       "      <td>0</td>\n",
       "      <td>78.0</td>\n",
       "      <td>0</td>\n",
       "      <td>TELD</td>\n",
       "      <td>0</td>\n",
       "      <td>0</td>\n",
       "      <td>RH+B</td>\n",
       "      <td>1</td>\n",
       "    </tr>\n",
       "    <tr>\n",
       "      <th>3</th>\n",
       "      <td>3</td>\n",
       "      <td>3</td>\n",
       "      <td>4PT</td>\n",
       "      <td>174</td>\n",
       "      <td>74.2</td>\n",
       "      <td>40</td>\n",
       "      <td>1</td>\n",
       "      <td>54.7</td>\n",
       "      <td>0</td>\n",
       "      <td>0</td>\n",
       "      <td>...</td>\n",
       "      <td>4</td>\n",
       "      <td>Down</td>\n",
       "      <td>0</td>\n",
       "      <td>73.0</td>\n",
       "      <td>0</td>\n",
       "      <td>TELD</td>\n",
       "      <td>0</td>\n",
       "      <td>0</td>\n",
       "      <td>RH+O</td>\n",
       "      <td>1</td>\n",
       "    </tr>\n",
       "    <tr>\n",
       "      <th>4</th>\n",
       "      <td>4</td>\n",
       "      <td>4</td>\n",
       "      <td>5PT</td>\n",
       "      <td>183</td>\n",
       "      <td>80.7</td>\n",
       "      <td>42</td>\n",
       "      <td>1</td>\n",
       "      <td>53.8</td>\n",
       "      <td>0</td>\n",
       "      <td>0</td>\n",
       "      <td>...</td>\n",
       "      <td>4</td>\n",
       "      <td>Up</td>\n",
       "      <td>0</td>\n",
       "      <td>29.0</td>\n",
       "      <td>0</td>\n",
       "      <td>TELD</td>\n",
       "      <td>0</td>\n",
       "      <td>0</td>\n",
       "      <td>RH+A</td>\n",
       "      <td>2</td>\n",
       "    </tr>\n",
       "    <tr>\n",
       "      <th>...</th>\n",
       "      <td>...</td>\n",
       "      <td>...</td>\n",
       "      <td>...</td>\n",
       "      <td>...</td>\n",
       "      <td>...</td>\n",
       "      <td>...</td>\n",
       "      <td>...</td>\n",
       "      <td>...</td>\n",
       "      <td>...</td>\n",
       "      <td>...</td>\n",
       "      <td>...</td>\n",
       "      <td>...</td>\n",
       "      <td>...</td>\n",
       "      <td>...</td>\n",
       "      <td>...</td>\n",
       "      <td>...</td>\n",
       "      <td>...</td>\n",
       "      <td>...</td>\n",
       "      <td>...</td>\n",
       "      <td>...</td>\n",
       "      <td>...</td>\n",
       "    </tr>\n",
       "    <tr>\n",
       "      <th>1889</th>\n",
       "      <td>1889</td>\n",
       "      <td>1889</td>\n",
       "      <td>1890PT</td>\n",
       "      <td>157</td>\n",
       "      <td>64.0</td>\n",
       "      <td>59</td>\n",
       "      <td>2</td>\n",
       "      <td>44.0</td>\n",
       "      <td>0</td>\n",
       "      <td>1</td>\n",
       "      <td>...</td>\n",
       "      <td>5</td>\n",
       "      <td>Middle</td>\n",
       "      <td>0</td>\n",
       "      <td>80.0</td>\n",
       "      <td>0</td>\n",
       "      <td>NaN</td>\n",
       "      <td>0</td>\n",
       "      <td>0</td>\n",
       "      <td>RH+A</td>\n",
       "      <td>2</td>\n",
       "    </tr>\n",
       "    <tr>\n",
       "      <th>1890</th>\n",
       "      <td>1890</td>\n",
       "      <td>1890</td>\n",
       "      <td>1891PT</td>\n",
       "      <td>157</td>\n",
       "      <td>59.0</td>\n",
       "      <td>42</td>\n",
       "      <td>2</td>\n",
       "      <td>30.8</td>\n",
       "      <td>0</td>\n",
       "      <td>0</td>\n",
       "      <td>...</td>\n",
       "      <td>4</td>\n",
       "      <td>Down</td>\n",
       "      <td>0</td>\n",
       "      <td>20.0</td>\n",
       "      <td>0</td>\n",
       "      <td>NaN</td>\n",
       "      <td>0</td>\n",
       "      <td>0</td>\n",
       "      <td>RH+B</td>\n",
       "      <td>4</td>\n",
       "    </tr>\n",
       "    <tr>\n",
       "      <th>1891</th>\n",
       "      <td>1891</td>\n",
       "      <td>1891</td>\n",
       "      <td>1892PT</td>\n",
       "      <td>167</td>\n",
       "      <td>70.0</td>\n",
       "      <td>61</td>\n",
       "      <td>1</td>\n",
       "      <td>36.7</td>\n",
       "      <td>0</td>\n",
       "      <td>0</td>\n",
       "      <td>...</td>\n",
       "      <td>4</td>\n",
       "      <td>Down</td>\n",
       "      <td>0</td>\n",
       "      <td>50.0</td>\n",
       "      <td>0</td>\n",
       "      <td>IELD</td>\n",
       "      <td>0</td>\n",
       "      <td>0</td>\n",
       "      <td>RH+O</td>\n",
       "      <td>3</td>\n",
       "    </tr>\n",
       "    <tr>\n",
       "      <th>1892</th>\n",
       "      <td>1892</td>\n",
       "      <td>1892</td>\n",
       "      <td>1893PT</td>\n",
       "      <td>177</td>\n",
       "      <td>77.0</td>\n",
       "      <td>29</td>\n",
       "      <td>1</td>\n",
       "      <td>32.5</td>\n",
       "      <td>0</td>\n",
       "      <td>0</td>\n",
       "      <td>...</td>\n",
       "      <td>5</td>\n",
       "      <td>Down</td>\n",
       "      <td>0</td>\n",
       "      <td>25.0</td>\n",
       "      <td>0</td>\n",
       "      <td>NaN</td>\n",
       "      <td>0</td>\n",
       "      <td>0</td>\n",
       "      <td>RH+A</td>\n",
       "      <td>4</td>\n",
       "    </tr>\n",
       "    <tr>\n",
       "      <th>1893</th>\n",
       "      <td>1893</td>\n",
       "      <td>1893</td>\n",
       "      <td>1894PT</td>\n",
       "      <td>168</td>\n",
       "      <td>49.0</td>\n",
       "      <td>30</td>\n",
       "      <td>2</td>\n",
       "      <td>49.5</td>\n",
       "      <td>0</td>\n",
       "      <td>0</td>\n",
       "      <td>...</td>\n",
       "      <td>5</td>\n",
       "      <td>Middle</td>\n",
       "      <td>0</td>\n",
       "      <td>45.0</td>\n",
       "      <td>0</td>\n",
       "      <td>NaN</td>\n",
       "      <td>0</td>\n",
       "      <td>0</td>\n",
       "      <td>RH+AB</td>\n",
       "      <td>2</td>\n",
       "    </tr>\n",
       "  </tbody>\n",
       "</table>\n",
       "<p>1894 rows × 22 columns</p>\n",
       "</div>"
      ],
      "text/plain": [
       "      Unnamed: 0.1  Unnamed: 0    환자ID   신장    체중  연령  성별  Large Lymphocyte  \\\n",
       "0                0           0     1PT  163  60.3  66   2              22.8   \n",
       "1                1           1     2PT  171  71.7  47   1              44.9   \n",
       "2                2           2     3PT  178  77.1  39   1              53.0   \n",
       "3                3           3     4PT  174  74.2  40   1              54.7   \n",
       "4                4           4     5PT  183  80.7  42   1              53.8   \n",
       "...            ...         ...     ...  ...   ...  ..  ..               ...   \n",
       "1889          1889        1889  1890PT  157  64.0  59   2              44.0   \n",
       "1890          1890        1890  1891PT  157  59.0  42   2              30.8   \n",
       "1891          1891        1891  1892PT  167  70.0  61   1              36.7   \n",
       "1892          1892        1892  1893PT  177  77.0  29   1              32.5   \n",
       "1893          1893        1893  1894PT  168  49.0  30   2              49.5   \n",
       "\n",
       "      우울증여부  종양진행여부  ...  디스크위치  척추이동척도  척추전방위증  수술시간  수술실패여부  수술기법  흡연여부  \\\n",
       "0         0       0  ...      4    Down       0  68.0       0  TELD     0   \n",
       "1         0       0  ...      4      Up       0  31.0       0  TELD     0   \n",
       "2         0       0  ...      4    Down       0  78.0       0  TELD     0   \n",
       "3         0       0  ...      4    Down       0  73.0       0  TELD     0   \n",
       "4         0       0  ...      4      Up       0  29.0       0  TELD     0   \n",
       "...     ...     ...  ...    ...     ...     ...   ...     ...   ...   ...   \n",
       "1889      0       1  ...      5  Middle       0  80.0       0   NaN     0   \n",
       "1890      0       0  ...      4    Down       0  20.0       0   NaN     0   \n",
       "1891      0       0  ...      4    Down       0  50.0       0  IELD     0   \n",
       "1892      0       0  ...      5    Down       0  25.0       0   NaN     0   \n",
       "1893      0       0  ...      5  Middle       0  45.0       0   NaN     0   \n",
       "\n",
       "     Instability    혈액형  입원기간  \n",
       "0              0   RH+A     2  \n",
       "1              0   RH+A     1  \n",
       "2              0   RH+B     1  \n",
       "3              0   RH+O     1  \n",
       "4              0   RH+A     2  \n",
       "...          ...    ...   ...  \n",
       "1889           0   RH+A     2  \n",
       "1890           0   RH+B     4  \n",
       "1891           0   RH+O     3  \n",
       "1892           0   RH+A     4  \n",
       "1893           0  RH+AB     2  \n",
       "\n",
       "[1894 rows x 22 columns]"
      ]
     },
     "execution_count": 2,
     "metadata": {},
     "output_type": "execute_result"
    }
   ],
   "source": [
    "df_ROSF = pd.read_csv('../../datasets/RecurrenceOfSurgery_Final.csv')\n",
    "df_ROSF"
   ]
  },
  {
   "cell_type": "code",
   "execution_count": 3,
   "id": "54c113f4-3187-4713-a44c-e2637a880a88",
   "metadata": {
    "tags": []
   },
   "outputs": [
    {
     "data": {
      "text/plain": [
       "Index(['Unnamed: 0.1', 'Unnamed: 0', '환자ID', '신장', '체중', '연령', '성별',\n",
       "       'Large Lymphocyte', '우울증여부', '종양진행여부', '재발여부', '디스크단면적', '디스크위치',\n",
       "       '척추이동척도', '척추전방위증', '수술시간', '수술실패여부', '수술기법', '흡연여부', 'Instability',\n",
       "       '혈액형', '입원기간'],\n",
       "      dtype='object')"
      ]
     },
     "execution_count": 3,
     "metadata": {},
     "output_type": "execute_result"
    }
   ],
   "source": [
    "df_ROSF.columns"
   ]
  },
  {
   "cell_type": "markdown",
   "id": "b7f30d2a-76d7-4863-822b-012362aabeeb",
   "metadata": {},
   "source": [
    "### DDA \n",
    "- 목표변수: 입원기간\n",
    "- '연령' : 나이가 많을 수록 회복력으로 인해 입원기간이 길어질것으로 예상함. \n",
    "- 'Large Lymphocyte': 정상수치보다 높아지거나 비정상적으로 높았을때 감염여부로 인해 입원기간이 길어질것으로 예상함. \n",
    "- '종양진행여부' : 종양진행정도에 따라 입원기간의 영향이 있지 않을까.. \n",
    "- '디스크단면적' : 디스크 단면적에 따라 수술의 시간이 길어져서 입원기간의 영향이 있을것 같았음. \n",
    "- '척추이동척도': 척추이동의 정도에 따라 디스크 정도가 다를것같고 이는 입원기간의 영향이 있을것같음. \n",
    "- '수술시간': 수술 시간이 길면 그만큼 디스크의 심각함이라 생각했고 이는 입원기간에 영향이 있을것같음. \n",
    "- '수술기법' : 수술 기법에 따라 회복력이 다를것으로 예상함. \n",
    "- 'Instability': 척추의 안정성이 불안하면 입원기간에 영향이 있을것 같음. \n",
    "- '혈액형': 혈액형은 궁금했음. \n",
    "        - ( + '성별','우울증여부','종양진행여부','재발여부','디스크위치','척추전방위증','수술실패여부','흡연여부')\n",
    "- '신장','체중'_BMI"
   ]
  },
  {
   "cell_type": "code",
   "execution_count": 4,
   "id": "63650025-c635-4009-829d-e6b0a710affe",
   "metadata": {
    "tags": []
   },
   "outputs": [
    {
     "name": "stdout",
     "output_type": "stream",
     "text": [
      "<class 'pandas.core.frame.DataFrame'>\n",
      "RangeIndex: 1894 entries, 0 to 1893\n",
      "Data columns (total 22 columns):\n",
      " #   Column            Non-Null Count  Dtype  \n",
      "---  ------            --------------  -----  \n",
      " 0   Unnamed: 0.1      1894 non-null   int64  \n",
      " 1   Unnamed: 0        1894 non-null   int64  \n",
      " 2   환자ID              1894 non-null   object \n",
      " 3   신장                1894 non-null   int64  \n",
      " 4   체중                1894 non-null   float64\n",
      " 5   연령                1894 non-null   int64  \n",
      " 6   성별                1894 non-null   int64  \n",
      " 7   Large Lymphocyte  1894 non-null   float64\n",
      " 8   우울증여부             1894 non-null   int64  \n",
      " 9   종양진행여부            1894 non-null   int64  \n",
      " 10  재발여부              1894 non-null   int64  \n",
      " 11  디스크단면적            1893 non-null   float64\n",
      " 12  디스크위치             1894 non-null   int64  \n",
      " 13  척추이동척도            1894 non-null   object \n",
      " 14  척추전방위증            1894 non-null   int64  \n",
      " 15  수술시간              1840 non-null   float64\n",
      " 16  수술실패여부            1894 non-null   int64  \n",
      " 17  수술기법              1813 non-null   object \n",
      " 18  흡연여부              1894 non-null   int64  \n",
      " 19  Instability       1894 non-null   int64  \n",
      " 20  혈액형               1894 non-null   object \n",
      " 21  입원기간              1894 non-null   int64  \n",
      "dtypes: float64(4), int64(14), object(4)\n",
      "memory usage: 325.7+ KB\n"
     ]
    }
   ],
   "source": [
    "df_ROSF.info()"
   ]
  },
  {
   "cell_type": "code",
   "execution_count": 5,
   "id": "9c25abf0-734b-4630-abd7-572b1d8a6822",
   "metadata": {
    "tags": []
   },
   "outputs": [],
   "source": [
    "# 종양진행여부와 Instability는 int형으로 0, 1로 나눠져있었고 이를 범주형으로 보기 위해 object로 type을 변경함\n",
    "df_ROSF[['종양진행여부','Instability']] = df_ROSF[['종양진행여부','Instability']].astype(object)"
   ]
  },
  {
   "cell_type": "code",
   "execution_count": 6,
   "id": "e2e9d412-3f2f-4fe2-a1bb-cc4f268e0400",
   "metadata": {
    "tags": []
   },
   "outputs": [
    {
     "name": "stdout",
     "output_type": "stream",
     "text": [
      "<class 'pandas.core.frame.DataFrame'>\n",
      "RangeIndex: 1894 entries, 0 to 1893\n",
      "Data columns (total 22 columns):\n",
      " #   Column            Non-Null Count  Dtype  \n",
      "---  ------            --------------  -----  \n",
      " 0   Unnamed: 0.1      1894 non-null   int64  \n",
      " 1   Unnamed: 0        1894 non-null   int64  \n",
      " 2   환자ID              1894 non-null   object \n",
      " 3   신장                1894 non-null   int64  \n",
      " 4   체중                1894 non-null   float64\n",
      " 5   연령                1894 non-null   int64  \n",
      " 6   성별                1894 non-null   int64  \n",
      " 7   Large Lymphocyte  1894 non-null   float64\n",
      " 8   우울증여부             1894 non-null   int64  \n",
      " 9   종양진행여부            1894 non-null   object \n",
      " 10  재발여부              1894 non-null   int64  \n",
      " 11  디스크단면적            1893 non-null   float64\n",
      " 12  디스크위치             1894 non-null   int64  \n",
      " 13  척추이동척도            1894 non-null   object \n",
      " 14  척추전방위증            1894 non-null   int64  \n",
      " 15  수술시간              1840 non-null   float64\n",
      " 16  수술실패여부            1894 non-null   int64  \n",
      " 17  수술기법              1813 non-null   object \n",
      " 18  흡연여부              1894 non-null   int64  \n",
      " 19  Instability       1894 non-null   object \n",
      " 20  혈액형               1894 non-null   object \n",
      " 21  입원기간              1894 non-null   int64  \n",
      "dtypes: float64(4), int64(12), object(6)\n",
      "memory usage: 325.7+ KB\n"
     ]
    }
   ],
   "source": [
    "df_ROSF.info()"
   ]
  },
  {
   "cell_type": "markdown",
   "id": "d1124b96-89e2-4666-91eb-a35f731780d8",
   "metadata": {},
   "source": [
    "#### 입원기간\n",
    "- 연속형?/범주형?"
   ]
  },
  {
   "cell_type": "code",
   "execution_count": 7,
   "id": "313ef9ed-fd06-473e-8a2c-60c9c70fb39b",
   "metadata": {
    "tags": []
   },
   "outputs": [
    {
     "data": {
      "text/plain": [
       "count    1894.000000\n",
       "mean        1.736536\n",
       "std         2.344085\n",
       "min         0.000000\n",
       "25%         1.000000\n",
       "50%         1.000000\n",
       "75%         2.000000\n",
       "max        51.000000\n",
       "Name: 입원기간, dtype: float64"
      ]
     },
     "execution_count": 7,
     "metadata": {},
     "output_type": "execute_result"
    }
   ],
   "source": [
    "df_ROSF['입원기간'].describe()"
   ]
  },
  {
   "cell_type": "code",
   "execution_count": 8,
   "id": "c5032726-4758-4070-8e4c-03e026a107cf",
   "metadata": {
    "tags": []
   },
   "outputs": [
    {
     "data": {
      "text/plain": [
       "입원기간\n",
       "1     1152\n",
       "2      483\n",
       "3      180\n",
       "4       39\n",
       "8        6\n",
       "5        6\n",
       "6        4\n",
       "7        4\n",
       "0        3\n",
       "17       3\n",
       "11       3\n",
       "27       1\n",
       "46       1\n",
       "9        1\n",
       "18       1\n",
       "16       1\n",
       "44       1\n",
       "13       1\n",
       "15       1\n",
       "51       1\n",
       "12       1\n",
       "10       1\n",
       "Name: count, dtype: int64"
      ]
     },
     "execution_count": 8,
     "metadata": {},
     "output_type": "execute_result"
    }
   ],
   "source": [
    "df_ROSF['입원기간'].value_counts()"
   ]
  },
  {
   "cell_type": "code",
   "execution_count": 9,
   "id": "203d01f4-e0d6-49f2-b3cf-f88c1d9bcf16",
   "metadata": {
    "tags": []
   },
   "outputs": [
    {
     "name": "stderr",
     "output_type": "stream",
     "text": [
      "C:\\Users\\01-15\\anaconda3\\Lib\\site-packages\\seaborn\\_oldcore.py:1498: FutureWarning: is_categorical_dtype is deprecated and will be removed in a future version. Use isinstance(dtype, CategoricalDtype) instead\n",
      "  if pd.api.types.is_categorical_dtype(vector):\n"
     ]
    },
    {
     "data": {
      "text/plain": [
       "<Axes: xlabel='입원기간'>"
      ]
     },
     "execution_count": 9,
     "metadata": {},
     "output_type": "execute_result"
    },
    {
     "data": {
      "image/png": "[encoded data removed]",
      "text/plain": [
       "<Figure size 640x480 with 1 Axes>"
      ]
     },
     "metadata": {},
     "output_type": "display_data"
    }
   ],
   "source": [
    "sns.boxplot(data=df_ROSF,x='입원기간')"
   ]
  },
  {
   "cell_type": "code",
   "execution_count": 10,
   "id": "132bc10e-4856-409e-a58c-debf742e6d9c",
   "metadata": {
    "tags": []
   },
   "outputs": [
    {
     "name": "stderr",
     "output_type": "stream",
     "text": [
      "C:\\Users\\01-15\\anaconda3\\Lib\\site-packages\\seaborn\\_oldcore.py:1498: FutureWarning: is_categorical_dtype is deprecated and will be removed in a future version. Use isinstance(dtype, CategoricalDtype) instead\n",
      "  if pd.api.types.is_categorical_dtype(vector):\n",
      "C:\\Users\\01-15\\anaconda3\\Lib\\site-packages\\seaborn\\_oldcore.py:1498: FutureWarning: is_categorical_dtype is deprecated and will be removed in a future version. Use isinstance(dtype, CategoricalDtype) instead\n",
      "  if pd.api.types.is_categorical_dtype(vector):\n",
      "C:\\Users\\01-15\\anaconda3\\Lib\\site-packages\\seaborn\\_oldcore.py:1498: FutureWarning: is_categorical_dtype is deprecated and will be removed in a future version. Use isinstance(dtype, CategoricalDtype) instead\n",
      "  if pd.api.types.is_categorical_dtype(vector):\n"
     ]
    },
    {
     "data": {
      "text/plain": [
       "<Axes: xlabel='입원기간', ylabel='count'>"
      ]
     },
     "execution_count": 10,
     "metadata": {},
     "output_type": "execute_result"
    },
    {
     "data": {
      "image/png": "[encoded data removed]",
      "text/plain": [
       "<Figure size 640x480 with 1 Axes>"
      ]
     },
     "metadata": {},
     "output_type": "display_data"
    }
   ],
   "source": [
    "sns.countplot(data=df_ROSF,x='입원기간')"
   ]
  },
  {
   "cell_type": "markdown",
   "id": "1c105d1f-ff03-4a61-af24-794371916a90",
   "metadata": {
    "tags": []
   },
   "source": [
    "#### 연령\n",
    "- 연속형"
   ]
  },
  {
   "cell_type": "code",
   "execution_count": 11,
   "id": "55f9ed9c-4138-48f0-93c0-6c02ebe2ae2e",
   "metadata": {
    "tags": []
   },
   "outputs": [
    {
     "data": {
      "text/plain": [
       "count    1894.000000\n",
       "mean       41.463569\n",
       "std        13.444629\n",
       "min        15.000000\n",
       "25%        32.000000\n",
       "50%        41.000000\n",
       "75%        49.000000\n",
       "max        86.000000\n",
       "Name: 연령, dtype: float64"
      ]
     },
     "execution_count": 11,
     "metadata": {},
     "output_type": "execute_result"
    }
   ],
   "source": [
    "df_ROSF['연령'].describe()"
   ]
  },
  {
   "cell_type": "code",
   "execution_count": 12,
   "id": "f99aa0f8-dbc1-4624-b8ab-e542f1748610",
   "metadata": {
    "tags": []
   },
   "outputs": [],
   "source": [
    "Q1 = df_ROSF['연령'].describe()['25%']\n",
    "Q3 = df_ROSF['연령'].describe()['75%']\n",
    "IQR = Q3-Q1"
   ]
  },
  {
   "cell_type": "code",
   "execution_count": 13,
   "id": "a72aa5e0-cd95-408e-ae32-d0a5ed827f9b",
   "metadata": {
    "tags": []
   },
   "outputs": [
    {
     "data": {
      "text/plain": [
       "(6.5, 74.5)"
      ]
     },
     "execution_count": 13,
     "metadata": {},
     "output_type": "execute_result"
    }
   ],
   "source": [
    "bound_up = Q3 + 1.5 *IQR\n",
    "bound_down = Q1 - 1.5 *IQR\n",
    "bound_down, bound_up"
   ]
  },
  {
   "cell_type": "code",
   "execution_count": 14,
   "id": "98302775-05f2-4eb2-a25c-8d441e6679fb",
   "metadata": {
    "tags": []
   },
   "outputs": [
    {
     "name": "stderr",
     "output_type": "stream",
     "text": [
      "C:\\Users\\01-15\\anaconda3\\Lib\\site-packages\\seaborn\\_oldcore.py:1498: FutureWarning: is_categorical_dtype is deprecated and will be removed in a future version. Use isinstance(dtype, CategoricalDtype) instead\n",
      "  if pd.api.types.is_categorical_dtype(vector):\n"
     ]
    },
    {
     "data": {
      "text/plain": [
       "<Axes: xlabel='연령'>"
      ]
     },
     "execution_count": 14,
     "metadata": {},
     "output_type": "execute_result"
    },
    {
     "data": {
      "image/png": "[encoded data removed]",
      "text/plain": [
       "<Figure size 640x480 with 1 Axes>"
      ]
     },
     "metadata": {},
     "output_type": "display_data"
    }
   ],
   "source": [
    "sns.boxplot(data=df_ROSF,x='연령')"
   ]
  },
  {
   "cell_type": "code",
   "execution_count": 15,
   "id": "56707bd1-20fd-4cac-90b2-79edc0d27b06",
   "metadata": {
    "tags": []
   },
   "outputs": [
    {
     "name": "stderr",
     "output_type": "stream",
     "text": [
      "C:\\Users\\01-15\\anaconda3\\Lib\\site-packages\\seaborn\\_oldcore.py:1498: FutureWarning: is_categorical_dtype is deprecated and will be removed in a future version. Use isinstance(dtype, CategoricalDtype) instead\n",
      "  if pd.api.types.is_categorical_dtype(vector):\n",
      "C:\\Users\\01-15\\anaconda3\\Lib\\site-packages\\seaborn\\_oldcore.py:1119: FutureWarning: use_inf_as_na option is deprecated and will be removed in a future version. Convert inf values to NaN before operating instead.\n",
      "  with pd.option_context('mode.use_inf_as_na', True):\n"
     ]
    },
    {
     "data": {
      "text/plain": [
       "<Axes: xlabel='연령', ylabel='Count'>"
      ]
     },
     "execution_count": 15,
     "metadata": {},
     "output_type": "execute_result"
    },
    {
     "data": {
      "image/png": "[encoded data removed]",
      "text/plain": [
       "<Figure size 640x480 with 1 Axes>"
      ]
     },
     "metadata": {},
     "output_type": "display_data"
    }
   ],
   "source": [
    "sns.histplot(data=df_ROSF,x='연령', kde=True)"
   ]
  },
  {
   "cell_type": "markdown",
   "id": "761d1b35-12b0-411e-a9a9-9067f5e3050b",
   "metadata": {
    "tags": []
   },
   "source": [
    "#### Large Lymphocyte\n",
    "- 정상범위 1500~4500/ul\n",
    "- 실제 data: 44.9-5.4 : 수치는 *10^2이라 생각해야할듯\n",
    "- 연속형"
   ]
  },
  {
   "cell_type": "code",
   "execution_count": 16,
   "id": "1e6b8567-15e9-4a68-9672-b4723ec90c78",
   "metadata": {
    "tags": []
   },
   "outputs": [
    {
     "data": {
      "text/plain": [
       "<bound method NDFrame.describe of 0       22.8\n",
       "1       44.9\n",
       "2       53.0\n",
       "3       54.7\n",
       "4       53.8\n",
       "        ... \n",
       "1889    44.0\n",
       "1890    30.8\n",
       "1891    36.7\n",
       "1892    32.5\n",
       "1893    49.5\n",
       "Name: Large Lymphocyte, Length: 1894, dtype: float64>"
      ]
     },
     "execution_count": 16,
     "metadata": {},
     "output_type": "execute_result"
    }
   ],
   "source": [
    "df_ROSF['Large Lymphocyte'].describe"
   ]
  },
  {
   "cell_type": "code",
   "execution_count": 17,
   "id": "b9d4956c-d43f-482c-95e2-c618db225abf",
   "metadata": {
    "tags": []
   },
   "outputs": [
    {
     "name": "stderr",
     "output_type": "stream",
     "text": [
      "C:\\Users\\01-15\\anaconda3\\Lib\\site-packages\\seaborn\\_oldcore.py:1498: FutureWarning: is_categorical_dtype is deprecated and will be removed in a future version. Use isinstance(dtype, CategoricalDtype) instead\n",
      "  if pd.api.types.is_categorical_dtype(vector):\n"
     ]
    },
    {
     "data": {
      "text/plain": [
       "<Axes: xlabel='Large Lymphocyte'>"
      ]
     },
     "execution_count": 17,
     "metadata": {},
     "output_type": "execute_result"
    },
    {
     "data": {
      "image/png": "[encoded data removed]",
      "text/plain": [
       "<Figure size 640x480 with 1 Axes>"
      ]
     },
     "metadata": {},
     "output_type": "display_data"
    }
   ],
   "source": [
    "sns.boxplot(data=df_ROSF, x='Large Lymphocyte')"
   ]
  },
  {
   "cell_type": "code",
   "execution_count": 18,
   "id": "9e14e7c8-a043-43a8-b1d8-868014a0e3b7",
   "metadata": {
    "tags": []
   },
   "outputs": [
    {
     "name": "stderr",
     "output_type": "stream",
     "text": [
      "C:\\Users\\01-15\\anaconda3\\Lib\\site-packages\\seaborn\\_oldcore.py:1498: FutureWarning: is_categorical_dtype is deprecated and will be removed in a future version. Use isinstance(dtype, CategoricalDtype) instead\n",
      "  if pd.api.types.is_categorical_dtype(vector):\n",
      "C:\\Users\\01-15\\anaconda3\\Lib\\site-packages\\seaborn\\_oldcore.py:1119: FutureWarning: use_inf_as_na option is deprecated and will be removed in a future version. Convert inf values to NaN before operating instead.\n",
      "  with pd.option_context('mode.use_inf_as_na', True):\n"
     ]
    },
    {
     "data": {
      "text/plain": [
       "<Axes: xlabel='Large Lymphocyte', ylabel='Count'>"
      ]
     },
     "execution_count": 18,
     "metadata": {},
     "output_type": "execute_result"
    },
    {
     "data": {
      "image/png": "[encoded data removed]",
      "text/plain": [
       "<Figure size 640x480 with 1 Axes>"
      ]
     },
     "metadata": {},
     "output_type": "display_data"
    }
   ],
   "source": [
    "sns.histplot(data=df_ROSF,x='Large Lymphocyte', kde=True)"
   ]
  },
  {
   "cell_type": "markdown",
   "id": "3942e9c5-5c0b-4663-9a44-ae823923f5c3",
   "metadata": {
    "tags": []
   },
   "source": [
    "#### 종양진행여부\n",
    "- 0: 없음\n",
    "- 1: 있음\n",
    "- 범주형"
   ]
  },
  {
   "cell_type": "code",
   "execution_count": 19,
   "id": "b758298b-7a50-41fe-a163-34f033f30d93",
   "metadata": {
    "tags": []
   },
   "outputs": [
    {
     "data": {
      "text/plain": [
       "종양진행여부\n",
       "0    1888\n",
       "1       6\n",
       "Name: count, dtype: int64"
      ]
     },
     "execution_count": 19,
     "metadata": {},
     "output_type": "execute_result"
    }
   ],
   "source": [
    "df_ROSF['종양진행여부'].value_counts()"
   ]
  },
  {
   "cell_type": "code",
   "execution_count": 20,
   "id": "34bcc3e2-2d8b-4661-85a3-fbe16410714d",
   "metadata": {
    "tags": []
   },
   "outputs": [
    {
     "name": "stderr",
     "output_type": "stream",
     "text": [
      "C:\\Users\\01-15\\anaconda3\\Lib\\site-packages\\seaborn\\_oldcore.py:1498: FutureWarning: is_categorical_dtype is deprecated and will be removed in a future version. Use isinstance(dtype, CategoricalDtype) instead\n",
      "  if pd.api.types.is_categorical_dtype(vector):\n",
      "C:\\Users\\01-15\\anaconda3\\Lib\\site-packages\\seaborn\\_oldcore.py:1498: FutureWarning: is_categorical_dtype is deprecated and will be removed in a future version. Use isinstance(dtype, CategoricalDtype) instead\n",
      "  if pd.api.types.is_categorical_dtype(vector):\n",
      "C:\\Users\\01-15\\anaconda3\\Lib\\site-packages\\seaborn\\_oldcore.py:1498: FutureWarning: is_categorical_dtype is deprecated and will be removed in a future version. Use isinstance(dtype, CategoricalDtype) instead\n",
      "  if pd.api.types.is_categorical_dtype(vector):\n"
     ]
    },
    {
     "data": {
      "text/plain": [
       "<Axes: xlabel='종양진행여부', ylabel='count'>"
      ]
     },
     "execution_count": 20,
     "metadata": {},
     "output_type": "execute_result"
    },
    {
     "data": {
      "image/png": "[encoded data removed]",
      "text/plain": [
       "<Figure size 640x480 with 1 Axes>"
      ]
     },
     "metadata": {},
     "output_type": "display_data"
    }
   ],
   "source": [
    "sns.countplot(data=df_ROSF, x='종양진행여부')"
   ]
  },
  {
   "cell_type": "markdown",
   "id": "1ae43e01-492e-497d-8166-b527725608e3",
   "metadata": {
    "tags": []
   },
   "source": [
    "#### 디스크단면적\n",
    "- 연속형\n",
    "- 50 - 200 px^2"
   ]
  },
  {
   "cell_type": "code",
   "execution_count": 21,
   "id": "827bfee1-e6a4-4c02-b06c-dd7e881a39b5",
   "metadata": {
    "tags": []
   },
   "outputs": [
    {
     "data": {
      "text/plain": [
       "count    1893.000000\n",
       "mean     1989.788774\n",
       "std       314.478436\n",
       "min      1145.800000\n",
       "25%      1777.000000\n",
       "50%      1985.500000\n",
       "75%      2178.500000\n",
       "max      3214.200000\n",
       "Name: 디스크단면적, dtype: float64"
      ]
     },
     "execution_count": 21,
     "metadata": {},
     "output_type": "execute_result"
    }
   ],
   "source": [
    "df_ROSF['디스크단면적'].describe()"
   ]
  },
  {
   "cell_type": "code",
   "execution_count": 22,
   "id": "8e0c4adf-f0bd-48a8-b767-b7f2f6a6a81f",
   "metadata": {
    "tags": []
   },
   "outputs": [
    {
     "name": "stderr",
     "output_type": "stream",
     "text": [
      "C:\\Users\\01-15\\anaconda3\\Lib\\site-packages\\seaborn\\_oldcore.py:1498: FutureWarning: is_categorical_dtype is deprecated and will be removed in a future version. Use isinstance(dtype, CategoricalDtype) instead\n",
      "  if pd.api.types.is_categorical_dtype(vector):\n"
     ]
    },
    {
     "data": {
      "text/plain": [
       "<Axes: xlabel='디스크단면적'>"
      ]
     },
     "execution_count": 22,
     "metadata": {},
     "output_type": "execute_result"
    },
    {
     "data": {
      "image/png": "[encoded data removed]",
      "text/plain": [
       "<Figure size 640x480 with 1 Axes>"
      ]
     },
     "metadata": {},
     "output_type": "display_data"
    }
   ],
   "source": [
    "sns.boxplot(data=df_ROSF,x='디스크단면적')"
   ]
  },
  {
   "cell_type": "code",
   "execution_count": 23,
   "id": "ee7e49b2-1ae4-4d87-938f-896c29ce7a00",
   "metadata": {
    "tags": []
   },
   "outputs": [
    {
     "name": "stderr",
     "output_type": "stream",
     "text": [
      "C:\\Users\\01-15\\anaconda3\\Lib\\site-packages\\seaborn\\_oldcore.py:1498: FutureWarning: is_categorical_dtype is deprecated and will be removed in a future version. Use isinstance(dtype, CategoricalDtype) instead\n",
      "  if pd.api.types.is_categorical_dtype(vector):\n",
      "C:\\Users\\01-15\\anaconda3\\Lib\\site-packages\\seaborn\\_oldcore.py:1119: FutureWarning: use_inf_as_na option is deprecated and will be removed in a future version. Convert inf values to NaN before operating instead.\n",
      "  with pd.option_context('mode.use_inf_as_na', True):\n"
     ]
    },
    {
     "data": {
      "text/plain": [
       "<Axes: xlabel='디스크단면적', ylabel='Count'>"
      ]
     },
     "execution_count": 23,
     "metadata": {},
     "output_type": "execute_result"
    },
    {
     "data": {
      "image/png": "[encoded data removed]",
      "text/plain": [
       "<Figure size 640x480 with 1 Axes>"
      ]
     },
     "metadata": {},
     "output_type": "display_data"
    }
   ],
   "source": [
    "sns.histplot(data=df_ROSF,x='디스크단면적', kde=True)"
   ]
  },
  {
   "cell_type": "markdown",
   "id": "ec1b221a-5c52-4763-8455-945433353bb4",
   "metadata": {
    "tags": []
   },
   "source": [
    "#### 척추이동척도\n",
    "- Middle, Down, Up, Extremely down, Extremely up\n",
    "- 범주형\n"
   ]
  },
  {
   "cell_type": "code",
   "execution_count": 24,
   "id": "23625f50-dad6-43d4-8c6f-1e634ecbc0ba",
   "metadata": {
    "tags": []
   },
   "outputs": [
    {
     "data": {
      "text/plain": [
       "척추이동척도\n",
       "Middle            1260\n",
       "Down               513\n",
       "Up                  65\n",
       "Extremely down      40\n",
       "Extremely up        16\n",
       "Name: count, dtype: int64"
      ]
     },
     "execution_count": 24,
     "metadata": {},
     "output_type": "execute_result"
    }
   ],
   "source": [
    "df_ROSF['척추이동척도'].value_counts()"
   ]
  },
  {
   "cell_type": "code",
   "execution_count": 25,
   "id": "484db5f3-6b5c-40e6-9d16-74638cdb8841",
   "metadata": {
    "tags": []
   },
   "outputs": [
    {
     "name": "stderr",
     "output_type": "stream",
     "text": [
      "C:\\Users\\01-15\\anaconda3\\Lib\\site-packages\\seaborn\\_oldcore.py:1498: FutureWarning: is_categorical_dtype is deprecated and will be removed in a future version. Use isinstance(dtype, CategoricalDtype) instead\n",
      "  if pd.api.types.is_categorical_dtype(vector):\n",
      "C:\\Users\\01-15\\anaconda3\\Lib\\site-packages\\seaborn\\_oldcore.py:1498: FutureWarning: is_categorical_dtype is deprecated and will be removed in a future version. Use isinstance(dtype, CategoricalDtype) instead\n",
      "  if pd.api.types.is_categorical_dtype(vector):\n",
      "C:\\Users\\01-15\\anaconda3\\Lib\\site-packages\\seaborn\\_oldcore.py:1498: FutureWarning: is_categorical_dtype is deprecated and will be removed in a future version. Use isinstance(dtype, CategoricalDtype) instead\n",
      "  if pd.api.types.is_categorical_dtype(vector):\n"
     ]
    },
    {
     "data": {
      "text/plain": [
       "<Axes: xlabel='척추이동척도', ylabel='count'>"
      ]
     },
     "execution_count": 25,
     "metadata": {},
     "output_type": "execute_result"
    },
    {
     "data": {
      "image/png": "[encoded data removed]",
      "text/plain": [
       "<Figure size 640x480 with 1 Axes>"
      ]
     },
     "metadata": {},
     "output_type": "display_data"
    }
   ],
   "source": [
    "sns.countplot(data=df_ROSF, x='척추이동척도')"
   ]
  },
  {
   "cell_type": "markdown",
   "id": "8000e3a2-9e14-468c-ac6c-6e87cb113730",
   "metadata": {},
   "source": [
    "#### 수술시간\n",
    "- 연속형"
   ]
  },
  {
   "cell_type": "code",
   "execution_count": 26,
   "id": "21be8bb2-901c-4f77-a3fe-00e5f9649112",
   "metadata": {
    "tags": []
   },
   "outputs": [
    {
     "data": {
      "text/plain": [
       "count    1840.000000\n",
       "mean       62.066304\n",
       "std        24.994615\n",
       "min         5.000000\n",
       "25%        45.000000\n",
       "50%        60.000000\n",
       "75%        77.000000\n",
       "max       220.000000\n",
       "Name: 수술시간, dtype: float64"
      ]
     },
     "execution_count": 26,
     "metadata": {},
     "output_type": "execute_result"
    }
   ],
   "source": [
    "df_ROSF['수술시간'].describe()"
   ]
  },
  {
   "cell_type": "code",
   "execution_count": 27,
   "id": "482aecb5-1fee-459e-a306-07bc9bf78b42",
   "metadata": {
    "tags": []
   },
   "outputs": [
    {
     "name": "stderr",
     "output_type": "stream",
     "text": [
      "C:\\Users\\01-15\\anaconda3\\Lib\\site-packages\\seaborn\\_oldcore.py:1498: FutureWarning: is_categorical_dtype is deprecated and will be removed in a future version. Use isinstance(dtype, CategoricalDtype) instead\n",
      "  if pd.api.types.is_categorical_dtype(vector):\n"
     ]
    },
    {
     "data": {
      "text/plain": [
       "<Axes: xlabel='수술시간'>"
      ]
     },
     "execution_count": 27,
     "metadata": {},
     "output_type": "execute_result"
    },
    {
     "data": {
      "image/png": "[encoded data removed]",
      "text/plain": [
       "<Figure size 640x480 with 1 Axes>"
      ]
     },
     "metadata": {},
     "output_type": "display_data"
    }
   ],
   "source": [
    "sns.boxplot(data=df_ROSF,x='수술시간')"
   ]
  },
  {
   "cell_type": "code",
   "execution_count": 28,
   "id": "1f991c4a-c701-4a1d-823a-430363e004a2",
   "metadata": {
    "tags": []
   },
   "outputs": [
    {
     "name": "stderr",
     "output_type": "stream",
     "text": [
      "C:\\Users\\01-15\\anaconda3\\Lib\\site-packages\\seaborn\\_oldcore.py:1498: FutureWarning: is_categorical_dtype is deprecated and will be removed in a future version. Use isinstance(dtype, CategoricalDtype) instead\n",
      "  if pd.api.types.is_categorical_dtype(vector):\n",
      "C:\\Users\\01-15\\anaconda3\\Lib\\site-packages\\seaborn\\_oldcore.py:1119: FutureWarning: use_inf_as_na option is deprecated and will be removed in a future version. Convert inf values to NaN before operating instead.\n",
      "  with pd.option_context('mode.use_inf_as_na', True):\n"
     ]
    },
    {
     "data": {
      "text/plain": [
       "<Axes: xlabel='수술시간', ylabel='Count'>"
      ]
     },
     "execution_count": 28,
     "metadata": {},
     "output_type": "execute_result"
    },
    {
     "data": {
      "image/png": "[encoded data removed]",
      "text/plain": [
       "<Figure size 640x480 with 1 Axes>"
      ]
     },
     "metadata": {},
     "output_type": "display_data"
    }
   ],
   "source": [
    "sns.histplot(data=df_ROSF,x='수술시간', kde=True)"
   ]
  },
  {
   "cell_type": "markdown",
   "id": "096b09a9-088c-4bfd-b1cc-a7dc470c15d0",
   "metadata": {},
   "source": [
    "#### 수술기법\n",
    "- 용어 검색: 뤼튼 \n",
    "- TELD_ Tubular Epidural Lumbar Discectomy\n",
    "             - 삽입되는 튜브를 통해 디스크 파편 제거 \n",
    "- IELD_ Intervertebral Endoscopic Lumbar Discectomy\n",
    "            - 내시경 이용하여 디스크 조직 제거\n",
    "- 범주형 "
   ]
  },
  {
   "cell_type": "code",
   "execution_count": 29,
   "id": "649b7444-0eb1-43f4-92a8-06743896de8b",
   "metadata": {
    "tags": []
   },
   "outputs": [
    {
     "data": {
      "text/plain": [
       "수술기법\n",
       "TELD    1673\n",
       "IELD     140\n",
       "Name: count, dtype: int64"
      ]
     },
     "execution_count": 29,
     "metadata": {},
     "output_type": "execute_result"
    }
   ],
   "source": [
    "df_ROSF['수술기법'].value_counts()"
   ]
  },
  {
   "cell_type": "code",
   "execution_count": 30,
   "id": "1a3355b2-01b2-4223-8e93-81e443ca3dc0",
   "metadata": {
    "tags": []
   },
   "outputs": [
    {
     "name": "stderr",
     "output_type": "stream",
     "text": [
      "C:\\Users\\01-15\\anaconda3\\Lib\\site-packages\\seaborn\\_oldcore.py:1498: FutureWarning: is_categorical_dtype is deprecated and will be removed in a future version. Use isinstance(dtype, CategoricalDtype) instead\n",
      "  if pd.api.types.is_categorical_dtype(vector):\n",
      "C:\\Users\\01-15\\anaconda3\\Lib\\site-packages\\seaborn\\_oldcore.py:1498: FutureWarning: is_categorical_dtype is deprecated and will be removed in a future version. Use isinstance(dtype, CategoricalDtype) instead\n",
      "  if pd.api.types.is_categorical_dtype(vector):\n",
      "C:\\Users\\01-15\\anaconda3\\Lib\\site-packages\\seaborn\\_oldcore.py:1498: FutureWarning: is_categorical_dtype is deprecated and will be removed in a future version. Use isinstance(dtype, CategoricalDtype) instead\n",
      "  if pd.api.types.is_categorical_dtype(vector):\n"
     ]
    },
    {
     "data": {
      "text/plain": [
       "<Axes: xlabel='수술기법', ylabel='count'>"
      ]
     },
     "execution_count": 30,
     "metadata": {},
     "output_type": "execute_result"
    },
    {
     "data": {
      "image/png": "[encoded data removed]",
      "text/plain": [
       "<Figure size 640x480 with 1 Axes>"
      ]
     },
     "metadata": {},
     "output_type": "display_data"
    }
   ],
   "source": [
    "sns.countplot(data=df_ROSF, x='수술기법')"
   ]
  },
  {
   "cell_type": "markdown",
   "id": "6413b697-7d0f-46fc-a179-eb633f5902c5",
   "metadata": {},
   "source": [
    "#### Instability\n",
    "- 척추 안정성\n",
    "- 0 : 안정성 없음\n",
    "- 1: 안정성 있음\n",
    "- 범주형"
   ]
  },
  {
   "cell_type": "code",
   "execution_count": 31,
   "id": "38db754c-723f-43cb-a534-bae6d0e31872",
   "metadata": {
    "tags": []
   },
   "outputs": [
    {
     "data": {
      "text/plain": [
       "Instability\n",
       "0    1817\n",
       "1      77\n",
       "Name: count, dtype: int64"
      ]
     },
     "execution_count": 31,
     "metadata": {},
     "output_type": "execute_result"
    }
   ],
   "source": [
    "df_ROSF['Instability'].value_counts()"
   ]
  },
  {
   "cell_type": "code",
   "execution_count": 32,
   "id": "a24601a9-e268-4c51-a8bf-c1d140e665c1",
   "metadata": {
    "tags": []
   },
   "outputs": [
    {
     "name": "stderr",
     "output_type": "stream",
     "text": [
      "C:\\Users\\01-15\\anaconda3\\Lib\\site-packages\\seaborn\\_oldcore.py:1498: FutureWarning: is_categorical_dtype is deprecated and will be removed in a future version. Use isinstance(dtype, CategoricalDtype) instead\n",
      "  if pd.api.types.is_categorical_dtype(vector):\n",
      "C:\\Users\\01-15\\anaconda3\\Lib\\site-packages\\seaborn\\_oldcore.py:1498: FutureWarning: is_categorical_dtype is deprecated and will be removed in a future version. Use isinstance(dtype, CategoricalDtype) instead\n",
      "  if pd.api.types.is_categorical_dtype(vector):\n",
      "C:\\Users\\01-15\\anaconda3\\Lib\\site-packages\\seaborn\\_oldcore.py:1498: FutureWarning: is_categorical_dtype is deprecated and will be removed in a future version. Use isinstance(dtype, CategoricalDtype) instead\n",
      "  if pd.api.types.is_categorical_dtype(vector):\n"
     ]
    },
    {
     "data": {
      "text/plain": [
       "<Axes: xlabel='Instability', ylabel='count'>"
      ]
     },
     "execution_count": 32,
     "metadata": {},
     "output_type": "execute_result"
    },
    {
     "data": {
      "image/png": "[encoded data removed]",
      "text/plain": [
       "<Figure size 640x480 with 1 Axes>"
      ]
     },
     "metadata": {},
     "output_type": "display_data"
    }
   ],
   "source": [
    "sns.countplot(data=df_ROSF, x='Instability')"
   ]
  },
  {
   "cell_type": "markdown",
   "id": "2c5c6c50-9e49-4ff1-bc72-c38d41407e92",
   "metadata": {},
   "source": [
    "#### 혈액형\n",
    "- 범주형"
   ]
  },
  {
   "cell_type": "code",
   "execution_count": 33,
   "id": "46e34797-8479-426f-8c12-3b22419cdc15",
   "metadata": {
    "tags": []
   },
   "outputs": [
    {
     "data": {
      "text/plain": [
       "혈액형\n",
       "RH+A     688\n",
       "RH+O     532\n",
       "RH+B     476\n",
       "RH+AB    198\n",
       "Name: count, dtype: int64"
      ]
     },
     "execution_count": 33,
     "metadata": {},
     "output_type": "execute_result"
    }
   ],
   "source": [
    "df_ROSF['혈액형'].value_counts()"
   ]
  },
  {
   "cell_type": "code",
   "execution_count": 34,
   "id": "a855cecb-2e46-457d-b364-26ae096c45ea",
   "metadata": {
    "tags": []
   },
   "outputs": [
    {
     "name": "stderr",
     "output_type": "stream",
     "text": [
      "C:\\Users\\01-15\\anaconda3\\Lib\\site-packages\\seaborn\\_oldcore.py:1498: FutureWarning: is_categorical_dtype is deprecated and will be removed in a future version. Use isinstance(dtype, CategoricalDtype) instead\n",
      "  if pd.api.types.is_categorical_dtype(vector):\n",
      "C:\\Users\\01-15\\anaconda3\\Lib\\site-packages\\seaborn\\_oldcore.py:1498: FutureWarning: is_categorical_dtype is deprecated and will be removed in a future version. Use isinstance(dtype, CategoricalDtype) instead\n",
      "  if pd.api.types.is_categorical_dtype(vector):\n",
      "C:\\Users\\01-15\\anaconda3\\Lib\\site-packages\\seaborn\\_oldcore.py:1498: FutureWarning: is_categorical_dtype is deprecated and will be removed in a future version. Use isinstance(dtype, CategoricalDtype) instead\n",
      "  if pd.api.types.is_categorical_dtype(vector):\n"
     ]
    },
    {
     "data": {
      "text/plain": [
       "<Axes: xlabel='혈액형', ylabel='count'>"
      ]
     },
     "execution_count": 34,
     "metadata": {},
     "output_type": "execute_result"
    },
    {
     "data": {
      "image/png": "[encoded data removed]",
      "text/plain": [
       "<Figure size 640x480 with 1 Axes>"
      ]
     },
     "metadata": {},
     "output_type": "display_data"
    }
   ],
   "source": [
    "sns.countplot(data=df_ROSF, x='혈액형')"
   ]
  },
  {
   "cell_type": "markdown",
   "id": "641e93dc-604b-4565-9071-38622a3ae635",
   "metadata": {},
   "source": [
    "#### 신장, 체중\n"
   ]
  },
  {
   "cell_type": "code",
   "execution_count": 35,
   "id": "cda761c5-67ab-4413-b13b-cbdaeb830e11",
   "metadata": {
    "tags": []
   },
   "outputs": [
    {
     "data": {
      "text/plain": [
       "count    1894.000000\n",
       "mean      168.027983\n",
       "std         9.211419\n",
       "min       140.000000\n",
       "25%       161.000000\n",
       "50%       169.000000\n",
       "75%       175.000000\n",
       "max       204.000000\n",
       "Name: 신장, dtype: float64"
      ]
     },
     "execution_count": 35,
     "metadata": {},
     "output_type": "execute_result"
    }
   ],
   "source": [
    "df_ROSF['신장'].describe()"
   ]
  },
  {
   "cell_type": "code",
   "execution_count": 36,
   "id": "61db2cc9-baeb-45bd-9c82-1d64b3094fb4",
   "metadata": {
    "tags": []
   },
   "outputs": [
    {
     "data": {
      "text/plain": [
       "count    1894.000000\n",
       "mean       68.111140\n",
       "std        11.234318\n",
       "min        35.000000\n",
       "25%        59.700000\n",
       "50%        68.000000\n",
       "75%        75.000000\n",
       "max       136.100000\n",
       "Name: 체중, dtype: float64"
      ]
     },
     "execution_count": 36,
     "metadata": {},
     "output_type": "execute_result"
    }
   ],
   "source": [
    "df_ROSF['체중'].describe()"
   ]
  },
  {
   "cell_type": "code",
   "execution_count": 37,
   "id": "6de3b70c-813c-44be-b912-7b28996fa0a4",
   "metadata": {
    "tags": []
   },
   "outputs": [
    {
     "name": "stderr",
     "output_type": "stream",
     "text": [
      "C:\\Users\\01-15\\anaconda3\\Lib\\site-packages\\seaborn\\_oldcore.py:1498: FutureWarning: is_categorical_dtype is deprecated and will be removed in a future version. Use isinstance(dtype, CategoricalDtype) instead\n",
      "  if pd.api.types.is_categorical_dtype(vector):\n"
     ]
    },
    {
     "data": {
      "text/plain": [
       "<Axes: xlabel='신장'>"
      ]
     },
     "execution_count": 37,
     "metadata": {},
     "output_type": "execute_result"
    },
    {
     "data": {
      "image/png": "[encoded data removed]",
      "text/plain": [
       "<Figure size 640x480 with 1 Axes>"
      ]
     },
     "metadata": {},
     "output_type": "display_data"
    }
   ],
   "source": [
    "sns.boxplot(data=df_ROSF, x='신장')"
   ]
  },
  {
   "cell_type": "code",
   "execution_count": 38,
   "id": "2cb5727d-2cae-4162-80fc-b3971729d785",
   "metadata": {
    "tags": []
   },
   "outputs": [
    {
     "name": "stderr",
     "output_type": "stream",
     "text": [
      "C:\\Users\\01-15\\anaconda3\\Lib\\site-packages\\seaborn\\_oldcore.py:1498: FutureWarning: is_categorical_dtype is deprecated and will be removed in a future version. Use isinstance(dtype, CategoricalDtype) instead\n",
      "  if pd.api.types.is_categorical_dtype(vector):\n",
      "C:\\Users\\01-15\\anaconda3\\Lib\\site-packages\\seaborn\\_oldcore.py:1119: FutureWarning: use_inf_as_na option is deprecated and will be removed in a future version. Convert inf values to NaN before operating instead.\n",
      "  with pd.option_context('mode.use_inf_as_na', True):\n"
     ]
    },
    {
     "data": {
      "text/plain": [
       "<Axes: xlabel='신장', ylabel='Count'>"
      ]
     },
     "execution_count": 38,
     "metadata": {},
     "output_type": "execute_result"
    },
    {
     "data": {
      "image/png": "[encoded data removed]",
      "text/plain": [
       "<Figure size 640x480 with 1 Axes>"
      ]
     },
     "metadata": {},
     "output_type": "display_data"
    }
   ],
   "source": [
    "sns.histplot(data=df_ROSF, x='신장', kde=True)"
   ]
  },
  {
   "cell_type": "code",
   "execution_count": 39,
   "id": "d6849f71-c2e1-4bb4-a9a0-3e4e4afc5798",
   "metadata": {
    "tags": []
   },
   "outputs": [
    {
     "name": "stderr",
     "output_type": "stream",
     "text": [
      "C:\\Users\\01-15\\anaconda3\\Lib\\site-packages\\seaborn\\_oldcore.py:1498: FutureWarning: is_categorical_dtype is deprecated and will be removed in a future version. Use isinstance(dtype, CategoricalDtype) instead\n",
      "  if pd.api.types.is_categorical_dtype(vector):\n"
     ]
    },
    {
     "data": {
      "text/plain": [
       "<Axes: xlabel='체중'>"
      ]
     },
     "execution_count": 39,
     "metadata": {},
     "output_type": "execute_result"
    },
    {
     "data": {
      "image/png": "[encoded data removed]",
      "text/plain": [
       "<Figure size 640x480 with 1 Axes>"
      ]
     },
     "metadata": {},
     "output_type": "display_data"
    }
   ],
   "source": [
    "sns.boxplot(data=df_ROSF, x='체중')"
   ]
  },
  {
   "cell_type": "code",
   "execution_count": 40,
   "id": "1202286a-1f9c-4b49-819e-be9cf6d69447",
   "metadata": {
    "tags": []
   },
   "outputs": [
    {
     "name": "stderr",
     "output_type": "stream",
     "text": [
      "C:\\Users\\01-15\\anaconda3\\Lib\\site-packages\\seaborn\\_oldcore.py:1498: FutureWarning: is_categorical_dtype is deprecated and will be removed in a future version. Use isinstance(dtype, CategoricalDtype) instead\n",
      "  if pd.api.types.is_categorical_dtype(vector):\n",
      "C:\\Users\\01-15\\anaconda3\\Lib\\site-packages\\seaborn\\_oldcore.py:1119: FutureWarning: use_inf_as_na option is deprecated and will be removed in a future version. Convert inf values to NaN before operating instead.\n",
      "  with pd.option_context('mode.use_inf_as_na', True):\n"
     ]
    },
    {
     "data": {
      "text/plain": [
       "<Axes: xlabel='체중', ylabel='Count'>"
      ]
     },
     "execution_count": 40,
     "metadata": {},
     "output_type": "execute_result"
    },
    {
     "data": {
      "image/png": "[encoded data removed]",
      "text/plain": [
       "<Figure size 640x480 with 1 Axes>"
      ]
     },
     "metadata": {},
     "output_type": "display_data"
    }
   ],
   "source": [
    "sns.histplot(data=df_ROSF, x='체중', kde=True)"
   ]
  },
  {
   "cell_type": "code",
   "execution_count": null,
   "id": "686f2de1-b466-4ff2-8e0c-37512bccf5c4",
   "metadata": {},
   "outputs": [],
   "source": []
  }
 ],
 "metadata": {
  "kernelspec": {
   "display_name": "Python 3 (ipykernel)",
   "language": "python",
   "name": "python3"
  },
  "language_info": {
   "codemirror_mode": {
    "name": "ipython",
    "version": 3
   },
   "file_extension": ".py",
   "mimetype": "text/x-python",
   "name": "python",
   "nbconvert_exporter": "python",
   "pygments_lexer": "ipython3",
   "version": "3.11.3"
  }
 },
 "nbformat": 4,
 "nbformat_minor": 5
}
