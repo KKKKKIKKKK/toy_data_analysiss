{
 "cells": [
  {
   "cell_type": "code",
   "execution_count": 1,
   "id": "630d66cc-1052-4d58-b536-6f3b12f60463",
   "metadata": {
    "tags": []
   },
   "outputs": [],
   "source": [
    "import matplotlib.pyplot as plt\n",
    "import matplotlib as mpl\n",
    "mpl.rc('font',family='Malgun Gothic')\n",
    "import seaborn as sns\n",
    "import pandas as pd\n",
    "import scipy.stats as stats\n",
    "import numpy as np"
   ]
  },
  {
   "cell_type": "code",
   "execution_count": 2,
   "id": "26e44300-21aa-4da4-896b-e209d9dc7d07",
   "metadata": {
    "tags": []
   },
   "outputs": [
    {
     "data": {
      "text/html": [
       "<div>\n",
       "<style scoped>\n",
       "    .dataframe tbody tr th:only-of-type {\n",
       "        vertical-align: middle;\n",
       "    }\n",
       "\n",
       "    .dataframe tbody tr th {\n",
       "        vertical-align: top;\n",
       "    }\n",
       "\n",
       "    .dataframe thead th {\n",
       "        text-align: right;\n",
       "    }\n",
       "</style>\n",
       "<table border=\"1\" class=\"dataframe\">\n",
       "  <thead>\n",
       "    <tr style=\"text-align: right;\">\n",
       "      <th></th>\n",
       "      <th>Unnamed: 0</th>\n",
       "      <th>EDC_SBA</th>\n",
       "      <th>BTH_YYYY</th>\n",
       "      <th>DTH_YYYYMM</th>\n",
       "      <th>MCARE_SUBJ_CD</th>\n",
       "      <th>OPRTN_YN</th>\n",
       "      <th>TOT_PRSC_DD_CNT</th>\n",
       "      <th>MCARE_RSLT_TYPE</th>\n",
       "      <th>STD_YYYY</th>\n",
       "    </tr>\n",
       "  </thead>\n",
       "  <tbody>\n",
       "    <tr>\n",
       "      <th>0</th>\n",
       "      <td>0</td>\n",
       "      <td>3000</td>\n",
       "      <td>1921LE</td>\n",
       "      <td>200805.0</td>\n",
       "      <td>1</td>\n",
       "      <td>0</td>\n",
       "      <td>30</td>\n",
       "      <td>5.0</td>\n",
       "      <td>2002</td>\n",
       "    </tr>\n",
       "    <tr>\n",
       "      <th>1</th>\n",
       "      <td>1</td>\n",
       "      <td>6000</td>\n",
       "      <td>1921LE</td>\n",
       "      <td>200805.0</td>\n",
       "      <td>1</td>\n",
       "      <td>0</td>\n",
       "      <td>60</td>\n",
       "      <td>5.0</td>\n",
       "      <td>2002</td>\n",
       "    </tr>\n",
       "  </tbody>\n",
       "</table>\n",
       "</div>"
      ],
      "text/plain": [
       "   Unnamed: 0  EDC_SBA BTH_YYYY  DTH_YYYYMM  MCARE_SUBJ_CD  OPRTN_YN  \\\n",
       "0           0     3000   1921LE    200805.0              1         0   \n",
       "1           1     6000   1921LE    200805.0              1         0   \n",
       "\n",
       "   TOT_PRSC_DD_CNT  MCARE_RSLT_TYPE  STD_YYYY  \n",
       "0               30              5.0      2002  \n",
       "1               60              5.0      2002  "
      ]
     },
     "execution_count": 2,
     "metadata": {},
     "output_type": "execute_result"
    }
   ],
   "source": [
    "df_BM = pd.read_csv('../../datasets/JoinCollection NSC2_BND_M20.csv')\n",
    "df_BM[:2]"
   ]
  },
  {
   "cell_type": "code",
   "execution_count": 3,
   "id": "2f7635a6-dab6-4ccc-bc4b-084246eaac60",
   "metadata": {
    "tags": []
   },
   "outputs": [
    {
     "name": "stdout",
     "output_type": "stream",
     "text": [
      "<class 'pandas.core.frame.DataFrame'>\n",
      "RangeIndex: 4629 entries, 0 to 4628\n",
      "Data columns (total 9 columns):\n",
      " #   Column           Non-Null Count  Dtype  \n",
      "---  ------           --------------  -----  \n",
      " 0   Unnamed: 0       4629 non-null   int64  \n",
      " 1   EDC_SBA          4629 non-null   int64  \n",
      " 2   BTH_YYYY         4629 non-null   object \n",
      " 3   DTH_YYYYMM       373 non-null    float64\n",
      " 4   MCARE_SUBJ_CD    4629 non-null   int64  \n",
      " 5   OPRTN_YN         4629 non-null   int64  \n",
      " 6   TOT_PRSC_DD_CNT  4629 non-null   int64  \n",
      " 7   MCARE_RSLT_TYPE  4205 non-null   float64\n",
      " 8   STD_YYYY         4629 non-null   int64  \n",
      "dtypes: float64(2), int64(6), object(1)\n",
      "memory usage: 325.6+ KB\n"
     ]
    }
   ],
   "source": [
    "df_BM.info()"
   ]
  },
  {
   "cell_type": "code",
   "execution_count": 4,
   "id": "fa3fa349-dfc8-4a85-b469-e4e9b424a7f0",
   "metadata": {
    "tags": []
   },
   "outputs": [
    {
     "data": {
      "text/html": [
       "<div>\n",
       "<style scoped>\n",
       "    .dataframe tbody tr th:only-of-type {\n",
       "        vertical-align: middle;\n",
       "    }\n",
       "\n",
       "    .dataframe tbody tr th {\n",
       "        vertical-align: top;\n",
       "    }\n",
       "\n",
       "    .dataframe thead th {\n",
       "        text-align: right;\n",
       "    }\n",
       "</style>\n",
       "<table border=\"1\" class=\"dataframe\">\n",
       "  <thead>\n",
       "    <tr style=\"text-align: right;\">\n",
       "      <th></th>\n",
       "      <th>EDC_SBA</th>\n",
       "      <th>BTH_YYYY</th>\n",
       "      <th>DTH_YYYYMM</th>\n",
       "      <th>MCARE_SUBJ_CD</th>\n",
       "      <th>OPRTN_YN</th>\n",
       "      <th>TOT_PRSC_DD_CNT</th>\n",
       "      <th>MCARE_RSLT_TYPE</th>\n",
       "      <th>STD_YYYY</th>\n",
       "    </tr>\n",
       "  </thead>\n",
       "  <tbody>\n",
       "    <tr>\n",
       "      <th>0</th>\n",
       "      <td>3000</td>\n",
       "      <td>1921LE</td>\n",
       "      <td>200805.0</td>\n",
       "      <td>1</td>\n",
       "      <td>0</td>\n",
       "      <td>30</td>\n",
       "      <td>5.0</td>\n",
       "      <td>2002</td>\n",
       "    </tr>\n",
       "    <tr>\n",
       "      <th>1</th>\n",
       "      <td>6000</td>\n",
       "      <td>1921LE</td>\n",
       "      <td>200805.0</td>\n",
       "      <td>1</td>\n",
       "      <td>0</td>\n",
       "      <td>60</td>\n",
       "      <td>5.0</td>\n",
       "      <td>2002</td>\n",
       "    </tr>\n",
       "    <tr>\n",
       "      <th>2</th>\n",
       "      <td>3000</td>\n",
       "      <td>1921LE</td>\n",
       "      <td>200805.0</td>\n",
       "      <td>1</td>\n",
       "      <td>0</td>\n",
       "      <td>30</td>\n",
       "      <td>5.0</td>\n",
       "      <td>2002</td>\n",
       "    </tr>\n",
       "    <tr>\n",
       "      <th>3</th>\n",
       "      <td>4200</td>\n",
       "      <td>1921LE</td>\n",
       "      <td>200805.0</td>\n",
       "      <td>23</td>\n",
       "      <td>0</td>\n",
       "      <td>7</td>\n",
       "      <td>1.0</td>\n",
       "      <td>2007</td>\n",
       "    </tr>\n",
       "    <tr>\n",
       "      <th>4</th>\n",
       "      <td>1500</td>\n",
       "      <td>1921LE</td>\n",
       "      <td>201409.0</td>\n",
       "      <td>1</td>\n",
       "      <td>0</td>\n",
       "      <td>7</td>\n",
       "      <td>5.0</td>\n",
       "      <td>2004</td>\n",
       "    </tr>\n",
       "    <tr>\n",
       "      <th>...</th>\n",
       "      <td>...</td>\n",
       "      <td>...</td>\n",
       "      <td>...</td>\n",
       "      <td>...</td>\n",
       "      <td>...</td>\n",
       "      <td>...</td>\n",
       "      <td>...</td>\n",
       "      <td>...</td>\n",
       "    </tr>\n",
       "    <tr>\n",
       "      <th>4624</th>\n",
       "      <td>3000</td>\n",
       "      <td>2005</td>\n",
       "      <td>NaN</td>\n",
       "      <td>1</td>\n",
       "      <td>0</td>\n",
       "      <td>30</td>\n",
       "      <td>1.0</td>\n",
       "      <td>2005</td>\n",
       "    </tr>\n",
       "    <tr>\n",
       "      <th>4625</th>\n",
       "      <td>3000</td>\n",
       "      <td>2005</td>\n",
       "      <td>NaN</td>\n",
       "      <td>1</td>\n",
       "      <td>0</td>\n",
       "      <td>30</td>\n",
       "      <td>1.0</td>\n",
       "      <td>2005</td>\n",
       "    </tr>\n",
       "    <tr>\n",
       "      <th>4626</th>\n",
       "      <td>3000</td>\n",
       "      <td>2005</td>\n",
       "      <td>NaN</td>\n",
       "      <td>1</td>\n",
       "      <td>0</td>\n",
       "      <td>30</td>\n",
       "      <td>1.0</td>\n",
       "      <td>2005</td>\n",
       "    </tr>\n",
       "    <tr>\n",
       "      <th>4627</th>\n",
       "      <td>3000</td>\n",
       "      <td>2005</td>\n",
       "      <td>NaN</td>\n",
       "      <td>1</td>\n",
       "      <td>0</td>\n",
       "      <td>30</td>\n",
       "      <td>1.0</td>\n",
       "      <td>2006</td>\n",
       "    </tr>\n",
       "    <tr>\n",
       "      <th>4628</th>\n",
       "      <td>1500</td>\n",
       "      <td>2005</td>\n",
       "      <td>NaN</td>\n",
       "      <td>1</td>\n",
       "      <td>0</td>\n",
       "      <td>30</td>\n",
       "      <td>1.0</td>\n",
       "      <td>2010</td>\n",
       "    </tr>\n",
       "  </tbody>\n",
       "</table>\n",
       "<p>4629 rows × 8 columns</p>\n",
       "</div>"
      ],
      "text/plain": [
       "      EDC_SBA BTH_YYYY  DTH_YYYYMM  MCARE_SUBJ_CD  OPRTN_YN  TOT_PRSC_DD_CNT  \\\n",
       "0        3000   1921LE    200805.0              1         0               30   \n",
       "1        6000   1921LE    200805.0              1         0               60   \n",
       "2        3000   1921LE    200805.0              1         0               30   \n",
       "3        4200   1921LE    200805.0             23         0                7   \n",
       "4        1500   1921LE    201409.0              1         0                7   \n",
       "...       ...      ...         ...            ...       ...              ...   \n",
       "4624     3000     2005         NaN              1         0               30   \n",
       "4625     3000     2005         NaN              1         0               30   \n",
       "4626     3000     2005         NaN              1         0               30   \n",
       "4627     3000     2005         NaN              1         0               30   \n",
       "4628     1500     2005         NaN              1         0               30   \n",
       "\n",
       "      MCARE_RSLT_TYPE  STD_YYYY  \n",
       "0                 5.0      2002  \n",
       "1                 5.0      2002  \n",
       "2                 5.0      2002  \n",
       "3                 1.0      2007  \n",
       "4                 5.0      2004  \n",
       "...               ...       ...  \n",
       "4624              1.0      2005  \n",
       "4625              1.0      2005  \n",
       "4626              1.0      2005  \n",
       "4627              1.0      2006  \n",
       "4628              1.0      2010  \n",
       "\n",
       "[4629 rows x 8 columns]"
      ]
     },
     "execution_count": 4,
     "metadata": {},
     "output_type": "execute_result"
    }
   ],
   "source": [
    "df_BM_HP=df_BM[['EDC_SBA','BTH_YYYY', 'DTH_YYYYMM', 'MCARE_SUBJ_CD', 'OPRTN_YN', 'TOT_PRSC_DD_CNT', 'MCARE_RSLT_TYPE', 'STD_YYYY' ]]\n",
    "df_BM_HP"
   ]
  },
  {
   "cell_type": "markdown",
   "id": "8cee9d0a-08d8-4c14-bb76-e9d2e5e3a13c",
   "metadata": {
    "tags": []
   },
   "source": [
    "### quest (DDA) \n",
    "- 목표변수: EDC_SBA (심결본인부담금)\n",
    "- 하단의 주어진 변수들을 사용해서 목적변수(EDC_SBA 심결본인부담금)를 예측하고, 각 변수의 기여도 및 차이를 분석하려 함. \n",
    "- 데이터타입\n",
    "    1. 연속형 : EDC_SBA 심결본인부담금\n",
    "    2. 범주형 : 'MCARE_SUBJ_CD'(진료과목코드), / 'OPRTN_YN'(수술여부)/ 'MCARE_RSLT_TYPE'(진료결과구분)\n",
    "    \n",
    "   \n",
    "- 설명변수"
   ]
  },
  {
   "cell_type": "markdown",
   "id": "2e1bfd24-a2a4-4767-8499-ed93a018d2d7",
   "metadata": {},
   "source": [
    "### 담당 부분 \n",
    "- 'EDC_SBA'(심결본인부담금) / MCARE_SUBJ_CD (진료과목코드), OPRTN_YN(수술여부), MCARE_RSLT_TYPE(진료결과구분)\n"
   ]
  },
  {
   "cell_type": "code",
   "execution_count": 20,
   "id": "a3d042df-f21b-4039-b7ed-1dc8a2a71631",
   "metadata": {
    "tags": []
   },
   "outputs": [
    {
     "data": {
      "text/html": [
       "<div>\n",
       "<style scoped>\n",
       "    .dataframe tbody tr th:only-of-type {\n",
       "        vertical-align: middle;\n",
       "    }\n",
       "\n",
       "    .dataframe tbody tr th {\n",
       "        vertical-align: top;\n",
       "    }\n",
       "\n",
       "    .dataframe thead th {\n",
       "        text-align: right;\n",
       "    }\n",
       "</style>\n",
       "<table border=\"1\" class=\"dataframe\">\n",
       "  <thead>\n",
       "    <tr style=\"text-align: right;\">\n",
       "      <th></th>\n",
       "      <th>EDC_SBA</th>\n",
       "      <th>MCARE_SUBJ_CD</th>\n",
       "      <th>OPRTN_YN</th>\n",
       "      <th>MCARE_RSLT_TYPE</th>\n",
       "    </tr>\n",
       "  </thead>\n",
       "  <tbody>\n",
       "    <tr>\n",
       "      <th>0</th>\n",
       "      <td>3000</td>\n",
       "      <td>1</td>\n",
       "      <td>0</td>\n",
       "      <td>5.0</td>\n",
       "    </tr>\n",
       "    <tr>\n",
       "      <th>1</th>\n",
       "      <td>6000</td>\n",
       "      <td>1</td>\n",
       "      <td>0</td>\n",
       "      <td>5.0</td>\n",
       "    </tr>\n",
       "  </tbody>\n",
       "</table>\n",
       "</div>"
      ],
      "text/plain": [
       "   EDC_SBA  MCARE_SUBJ_CD  OPRTN_YN  MCARE_RSLT_TYPE\n",
       "0     3000              1         0              5.0\n",
       "1     6000              1         0              5.0"
      ]
     },
     "execution_count": 20,
     "metadata": {},
     "output_type": "execute_result"
    }
   ],
   "source": [
    "#'EDC_SBA'(심결본인부담금) / MCARE_SUBJ_CD (진료과목코드), OPRTN_YN(수술여부), MCARE_RSLT_TYPE(진료결과구분)\n",
    "\n",
    "df_BM_HP=df_BM[['EDC_SBA', 'MCARE_SUBJ_CD', 'OPRTN_YN' , 'MCARE_RSLT_TYPE']]\n",
    "df_BM_HP[:2]"
   ]
  },
  {
   "cell_type": "code",
   "execution_count": 21,
   "id": "83345943-7e07-4f7c-a0eb-a893085b3571",
   "metadata": {
    "tags": []
   },
   "outputs": [
    {
     "data": {
      "text/html": [
       "<div>\n",
       "<style scoped>\n",
       "    .dataframe tbody tr th:only-of-type {\n",
       "        vertical-align: middle;\n",
       "    }\n",
       "\n",
       "    .dataframe tbody tr th {\n",
       "        vertical-align: top;\n",
       "    }\n",
       "\n",
       "    .dataframe thead th {\n",
       "        text-align: right;\n",
       "    }\n",
       "</style>\n",
       "<table border=\"1\" class=\"dataframe\">\n",
       "  <thead>\n",
       "    <tr style=\"text-align: right;\">\n",
       "      <th></th>\n",
       "      <th>EDC_SBA</th>\n",
       "      <th>MCARE_SUBJ_CD</th>\n",
       "      <th>OPRTN_YN</th>\n",
       "      <th>MCARE_RSLT_TYPE</th>\n",
       "    </tr>\n",
       "  </thead>\n",
       "  <tbody>\n",
       "    <tr>\n",
       "      <th>count</th>\n",
       "      <td>4629.000000</td>\n",
       "      <td>4629.000000</td>\n",
       "      <td>4629.000000</td>\n",
       "      <td>4205.000000</td>\n",
       "    </tr>\n",
       "    <tr>\n",
       "      <th>mean</th>\n",
       "      <td>4627.070642</td>\n",
       "      <td>1.929574</td>\n",
       "      <td>0.005833</td>\n",
       "      <td>1.899168</td>\n",
       "    </tr>\n",
       "    <tr>\n",
       "      <th>std</th>\n",
       "      <td>17928.691046</td>\n",
       "      <td>4.398206</td>\n",
       "      <td>0.229069</td>\n",
       "      <td>1.752071</td>\n",
       "    </tr>\n",
       "    <tr>\n",
       "      <th>min</th>\n",
       "      <td>0.000000</td>\n",
       "      <td>0.000000</td>\n",
       "      <td>0.000000</td>\n",
       "      <td>1.000000</td>\n",
       "    </tr>\n",
       "    <tr>\n",
       "      <th>25%</th>\n",
       "      <td>1500.000000</td>\n",
       "      <td>1.000000</td>\n",
       "      <td>0.000000</td>\n",
       "      <td>1.000000</td>\n",
       "    </tr>\n",
       "    <tr>\n",
       "      <th>50%</th>\n",
       "      <td>2900.000000</td>\n",
       "      <td>1.000000</td>\n",
       "      <td>0.000000</td>\n",
       "      <td>1.000000</td>\n",
       "    </tr>\n",
       "    <tr>\n",
       "      <th>75%</th>\n",
       "      <td>3100.000000</td>\n",
       "      <td>1.000000</td>\n",
       "      <td>0.000000</td>\n",
       "      <td>1.000000</td>\n",
       "    </tr>\n",
       "    <tr>\n",
       "      <th>max</th>\n",
       "      <td>574770.000000</td>\n",
       "      <td>24.000000</td>\n",
       "      <td>9.000000</td>\n",
       "      <td>9.000000</td>\n",
       "    </tr>\n",
       "  </tbody>\n",
       "</table>\n",
       "</div>"
      ],
      "text/plain": [
       "             EDC_SBA  MCARE_SUBJ_CD     OPRTN_YN  MCARE_RSLT_TYPE\n",
       "count    4629.000000    4629.000000  4629.000000      4205.000000\n",
       "mean     4627.070642       1.929574     0.005833         1.899168\n",
       "std     17928.691046       4.398206     0.229069         1.752071\n",
       "min         0.000000       0.000000     0.000000         1.000000\n",
       "25%      1500.000000       1.000000     0.000000         1.000000\n",
       "50%      2900.000000       1.000000     0.000000         1.000000\n",
       "75%      3100.000000       1.000000     0.000000         1.000000\n",
       "max    574770.000000      24.000000     9.000000         9.000000"
      ]
     },
     "execution_count": 21,
     "metadata": {},
     "output_type": "execute_result"
    }
   ],
   "source": [
    "df_BM_HP.describe()"
   ]
  },
  {
   "cell_type": "markdown",
   "id": "ef1ef336-2713-41d0-88f1-d982f611b1d8",
   "metadata": {
    "tags": []
   },
   "source": [
    "### 데이터 타입 \n",
    "- 연속형:  'EDC_SBA'(심결본인부담금) 목표변수 \n",
    "- 범주형:  'MCARE_SUBJ_CD'(진료과목코드), 'OPRTN_YN'(수술여부), 'MCARE_RSLT_TYPE'(MCARE_RSLT_TYPE 진료결과구분)"
   ]
  },
  {
   "cell_type": "code",
   "execution_count": 22,
   "id": "25bb8af6-9c5a-445f-b8b3-6afd4cbab3ee",
   "metadata": {
    "tags": []
   },
   "outputs": [
    {
     "data": {
      "text/plain": [
       "EDC_SBA              int64\n",
       "MCARE_SUBJ_CD        int64\n",
       "OPRTN_YN             int64\n",
       "MCARE_RSLT_TYPE    float64\n",
       "dtype: object"
      ]
     },
     "execution_count": 22,
     "metadata": {},
     "output_type": "execute_result"
    }
   ],
   "source": [
    "df_BM_HP.dtypes #데이터 타입 확인"
   ]
  },
  {
   "cell_type": "code",
   "execution_count": 23,
   "id": "f0946b8b-c183-4575-b150-af8a1aaa127a",
   "metadata": {
    "tags": []
   },
   "outputs": [
    {
     "data": {
      "text/plain": [
       "0       5.0\n",
       "1       5.0\n",
       "2       5.0\n",
       "3       1.0\n",
       "4       5.0\n",
       "       ... \n",
       "4624    1.0\n",
       "4625    1.0\n",
       "4626    1.0\n",
       "4627    1.0\n",
       "4628    1.0\n",
       "Name: MCARE_RSLT_TYPE, Length: 4629, dtype: float64"
      ]
     },
     "execution_count": 23,
     "metadata": {},
     "output_type": "execute_result"
    }
   ],
   "source": [
    "df_BM_HP['MCARE_RSLT_TYPE']"
   ]
  },
  {
   "cell_type": "markdown",
   "id": "0331683a-23c2-40e8-8fd3-ad981cf389af",
   "metadata": {
    "tags": []
   },
   "source": [
    "####   타입 변경  = 'MCARE_SUBJ_CD'(진료과목코드), 'OPRTN_YN'(수술여부), 'MCARE_RSLT_TYPE'(MCARE_RSLT_TYPE 진료결과구분)"
   ]
  },
  {
   "cell_type": "code",
   "execution_count": 24,
   "id": "36344012-ec18-4169-9586-72c51f13ee7b",
   "metadata": {
    "tags": []
   },
   "outputs": [
    {
     "name": "stderr",
     "output_type": "stream",
     "text": [
      "C:\\Users\\5-20\\AppData\\Local\\Temp\\ipykernel_13720\\1854086209.py:2: SettingWithCopyWarning: \n",
      "A value is trying to be set on a copy of a slice from a DataFrame.\n",
      "Try using .loc[row_indexer,col_indexer] = value instead\n",
      "\n",
      "See the caveats in the documentation: https://pandas.pydata.org/pandas-docs/stable/user_guide/indexing.html#returning-a-view-versus-a-copy\n",
      "  df_BM_HP[[ 'MCARE_SUBJ_CD', 'OPRTN_YN' , 'MCARE_RSLT_TYPE']] = df_BM_HP[[ 'MCARE_SUBJ_CD', 'OPRTN_YN' , 'MCARE_RSLT_TYPE']].astype(object)\n"
     ]
    }
   ],
   "source": [
    "# 진료과목코드/수술여부/MCARE_RSLT_TYPE 진료결과구분\n",
    "df_BM_HP[[ 'MCARE_SUBJ_CD', 'OPRTN_YN' , 'MCARE_RSLT_TYPE']] = df_BM_HP[[ 'MCARE_SUBJ_CD', 'OPRTN_YN' , 'MCARE_RSLT_TYPE']].astype(object)"
   ]
  },
  {
   "cell_type": "code",
   "execution_count": 25,
   "id": "bfc779ba-6dac-431c-a9b4-a69f5558e14a",
   "metadata": {
    "tags": []
   },
   "outputs": [
    {
     "name": "stdout",
     "output_type": "stream",
     "text": [
      "<class 'pandas.core.frame.DataFrame'>\n",
      "RangeIndex: 4629 entries, 0 to 4628\n",
      "Data columns (total 4 columns):\n",
      " #   Column           Non-Null Count  Dtype \n",
      "---  ------           --------------  ----- \n",
      " 0   EDC_SBA          4629 non-null   int64 \n",
      " 1   MCARE_SUBJ_CD    4629 non-null   object\n",
      " 2   OPRTN_YN         4629 non-null   object\n",
      " 3   MCARE_RSLT_TYPE  4205 non-null   object\n",
      "dtypes: int64(1), object(3)\n",
      "memory usage: 144.8+ KB\n"
     ]
    }
   ],
   "source": [
    "df_BM_HP.info()"
   ]
  },
  {
   "cell_type": "code",
   "execution_count": 26,
   "id": "a4c832a2-e7a3-4547-acab-c281f79aa70a",
   "metadata": {
    "tags": []
   },
   "outputs": [
    {
     "data": {
      "text/html": [
       "<div>\n",
       "<style scoped>\n",
       "    .dataframe tbody tr th:only-of-type {\n",
       "        vertical-align: middle;\n",
       "    }\n",
       "\n",
       "    .dataframe tbody tr th {\n",
       "        vertical-align: top;\n",
       "    }\n",
       "\n",
       "    .dataframe thead th {\n",
       "        text-align: right;\n",
       "    }\n",
       "</style>\n",
       "<table border=\"1\" class=\"dataframe\">\n",
       "  <thead>\n",
       "    <tr style=\"text-align: right;\">\n",
       "      <th></th>\n",
       "      <th>EDC_SBA</th>\n",
       "    </tr>\n",
       "  </thead>\n",
       "  <tbody>\n",
       "    <tr>\n",
       "      <th>count</th>\n",
       "      <td>4629.000000</td>\n",
       "    </tr>\n",
       "    <tr>\n",
       "      <th>mean</th>\n",
       "      <td>4627.070642</td>\n",
       "    </tr>\n",
       "  </tbody>\n",
       "</table>\n",
       "</div>"
      ],
      "text/plain": [
       "           EDC_SBA\n",
       "count  4629.000000\n",
       "mean   4627.070642"
      ]
     },
     "execution_count": 26,
     "metadata": {},
     "output_type": "execute_result"
    }
   ],
   "source": [
    "df_BM_HP.describe()[:2] # 범주형"
   ]
  },
  {
   "cell_type": "markdown",
   "id": "5b51118d-6ecf-4dae-812a-b27d7d60557c",
   "metadata": {
    "tags": []
   },
   "source": [
    "### EDC_SBA (심결본인부담금) 시각화 확인 "
   ]
  },
  {
   "cell_type": "code",
   "execution_count": 27,
   "id": "894f4601-b670-499c-ad73-bea2636fe485",
   "metadata": {
    "tags": []
   },
   "outputs": [
    {
     "data": {
      "text/plain": [
       "count      4629.000000\n",
       "mean       4627.070642\n",
       "std       17928.691046\n",
       "min           0.000000\n",
       "25%        1500.000000\n",
       "50%        2900.000000\n",
       "75%        3100.000000\n",
       "max      574770.000000\n",
       "Name: EDC_SBA, dtype: float64"
      ]
     },
     "execution_count": 27,
     "metadata": {},
     "output_type": "execute_result"
    }
   ],
   "source": [
    "df_BM_HP['EDC_SBA'].describe()"
   ]
  },
  {
   "cell_type": "code",
   "execution_count": 28,
   "id": "9ec08e8a-b6ca-4d26-bc9d-4dc598789896",
   "metadata": {
    "tags": []
   },
   "outputs": [
    {
     "data": {
      "text/plain": [
       "1500     1483\n",
       "3000      945\n",
       "500       284\n",
       "3100      195\n",
       "2900      173\n",
       "         ... \n",
       "25240       1\n",
       "20500       1\n",
       "10700       1\n",
       "7000        1\n",
       "25200       1\n",
       "Name: EDC_SBA, Length: 380, dtype: int64"
      ]
     },
     "execution_count": 28,
     "metadata": {},
     "output_type": "execute_result"
    }
   ],
   "source": [
    "df_BM_HP['EDC_SBA'].value_counts()"
   ]
  },
  {
   "cell_type": "code",
   "execution_count": 29,
   "id": "14404089-9bf4-4791-849f-ea93a0810504",
   "metadata": {
    "tags": []
   },
   "outputs": [
    {
     "data": {
      "text/plain": [
       "4627.070641607259"
      ]
     },
     "execution_count": 29,
     "metadata": {},
     "output_type": "execute_result"
    }
   ],
   "source": [
    "#평균값 = 4627.070641607259\n",
    "df_BM_HP['EDC_SBA'].mean() #4627.070641607259원 \n",
    "#df_BM_HP['EDC_SBA'].min() #0원 \n",
    "#df_BM_HP['EDC_SBA'].median() # 2900.0원\n",
    "#df_BM_HP['EDC_SBA'].max() # 574770원"
   ]
  },
  {
   "cell_type": "code",
   "execution_count": 34,
   "id": "43f81bd4-f898-41d5-9505-e5b0b0f63aee",
   "metadata": {
    "tags": []
   },
   "outputs": [
    {
     "data": {
      "image/png": "[encoded data removed]",
      "text/plain": [
       "<Figure size 640x480 with 1 Axes>"
      ]
     },
     "metadata": {},
     "output_type": "display_data"
    }
   ],
   "source": [
    "sns.boxplot(data=df_BM_HP,x='EDC_SBA')\n",
    "plt.title('본인부담금')\n",
    "plt.show()"
   ]
  },
  {
   "cell_type": "code",
   "execution_count": null,
   "id": "c1ed4744-914c-40cd-bc96-6d997c362044",
   "metadata": {},
   "outputs": [],
   "source": []
  }
 ],
 "metadata": {
  "kernelspec": {
   "display_name": "Python 3 (ipykernel)",
   "language": "python",
   "name": "python3"
  },
  "language_info": {
   "codemirror_mode": {
    "name": "ipython",
    "version": 3
   },
   "file_extension": ".py",
   "mimetype": "text/x-python",
   "name": "python",
   "nbconvert_exporter": "python",
   "pygments_lexer": "ipython3",
   "version": "3.11.3"
  }
 },
 "nbformat": 4,
 "nbformat_minor": 5
}
