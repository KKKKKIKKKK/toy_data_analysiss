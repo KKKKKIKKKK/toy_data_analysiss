{
 "cells": [
  {
   "cell_type": "code",
   "execution_count": 1,
   "id": "f126c201-8e80-4870-aa88-3bd576532974",
   "metadata": {
    "tags": []
   },
   "outputs": [],
   "source": [
    "import matplotlib.pyplot as plt\n",
    "import matplotlib as mpl\n",
    "mpl.rc('font',family='Malgun Gothic')\n",
    "import seaborn as sns\n",
    "import pandas as pd\n",
    "import scipy.stats as stats\n",
    "import numpy as np"
   ]
  },
  {
   "cell_type": "code",
   "execution_count": 2,
   "id": "3d6e0490-d50b-4b77-8719-45e36b34e823",
   "metadata": {
    "tags": []
   },
   "outputs": [
    {
     "data": {
      "text/html": [
       "<div>\n",
       "<style scoped>\n",
       "    .dataframe tbody tr th:only-of-type {\n",
       "        vertical-align: middle;\n",
       "    }\n",
       "\n",
       "    .dataframe tbody tr th {\n",
       "        vertical-align: top;\n",
       "    }\n",
       "\n",
       "    .dataframe thead th {\n",
       "        text-align: right;\n",
       "    }\n",
       "</style>\n",
       "<table border=\"1\" class=\"dataframe\">\n",
       "  <thead>\n",
       "    <tr style=\"text-align: right;\">\n",
       "      <th></th>\n",
       "      <th>Unnamed: 0</th>\n",
       "      <th>EDC_SBA</th>\n",
       "      <th>BTH_YYYY</th>\n",
       "      <th>DTH_YYYYMM</th>\n",
       "      <th>MCARE_SUBJ_CD</th>\n",
       "      <th>OPRTN_YN</th>\n",
       "      <th>TOT_PRSC_DD_CNT</th>\n",
       "      <th>MCARE_RSLT_TYPE</th>\n",
       "      <th>STD_YYYY</th>\n",
       "    </tr>\n",
       "  </thead>\n",
       "  <tbody>\n",
       "    <tr>\n",
       "      <th>0</th>\n",
       "      <td>0</td>\n",
       "      <td>3000</td>\n",
       "      <td>1921LE</td>\n",
       "      <td>200805.0</td>\n",
       "      <td>1</td>\n",
       "      <td>0</td>\n",
       "      <td>30</td>\n",
       "      <td>5.0</td>\n",
       "      <td>2002</td>\n",
       "    </tr>\n",
       "    <tr>\n",
       "      <th>1</th>\n",
       "      <td>1</td>\n",
       "      <td>6000</td>\n",
       "      <td>1921LE</td>\n",
       "      <td>200805.0</td>\n",
       "      <td>1</td>\n",
       "      <td>0</td>\n",
       "      <td>60</td>\n",
       "      <td>5.0</td>\n",
       "      <td>2002</td>\n",
       "    </tr>\n",
       "    <tr>\n",
       "      <th>2</th>\n",
       "      <td>2</td>\n",
       "      <td>3000</td>\n",
       "      <td>1921LE</td>\n",
       "      <td>200805.0</td>\n",
       "      <td>1</td>\n",
       "      <td>0</td>\n",
       "      <td>30</td>\n",
       "      <td>5.0</td>\n",
       "      <td>2002</td>\n",
       "    </tr>\n",
       "    <tr>\n",
       "      <th>3</th>\n",
       "      <td>3</td>\n",
       "      <td>4200</td>\n",
       "      <td>1921LE</td>\n",
       "      <td>200805.0</td>\n",
       "      <td>23</td>\n",
       "      <td>0</td>\n",
       "      <td>7</td>\n",
       "      <td>1.0</td>\n",
       "      <td>2007</td>\n",
       "    </tr>\n",
       "    <tr>\n",
       "      <th>4</th>\n",
       "      <td>4</td>\n",
       "      <td>1500</td>\n",
       "      <td>1921LE</td>\n",
       "      <td>201409.0</td>\n",
       "      <td>1</td>\n",
       "      <td>0</td>\n",
       "      <td>7</td>\n",
       "      <td>5.0</td>\n",
       "      <td>2004</td>\n",
       "    </tr>\n",
       "    <tr>\n",
       "      <th>...</th>\n",
       "      <td>...</td>\n",
       "      <td>...</td>\n",
       "      <td>...</td>\n",
       "      <td>...</td>\n",
       "      <td>...</td>\n",
       "      <td>...</td>\n",
       "      <td>...</td>\n",
       "      <td>...</td>\n",
       "      <td>...</td>\n",
       "    </tr>\n",
       "    <tr>\n",
       "      <th>4624</th>\n",
       "      <td>4624</td>\n",
       "      <td>3000</td>\n",
       "      <td>2005</td>\n",
       "      <td>NaN</td>\n",
       "      <td>1</td>\n",
       "      <td>0</td>\n",
       "      <td>30</td>\n",
       "      <td>1.0</td>\n",
       "      <td>2005</td>\n",
       "    </tr>\n",
       "    <tr>\n",
       "      <th>4625</th>\n",
       "      <td>4625</td>\n",
       "      <td>3000</td>\n",
       "      <td>2005</td>\n",
       "      <td>NaN</td>\n",
       "      <td>1</td>\n",
       "      <td>0</td>\n",
       "      <td>30</td>\n",
       "      <td>1.0</td>\n",
       "      <td>2005</td>\n",
       "    </tr>\n",
       "    <tr>\n",
       "      <th>4626</th>\n",
       "      <td>4626</td>\n",
       "      <td>3000</td>\n",
       "      <td>2005</td>\n",
       "      <td>NaN</td>\n",
       "      <td>1</td>\n",
       "      <td>0</td>\n",
       "      <td>30</td>\n",
       "      <td>1.0</td>\n",
       "      <td>2005</td>\n",
       "    </tr>\n",
       "    <tr>\n",
       "      <th>4627</th>\n",
       "      <td>4627</td>\n",
       "      <td>3000</td>\n",
       "      <td>2005</td>\n",
       "      <td>NaN</td>\n",
       "      <td>1</td>\n",
       "      <td>0</td>\n",
       "      <td>30</td>\n",
       "      <td>1.0</td>\n",
       "      <td>2006</td>\n",
       "    </tr>\n",
       "    <tr>\n",
       "      <th>4628</th>\n",
       "      <td>4628</td>\n",
       "      <td>1500</td>\n",
       "      <td>2005</td>\n",
       "      <td>NaN</td>\n",
       "      <td>1</td>\n",
       "      <td>0</td>\n",
       "      <td>30</td>\n",
       "      <td>1.0</td>\n",
       "      <td>2010</td>\n",
       "    </tr>\n",
       "  </tbody>\n",
       "</table>\n",
       "<p>4629 rows × 9 columns</p>\n",
       "</div>"
      ],
      "text/plain": [
       "      Unnamed: 0  EDC_SBA BTH_YYYY  DTH_YYYYMM  MCARE_SUBJ_CD  OPRTN_YN  \\\n",
       "0              0     3000   1921LE    200805.0              1         0   \n",
       "1              1     6000   1921LE    200805.0              1         0   \n",
       "2              2     3000   1921LE    200805.0              1         0   \n",
       "3              3     4200   1921LE    200805.0             23         0   \n",
       "4              4     1500   1921LE    201409.0              1         0   \n",
       "...          ...      ...      ...         ...            ...       ...   \n",
       "4624        4624     3000     2005         NaN              1         0   \n",
       "4625        4625     3000     2005         NaN              1         0   \n",
       "4626        4626     3000     2005         NaN              1         0   \n",
       "4627        4627     3000     2005         NaN              1         0   \n",
       "4628        4628     1500     2005         NaN              1         0   \n",
       "\n",
       "      TOT_PRSC_DD_CNT  MCARE_RSLT_TYPE  STD_YYYY  \n",
       "0                  30              5.0      2002  \n",
       "1                  60              5.0      2002  \n",
       "2                  30              5.0      2002  \n",
       "3                   7              1.0      2007  \n",
       "4                   7              5.0      2004  \n",
       "...               ...              ...       ...  \n",
       "4624               30              1.0      2005  \n",
       "4625               30              1.0      2005  \n",
       "4626               30              1.0      2005  \n",
       "4627               30              1.0      2006  \n",
       "4628               30              1.0      2010  \n",
       "\n",
       "[4629 rows x 9 columns]"
      ]
     },
     "execution_count": 2,
     "metadata": {},
     "output_type": "execute_result"
    }
   ],
   "source": [
    "df_BM = pd.read_csv('../../datasets/Join Collection NSC2_BND_M20.csv')\n",
    "df_BM ## 고혈압환자들만 select"
   ]
  },
  {
   "cell_type": "code",
   "execution_count": 3,
   "id": "bfb029fe-eeb7-4cf3-a9d6-3766c0401150",
   "metadata": {
    "tags": []
   },
   "outputs": [
    {
     "data": {
      "text/plain": [
       "Index(['Unnamed: 0', 'EDC_SBA', 'BTH_YYYY', 'DTH_YYYYMM', 'MCARE_SUBJ_CD',\n",
       "       'OPRTN_YN', 'TOT_PRSC_DD_CNT', 'MCARE_RSLT_TYPE', 'STD_YYYY'],\n",
       "      dtype='object')"
      ]
     },
     "execution_count": 3,
     "metadata": {},
     "output_type": "execute_result"
    }
   ],
   "source": [
    "df_BM.columns"
   ]
  },
  {
   "cell_type": "code",
   "execution_count": 4,
   "id": "e056e889-e5f9-4bc6-a92a-4c37719e1f49",
   "metadata": {
    "tags": []
   },
   "outputs": [
    {
     "name": "stdout",
     "output_type": "stream",
     "text": [
      "<class 'pandas.core.frame.DataFrame'>\n",
      "RangeIndex: 4629 entries, 0 to 4628\n",
      "Data columns (total 9 columns):\n",
      " #   Column           Non-Null Count  Dtype  \n",
      "---  ------           --------------  -----  \n",
      " 0   Unnamed: 0       4629 non-null   int64  \n",
      " 1   EDC_SBA          4629 non-null   int64  \n",
      " 2   BTH_YYYY         4629 non-null   object \n",
      " 3   DTH_YYYYMM       373 non-null    float64\n",
      " 4   MCARE_SUBJ_CD    4629 non-null   int64  \n",
      " 5   OPRTN_YN         4629 non-null   int64  \n",
      " 6   TOT_PRSC_DD_CNT  4629 non-null   int64  \n",
      " 7   MCARE_RSLT_TYPE  4205 non-null   float64\n",
      " 8   STD_YYYY         4629 non-null   int64  \n",
      "dtypes: float64(2), int64(6), object(1)\n",
      "memory usage: 325.6+ KB\n"
     ]
    }
   ],
   "source": [
    "df_BM.info()"
   ]
  },
  {
   "cell_type": "markdown",
   "id": "a3fa210b-022a-4fe7-bf45-c48b6dbedebb",
   "metadata": {},
   "source": [
    "#### 목표변수\n",
    "    - EDC_SBA : 심결본인부담금"
   ]
  },
  {
   "cell_type": "code",
   "execution_count": 5,
   "id": "a447dec4-bee7-4242-bd27-0b4652b67d35",
   "metadata": {
    "tags": []
   },
   "outputs": [
    {
     "data": {
      "text/plain": [
       "count      4629.000000\n",
       "mean       4627.070642\n",
       "std       17928.691046\n",
       "min           0.000000\n",
       "25%        1500.000000\n",
       "50%        2900.000000\n",
       "75%        3100.000000\n",
       "max      574770.000000\n",
       "Name: EDC_SBA, dtype: float64"
      ]
     },
     "execution_count": 5,
     "metadata": {},
     "output_type": "execute_result"
    }
   ],
   "source": [
    "df_BM['EDC_SBA'].describe()"
   ]
  },
  {
   "cell_type": "code",
   "execution_count": 6,
   "id": "5af8faa7-8797-4746-b5d5-3e5dfdcc4690",
   "metadata": {
    "tags": []
   },
   "outputs": [
    {
     "data": {
      "image/png": "[encoded data removed]",
      "text/plain": [
       "<Figure size 640x480 with 1 Axes>"
      ]
     },
     "metadata": {},
     "output_type": "display_data"
    }
   ],
   "source": [
    "sns.boxplot(data=df_BM, x='EDC_SBA')\n",
    "plt.title('본인부담금')\n",
    "plt.show()"
   ]
  },
  {
   "cell_type": "markdown",
   "id": "195df400-ca66-4558-bf59-179a12373387",
   "metadata": {},
   "source": [
    "#### 설명변수\n",
    "- 사망일 - 생년월일 or 2023 - 생년월일\n",
    "    ⇒ 사망일의 null 값이 존재하여 2023년 기준으로 나이로 계산에서 진행 예정. \n",
    "- 총 처방일수\n",
    "- 기준년도"
   ]
  },
  {
   "cell_type": "code",
   "execution_count": 7,
   "id": "30a25738-037d-474d-ad7d-6556c707f3fb",
   "metadata": {
    "tags": []
   },
   "outputs": [
    {
     "data": {
      "text/plain": [
       "count     4629\n",
       "unique      64\n",
       "top       1940\n",
       "freq       240\n",
       "Name: BTH_YYYY, dtype: object"
      ]
     },
     "execution_count": 7,
     "metadata": {},
     "output_type": "execute_result"
    }
   ],
   "source": [
    "# 생년\n",
    "df_BM['BTH_YYYY'].describe()"
   ]
  },
  {
   "cell_type": "code",
   "execution_count": 8,
   "id": "04a9ac41-cb0c-4090-bab2-c17e05184a4f",
   "metadata": {
    "tags": []
   },
   "outputs": [
    {
     "data": {
      "text/plain": [
       "<Axes: xlabel='BTH_YYYY', ylabel='Count'>"
      ]
     },
     "execution_count": 8,
     "metadata": {},
     "output_type": "execute_result"
    },
    {
     "data": {
      "image/png": "[encoded data removed]",
      "text/plain": [
       "<Figure size 640x480 with 1 Axes>"
      ]
     },
     "metadata": {},
     "output_type": "display_data"
    }
   ],
   "source": [
    "sns.histplot(data=df_BM, x='BTH_YYYY', kde=True)"
   ]
  },
  {
   "cell_type": "code",
   "execution_count": 9,
   "id": "5ee6a2a5-f252-41c0-ba99-9b7f175e7338",
   "metadata": {
    "tags": []
   },
   "outputs": [
    {
     "data": {
      "text/html": [
       "<div>\n",
       "<style scoped>\n",
       "    .dataframe tbody tr th:only-of-type {\n",
       "        vertical-align: middle;\n",
       "    }\n",
       "\n",
       "    .dataframe tbody tr th {\n",
       "        vertical-align: top;\n",
       "    }\n",
       "\n",
       "    .dataframe thead th {\n",
       "        text-align: right;\n",
       "    }\n",
       "</style>\n",
       "<table border=\"1\" class=\"dataframe\">\n",
       "  <thead>\n",
       "    <tr style=\"text-align: right;\">\n",
       "      <th></th>\n",
       "      <th>Unnamed: 0</th>\n",
       "      <th>EDC_SBA</th>\n",
       "      <th>BTH_YYYY</th>\n",
       "      <th>DTH_YYYYMM</th>\n",
       "      <th>MCARE_SUBJ_CD</th>\n",
       "      <th>OPRTN_YN</th>\n",
       "      <th>TOT_PRSC_DD_CNT</th>\n",
       "      <th>MCARE_RSLT_TYPE</th>\n",
       "      <th>STD_YYYY</th>\n",
       "    </tr>\n",
       "  </thead>\n",
       "  <tbody>\n",
       "    <tr>\n",
       "      <th>11</th>\n",
       "      <td>11</td>\n",
       "      <td>8580</td>\n",
       "      <td>1926</td>\n",
       "      <td>201808.0</td>\n",
       "      <td>1</td>\n",
       "      <td>0</td>\n",
       "      <td>0</td>\n",
       "      <td>1.0</td>\n",
       "      <td>2006</td>\n",
       "    </tr>\n",
       "    <tr>\n",
       "      <th>12</th>\n",
       "      <td>12</td>\n",
       "      <td>2900</td>\n",
       "      <td>1926</td>\n",
       "      <td>201808.0</td>\n",
       "      <td>1</td>\n",
       "      <td>0</td>\n",
       "      <td>30</td>\n",
       "      <td>1.0</td>\n",
       "      <td>2008</td>\n",
       "    </tr>\n",
       "    <tr>\n",
       "      <th>13</th>\n",
       "      <td>13</td>\n",
       "      <td>2900</td>\n",
       "      <td>1926</td>\n",
       "      <td>201808.0</td>\n",
       "      <td>1</td>\n",
       "      <td>0</td>\n",
       "      <td>30</td>\n",
       "      <td>1.0</td>\n",
       "      <td>2008</td>\n",
       "    </tr>\n",
       "    <tr>\n",
       "      <th>14</th>\n",
       "      <td>14</td>\n",
       "      <td>2900</td>\n",
       "      <td>1926</td>\n",
       "      <td>201808.0</td>\n",
       "      <td>1</td>\n",
       "      <td>0</td>\n",
       "      <td>14</td>\n",
       "      <td>1.0</td>\n",
       "      <td>2008</td>\n",
       "    </tr>\n",
       "    <tr>\n",
       "      <th>15</th>\n",
       "      <td>15</td>\n",
       "      <td>3500</td>\n",
       "      <td>1926</td>\n",
       "      <td>201808.0</td>\n",
       "      <td>1</td>\n",
       "      <td>0</td>\n",
       "      <td>30</td>\n",
       "      <td>1.0</td>\n",
       "      <td>2008</td>\n",
       "    </tr>\n",
       "    <tr>\n",
       "      <th>...</th>\n",
       "      <td>...</td>\n",
       "      <td>...</td>\n",
       "      <td>...</td>\n",
       "      <td>...</td>\n",
       "      <td>...</td>\n",
       "      <td>...</td>\n",
       "      <td>...</td>\n",
       "      <td>...</td>\n",
       "      <td>...</td>\n",
       "    </tr>\n",
       "    <tr>\n",
       "      <th>4624</th>\n",
       "      <td>4624</td>\n",
       "      <td>3000</td>\n",
       "      <td>2005</td>\n",
       "      <td>NaN</td>\n",
       "      <td>1</td>\n",
       "      <td>0</td>\n",
       "      <td>30</td>\n",
       "      <td>1.0</td>\n",
       "      <td>2005</td>\n",
       "    </tr>\n",
       "    <tr>\n",
       "      <th>4625</th>\n",
       "      <td>4625</td>\n",
       "      <td>3000</td>\n",
       "      <td>2005</td>\n",
       "      <td>NaN</td>\n",
       "      <td>1</td>\n",
       "      <td>0</td>\n",
       "      <td>30</td>\n",
       "      <td>1.0</td>\n",
       "      <td>2005</td>\n",
       "    </tr>\n",
       "    <tr>\n",
       "      <th>4626</th>\n",
       "      <td>4626</td>\n",
       "      <td>3000</td>\n",
       "      <td>2005</td>\n",
       "      <td>NaN</td>\n",
       "      <td>1</td>\n",
       "      <td>0</td>\n",
       "      <td>30</td>\n",
       "      <td>1.0</td>\n",
       "      <td>2005</td>\n",
       "    </tr>\n",
       "    <tr>\n",
       "      <th>4627</th>\n",
       "      <td>4627</td>\n",
       "      <td>3000</td>\n",
       "      <td>2005</td>\n",
       "      <td>NaN</td>\n",
       "      <td>1</td>\n",
       "      <td>0</td>\n",
       "      <td>30</td>\n",
       "      <td>1.0</td>\n",
       "      <td>2006</td>\n",
       "    </tr>\n",
       "    <tr>\n",
       "      <th>4628</th>\n",
       "      <td>4628</td>\n",
       "      <td>1500</td>\n",
       "      <td>2005</td>\n",
       "      <td>NaN</td>\n",
       "      <td>1</td>\n",
       "      <td>0</td>\n",
       "      <td>30</td>\n",
       "      <td>1.0</td>\n",
       "      <td>2010</td>\n",
       "    </tr>\n",
       "  </tbody>\n",
       "</table>\n",
       "<p>4618 rows × 9 columns</p>\n",
       "</div>"
      ],
      "text/plain": [
       "      Unnamed: 0  EDC_SBA BTH_YYYY  DTH_YYYYMM  MCARE_SUBJ_CD  OPRTN_YN  \\\n",
       "11            11     8580     1926    201808.0              1         0   \n",
       "12            12     2900     1926    201808.0              1         0   \n",
       "13            13     2900     1926    201808.0              1         0   \n",
       "14            14     2900     1926    201808.0              1         0   \n",
       "15            15     3500     1926    201808.0              1         0   \n",
       "...          ...      ...      ...         ...            ...       ...   \n",
       "4624        4624     3000     2005         NaN              1         0   \n",
       "4625        4625     3000     2005         NaN              1         0   \n",
       "4626        4626     3000     2005         NaN              1         0   \n",
       "4627        4627     3000     2005         NaN              1         0   \n",
       "4628        4628     1500     2005         NaN              1         0   \n",
       "\n",
       "      TOT_PRSC_DD_CNT  MCARE_RSLT_TYPE  STD_YYYY  \n",
       "11                  0              1.0      2006  \n",
       "12                 30              1.0      2008  \n",
       "13                 30              1.0      2008  \n",
       "14                 14              1.0      2008  \n",
       "15                 30              1.0      2008  \n",
       "...               ...              ...       ...  \n",
       "4624               30              1.0      2005  \n",
       "4625               30              1.0      2005  \n",
       "4626               30              1.0      2005  \n",
       "4627               30              1.0      2006  \n",
       "4628               30              1.0      2010  \n",
       "\n",
       "[4618 rows x 9 columns]"
      ]
     },
     "execution_count": 9,
     "metadata": {},
     "output_type": "execute_result"
    }
   ],
   "source": [
    "condition = (df_BM['BTH_YYYY'] != '1921LE')\n",
    "df_BMA = df_BM[condition]\n",
    "df_BMA"
   ]
  },
  {
   "cell_type": "code",
   "execution_count": 10,
   "id": "1367da6f-88c4-4f9c-b989-409e325b7611",
   "metadata": {
    "tags": []
   },
   "outputs": [
    {
     "name": "stderr",
     "output_type": "stream",
     "text": [
      "C:\\Users\\01-15\\AppData\\Local\\Temp\\ipykernel_6532\\1629062973.py:1: SettingWithCopyWarning: \n",
      "A value is trying to be set on a copy of a slice from a DataFrame.\n",
      "Try using .loc[row_indexer,col_indexer] = value instead\n",
      "\n",
      "See the caveats in the documentation: https://pandas.pydata.org/pandas-docs/stable/user_guide/indexing.html#returning-a-view-versus-a-copy\n",
      "  df_BMA['BTH_Y']=pd.to_datetime(df_BMA['BTH_YYYY'].astype(str))\n"
     ]
    }
   ],
   "source": [
    "df_BMA['BTH_Y']=pd.to_datetime(df_BMA['BTH_YYYY'].astype(str))"
   ]
  },
  {
   "cell_type": "code",
   "execution_count": 11,
   "id": "7ab9d196-4c4c-41c5-be5f-e3e53a9dfd33",
   "metadata": {
    "tags": []
   },
   "outputs": [],
   "source": [
    "def present(birth_year):\n",
    "    current_year = pd.to_datetime('today').year  # 현재 연도 가져오기\n",
    "    return current_year - birth_year.year \n",
    "## chatGPT에게 도움을 받음. "
   ]
  },
  {
   "cell_type": "code",
   "execution_count": 12,
   "id": "a25c9f58-53e3-49a3-84a3-259d283eecd2",
   "metadata": {
    "tags": []
   },
   "outputs": [
    {
     "name": "stderr",
     "output_type": "stream",
     "text": [
      "C:\\Users\\01-15\\AppData\\Local\\Temp\\ipykernel_6532\\1676463516.py:1: SettingWithCopyWarning: \n",
      "A value is trying to be set on a copy of a slice from a DataFrame.\n",
      "Try using .loc[row_indexer,col_indexer] = value instead\n",
      "\n",
      "See the caveats in the documentation: https://pandas.pydata.org/pandas-docs/stable/user_guide/indexing.html#returning-a-view-versus-a-copy\n",
      "  df_BMA['Age']=df_BMA['BTH_Y'].apply(present) ## 2023년 기준 나이로 계산\n"
     ]
    }
   ],
   "source": [
    "df_BMA['Age']=df_BMA['BTH_Y'].apply(present) ## 2023년 기준 나이로 계산"
   ]
  },
  {
   "cell_type": "code",
   "execution_count": 13,
   "id": "9dd6bd53-6de1-45f9-abea-81455320b47b",
   "metadata": {
    "tags": []
   },
   "outputs": [
    {
     "data": {
      "text/plain": [
       "<Axes: xlabel='Age', ylabel='Count'>"
      ]
     },
     "execution_count": 13,
     "metadata": {},
     "output_type": "execute_result"
    },
    {
     "data": {
      "image/png": "[encoded data removed]",
      "text/plain": [
       "<Figure size 640x480 with 1 Axes>"
      ]
     },
     "metadata": {},
     "output_type": "display_data"
    }
   ],
   "source": [
    "sns.histplot(data=df_BMA, x='Age', kde=True)"
   ]
  },
  {
   "cell_type": "code",
   "execution_count": 14,
   "id": "ac3e1e90-508d-4591-a798-1d8abb027490",
   "metadata": {
    "tags": []
   },
   "outputs": [
    {
     "data": {
      "text/plain": [
       "<Axes: xlabel='Age'>"
      ]
     },
     "execution_count": 14,
     "metadata": {},
     "output_type": "execute_result"
    },
    {
     "data": {
      "image/png": "[encoded data removed]",
      "text/plain": [
       "<Figure size 640x480 with 1 Axes>"
      ]
     },
     "metadata": {},
     "output_type": "display_data"
    }
   ],
   "source": [
    "sns.boxplot(data=df_BMA, x='Age',)"
   ]
  },
  {
   "cell_type": "code",
   "execution_count": 15,
   "id": "72eaabe4-47f8-4c9b-9246-b3e5b0f6e18c",
   "metadata": {
    "tags": []
   },
   "outputs": [
    {
     "data": {
      "text/plain": [
       "4256"
      ]
     },
     "execution_count": 15,
     "metadata": {},
     "output_type": "execute_result"
    }
   ],
   "source": [
    "df_BMA['DTH_YYYYMM'].isnull().sum()\n",
    "# null 값이 대부분임. "
   ]
  },
  {
   "cell_type": "code",
   "execution_count": 16,
   "id": "76115566-19cb-4831-bfa3-32d88e469e48",
   "metadata": {
    "tags": []
   },
   "outputs": [
    {
     "data": {
      "text/plain": [
       "<Axes: xlabel='DTH_YYYYMM', ylabel='Count'>"
      ]
     },
     "execution_count": 16,
     "metadata": {},
     "output_type": "execute_result"
    },
    {
     "data": {
      "image/png": "[encoded data removed]",
      "text/plain": [
       "<Figure size 640x480 with 1 Axes>"
      ]
     },
     "metadata": {},
     "output_type": "display_data"
    }
   ],
   "source": [
    "sns.histplot(data=df_BMA, x='DTH_YYYYMM', kde=True)"
   ]
  },
  {
   "cell_type": "code",
   "execution_count": 17,
   "id": "eb81235b-043d-4b4c-8b8f-1651cfc96bbd",
   "metadata": {
    "tags": []
   },
   "outputs": [
    {
     "data": {
      "text/plain": [
       "count    4629.000000\n",
       "mean       32.529272\n",
       "std        19.974645\n",
       "min         0.000000\n",
       "25%        30.000000\n",
       "50%        30.000000\n",
       "75%        30.000000\n",
       "max       190.000000\n",
       "Name: TOT_PRSC_DD_CNT, dtype: float64"
      ]
     },
     "execution_count": 17,
     "metadata": {},
     "output_type": "execute_result"
    }
   ],
   "source": [
    "## 총 처방일 수 \n",
    "df_BM['TOT_PRSC_DD_CNT'].describe()"
   ]
  },
  {
   "cell_type": "code",
   "execution_count": 18,
   "id": "1867f486-112b-438e-a235-97a4358ce4e0",
   "metadata": {
    "tags": []
   },
   "outputs": [
    {
     "data": {
      "text/plain": [
       "<Axes: xlabel='TOT_PRSC_DD_CNT', ylabel='Count'>"
      ]
     },
     "execution_count": 18,
     "metadata": {},
     "output_type": "execute_result"
    },
    {
     "data": {
      "image/png": "[encoded data removed]",
      "text/plain": [
       "<Figure size 640x480 with 1 Axes>"
      ]
     },
     "metadata": {},
     "output_type": "display_data"
    }
   ],
   "source": [
    "sns.histplot(data=df_BMA, x='TOT_PRSC_DD_CNT', kde=True)"
   ]
  },
  {
   "cell_type": "code",
   "execution_count": 19,
   "id": "9ff65fa3-d165-4b10-9aca-fa5251090679",
   "metadata": {
    "tags": []
   },
   "outputs": [
    {
     "data": {
      "text/plain": [
       "<Axes: xlabel='TOT_PRSC_DD_CNT'>"
      ]
     },
     "execution_count": 19,
     "metadata": {},
     "output_type": "execute_result"
    },
    {
     "data": {
      "image/png": "[encoded data removed]",
      "text/plain": [
       "<Figure size 640x480 with 1 Axes>"
      ]
     },
     "metadata": {},
     "output_type": "display_data"
    }
   ],
   "source": [
    "sns.boxplot(data=df_BMA, x='TOT_PRSC_DD_CNT',)"
   ]
  },
  {
   "cell_type": "code",
   "execution_count": 20,
   "id": "945fb8de-eb30-40a4-acb6-e78ba98f1b7c",
   "metadata": {
    "tags": []
   },
   "outputs": [
    {
     "data": {
      "text/plain": [
       "count    4618.000000\n",
       "mean     2006.933738\n",
       "std         2.412593\n",
       "min      2002.000000\n",
       "25%      2005.000000\n",
       "50%      2007.000000\n",
       "75%      2009.000000\n",
       "max      2011.000000\n",
       "Name: STD_YYYY, dtype: float64"
      ]
     },
     "execution_count": 20,
     "metadata": {},
     "output_type": "execute_result"
    }
   ],
   "source": [
    "# 환자가 진료를 받은 연도\n",
    "df_BMA['STD_YYYY'].describe()"
   ]
  },
  {
   "cell_type": "code",
   "execution_count": 21,
   "id": "f55a7731-e1e7-4a3f-a16b-1ec74ed6e2e1",
   "metadata": {
    "tags": []
   },
   "outputs": [
    {
     "data": {
      "text/plain": [
       "<Axes: xlabel='STD_YYYY', ylabel='Count'>"
      ]
     },
     "execution_count": 21,
     "metadata": {},
     "output_type": "execute_result"
    },
    {
     "data": {
      "image/png": "[encoded data removed]",
      "text/plain": [
       "<Figure size 640x480 with 1 Axes>"
      ]
     },
     "metadata": {},
     "output_type": "display_data"
    }
   ],
   "source": [
    "sns.histplot(data=df_BMA, x='STD_YYYY', kde=True)"
   ]
  },
  {
   "cell_type": "code",
   "execution_count": 22,
   "id": "3d5f9217-63f5-4034-b290-6ed243f2a107",
   "metadata": {
    "tags": []
   },
   "outputs": [],
   "source": [
    "## 현재 기준으로 진료 받은 년차\n",
    "def disease(year) :\n",
    "    result = 2023 - year\n",
    "    return result"
   ]
  },
  {
   "cell_type": "code",
   "execution_count": 28,
   "id": "0efbb333-79e9-4f4f-bc5e-29a27e5f172a",
   "metadata": {
    "tags": []
   },
   "outputs": [
    {
     "name": "stderr",
     "output_type": "stream",
     "text": [
      "C:\\Users\\01-15\\AppData\\Local\\Temp\\ipykernel_6532\\4100314602.py:1: SettingWithCopyWarning: \n",
      "A value is trying to be set on a copy of a slice from a DataFrame.\n",
      "Try using .loc[row_indexer,col_indexer] = value instead\n",
      "\n",
      "See the caveats in the documentation: https://pandas.pydata.org/pandas-docs/stable/user_guide/indexing.html#returning-a-view-versus-a-copy\n",
      "  df_BMA['disease_year']= df_BMA['STD_YYYY'].apply(disease)\n"
     ]
    }
   ],
   "source": [
    "df_BMA['disease_year']= df_BMA['STD_YYYY'].apply(disease)"
   ]
  },
  {
   "cell_type": "code",
   "execution_count": 29,
   "id": "ce7f4755-cce3-47a8-91de-c389fa14639d",
   "metadata": {
    "tags": []
   },
   "outputs": [
    {
     "data": {
      "text/html": [
       "<div>\n",
       "<style scoped>\n",
       "    .dataframe tbody tr th:only-of-type {\n",
       "        vertical-align: middle;\n",
       "    }\n",
       "\n",
       "    .dataframe tbody tr th {\n",
       "        vertical-align: top;\n",
       "    }\n",
       "\n",
       "    .dataframe thead th {\n",
       "        text-align: right;\n",
       "    }\n",
       "</style>\n",
       "<table border=\"1\" class=\"dataframe\">\n",
       "  <thead>\n",
       "    <tr style=\"text-align: right;\">\n",
       "      <th></th>\n",
       "      <th>Unnamed: 0</th>\n",
       "      <th>EDC_SBA</th>\n",
       "      <th>BTH_YYYY</th>\n",
       "      <th>DTH_YYYYMM</th>\n",
       "      <th>MCARE_SUBJ_CD</th>\n",
       "      <th>OPRTN_YN</th>\n",
       "      <th>TOT_PRSC_DD_CNT</th>\n",
       "      <th>MCARE_RSLT_TYPE</th>\n",
       "      <th>STD_YYYY</th>\n",
       "      <th>BTH_Y</th>\n",
       "      <th>Age</th>\n",
       "      <th>D_year</th>\n",
       "      <th>disease_year</th>\n",
       "    </tr>\n",
       "  </thead>\n",
       "  <tbody>\n",
       "    <tr>\n",
       "      <th>11</th>\n",
       "      <td>11</td>\n",
       "      <td>8580</td>\n",
       "      <td>1926</td>\n",
       "      <td>201808.0</td>\n",
       "      <td>1</td>\n",
       "      <td>0</td>\n",
       "      <td>0</td>\n",
       "      <td>1.0</td>\n",
       "      <td>2006</td>\n",
       "      <td>1926-01-01</td>\n",
       "      <td>97</td>\n",
       "      <td>17</td>\n",
       "      <td>17</td>\n",
       "    </tr>\n",
       "    <tr>\n",
       "      <th>12</th>\n",
       "      <td>12</td>\n",
       "      <td>2900</td>\n",
       "      <td>1926</td>\n",
       "      <td>201808.0</td>\n",
       "      <td>1</td>\n",
       "      <td>0</td>\n",
       "      <td>30</td>\n",
       "      <td>1.0</td>\n",
       "      <td>2008</td>\n",
       "      <td>1926-01-01</td>\n",
       "      <td>97</td>\n",
       "      <td>15</td>\n",
       "      <td>15</td>\n",
       "    </tr>\n",
       "    <tr>\n",
       "      <th>13</th>\n",
       "      <td>13</td>\n",
       "      <td>2900</td>\n",
       "      <td>1926</td>\n",
       "      <td>201808.0</td>\n",
       "      <td>1</td>\n",
       "      <td>0</td>\n",
       "      <td>30</td>\n",
       "      <td>1.0</td>\n",
       "      <td>2008</td>\n",
       "      <td>1926-01-01</td>\n",
       "      <td>97</td>\n",
       "      <td>15</td>\n",
       "      <td>15</td>\n",
       "    </tr>\n",
       "    <tr>\n",
       "      <th>14</th>\n",
       "      <td>14</td>\n",
       "      <td>2900</td>\n",
       "      <td>1926</td>\n",
       "      <td>201808.0</td>\n",
       "      <td>1</td>\n",
       "      <td>0</td>\n",
       "      <td>14</td>\n",
       "      <td>1.0</td>\n",
       "      <td>2008</td>\n",
       "      <td>1926-01-01</td>\n",
       "      <td>97</td>\n",
       "      <td>15</td>\n",
       "      <td>15</td>\n",
       "    </tr>\n",
       "    <tr>\n",
       "      <th>15</th>\n",
       "      <td>15</td>\n",
       "      <td>3500</td>\n",
       "      <td>1926</td>\n",
       "      <td>201808.0</td>\n",
       "      <td>1</td>\n",
       "      <td>0</td>\n",
       "      <td>30</td>\n",
       "      <td>1.0</td>\n",
       "      <td>2008</td>\n",
       "      <td>1926-01-01</td>\n",
       "      <td>97</td>\n",
       "      <td>15</td>\n",
       "      <td>15</td>\n",
       "    </tr>\n",
       "    <tr>\n",
       "      <th>...</th>\n",
       "      <td>...</td>\n",
       "      <td>...</td>\n",
       "      <td>...</td>\n",
       "      <td>...</td>\n",
       "      <td>...</td>\n",
       "      <td>...</td>\n",
       "      <td>...</td>\n",
       "      <td>...</td>\n",
       "      <td>...</td>\n",
       "      <td>...</td>\n",
       "      <td>...</td>\n",
       "      <td>...</td>\n",
       "      <td>...</td>\n",
       "    </tr>\n",
       "    <tr>\n",
       "      <th>4624</th>\n",
       "      <td>4624</td>\n",
       "      <td>3000</td>\n",
       "      <td>2005</td>\n",
       "      <td>NaN</td>\n",
       "      <td>1</td>\n",
       "      <td>0</td>\n",
       "      <td>30</td>\n",
       "      <td>1.0</td>\n",
       "      <td>2005</td>\n",
       "      <td>2005-01-01</td>\n",
       "      <td>18</td>\n",
       "      <td>18</td>\n",
       "      <td>18</td>\n",
       "    </tr>\n",
       "    <tr>\n",
       "      <th>4625</th>\n",
       "      <td>4625</td>\n",
       "      <td>3000</td>\n",
       "      <td>2005</td>\n",
       "      <td>NaN</td>\n",
       "      <td>1</td>\n",
       "      <td>0</td>\n",
       "      <td>30</td>\n",
       "      <td>1.0</td>\n",
       "      <td>2005</td>\n",
       "      <td>2005-01-01</td>\n",
       "      <td>18</td>\n",
       "      <td>18</td>\n",
       "      <td>18</td>\n",
       "    </tr>\n",
       "    <tr>\n",
       "      <th>4626</th>\n",
       "      <td>4626</td>\n",
       "      <td>3000</td>\n",
       "      <td>2005</td>\n",
       "      <td>NaN</td>\n",
       "      <td>1</td>\n",
       "      <td>0</td>\n",
       "      <td>30</td>\n",
       "      <td>1.0</td>\n",
       "      <td>2005</td>\n",
       "      <td>2005-01-01</td>\n",
       "      <td>18</td>\n",
       "      <td>18</td>\n",
       "      <td>18</td>\n",
       "    </tr>\n",
       "    <tr>\n",
       "      <th>4627</th>\n",
       "      <td>4627</td>\n",
       "      <td>3000</td>\n",
       "      <td>2005</td>\n",
       "      <td>NaN</td>\n",
       "      <td>1</td>\n",
       "      <td>0</td>\n",
       "      <td>30</td>\n",
       "      <td>1.0</td>\n",
       "      <td>2006</td>\n",
       "      <td>2005-01-01</td>\n",
       "      <td>18</td>\n",
       "      <td>17</td>\n",
       "      <td>17</td>\n",
       "    </tr>\n",
       "    <tr>\n",
       "      <th>4628</th>\n",
       "      <td>4628</td>\n",
       "      <td>1500</td>\n",
       "      <td>2005</td>\n",
       "      <td>NaN</td>\n",
       "      <td>1</td>\n",
       "      <td>0</td>\n",
       "      <td>30</td>\n",
       "      <td>1.0</td>\n",
       "      <td>2010</td>\n",
       "      <td>2005-01-01</td>\n",
       "      <td>18</td>\n",
       "      <td>13</td>\n",
       "      <td>13</td>\n",
       "    </tr>\n",
       "  </tbody>\n",
       "</table>\n",
       "<p>4618 rows × 13 columns</p>\n",
       "</div>"
      ],
      "text/plain": [
       "      Unnamed: 0  EDC_SBA BTH_YYYY  DTH_YYYYMM  MCARE_SUBJ_CD  OPRTN_YN  \\\n",
       "11            11     8580     1926    201808.0              1         0   \n",
       "12            12     2900     1926    201808.0              1         0   \n",
       "13            13     2900     1926    201808.0              1         0   \n",
       "14            14     2900     1926    201808.0              1         0   \n",
       "15            15     3500     1926    201808.0              1         0   \n",
       "...          ...      ...      ...         ...            ...       ...   \n",
       "4624        4624     3000     2005         NaN              1         0   \n",
       "4625        4625     3000     2005         NaN              1         0   \n",
       "4626        4626     3000     2005         NaN              1         0   \n",
       "4627        4627     3000     2005         NaN              1         0   \n",
       "4628        4628     1500     2005         NaN              1         0   \n",
       "\n",
       "      TOT_PRSC_DD_CNT  MCARE_RSLT_TYPE  STD_YYYY      BTH_Y  Age  D_year  \\\n",
       "11                  0              1.0      2006 1926-01-01   97      17   \n",
       "12                 30              1.0      2008 1926-01-01   97      15   \n",
       "13                 30              1.0      2008 1926-01-01   97      15   \n",
       "14                 14              1.0      2008 1926-01-01   97      15   \n",
       "15                 30              1.0      2008 1926-01-01   97      15   \n",
       "...               ...              ...       ...        ...  ...     ...   \n",
       "4624               30              1.0      2005 2005-01-01   18      18   \n",
       "4625               30              1.0      2005 2005-01-01   18      18   \n",
       "4626               30              1.0      2005 2005-01-01   18      18   \n",
       "4627               30              1.0      2006 2005-01-01   18      17   \n",
       "4628               30              1.0      2010 2005-01-01   18      13   \n",
       "\n",
       "      disease_year  \n",
       "11              17  \n",
       "12              15  \n",
       "13              15  \n",
       "14              15  \n",
       "15              15  \n",
       "...            ...  \n",
       "4624            18  \n",
       "4625            18  \n",
       "4626            18  \n",
       "4627            17  \n",
       "4628            13  \n",
       "\n",
       "[4618 rows x 13 columns]"
      ]
     },
     "execution_count": 29,
     "metadata": {},
     "output_type": "execute_result"
    }
   ],
   "source": [
    "df_BMA"
   ]
  },
  {
   "cell_type": "code",
   "execution_count": 30,
   "id": "dd65e685-faf5-4b4a-8b68-c2f9f1e2671e",
   "metadata": {
    "tags": []
   },
   "outputs": [
    {
     "data": {
      "text/plain": [
       "<Axes: xlabel='disease_year', ylabel='Count'>"
      ]
     },
     "execution_count": 30,
     "metadata": {},
     "output_type": "execute_result"
    },
    {
     "data": {
      "image/png": "[encoded data removed]",
      "text/plain": [
       "<Figure size 640x480 with 1 Axes>"
      ]
     },
     "metadata": {},
     "output_type": "display_data"
    }
   ],
   "source": [
    "sns.histplot(data=df_BMA, x='disease_year', kde=True)"
   ]
  },
  {
   "cell_type": "code",
   "execution_count": 31,
   "id": "69aa874f-1da4-42b5-95fa-817dab9ed655",
   "metadata": {
    "tags": []
   },
   "outputs": [
    {
     "data": {
      "text/plain": [
       "13    770\n",
       "14    717\n",
       "15    711\n",
       "16    576\n",
       "17    481\n",
       "18    423\n",
       "19    405\n",
       "20    294\n",
       "21    223\n",
       "12     18\n",
       "Name: disease_year, dtype: int64"
      ]
     },
     "execution_count": 31,
     "metadata": {},
     "output_type": "execute_result"
    }
   ],
   "source": [
    "df_BMA['disease_year'].value_counts()"
   ]
  },
  {
   "cell_type": "code",
   "execution_count": 32,
   "id": "3071a73d-cc78-43e3-be62-01d6abeadf25",
   "metadata": {
    "tags": []
   },
   "outputs": [
    {
     "data": {
      "text/plain": [
       "<Axes: xlabel='disease_year'>"
      ]
     },
     "execution_count": 32,
     "metadata": {},
     "output_type": "execute_result"
    },
    {
     "data": {
      "image/png": "[encoded data removed]",
      "text/plain": [
       "<Figure size 640x480 with 1 Axes>"
      ]
     },
     "metadata": {},
     "output_type": "display_data"
    }
   ],
   "source": [
    "sns.boxplot(data=df_BMA, x='disease_year')"
   ]
  },
  {
   "cell_type": "code",
   "execution_count": 33,
   "id": "4fdda5cf-5cbf-4645-acab-c0bbfd68440f",
   "metadata": {
    "tags": []
   },
   "outputs": [
    {
     "data": {
      "text/plain": [
       "<Axes: xlabel='disease_year', ylabel='count'>"
      ]
     },
     "execution_count": 33,
     "metadata": {},
     "output_type": "execute_result"
    },
    {
     "data": {
      "image/png": "[encoded data removed]",
      "text/plain": [
       "<Figure size 640x480 with 1 Axes>"
      ]
     },
     "metadata": {},
     "output_type": "display_data"
    }
   ],
   "source": [
    "sns.countplot(data=df_BMA, x='disease_year')"
   ]
  },
  {
   "cell_type": "markdown",
   "id": "6044a08c-5dda-4d31-976e-b34aa59d7d19",
   "metadata": {},
   "source": [
    "#### DDA 변수 분석 결과\n",
    "- 심결본인부담금: 연속형\n",
    "- 생년월일-사망월일로 진행하려 했으나 데이터의 일관성이 없었고 DTH의 null값이 대부분이라 출생년도 1921부터 2023년 현재 생존한 환자로 확인 (현재연령- 연속형)\n",
    "- 총 처방일수: 연속형 \n",
    "- 첫 진료받은 년도: 범주형 가능할듯. 12~21년 (2023년 기준)"
   ]
  },
  {
   "cell_type": "code",
   "execution_count": null,
   "id": "3d2acf75-214d-45fc-8af0-b2158491e599",
   "metadata": {},
   "outputs": [],
   "source": []
  }
 ],
 "metadata": {
  "kernelspec": {
   "display_name": "Python 3 (ipykernel)",
   "language": "python",
   "name": "python3"
  },
  "language_info": {
   "codemirror_mode": {
    "name": "ipython",
    "version": 3
   },
   "file_extension": ".py",
   "mimetype": "text/x-python",
   "name": "python",
   "nbconvert_exporter": "python",
   "pygments_lexer": "ipython3",
   "version": "3.11.3"
  }
 },
 "nbformat": 4,
 "nbformat_minor": 5
}
